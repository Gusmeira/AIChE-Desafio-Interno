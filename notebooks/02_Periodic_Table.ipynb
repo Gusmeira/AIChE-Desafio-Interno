{
 "cells": [
  {
   "cell_type": "markdown",
   "id": "04f85ccf",
   "metadata": {},
   "source": [
    "---\n",
    "title: \"Manipulação e Visualização da Tabela Periódica\"\n",
    "author: \"Gustavo J. V. Meira Filho\"\n",
    "format:\n",
    "    pdf:\n",
    "        documentclass: scrreprt\n",
    "        pdf-engine: xelatex\n",
    "        toc: true\n",
    "        toc-depth: 3\n",
    "        include-in-header: \n",
    "            text: |\n",
    "                \\usepackage[a4paper,margin=2.5cm]{geometry}\n",
    "        execute:\n",
    "            echo: true     \n",
    "            warning: false   \n",
    "            message: false \n",
    "    html:\n",
    "        code-fold: true\n",
    "        code-summary: \"Show Code\"\n",
    "        toc: true\n",
    "        toc-depth: 3\n",
    "execute:\n",
    "    fig-format: png       \n",
    "jupyter: AIChE-Internal-Challenges\n",
    "---"
   ]
  },
  {
   "cell_type": "markdown",
   "id": "ddd671cb",
   "metadata": {},
   "source": [
    "\\newpage\n",
    "# **Objetivo**\n",
    "\n",
    "> Introduzir Python, manipulação de dados e visualização.\n",
    "\n",
    "* <span style=\"color: #3d9be7ff\"><strong>Conceitos de programação:</strong></span> \n",
    "  * Tipos básicos (`int`, `float`, `str`, `list`, `dict`)\n",
    "  * Loops\n",
    "  * Funções simples.\n",
    "* <span style=\"color: #3d9be7ff\"><strong>Bibliotecas:</strong></span>  \n",
    "  * `pandas` (dados tabulares) \n",
    "  * `plotly` (visualização gráfica - pode substituir pelo `matplotlib`).\n",
    "* <span style=\"color: #3d9be7ff\"><strong>Aplicações:</strong></span> \n",
    "\n",
    "  * Importar uma base de dados da tabela periódica (existe em CSV no Kaggle).\n",
    "  * Explorar propriedades como massa atômica, eletronegatividade, número atômico.\n",
    "  * Criar gráficos (ex.: massa atômica vs número atômico; cores por família)."
   ]
  },
  {
   "cell_type": "markdown",
   "id": "387860b4",
   "metadata": {},
   "source": [
    "\\newpage\n",
    "# Bibliotecas e Importações"
   ]
  },
  {
   "cell_type": "code",
   "execution_count": 403,
   "id": "389f02de",
   "metadata": {},
   "outputs": [],
   "source": [
    "# Nativas Python\n",
    "import sys\n",
    "import os\n",
    "\n",
    "# Dados Tabulares\n",
    "import pandas as pd\n",
    "import numpy as np\n",
    "\n",
    "# Visualização\n",
    "import plotly.graph_objects as go\n",
    "import plotly.express as px\n",
    "import plotly.figure_factory as ff\n",
    "import plotly.io as pio\n",
    "from graphmodex import plotlymodex\n",
    "\n",
    "import matplotlib.pyplot as plt\n",
    "import seaborn as sns"
   ]
  },
  {
   "cell_type": "code",
   "execution_count": 404,
   "id": "e553ea0b",
   "metadata": {},
   "outputs": [],
   "source": [
    "# Imagem png ou interativa (notebook)\n",
    "pio.renderers.default = 'png'"
   ]
  },
  {
   "cell_type": "markdown",
   "id": "b5ca25b9",
   "metadata": {},
   "source": [
    "\\newpage\n",
    "\n",
    "# **Pandas**\n",
    "\n",
    "## Extração\n",
    "\n",
    "Precisamos extrair a base de dados para conseguir trabalhar em cima dela! Para conseguirmos visualizar e manipular os dados, armazenamos ela como um objeto `pandas` que já possui tratamentos internos para vatorização e é a biblioteca coringa para todas as libs de visualização.\n",
    "\n",
    "* [Começando na Biblioteca](https://pandas.pydata.org/docs/getting_started/intro_tutorials/index.html)\n",
    "* [Guia do Usuário](https://pandas.pydata.org/docs/user_guide/index.html)\n",
    "* [Documentação](https://pandas.pydata.org/docs/reference/index.html)\n",
    "\n",
    "Note que a tabela periódica é um `.csv` na pasta `data`. Vamos armazenar esses dados em uma DataFrame chamada `df`"
   ]
  },
  {
   "cell_type": "code",
   "execution_count": 405,
   "id": "b9efc2b4",
   "metadata": {},
   "outputs": [
    {
     "data": {
      "application/vnd.microsoft.datawrangler.viewer.v0+json": {
       "columns": [
        {
         "name": "index",
         "rawType": "int64",
         "type": "integer"
        },
        {
         "name": "Name",
         "rawType": "object",
         "type": "string"
        },
        {
         "name": "Symbol",
         "rawType": "object",
         "type": "string"
        },
        {
         "name": "Atomic_Number",
         "rawType": "int64",
         "type": "integer"
        },
        {
         "name": "Atomic_Weight",
         "rawType": "float64",
         "type": "float"
        }
       ],
       "ref": "3f328773-c806-4d63-9686-a224dac0d6c0",
       "rows": [
        [
         "0",
         "Hydrogen",
         "H",
         "1",
         "1.00794"
        ],
        [
         "1",
         "Helium",
         "He",
         "2",
         "4.002602"
        ],
        [
         "2",
         "Lithium",
         "Li",
         "3",
         "6.941"
        ],
        [
         "3",
         "Beryllium",
         "Be",
         "4",
         "9.012182"
        ],
        [
         "4",
         "Boron",
         "B",
         "5",
         "10.811"
        ],
        [
         "5",
         "Carbon",
         "C",
         "6",
         "12.0107"
        ],
        [
         "6",
         "Nitrogen",
         "N",
         "7",
         "14.0067"
        ],
        [
         "7",
         "Oxygen",
         "O",
         "8",
         "15.9994"
        ],
        [
         "8",
         "Fluorine",
         "F",
         "9",
         "18.9984032"
        ],
        [
         "9",
         "Neon",
         "Ne",
         "10",
         "20.1797"
        ]
       ],
       "shape": {
        "columns": 4,
        "rows": 10
       }
      },
      "text/html": [
       "<div>\n",
       "<style scoped>\n",
       "    .dataframe tbody tr th:only-of-type {\n",
       "        vertical-align: middle;\n",
       "    }\n",
       "\n",
       "    .dataframe tbody tr th {\n",
       "        vertical-align: top;\n",
       "    }\n",
       "\n",
       "    .dataframe thead th {\n",
       "        text-align: right;\n",
       "    }\n",
       "</style>\n",
       "<table border=\"1\" class=\"dataframe\">\n",
       "  <thead>\n",
       "    <tr style=\"text-align: right;\">\n",
       "      <th></th>\n",
       "      <th>Name</th>\n",
       "      <th>Symbol</th>\n",
       "      <th>Atomic_Number</th>\n",
       "      <th>Atomic_Weight</th>\n",
       "    </tr>\n",
       "  </thead>\n",
       "  <tbody>\n",
       "    <tr>\n",
       "      <th>0</th>\n",
       "      <td>Hydrogen</td>\n",
       "      <td>H</td>\n",
       "      <td>1</td>\n",
       "      <td>1.007940</td>\n",
       "    </tr>\n",
       "    <tr>\n",
       "      <th>1</th>\n",
       "      <td>Helium</td>\n",
       "      <td>He</td>\n",
       "      <td>2</td>\n",
       "      <td>4.002602</td>\n",
       "    </tr>\n",
       "    <tr>\n",
       "      <th>2</th>\n",
       "      <td>Lithium</td>\n",
       "      <td>Li</td>\n",
       "      <td>3</td>\n",
       "      <td>6.941000</td>\n",
       "    </tr>\n",
       "    <tr>\n",
       "      <th>3</th>\n",
       "      <td>Beryllium</td>\n",
       "      <td>Be</td>\n",
       "      <td>4</td>\n",
       "      <td>9.012182</td>\n",
       "    </tr>\n",
       "    <tr>\n",
       "      <th>4</th>\n",
       "      <td>Boron</td>\n",
       "      <td>B</td>\n",
       "      <td>5</td>\n",
       "      <td>10.811000</td>\n",
       "    </tr>\n",
       "    <tr>\n",
       "      <th>5</th>\n",
       "      <td>Carbon</td>\n",
       "      <td>C</td>\n",
       "      <td>6</td>\n",
       "      <td>12.010700</td>\n",
       "    </tr>\n",
       "    <tr>\n",
       "      <th>6</th>\n",
       "      <td>Nitrogen</td>\n",
       "      <td>N</td>\n",
       "      <td>7</td>\n",
       "      <td>14.006700</td>\n",
       "    </tr>\n",
       "    <tr>\n",
       "      <th>7</th>\n",
       "      <td>Oxygen</td>\n",
       "      <td>O</td>\n",
       "      <td>8</td>\n",
       "      <td>15.999400</td>\n",
       "    </tr>\n",
       "    <tr>\n",
       "      <th>8</th>\n",
       "      <td>Fluorine</td>\n",
       "      <td>F</td>\n",
       "      <td>9</td>\n",
       "      <td>18.998403</td>\n",
       "    </tr>\n",
       "    <tr>\n",
       "      <th>9</th>\n",
       "      <td>Neon</td>\n",
       "      <td>Ne</td>\n",
       "      <td>10</td>\n",
       "      <td>20.179700</td>\n",
       "    </tr>\n",
       "  </tbody>\n",
       "</table>\n",
       "</div>"
      ],
      "text/plain": [
       "        Name Symbol  Atomic_Number  Atomic_Weight\n",
       "0   Hydrogen      H              1       1.007940\n",
       "1     Helium     He              2       4.002602\n",
       "2    Lithium     Li              3       6.941000\n",
       "3  Beryllium     Be              4       9.012182\n",
       "4      Boron      B              5      10.811000\n",
       "5     Carbon      C              6      12.010700\n",
       "6   Nitrogen      N              7      14.006700\n",
       "7     Oxygen      O              8      15.999400\n",
       "8   Fluorine      F              9      18.998403\n",
       "9       Neon     Ne             10      20.179700"
      ]
     },
     "execution_count": 405,
     "metadata": {},
     "output_type": "execute_result"
    }
   ],
   "source": [
    "df = pd.read_csv(r'..\\data\\elementdatavalues.csv')\n",
    "\n",
    "# Mostrar as 10 primeiras linhas das 4 primeiras colunas\n",
    "df[['Name', 'Symbol', 'Atomic_Number', 'Atomic_Weight']].head(10)"
   ]
  },
  {
   "cell_type": "code",
   "execution_count": 406,
   "id": "c7d0a895",
   "metadata": {},
   "outputs": [],
   "source": [
    "# Vamos usar isso no futuro!\n",
    "pivot_df = df[[\n",
    "    'Name', 'Symbol', 'Atomic_Number', 'Atomic_Weight', \n",
    "    'Density', 'Melting_Point', 'Group', 'Period', 'Boiling_Point'\n",
    "]].copy(deep=True)"
   ]
  },
  {
   "cell_type": "code",
   "execution_count": 407,
   "id": "eb1841f9",
   "metadata": {},
   "outputs": [
    {
     "name": "stdout",
     "output_type": "stream",
     "text": [
      "<class 'pandas.core.frame.DataFrame'>\n",
      "RangeIndex: 118 entries, 0 to 117\n",
      "Data columns (total 9 columns):\n",
      " #   Column         Non-Null Count  Dtype  \n",
      "---  ------         --------------  -----  \n",
      " 0   Name           118 non-null    object \n",
      " 1   Symbol         118 non-null    object \n",
      " 2   Atomic_Number  118 non-null    int64  \n",
      " 3   Atomic_Weight  117 non-null    float64\n",
      " 4   Density        95 non-null     float64\n",
      " 5   Melting_Point  101 non-null    float64\n",
      " 6   Group          90 non-null     float64\n",
      " 7   Period         118 non-null    int64  \n",
      " 8   Boiling_Point  94 non-null     float64\n",
      "dtypes: float64(5), int64(2), object(2)\n",
      "memory usage: 8.4+ KB\n"
     ]
    }
   ],
   "source": [
    "# Informações sobre quantidade de inforação e tipo\n",
    "pivot_df.info()"
   ]
  },
  {
   "cell_type": "code",
   "execution_count": 408,
   "id": "b872b7ac",
   "metadata": {},
   "outputs": [
    {
     "data": {
      "application/vnd.microsoft.datawrangler.viewer.v0+json": {
       "columns": [
        {
         "name": "index",
         "rawType": "object",
         "type": "string"
        },
        {
         "name": "Atomic_Weight",
         "rawType": "float64",
         "type": "float"
        },
        {
         "name": "Density",
         "rawType": "float64",
         "type": "float"
        },
        {
         "name": "Melting_Point",
         "rawType": "float64",
         "type": "float"
        },
        {
         "name": "Critical_Temperature",
         "rawType": "float64",
         "type": "float"
        }
       ],
       "ref": "21d7094b-562c-4f47-9659-1360a2a6a0a4",
       "rows": [
        [
         "count",
         "117.0",
         "95.0",
         "101.0",
         "21.0"
        ],
        [
         "mean",
         "144.8769909846154",
         "7645.567604210527",
         "1296.5744554455446",
         "963.7352380952381"
        ],
        [
         "std",
         "88.49597183127041",
         "5957.801743939813",
         "883.2254539045796",
         "1000.9081022232714"
        ],
        [
         "min",
         "1.00794",
         "0.0899",
         "14.01",
         "5.19"
        ],
        [
         "25%",
         "65.409",
         "2545.0",
         "544.45",
         "150.87"
        ],
        [
         "50%",
         "140.90765",
         "7140.0",
         "1204.15",
         "416.9"
        ],
        [
         "75%",
         "226.0",
         "10385.0",
         "1811.15",
         "1766.0"
        ],
        [
         "max",
         "294.0",
         "22650.0",
         "3823.15",
         "3223.0"
        ]
       ],
       "shape": {
        "columns": 4,
        "rows": 8
       }
      },
      "text/html": [
       "<div>\n",
       "<style scoped>\n",
       "    .dataframe tbody tr th:only-of-type {\n",
       "        vertical-align: middle;\n",
       "    }\n",
       "\n",
       "    .dataframe tbody tr th {\n",
       "        vertical-align: top;\n",
       "    }\n",
       "\n",
       "    .dataframe thead th {\n",
       "        text-align: right;\n",
       "    }\n",
       "</style>\n",
       "<table border=\"1\" class=\"dataframe\">\n",
       "  <thead>\n",
       "    <tr style=\"text-align: right;\">\n",
       "      <th></th>\n",
       "      <th>Atomic_Weight</th>\n",
       "      <th>Density</th>\n",
       "      <th>Melting_Point</th>\n",
       "      <th>Critical_Temperature</th>\n",
       "    </tr>\n",
       "  </thead>\n",
       "  <tbody>\n",
       "    <tr>\n",
       "      <th>count</th>\n",
       "      <td>117.000000</td>\n",
       "      <td>95.000000</td>\n",
       "      <td>101.000000</td>\n",
       "      <td>21.000000</td>\n",
       "    </tr>\n",
       "    <tr>\n",
       "      <th>mean</th>\n",
       "      <td>144.876991</td>\n",
       "      <td>7645.567604</td>\n",
       "      <td>1296.574455</td>\n",
       "      <td>963.735238</td>\n",
       "    </tr>\n",
       "    <tr>\n",
       "      <th>std</th>\n",
       "      <td>88.495972</td>\n",
       "      <td>5957.801744</td>\n",
       "      <td>883.225454</td>\n",
       "      <td>1000.908102</td>\n",
       "    </tr>\n",
       "    <tr>\n",
       "      <th>min</th>\n",
       "      <td>1.007940</td>\n",
       "      <td>0.089900</td>\n",
       "      <td>14.010000</td>\n",
       "      <td>5.190000</td>\n",
       "    </tr>\n",
       "    <tr>\n",
       "      <th>25%</th>\n",
       "      <td>65.409000</td>\n",
       "      <td>2545.000000</td>\n",
       "      <td>544.450000</td>\n",
       "      <td>150.870000</td>\n",
       "    </tr>\n",
       "    <tr>\n",
       "      <th>50%</th>\n",
       "      <td>140.907650</td>\n",
       "      <td>7140.000000</td>\n",
       "      <td>1204.150000</td>\n",
       "      <td>416.900000</td>\n",
       "    </tr>\n",
       "    <tr>\n",
       "      <th>75%</th>\n",
       "      <td>226.000000</td>\n",
       "      <td>10385.000000</td>\n",
       "      <td>1811.150000</td>\n",
       "      <td>1766.000000</td>\n",
       "    </tr>\n",
       "    <tr>\n",
       "      <th>max</th>\n",
       "      <td>294.000000</td>\n",
       "      <td>22650.000000</td>\n",
       "      <td>3823.150000</td>\n",
       "      <td>3223.000000</td>\n",
       "    </tr>\n",
       "  </tbody>\n",
       "</table>\n",
       "</div>"
      ],
      "text/plain": [
       "       Atomic_Weight       Density  Melting_Point  Critical_Temperature\n",
       "count     117.000000     95.000000     101.000000             21.000000\n",
       "mean      144.876991   7645.567604    1296.574455            963.735238\n",
       "std        88.495972   5957.801744     883.225454           1000.908102\n",
       "min         1.007940      0.089900      14.010000              5.190000\n",
       "25%        65.409000   2545.000000     544.450000            150.870000\n",
       "50%       140.907650   7140.000000    1204.150000            416.900000\n",
       "75%       226.000000  10385.000000    1811.150000           1766.000000\n",
       "max       294.000000  22650.000000    3823.150000           3223.000000"
      ]
     },
     "execution_count": 408,
     "metadata": {},
     "output_type": "execute_result"
    }
   ],
   "source": [
    "# Principais estatísticas das colunas da tabela\n",
    "df[['Atomic_Weight', 'Density', 'Melting_Point', 'Critical_Temperature']].describe()"
   ]
  },
  {
   "cell_type": "code",
   "execution_count": 409,
   "id": "325ab25e",
   "metadata": {},
   "outputs": [
    {
     "name": "stdout",
     "output_type": "stream",
     "text": [
      "(118, 82)\n",
      "Index(['Name', 'Symbol', 'Atomic_Number', 'Atomic_Weight', 'Density',\n",
      "       'Melting_Point', 'Boiling_Point', 'Phase', 'Absolute_Melting_Point',\n",
      "       'Absolute_Boiling_Point', 'Critical_Pressure', 'Critical_Temperature',\n",
      "       'Heat_of_Fusion', 'Heat_of_Vaporization', 'Heat_of_Combustion',\n",
      "       'Specific_Heat', 'Adiabatic_Index', 'Neel_Point',\n",
      "       'Thermal_Conductivity', 'Thermal_Expansion', 'Density_Liquid',\n",
      "       'Molar_Volume', 'Brinell_Hardness', 'Mohs_Hardness', 'Vickers_Hardness',\n",
      "       'Bulk_Modulus', 'Shear_Modulus', 'Young_Modulus', 'Poisson_Ratio',\n",
      "       'Refractive_Index', 'Speed_of_Sound', 'Valence', 'Electronegativity',\n",
      "       'ElectronAffinity', 'Autoignition_Point', 'Flashpoint',\n",
      "       'DOT_Hazard_Class', 'DOT_Numbers', 'EU_Number', 'NFPA_Fire_Rating',\n",
      "       'NFPA_Health_Rating', 'NFPA_Reactivity_Rating', 'RTECS_Number',\n",
      "       'Alternate_Names', 'Block', 'Group', 'Period', 'Electron_Configuration',\n",
      "       'Color', 'Gas_phase', 'CAS_Number', 'CID_Number', 'Gmelin_Number',\n",
      "       'NSC_Number', 'Electrical_Type', 'Electrical_Conductivity',\n",
      "       'Resistivity', 'Superconducting_Point', 'Magnetic_Type', 'Curie_Point',\n",
      "       'Mass_Magnetic_Susceptibility', 'Molar_Magnetic_Susceptibility',\n",
      "       'Volume_Magnetic_Susceptibility', 'Percent_in_Universe',\n",
      "       'Percent_in_Sun', 'Percent_in_Meteorites', 'Percent_in_Earths_Crust',\n",
      "       'Percent_in_Oceans', 'Percent_in_Humans', 'Atomic_Radius',\n",
      "       'Covalent_Radius', 'Van_der_Waals_Radius', 'Space_Group_Name',\n",
      "       'Space_Group_Number', 'HalfLife', 'Lifetime', 'Decay_Mode',\n",
      "       'Quantum_Numbers', 'Neutron_Cross_Section', 'Neutron_Mass_Absorption',\n",
      "       'Graph.Period', 'Graph.Group'],\n",
      "      dtype='object') \n",
      "\n",
      "(118, 6)\n",
      "Index(['Name', 'Symbol', 'Atomic_Number', 'Atomic_Weight', 'Density',\n",
      "       'Melting_Point'],\n",
      "      dtype='object')\n"
     ]
    }
   ],
   "source": [
    "# Colunas iniciais\n",
    "print(df.shape)\n",
    "print(df.columns, '\\n')\n",
    "\n",
    "# Aqui, estamos sobrescrevendo nossa tabela\n",
    "# A partir dessa linha, só essas colunas estarão presentes!\n",
    "df = df[[\n",
    "    'Name', 'Symbol', 'Atomic_Number', 'Atomic_Weight', \n",
    "    'Density', 'Melting_Point',\n",
    "]]\n",
    "\n",
    "# Colunas finais\n",
    "print(df.shape)\n",
    "print(df.columns)"
   ]
  },
  {
   "cell_type": "markdown",
   "id": "3a068495",
   "metadata": {},
   "source": [
    "\\newpage\n",
    "\n",
    "## Manipulação de Dados\n",
    "\n",
    "Um interesse forte é saber como localizar linhas e colunas específicas, realizar filtros booleanos, lidar com valores ausentes e assim por diante! Aqui, trabalharemos tudo isso."
   ]
  },
  {
   "cell_type": "markdown",
   "id": "73f5ca03",
   "metadata": {},
   "source": [
    "### Filtros\n",
    "\n",
    "**Filtrar** valores é algo muito simples mas pode parecer estranho no começo. Existe um método próprio para essas operações no pandas chamado `.query`, mas também podemos fazer isso através de indexação."
   ]
  },
  {
   "cell_type": "code",
   "execution_count": 410,
   "id": "427bef38",
   "metadata": {},
   "outputs": [
    {
     "data": {
      "application/vnd.microsoft.datawrangler.viewer.v0+json": {
       "columns": [
        {
         "name": "index",
         "rawType": "int64",
         "type": "integer"
        },
        {
         "name": "Name",
         "rawType": "object",
         "type": "string"
        },
        {
         "name": "Symbol",
         "rawType": "object",
         "type": "string"
        },
        {
         "name": "Atomic_Number",
         "rawType": "int64",
         "type": "integer"
        },
        {
         "name": "Atomic_Weight",
         "rawType": "float64",
         "type": "float"
        },
        {
         "name": "Density",
         "rawType": "float64",
         "type": "float"
        },
        {
         "name": "Melting_Point",
         "rawType": "float64",
         "type": "float"
        }
       ],
       "ref": "50504504-1c18-4d31-add3-52ae435aa845",
       "rows": [
        [
         "0",
         "Hydrogen",
         "H",
         "1",
         "1.00794",
         "0.0899",
         "14.01"
        ],
        [
         "9",
         "Neon",
         "Ne",
         "10",
         "20.1797",
         "0.9",
         "24.56"
        ]
       ],
       "shape": {
        "columns": 6,
        "rows": 2
       }
      },
      "text/html": [
       "<div>\n",
       "<style scoped>\n",
       "    .dataframe tbody tr th:only-of-type {\n",
       "        vertical-align: middle;\n",
       "    }\n",
       "\n",
       "    .dataframe tbody tr th {\n",
       "        vertical-align: top;\n",
       "    }\n",
       "\n",
       "    .dataframe thead th {\n",
       "        text-align: right;\n",
       "    }\n",
       "</style>\n",
       "<table border=\"1\" class=\"dataframe\">\n",
       "  <thead>\n",
       "    <tr style=\"text-align: right;\">\n",
       "      <th></th>\n",
       "      <th>Name</th>\n",
       "      <th>Symbol</th>\n",
       "      <th>Atomic_Number</th>\n",
       "      <th>Atomic_Weight</th>\n",
       "      <th>Density</th>\n",
       "      <th>Melting_Point</th>\n",
       "    </tr>\n",
       "  </thead>\n",
       "  <tbody>\n",
       "    <tr>\n",
       "      <th>0</th>\n",
       "      <td>Hydrogen</td>\n",
       "      <td>H</td>\n",
       "      <td>1</td>\n",
       "      <td>1.00794</td>\n",
       "      <td>0.0899</td>\n",
       "      <td>14.01</td>\n",
       "    </tr>\n",
       "    <tr>\n",
       "      <th>9</th>\n",
       "      <td>Neon</td>\n",
       "      <td>Ne</td>\n",
       "      <td>10</td>\n",
       "      <td>20.17970</td>\n",
       "      <td>0.9000</td>\n",
       "      <td>24.56</td>\n",
       "    </tr>\n",
       "  </tbody>\n",
       "</table>\n",
       "</div>"
      ],
      "text/plain": [
       "       Name Symbol  Atomic_Number  Atomic_Weight  Density  Melting_Point\n",
       "0  Hydrogen      H              1        1.00794   0.0899          14.01\n",
       "9      Neon     Ne             10       20.17970   0.9000          24.56"
      ]
     },
     "execution_count": 410,
     "metadata": {},
     "output_type": "execute_result"
    }
   ],
   "source": [
    "df.query(\"Melting_Point <= 25\")"
   ]
  },
  {
   "cell_type": "markdown",
   "id": "497c5b03",
   "metadata": {},
   "source": [
    "Hummm... aparentemente a temperatura está em Kelvin e não em °C. Podemos usar um conversor de unidades como o que fizemos aula passada na função `.apply(lambda x: convert_temp(x)` para irmos de K -> °C. Mas aqui, para ser mais prático, faremos de uma forma mais simples!"
   ]
  },
  {
   "cell_type": "code",
   "execution_count": 411,
   "id": "31c29a56",
   "metadata": {},
   "outputs": [
    {
     "data": {
      "application/vnd.microsoft.datawrangler.viewer.v0+json": {
       "columns": [
        {
         "name": "index",
         "rawType": "int64",
         "type": "integer"
        },
        {
         "name": "Name",
         "rawType": "object",
         "type": "string"
        },
        {
         "name": "Symbol",
         "rawType": "object",
         "type": "string"
        },
        {
         "name": "Atomic_Number",
         "rawType": "int64",
         "type": "integer"
        },
        {
         "name": "Atomic_Weight",
         "rawType": "float64",
         "type": "float"
        },
        {
         "name": "Density",
         "rawType": "float64",
         "type": "float"
        },
        {
         "name": "Melting_Point",
         "rawType": "float64",
         "type": "float"
        }
       ],
       "ref": "76bdcebf-8dee-40c2-a17e-885b171e4ce6",
       "rows": [
        [
         "0",
         "Hydrogen",
         "H",
         "1",
         "1.00794",
         "0.0899",
         "-259.14"
        ],
        [
         "6",
         "Nitrogen",
         "N",
         "7",
         "14.0067",
         "1.251",
         "-210.1"
        ],
        [
         "7",
         "Oxygen",
         "O",
         "8",
         "15.9994",
         "1.429",
         "-218.3"
        ],
        [
         "8",
         "Fluorine",
         "F",
         "9",
         "18.9984032",
         "1.696",
         "-219.6"
        ],
        [
         "9",
         "Neon",
         "Ne",
         "10",
         "20.1797",
         "0.9",
         "-248.59"
        ],
        [
         "16",
         "Chlorine",
         "Cl",
         "17",
         "35.453",
         "3.214",
         "-101.5"
        ],
        [
         "17",
         "Argon",
         "Ar",
         "18",
         "39.948",
         "1.784",
         "-189.3"
        ],
        [
         "34",
         "Bromine",
         "Br",
         "35",
         "79.904",
         "3120.0",
         "-7.3"
        ],
        [
         "35",
         "Krypton",
         "Kr",
         "36",
         "83.798",
         "3.75",
         "-157.36"
        ],
        [
         "53",
         "Xenon",
         "Xe",
         "54",
         "131.293",
         "5.9",
         "-111.8"
        ],
        [
         "79",
         "Mercury",
         "Hg",
         "80",
         "200.59",
         "13534.0",
         "-38.83"
        ],
        [
         "85",
         "Radon",
         "Rn",
         "86",
         "222.0",
         "9.73",
         "-71.0"
        ]
       ],
       "shape": {
        "columns": 6,
        "rows": 12
       }
      },
      "text/html": [
       "<div>\n",
       "<style scoped>\n",
       "    .dataframe tbody tr th:only-of-type {\n",
       "        vertical-align: middle;\n",
       "    }\n",
       "\n",
       "    .dataframe tbody tr th {\n",
       "        vertical-align: top;\n",
       "    }\n",
       "\n",
       "    .dataframe thead th {\n",
       "        text-align: right;\n",
       "    }\n",
       "</style>\n",
       "<table border=\"1\" class=\"dataframe\">\n",
       "  <thead>\n",
       "    <tr style=\"text-align: right;\">\n",
       "      <th></th>\n",
       "      <th>Name</th>\n",
       "      <th>Symbol</th>\n",
       "      <th>Atomic_Number</th>\n",
       "      <th>Atomic_Weight</th>\n",
       "      <th>Density</th>\n",
       "      <th>Melting_Point</th>\n",
       "    </tr>\n",
       "  </thead>\n",
       "  <tbody>\n",
       "    <tr>\n",
       "      <th>0</th>\n",
       "      <td>Hydrogen</td>\n",
       "      <td>H</td>\n",
       "      <td>1</td>\n",
       "      <td>1.007940</td>\n",
       "      <td>0.0899</td>\n",
       "      <td>-259.14</td>\n",
       "    </tr>\n",
       "    <tr>\n",
       "      <th>6</th>\n",
       "      <td>Nitrogen</td>\n",
       "      <td>N</td>\n",
       "      <td>7</td>\n",
       "      <td>14.006700</td>\n",
       "      <td>1.2510</td>\n",
       "      <td>-210.10</td>\n",
       "    </tr>\n",
       "    <tr>\n",
       "      <th>7</th>\n",
       "      <td>Oxygen</td>\n",
       "      <td>O</td>\n",
       "      <td>8</td>\n",
       "      <td>15.999400</td>\n",
       "      <td>1.4290</td>\n",
       "      <td>-218.30</td>\n",
       "    </tr>\n",
       "    <tr>\n",
       "      <th>8</th>\n",
       "      <td>Fluorine</td>\n",
       "      <td>F</td>\n",
       "      <td>9</td>\n",
       "      <td>18.998403</td>\n",
       "      <td>1.6960</td>\n",
       "      <td>-219.60</td>\n",
       "    </tr>\n",
       "    <tr>\n",
       "      <th>9</th>\n",
       "      <td>Neon</td>\n",
       "      <td>Ne</td>\n",
       "      <td>10</td>\n",
       "      <td>20.179700</td>\n",
       "      <td>0.9000</td>\n",
       "      <td>-248.59</td>\n",
       "    </tr>\n",
       "    <tr>\n",
       "      <th>16</th>\n",
       "      <td>Chlorine</td>\n",
       "      <td>Cl</td>\n",
       "      <td>17</td>\n",
       "      <td>35.453000</td>\n",
       "      <td>3.2140</td>\n",
       "      <td>-101.50</td>\n",
       "    </tr>\n",
       "    <tr>\n",
       "      <th>17</th>\n",
       "      <td>Argon</td>\n",
       "      <td>Ar</td>\n",
       "      <td>18</td>\n",
       "      <td>39.948000</td>\n",
       "      <td>1.7840</td>\n",
       "      <td>-189.30</td>\n",
       "    </tr>\n",
       "    <tr>\n",
       "      <th>34</th>\n",
       "      <td>Bromine</td>\n",
       "      <td>Br</td>\n",
       "      <td>35</td>\n",
       "      <td>79.904000</td>\n",
       "      <td>3120.0000</td>\n",
       "      <td>-7.30</td>\n",
       "    </tr>\n",
       "    <tr>\n",
       "      <th>35</th>\n",
       "      <td>Krypton</td>\n",
       "      <td>Kr</td>\n",
       "      <td>36</td>\n",
       "      <td>83.798000</td>\n",
       "      <td>3.7500</td>\n",
       "      <td>-157.36</td>\n",
       "    </tr>\n",
       "    <tr>\n",
       "      <th>53</th>\n",
       "      <td>Xenon</td>\n",
       "      <td>Xe</td>\n",
       "      <td>54</td>\n",
       "      <td>131.293000</td>\n",
       "      <td>5.9000</td>\n",
       "      <td>-111.80</td>\n",
       "    </tr>\n",
       "    <tr>\n",
       "      <th>79</th>\n",
       "      <td>Mercury</td>\n",
       "      <td>Hg</td>\n",
       "      <td>80</td>\n",
       "      <td>200.590000</td>\n",
       "      <td>13534.0000</td>\n",
       "      <td>-38.83</td>\n",
       "    </tr>\n",
       "    <tr>\n",
       "      <th>85</th>\n",
       "      <td>Radon</td>\n",
       "      <td>Rn</td>\n",
       "      <td>86</td>\n",
       "      <td>222.000000</td>\n",
       "      <td>9.7300</td>\n",
       "      <td>-71.00</td>\n",
       "    </tr>\n",
       "  </tbody>\n",
       "</table>\n",
       "</div>"
      ],
      "text/plain": [
       "        Name Symbol  Atomic_Number  Atomic_Weight     Density  Melting_Point\n",
       "0   Hydrogen      H              1       1.007940      0.0899        -259.14\n",
       "6   Nitrogen      N              7      14.006700      1.2510        -210.10\n",
       "7     Oxygen      O              8      15.999400      1.4290        -218.30\n",
       "8   Fluorine      F              9      18.998403      1.6960        -219.60\n",
       "9       Neon     Ne             10      20.179700      0.9000        -248.59\n",
       "16  Chlorine     Cl             17      35.453000      3.2140        -101.50\n",
       "17     Argon     Ar             18      39.948000      1.7840        -189.30\n",
       "34   Bromine     Br             35      79.904000   3120.0000          -7.30\n",
       "35   Krypton     Kr             36      83.798000      3.7500        -157.36\n",
       "53     Xenon     Xe             54     131.293000      5.9000        -111.80\n",
       "79   Mercury     Hg             80     200.590000  13534.0000         -38.83\n",
       "85     Radon     Rn             86     222.000000      9.7300         -71.00"
      ]
     },
     "execution_count": 411,
     "metadata": {},
     "output_type": "execute_result"
    }
   ],
   "source": [
    "df['Melting_Point'] = round(df['Melting_Point'] - 273.15, 2)\n",
    "\n",
    "# Vamos visualizar esses átomos\n",
    "df.query(\"Melting_Point <= 25\").head(100)"
   ]
  },
  {
   "cell_type": "code",
   "execution_count": 412,
   "id": "10f02a54",
   "metadata": {},
   "outputs": [
    {
     "data": {
      "application/vnd.microsoft.datawrangler.viewer.v0+json": {
       "columns": [
        {
         "name": "index",
         "rawType": "int64",
         "type": "integer"
        },
        {
         "name": "Name",
         "rawType": "object",
         "type": "string"
        },
        {
         "name": "Symbol",
         "rawType": "object",
         "type": "string"
        },
        {
         "name": "Atomic_Number",
         "rawType": "int64",
         "type": "integer"
        },
        {
         "name": "Atomic_Weight",
         "rawType": "float64",
         "type": "float"
        },
        {
         "name": "Density",
         "rawType": "float64",
         "type": "float"
        },
        {
         "name": "Melting_Point",
         "rawType": "float64",
         "type": "float"
        }
       ],
       "ref": "75b64ba0-92b0-4354-b06c-c2d9f6a0501c",
       "rows": [
        [
         "0",
         "Hydrogen",
         "H",
         "1",
         "1.00794",
         "0.0899",
         "-259.14"
        ],
        [
         "5",
         "Carbon",
         "C",
         "6",
         "12.0107",
         "2260.0",
         "3550.0"
        ],
        [
         "6",
         "Nitrogen",
         "N",
         "7",
         "14.0067",
         "1.251",
         "-210.1"
        ],
        [
         "7",
         "Oxygen",
         "O",
         "8",
         "15.9994",
         "1.429",
         "-218.3"
        ],
        [
         "8",
         "Fluorine",
         "F",
         "9",
         "18.9984032",
         "1.696",
         "-219.6"
        ],
        [
         "9",
         "Neon",
         "Ne",
         "10",
         "20.1797",
         "0.9",
         "-248.59"
        ],
        [
         "72",
         "Tantalum",
         "Ta",
         "73",
         "180.9479",
         "16650.0",
         "3017.0"
        ],
        [
         "73",
         "Tungsten",
         "W",
         "74",
         "183.84",
         "19250.0",
         "3422.0"
        ],
        [
         "74",
         "Rhenium",
         "Re",
         "75",
         "186.207",
         "21020.0",
         "3186.0"
        ],
        [
         "75",
         "Osmium",
         "Os",
         "76",
         "190.23",
         "22610.0",
         "3033.0"
        ]
       ],
       "shape": {
        "columns": 6,
        "rows": 10
       }
      },
      "text/html": [
       "<div>\n",
       "<style scoped>\n",
       "    .dataframe tbody tr th:only-of-type {\n",
       "        vertical-align: middle;\n",
       "    }\n",
       "\n",
       "    .dataframe tbody tr th {\n",
       "        vertical-align: top;\n",
       "    }\n",
       "\n",
       "    .dataframe thead th {\n",
       "        text-align: right;\n",
       "    }\n",
       "</style>\n",
       "<table border=\"1\" class=\"dataframe\">\n",
       "  <thead>\n",
       "    <tr style=\"text-align: right;\">\n",
       "      <th></th>\n",
       "      <th>Name</th>\n",
       "      <th>Symbol</th>\n",
       "      <th>Atomic_Number</th>\n",
       "      <th>Atomic_Weight</th>\n",
       "      <th>Density</th>\n",
       "      <th>Melting_Point</th>\n",
       "    </tr>\n",
       "  </thead>\n",
       "  <tbody>\n",
       "    <tr>\n",
       "      <th>0</th>\n",
       "      <td>Hydrogen</td>\n",
       "      <td>H</td>\n",
       "      <td>1</td>\n",
       "      <td>1.007940</td>\n",
       "      <td>0.0899</td>\n",
       "      <td>-259.14</td>\n",
       "    </tr>\n",
       "    <tr>\n",
       "      <th>5</th>\n",
       "      <td>Carbon</td>\n",
       "      <td>C</td>\n",
       "      <td>6</td>\n",
       "      <td>12.010700</td>\n",
       "      <td>2260.0000</td>\n",
       "      <td>3550.00</td>\n",
       "    </tr>\n",
       "    <tr>\n",
       "      <th>6</th>\n",
       "      <td>Nitrogen</td>\n",
       "      <td>N</td>\n",
       "      <td>7</td>\n",
       "      <td>14.006700</td>\n",
       "      <td>1.2510</td>\n",
       "      <td>-210.10</td>\n",
       "    </tr>\n",
       "    <tr>\n",
       "      <th>7</th>\n",
       "      <td>Oxygen</td>\n",
       "      <td>O</td>\n",
       "      <td>8</td>\n",
       "      <td>15.999400</td>\n",
       "      <td>1.4290</td>\n",
       "      <td>-218.30</td>\n",
       "    </tr>\n",
       "    <tr>\n",
       "      <th>8</th>\n",
       "      <td>Fluorine</td>\n",
       "      <td>F</td>\n",
       "      <td>9</td>\n",
       "      <td>18.998403</td>\n",
       "      <td>1.6960</td>\n",
       "      <td>-219.60</td>\n",
       "    </tr>\n",
       "    <tr>\n",
       "      <th>9</th>\n",
       "      <td>Neon</td>\n",
       "      <td>Ne</td>\n",
       "      <td>10</td>\n",
       "      <td>20.179700</td>\n",
       "      <td>0.9000</td>\n",
       "      <td>-248.59</td>\n",
       "    </tr>\n",
       "    <tr>\n",
       "      <th>72</th>\n",
       "      <td>Tantalum</td>\n",
       "      <td>Ta</td>\n",
       "      <td>73</td>\n",
       "      <td>180.947900</td>\n",
       "      <td>16650.0000</td>\n",
       "      <td>3017.00</td>\n",
       "    </tr>\n",
       "    <tr>\n",
       "      <th>73</th>\n",
       "      <td>Tungsten</td>\n",
       "      <td>W</td>\n",
       "      <td>74</td>\n",
       "      <td>183.840000</td>\n",
       "      <td>19250.0000</td>\n",
       "      <td>3422.00</td>\n",
       "    </tr>\n",
       "    <tr>\n",
       "      <th>74</th>\n",
       "      <td>Rhenium</td>\n",
       "      <td>Re</td>\n",
       "      <td>75</td>\n",
       "      <td>186.207000</td>\n",
       "      <td>21020.0000</td>\n",
       "      <td>3186.00</td>\n",
       "    </tr>\n",
       "    <tr>\n",
       "      <th>75</th>\n",
       "      <td>Osmium</td>\n",
       "      <td>Os</td>\n",
       "      <td>76</td>\n",
       "      <td>190.230000</td>\n",
       "      <td>22610.0000</td>\n",
       "      <td>3033.00</td>\n",
       "    </tr>\n",
       "  </tbody>\n",
       "</table>\n",
       "</div>"
      ],
      "text/plain": [
       "        Name Symbol  Atomic_Number  Atomic_Weight     Density  Melting_Point\n",
       "0   Hydrogen      H              1       1.007940      0.0899        -259.14\n",
       "5     Carbon      C              6      12.010700   2260.0000        3550.00\n",
       "6   Nitrogen      N              7      14.006700      1.2510        -210.10\n",
       "7     Oxygen      O              8      15.999400      1.4290        -218.30\n",
       "8   Fluorine      F              9      18.998403      1.6960        -219.60\n",
       "9       Neon     Ne             10      20.179700      0.9000        -248.59\n",
       "72  Tantalum     Ta             73     180.947900  16650.0000        3017.00\n",
       "73  Tungsten      W             74     183.840000  19250.0000        3422.00\n",
       "74   Rhenium     Re             75     186.207000  21020.0000        3186.00\n",
       "75    Osmium     Os             76     190.230000  22610.0000        3033.00"
      ]
     },
     "execution_count": 412,
     "metadata": {},
     "output_type": "execute_result"
    }
   ],
   "source": [
    "df.query(\"Melting_Point <= -200 | Melting_Point >= 3000\").head(100)"
   ]
  },
  {
   "cell_type": "code",
   "execution_count": 413,
   "id": "e37ec497",
   "metadata": {},
   "outputs": [
    {
     "data": {
      "application/vnd.microsoft.datawrangler.viewer.v0+json": {
       "columns": [
        {
         "name": "index",
         "rawType": "int64",
         "type": "integer"
        },
        {
         "name": "Name",
         "rawType": "object",
         "type": "string"
        },
        {
         "name": "Symbol",
         "rawType": "object",
         "type": "string"
        },
        {
         "name": "Atomic_Number",
         "rawType": "int64",
         "type": "integer"
        },
        {
         "name": "Atomic_Weight",
         "rawType": "float64",
         "type": "float"
        },
        {
         "name": "Density",
         "rawType": "float64",
         "type": "float"
        },
        {
         "name": "Melting_Point",
         "rawType": "float64",
         "type": "float"
        }
       ],
       "ref": "ae169c61-7eec-4a34-b093-75125e274dee",
       "rows": [
        [
         "0",
         "Hydrogen",
         "H",
         "1",
         "1.00794",
         "0.0899",
         "-259.14"
        ],
        [
         "5",
         "Carbon",
         "C",
         "6",
         "12.0107",
         "2260.0",
         "3550.0"
        ],
        [
         "6",
         "Nitrogen",
         "N",
         "7",
         "14.0067",
         "1.251",
         "-210.1"
        ],
        [
         "7",
         "Oxygen",
         "O",
         "8",
         "15.9994",
         "1.429",
         "-218.3"
        ],
        [
         "8",
         "Fluorine",
         "F",
         "9",
         "18.9984032",
         "1.696",
         "-219.6"
        ],
        [
         "9",
         "Neon",
         "Ne",
         "10",
         "20.1797",
         "0.9",
         "-248.59"
        ],
        [
         "72",
         "Tantalum",
         "Ta",
         "73",
         "180.9479",
         "16650.0",
         "3017.0"
        ],
        [
         "73",
         "Tungsten",
         "W",
         "74",
         "183.84",
         "19250.0",
         "3422.0"
        ],
        [
         "74",
         "Rhenium",
         "Re",
         "75",
         "186.207",
         "21020.0",
         "3186.0"
        ],
        [
         "75",
         "Osmium",
         "Os",
         "76",
         "190.23",
         "22610.0",
         "3033.0"
        ]
       ],
       "shape": {
        "columns": 6,
        "rows": 10
       }
      },
      "text/html": [
       "<div>\n",
       "<style scoped>\n",
       "    .dataframe tbody tr th:only-of-type {\n",
       "        vertical-align: middle;\n",
       "    }\n",
       "\n",
       "    .dataframe tbody tr th {\n",
       "        vertical-align: top;\n",
       "    }\n",
       "\n",
       "    .dataframe thead th {\n",
       "        text-align: right;\n",
       "    }\n",
       "</style>\n",
       "<table border=\"1\" class=\"dataframe\">\n",
       "  <thead>\n",
       "    <tr style=\"text-align: right;\">\n",
       "      <th></th>\n",
       "      <th>Name</th>\n",
       "      <th>Symbol</th>\n",
       "      <th>Atomic_Number</th>\n",
       "      <th>Atomic_Weight</th>\n",
       "      <th>Density</th>\n",
       "      <th>Melting_Point</th>\n",
       "    </tr>\n",
       "  </thead>\n",
       "  <tbody>\n",
       "    <tr>\n",
       "      <th>0</th>\n",
       "      <td>Hydrogen</td>\n",
       "      <td>H</td>\n",
       "      <td>1</td>\n",
       "      <td>1.007940</td>\n",
       "      <td>0.0899</td>\n",
       "      <td>-259.14</td>\n",
       "    </tr>\n",
       "    <tr>\n",
       "      <th>5</th>\n",
       "      <td>Carbon</td>\n",
       "      <td>C</td>\n",
       "      <td>6</td>\n",
       "      <td>12.010700</td>\n",
       "      <td>2260.0000</td>\n",
       "      <td>3550.00</td>\n",
       "    </tr>\n",
       "    <tr>\n",
       "      <th>6</th>\n",
       "      <td>Nitrogen</td>\n",
       "      <td>N</td>\n",
       "      <td>7</td>\n",
       "      <td>14.006700</td>\n",
       "      <td>1.2510</td>\n",
       "      <td>-210.10</td>\n",
       "    </tr>\n",
       "    <tr>\n",
       "      <th>7</th>\n",
       "      <td>Oxygen</td>\n",
       "      <td>O</td>\n",
       "      <td>8</td>\n",
       "      <td>15.999400</td>\n",
       "      <td>1.4290</td>\n",
       "      <td>-218.30</td>\n",
       "    </tr>\n",
       "    <tr>\n",
       "      <th>8</th>\n",
       "      <td>Fluorine</td>\n",
       "      <td>F</td>\n",
       "      <td>9</td>\n",
       "      <td>18.998403</td>\n",
       "      <td>1.6960</td>\n",
       "      <td>-219.60</td>\n",
       "    </tr>\n",
       "    <tr>\n",
       "      <th>9</th>\n",
       "      <td>Neon</td>\n",
       "      <td>Ne</td>\n",
       "      <td>10</td>\n",
       "      <td>20.179700</td>\n",
       "      <td>0.9000</td>\n",
       "      <td>-248.59</td>\n",
       "    </tr>\n",
       "    <tr>\n",
       "      <th>72</th>\n",
       "      <td>Tantalum</td>\n",
       "      <td>Ta</td>\n",
       "      <td>73</td>\n",
       "      <td>180.947900</td>\n",
       "      <td>16650.0000</td>\n",
       "      <td>3017.00</td>\n",
       "    </tr>\n",
       "    <tr>\n",
       "      <th>73</th>\n",
       "      <td>Tungsten</td>\n",
       "      <td>W</td>\n",
       "      <td>74</td>\n",
       "      <td>183.840000</td>\n",
       "      <td>19250.0000</td>\n",
       "      <td>3422.00</td>\n",
       "    </tr>\n",
       "    <tr>\n",
       "      <th>74</th>\n",
       "      <td>Rhenium</td>\n",
       "      <td>Re</td>\n",
       "      <td>75</td>\n",
       "      <td>186.207000</td>\n",
       "      <td>21020.0000</td>\n",
       "      <td>3186.00</td>\n",
       "    </tr>\n",
       "    <tr>\n",
       "      <th>75</th>\n",
       "      <td>Osmium</td>\n",
       "      <td>Os</td>\n",
       "      <td>76</td>\n",
       "      <td>190.230000</td>\n",
       "      <td>22610.0000</td>\n",
       "      <td>3033.00</td>\n",
       "    </tr>\n",
       "  </tbody>\n",
       "</table>\n",
       "</div>"
      ],
      "text/plain": [
       "        Name Symbol  Atomic_Number  Atomic_Weight     Density  Melting_Point\n",
       "0   Hydrogen      H              1       1.007940      0.0899        -259.14\n",
       "5     Carbon      C              6      12.010700   2260.0000        3550.00\n",
       "6   Nitrogen      N              7      14.006700      1.2510        -210.10\n",
       "7     Oxygen      O              8      15.999400      1.4290        -218.30\n",
       "8   Fluorine      F              9      18.998403      1.6960        -219.60\n",
       "9       Neon     Ne             10      20.179700      0.9000        -248.59\n",
       "72  Tantalum     Ta             73     180.947900  16650.0000        3017.00\n",
       "73  Tungsten      W             74     183.840000  19250.0000        3422.00\n",
       "74   Rhenium     Re             75     186.207000  21020.0000        3186.00\n",
       "75    Osmium     Os             76     190.230000  22610.0000        3033.00"
      ]
     },
     "execution_count": 413,
     "metadata": {},
     "output_type": "execute_result"
    }
   ],
   "source": [
    "df[\n",
    "    (df[\"Melting_Point\"] <= -200)\n",
    "    | (df[\"Melting_Point\"] >= 3000)\n",
    "].head(100)"
   ]
  },
  {
   "cell_type": "markdown",
   "id": "fe04980a",
   "metadata": {},
   "source": [
    "O exemplo abaixo mostra um filtro mais complexo e, principalmente, a importância do pré-processamento dos dados. Note que os resultados que eu obtenho ao procurar por letras minúsculas e maiúsculas é diferente! Padronizar tudo minúsculo é uma boa prática na programação. Agora vem uma pergunta, para o nome do composto aplicar um `.lower` é uma boa prática, mas isso também é válido para o símbolo?"
   ]
  },
  {
   "cell_type": "code",
   "execution_count": 414,
   "id": "1e8821fe",
   "metadata": {},
   "outputs": [
    {
     "data": {
      "application/vnd.microsoft.datawrangler.viewer.v0+json": {
       "columns": [
        {
         "name": "index",
         "rawType": "int64",
         "type": "integer"
        },
        {
         "name": "Name",
         "rawType": "object",
         "type": "string"
        },
        {
         "name": "Symbol",
         "rawType": "object",
         "type": "string"
        },
        {
         "name": "Atomic_Number",
         "rawType": "int64",
         "type": "integer"
        },
        {
         "name": "Atomic_Weight",
         "rawType": "float64",
         "type": "float"
        },
        {
         "name": "Density",
         "rawType": "float64",
         "type": "float"
        },
        {
         "name": "Melting_Point",
         "rawType": "float64",
         "type": "float"
        }
       ],
       "ref": "f9ff10ba-19fb-474a-9846-45ea2f80481c",
       "rows": [
        [
         "0",
         "Hydrogen",
         "H",
         "1",
         "1.00794",
         "0.0899",
         "-259.14"
        ],
        [
         "5",
         "Carbon",
         "C",
         "6",
         "12.0107",
         "2260.0",
         "3550.0"
        ],
        [
         "6",
         "Nitrogen",
         "N",
         "7",
         "14.0067",
         "1.251",
         "-210.1"
        ],
        [
         "8",
         "Fluorine",
         "F",
         "9",
         "18.9984032",
         "1.696",
         "-219.6"
        ],
        [
         "9",
         "Neon",
         "Ne",
         "10",
         "20.1797",
         "0.9",
         "-248.59"
        ],
        [
         "74",
         "Rhenium",
         "Re",
         "75",
         "186.207",
         "21020.0",
         "3186.0"
        ]
       ],
       "shape": {
        "columns": 6,
        "rows": 6
       }
      },
      "text/html": [
       "<div>\n",
       "<style scoped>\n",
       "    .dataframe tbody tr th:only-of-type {\n",
       "        vertical-align: middle;\n",
       "    }\n",
       "\n",
       "    .dataframe tbody tr th {\n",
       "        vertical-align: top;\n",
       "    }\n",
       "\n",
       "    .dataframe thead th {\n",
       "        text-align: right;\n",
       "    }\n",
       "</style>\n",
       "<table border=\"1\" class=\"dataframe\">\n",
       "  <thead>\n",
       "    <tr style=\"text-align: right;\">\n",
       "      <th></th>\n",
       "      <th>Name</th>\n",
       "      <th>Symbol</th>\n",
       "      <th>Atomic_Number</th>\n",
       "      <th>Atomic_Weight</th>\n",
       "      <th>Density</th>\n",
       "      <th>Melting_Point</th>\n",
       "    </tr>\n",
       "  </thead>\n",
       "  <tbody>\n",
       "    <tr>\n",
       "      <th>0</th>\n",
       "      <td>Hydrogen</td>\n",
       "      <td>H</td>\n",
       "      <td>1</td>\n",
       "      <td>1.007940</td>\n",
       "      <td>0.0899</td>\n",
       "      <td>-259.14</td>\n",
       "    </tr>\n",
       "    <tr>\n",
       "      <th>5</th>\n",
       "      <td>Carbon</td>\n",
       "      <td>C</td>\n",
       "      <td>6</td>\n",
       "      <td>12.010700</td>\n",
       "      <td>2260.0000</td>\n",
       "      <td>3550.00</td>\n",
       "    </tr>\n",
       "    <tr>\n",
       "      <th>6</th>\n",
       "      <td>Nitrogen</td>\n",
       "      <td>N</td>\n",
       "      <td>7</td>\n",
       "      <td>14.006700</td>\n",
       "      <td>1.2510</td>\n",
       "      <td>-210.10</td>\n",
       "    </tr>\n",
       "    <tr>\n",
       "      <th>8</th>\n",
       "      <td>Fluorine</td>\n",
       "      <td>F</td>\n",
       "      <td>9</td>\n",
       "      <td>18.998403</td>\n",
       "      <td>1.6960</td>\n",
       "      <td>-219.60</td>\n",
       "    </tr>\n",
       "    <tr>\n",
       "      <th>9</th>\n",
       "      <td>Neon</td>\n",
       "      <td>Ne</td>\n",
       "      <td>10</td>\n",
       "      <td>20.179700</td>\n",
       "      <td>0.9000</td>\n",
       "      <td>-248.59</td>\n",
       "    </tr>\n",
       "    <tr>\n",
       "      <th>74</th>\n",
       "      <td>Rhenium</td>\n",
       "      <td>Re</td>\n",
       "      <td>75</td>\n",
       "      <td>186.207000</td>\n",
       "      <td>21020.0000</td>\n",
       "      <td>3186.00</td>\n",
       "    </tr>\n",
       "  </tbody>\n",
       "</table>\n",
       "</div>"
      ],
      "text/plain": [
       "        Name Symbol  Atomic_Number  Atomic_Weight     Density  Melting_Point\n",
       "0   Hydrogen      H              1       1.007940      0.0899        -259.14\n",
       "5     Carbon      C              6      12.010700   2260.0000        3550.00\n",
       "6   Nitrogen      N              7      14.006700      1.2510        -210.10\n",
       "8   Fluorine      F              9      18.998403      1.6960        -219.60\n",
       "9       Neon     Ne             10      20.179700      0.9000        -248.59\n",
       "74   Rhenium     Re             75     186.207000  21020.0000        3186.00"
      ]
     },
     "execution_count": 414,
     "metadata": {},
     "output_type": "execute_result"
    }
   ],
   "source": [
    "df[\n",
    "    (\n",
    "        (df[\"Melting_Point\"] <= -200)\n",
    "        | (df[\"Melting_Point\"] >= 3000)\n",
    "    )\n",
    "    & (df['Name'].str.contains(\"o|h\"))\n",
    "].head(100)"
   ]
  },
  {
   "cell_type": "code",
   "execution_count": 415,
   "id": "359a2228",
   "metadata": {},
   "outputs": [
    {
     "data": {
      "application/vnd.microsoft.datawrangler.viewer.v0+json": {
       "columns": [
        {
         "name": "index",
         "rawType": "int64",
         "type": "integer"
        },
        {
         "name": "Name",
         "rawType": "object",
         "type": "string"
        },
        {
         "name": "Symbol",
         "rawType": "object",
         "type": "string"
        },
        {
         "name": "Atomic_Number",
         "rawType": "int64",
         "type": "integer"
        },
        {
         "name": "Atomic_Weight",
         "rawType": "float64",
         "type": "float"
        },
        {
         "name": "Density",
         "rawType": "float64",
         "type": "float"
        },
        {
         "name": "Melting_Point",
         "rawType": "float64",
         "type": "float"
        }
       ],
       "ref": "5e6309fb-37d7-474e-90d1-df25a33f0996",
       "rows": [
        [
         "0",
         "Hydrogen",
         "H",
         "1",
         "1.00794",
         "0.0899",
         "-259.14"
        ],
        [
         "7",
         "Oxygen",
         "O",
         "8",
         "15.9994",
         "1.429",
         "-218.3"
        ],
        [
         "75",
         "Osmium",
         "Os",
         "76",
         "190.23",
         "22610.0",
         "3033.0"
        ]
       ],
       "shape": {
        "columns": 6,
        "rows": 3
       }
      },
      "text/html": [
       "<div>\n",
       "<style scoped>\n",
       "    .dataframe tbody tr th:only-of-type {\n",
       "        vertical-align: middle;\n",
       "    }\n",
       "\n",
       "    .dataframe tbody tr th {\n",
       "        vertical-align: top;\n",
       "    }\n",
       "\n",
       "    .dataframe thead th {\n",
       "        text-align: right;\n",
       "    }\n",
       "</style>\n",
       "<table border=\"1\" class=\"dataframe\">\n",
       "  <thead>\n",
       "    <tr style=\"text-align: right;\">\n",
       "      <th></th>\n",
       "      <th>Name</th>\n",
       "      <th>Symbol</th>\n",
       "      <th>Atomic_Number</th>\n",
       "      <th>Atomic_Weight</th>\n",
       "      <th>Density</th>\n",
       "      <th>Melting_Point</th>\n",
       "    </tr>\n",
       "  </thead>\n",
       "  <tbody>\n",
       "    <tr>\n",
       "      <th>0</th>\n",
       "      <td>Hydrogen</td>\n",
       "      <td>H</td>\n",
       "      <td>1</td>\n",
       "      <td>1.00794</td>\n",
       "      <td>0.0899</td>\n",
       "      <td>-259.14</td>\n",
       "    </tr>\n",
       "    <tr>\n",
       "      <th>7</th>\n",
       "      <td>Oxygen</td>\n",
       "      <td>O</td>\n",
       "      <td>8</td>\n",
       "      <td>15.99940</td>\n",
       "      <td>1.4290</td>\n",
       "      <td>-218.30</td>\n",
       "    </tr>\n",
       "    <tr>\n",
       "      <th>75</th>\n",
       "      <td>Osmium</td>\n",
       "      <td>Os</td>\n",
       "      <td>76</td>\n",
       "      <td>190.23000</td>\n",
       "      <td>22610.0000</td>\n",
       "      <td>3033.00</td>\n",
       "    </tr>\n",
       "  </tbody>\n",
       "</table>\n",
       "</div>"
      ],
      "text/plain": [
       "        Name Symbol  Atomic_Number  Atomic_Weight     Density  Melting_Point\n",
       "0   Hydrogen      H              1        1.00794      0.0899        -259.14\n",
       "7     Oxygen      O              8       15.99940      1.4290        -218.30\n",
       "75    Osmium     Os             76      190.23000  22610.0000        3033.00"
      ]
     },
     "execution_count": 415,
     "metadata": {},
     "output_type": "execute_result"
    }
   ],
   "source": [
    "df[\n",
    "    (\n",
    "        (df[\"Melting_Point\"] <= -200)\n",
    "        | (df[\"Melting_Point\"] >= 3000)\n",
    "    )\n",
    "    & (df['Name'].str.contains(\"O|H\"))\n",
    "].head(100)"
   ]
  },
  {
   "cell_type": "markdown",
   "id": "256718c6",
   "metadata": {},
   "source": [
    "### Pré-Processamento e Localização"
   ]
  },
  {
   "cell_type": "markdown",
   "id": "b00dbf0d",
   "metadata": {},
   "source": [
    "Um filtro muito relevante é detectar a presença de valores ausentes `.isna`, além de duplicados, e tratá-los `.fillna`, `replace`, `.dropna`. `.drop_duplicates`.\n",
    "\n",
    "Isso é importante pois caso nossa intenção seja tratar um modelo de regressão, por exemplo, valores ausentes não podem existir, e valores duplicados podem tendenciar nosso modelo."
   ]
  },
  {
   "cell_type": "code",
   "execution_count": 416,
   "id": "8f76608e",
   "metadata": {},
   "outputs": [
    {
     "data": {
      "application/vnd.microsoft.datawrangler.viewer.v0+json": {
       "columns": [
        {
         "name": "index",
         "rawType": "int64",
         "type": "integer"
        },
        {
         "name": "Name",
         "rawType": "object",
         "type": "string"
        },
        {
         "name": "Symbol",
         "rawType": "object",
         "type": "string"
        },
        {
         "name": "Atomic_Number",
         "rawType": "int64",
         "type": "integer"
        },
        {
         "name": "Atomic_Weight",
         "rawType": "float64",
         "type": "float"
        },
        {
         "name": "Density",
         "rawType": "float64",
         "type": "float"
        },
        {
         "name": "Melting_Point",
         "rawType": "float64",
         "type": "float"
        }
       ],
       "ref": "d5049f53-f96d-4d78-aa16-425b6db1988f",
       "rows": [
        [
         "84",
         "Astatine",
         "At",
         "85",
         "210.0",
         null,
         "302.0"
        ],
        [
         "86",
         "Francium",
         "Fr",
         "87",
         "223.0",
         null,
         null
        ],
        [
         "94",
         "Americium",
         "Am",
         "95",
         "243.0",
         null,
         "1176.0"
        ],
        [
         "98",
         "Einsteinium",
         "Es",
         "99",
         "252.0",
         null,
         "860.0"
        ],
        [
         "99",
         "Fermium",
         "Fm",
         "100",
         "257.0",
         null,
         "1527.0"
        ]
       ],
       "shape": {
        "columns": 6,
        "rows": 5
       }
      },
      "text/html": [
       "<div>\n",
       "<style scoped>\n",
       "    .dataframe tbody tr th:only-of-type {\n",
       "        vertical-align: middle;\n",
       "    }\n",
       "\n",
       "    .dataframe tbody tr th {\n",
       "        vertical-align: top;\n",
       "    }\n",
       "\n",
       "    .dataframe thead th {\n",
       "        text-align: right;\n",
       "    }\n",
       "</style>\n",
       "<table border=\"1\" class=\"dataframe\">\n",
       "  <thead>\n",
       "    <tr style=\"text-align: right;\">\n",
       "      <th></th>\n",
       "      <th>Name</th>\n",
       "      <th>Symbol</th>\n",
       "      <th>Atomic_Number</th>\n",
       "      <th>Atomic_Weight</th>\n",
       "      <th>Density</th>\n",
       "      <th>Melting_Point</th>\n",
       "    </tr>\n",
       "  </thead>\n",
       "  <tbody>\n",
       "    <tr>\n",
       "      <th>84</th>\n",
       "      <td>Astatine</td>\n",
       "      <td>At</td>\n",
       "      <td>85</td>\n",
       "      <td>210.0</td>\n",
       "      <td>NaN</td>\n",
       "      <td>302.0</td>\n",
       "    </tr>\n",
       "    <tr>\n",
       "      <th>86</th>\n",
       "      <td>Francium</td>\n",
       "      <td>Fr</td>\n",
       "      <td>87</td>\n",
       "      <td>223.0</td>\n",
       "      <td>NaN</td>\n",
       "      <td>NaN</td>\n",
       "    </tr>\n",
       "    <tr>\n",
       "      <th>94</th>\n",
       "      <td>Americium</td>\n",
       "      <td>Am</td>\n",
       "      <td>95</td>\n",
       "      <td>243.0</td>\n",
       "      <td>NaN</td>\n",
       "      <td>1176.0</td>\n",
       "    </tr>\n",
       "    <tr>\n",
       "      <th>98</th>\n",
       "      <td>Einsteinium</td>\n",
       "      <td>Es</td>\n",
       "      <td>99</td>\n",
       "      <td>252.0</td>\n",
       "      <td>NaN</td>\n",
       "      <td>860.0</td>\n",
       "    </tr>\n",
       "    <tr>\n",
       "      <th>99</th>\n",
       "      <td>Fermium</td>\n",
       "      <td>Fm</td>\n",
       "      <td>100</td>\n",
       "      <td>257.0</td>\n",
       "      <td>NaN</td>\n",
       "      <td>1527.0</td>\n",
       "    </tr>\n",
       "  </tbody>\n",
       "</table>\n",
       "</div>"
      ],
      "text/plain": [
       "           Name Symbol  Atomic_Number  Atomic_Weight  Density  Melting_Point\n",
       "84     Astatine     At             85          210.0      NaN          302.0\n",
       "86     Francium     Fr             87          223.0      NaN            NaN\n",
       "94    Americium     Am             95          243.0      NaN         1176.0\n",
       "98  Einsteinium     Es             99          252.0      NaN          860.0\n",
       "99      Fermium     Fm            100          257.0      NaN         1527.0"
      ]
     },
     "execution_count": 416,
     "metadata": {},
     "output_type": "execute_result"
    }
   ],
   "source": [
    "# Agora, é possível saber exatamente quais são os valores ausentes\n",
    "df[df['Density'].isna()].head(5)"
   ]
  },
  {
   "cell_type": "code",
   "execution_count": 417,
   "id": "e724a48e",
   "metadata": {},
   "outputs": [
    {
     "data": {
      "application/vnd.microsoft.datawrangler.viewer.v0+json": {
       "columns": [
        {
         "name": "index",
         "rawType": "int64",
         "type": "integer"
        },
        {
         "name": "Name",
         "rawType": "object",
         "type": "string"
        },
        {
         "name": "Symbol",
         "rawType": "object",
         "type": "string"
        },
        {
         "name": "Atomic_Number",
         "rawType": "int64",
         "type": "integer"
        },
        {
         "name": "Atomic_Weight",
         "rawType": "float64",
         "type": "float"
        },
        {
         "name": "Density",
         "rawType": "float64",
         "type": "float"
        },
        {
         "name": "Melting_Point",
         "rawType": "float64",
         "type": "float"
        }
       ],
       "ref": "bc001781-43ce-4f26-aea8-eaf339d687f4",
       "rows": [
        [
         "0",
         "Hydrogen",
         "H",
         "1",
         "1.00794",
         "0.0899",
         "-259.14"
        ],
        [
         "1",
         "Helium",
         "He",
         "2",
         "4.002602",
         "0.1785",
         null
        ],
        [
         "2",
         "Lithium",
         "Li",
         "3",
         "6.941",
         "535.0",
         "180.54"
        ],
        [
         "3",
         "Beryllium",
         "Be",
         "4",
         "9.012182",
         "1848.0",
         "1287.0"
        ],
        [
         "4",
         "Boron",
         "B",
         "5",
         "10.811",
         "2460.0",
         "2075.0"
        ]
       ],
       "shape": {
        "columns": 6,
        "rows": 5
       }
      },
      "text/html": [
       "<div>\n",
       "<style scoped>\n",
       "    .dataframe tbody tr th:only-of-type {\n",
       "        vertical-align: middle;\n",
       "    }\n",
       "\n",
       "    .dataframe tbody tr th {\n",
       "        vertical-align: top;\n",
       "    }\n",
       "\n",
       "    .dataframe thead th {\n",
       "        text-align: right;\n",
       "    }\n",
       "</style>\n",
       "<table border=\"1\" class=\"dataframe\">\n",
       "  <thead>\n",
       "    <tr style=\"text-align: right;\">\n",
       "      <th></th>\n",
       "      <th>Name</th>\n",
       "      <th>Symbol</th>\n",
       "      <th>Atomic_Number</th>\n",
       "      <th>Atomic_Weight</th>\n",
       "      <th>Density</th>\n",
       "      <th>Melting_Point</th>\n",
       "    </tr>\n",
       "  </thead>\n",
       "  <tbody>\n",
       "    <tr>\n",
       "      <th>0</th>\n",
       "      <td>Hydrogen</td>\n",
       "      <td>H</td>\n",
       "      <td>1</td>\n",
       "      <td>1.007940</td>\n",
       "      <td>0.0899</td>\n",
       "      <td>-259.14</td>\n",
       "    </tr>\n",
       "    <tr>\n",
       "      <th>1</th>\n",
       "      <td>Helium</td>\n",
       "      <td>He</td>\n",
       "      <td>2</td>\n",
       "      <td>4.002602</td>\n",
       "      <td>0.1785</td>\n",
       "      <td>NaN</td>\n",
       "    </tr>\n",
       "    <tr>\n",
       "      <th>2</th>\n",
       "      <td>Lithium</td>\n",
       "      <td>Li</td>\n",
       "      <td>3</td>\n",
       "      <td>6.941000</td>\n",
       "      <td>535.0000</td>\n",
       "      <td>180.54</td>\n",
       "    </tr>\n",
       "    <tr>\n",
       "      <th>3</th>\n",
       "      <td>Beryllium</td>\n",
       "      <td>Be</td>\n",
       "      <td>4</td>\n",
       "      <td>9.012182</td>\n",
       "      <td>1848.0000</td>\n",
       "      <td>1287.00</td>\n",
       "    </tr>\n",
       "    <tr>\n",
       "      <th>4</th>\n",
       "      <td>Boron</td>\n",
       "      <td>B</td>\n",
       "      <td>5</td>\n",
       "      <td>10.811000</td>\n",
       "      <td>2460.0000</td>\n",
       "      <td>2075.00</td>\n",
       "    </tr>\n",
       "  </tbody>\n",
       "</table>\n",
       "</div>"
      ],
      "text/plain": [
       "        Name Symbol  Atomic_Number  Atomic_Weight    Density  Melting_Point\n",
       "0   Hydrogen      H              1       1.007940     0.0899        -259.14\n",
       "1     Helium     He              2       4.002602     0.1785            NaN\n",
       "2    Lithium     Li              3       6.941000   535.0000         180.54\n",
       "3  Beryllium     Be              4       9.012182  1848.0000        1287.00\n",
       "4      Boron      B              5      10.811000  2460.0000        2075.00"
      ]
     },
     "execution_count": 417,
     "metadata": {},
     "output_type": "execute_result"
    }
   ],
   "source": [
    "# E também os não ausentes...\n",
    "df[~df['Density'].isna()].head(5)"
   ]
  },
  {
   "cell_type": "code",
   "execution_count": 418,
   "id": "a4f3437f",
   "metadata": {},
   "outputs": [
    {
     "data": {
      "application/vnd.microsoft.datawrangler.viewer.v0+json": {
       "columns": [
        {
         "name": "index",
         "rawType": "int64",
         "type": "integer"
        },
        {
         "name": "Name",
         "rawType": "object",
         "type": "string"
        },
        {
         "name": "Symbol",
         "rawType": "object",
         "type": "string"
        },
        {
         "name": "Atomic_Number",
         "rawType": "float64",
         "type": "float"
        },
        {
         "name": "Atomic_Weight",
         "rawType": "float64",
         "type": "float"
        },
        {
         "name": "Density",
         "rawType": "float64",
         "type": "float"
        },
        {
         "name": "Melting_Point",
         "rawType": "float64",
         "type": "float"
        }
       ],
       "ref": "f8101c21-6eec-4fae-bf8c-eedbfe41f74e",
       "rows": [
        [
         "116",
         "Ununseptium",
         "Uus",
         "117.0",
         null,
         null,
         null
        ],
        [
         "117",
         "Ununoctium",
         "Uuo",
         "118.0",
         "294.0",
         null,
         null
        ],
        [
         "119",
         "Mentira",
         "H",
         "90.0",
         "1.0",
         "90.0",
         null
        ]
       ],
       "shape": {
        "columns": 6,
        "rows": 3
       }
      },
      "text/html": [
       "<div>\n",
       "<style scoped>\n",
       "    .dataframe tbody tr th:only-of-type {\n",
       "        vertical-align: middle;\n",
       "    }\n",
       "\n",
       "    .dataframe tbody tr th {\n",
       "        vertical-align: top;\n",
       "    }\n",
       "\n",
       "    .dataframe thead th {\n",
       "        text-align: right;\n",
       "    }\n",
       "</style>\n",
       "<table border=\"1\" class=\"dataframe\">\n",
       "  <thead>\n",
       "    <tr style=\"text-align: right;\">\n",
       "      <th></th>\n",
       "      <th>Name</th>\n",
       "      <th>Symbol</th>\n",
       "      <th>Atomic_Number</th>\n",
       "      <th>Atomic_Weight</th>\n",
       "      <th>Density</th>\n",
       "      <th>Melting_Point</th>\n",
       "    </tr>\n",
       "  </thead>\n",
       "  <tbody>\n",
       "    <tr>\n",
       "      <th>116</th>\n",
       "      <td>Ununseptium</td>\n",
       "      <td>Uus</td>\n",
       "      <td>117.0</td>\n",
       "      <td>NaN</td>\n",
       "      <td>NaN</td>\n",
       "      <td>NaN</td>\n",
       "    </tr>\n",
       "    <tr>\n",
       "      <th>117</th>\n",
       "      <td>Ununoctium</td>\n",
       "      <td>Uuo</td>\n",
       "      <td>118.0</td>\n",
       "      <td>294.0</td>\n",
       "      <td>NaN</td>\n",
       "      <td>NaN</td>\n",
       "    </tr>\n",
       "    <tr>\n",
       "      <th>119</th>\n",
       "      <td>Mentira</td>\n",
       "      <td>H</td>\n",
       "      <td>90.0</td>\n",
       "      <td>1.0</td>\n",
       "      <td>90.0</td>\n",
       "      <td>NaN</td>\n",
       "    </tr>\n",
       "  </tbody>\n",
       "</table>\n",
       "</div>"
      ],
      "text/plain": [
       "            Name Symbol  Atomic_Number  Atomic_Weight  Density  Melting_Point\n",
       "116  Ununseptium    Uus          117.0            NaN      NaN            NaN\n",
       "117   Ununoctium    Uuo          118.0          294.0      NaN            NaN\n",
       "119      Mentira      H           90.0            1.0     90.0            NaN"
      ]
     },
     "execution_count": 418,
     "metadata": {},
     "output_type": "execute_result"
    }
   ],
   "source": [
    "# Vamos criar um elemento repetido, só para simular e brincar\n",
    "df.loc[len(df)+1] = np.nan\n",
    "\n",
    "# Vamos fingir que esse elemento é o Helio 2.0\n",
    "df.iloc[-1, :] = ['Mentira', 'H', 90, 1, 90, np.nan,]\n",
    "\n",
    "df.tail(3)"
   ]
  },
  {
   "cell_type": "code",
   "execution_count": 419,
   "id": "88860cb2",
   "metadata": {},
   "outputs": [
    {
     "data": {
      "application/vnd.microsoft.datawrangler.viewer.v0+json": {
       "columns": [
        {
         "name": "index",
         "rawType": "int64",
         "type": "integer"
        },
        {
         "name": "Name",
         "rawType": "object",
         "type": "string"
        },
        {
         "name": "Symbol",
         "rawType": "object",
         "type": "string"
        },
        {
         "name": "Atomic_Number",
         "rawType": "float64",
         "type": "float"
        },
        {
         "name": "Atomic_Weight",
         "rawType": "float64",
         "type": "float"
        },
        {
         "name": "Density",
         "rawType": "float64",
         "type": "float"
        },
        {
         "name": "Melting_Point",
         "rawType": "float64",
         "type": "float"
        }
       ],
       "ref": "42f248e8-ff85-466c-adf9-da71056018f7",
       "rows": [
        [
         "0",
         "Hydrogen",
         "H",
         "1.0",
         "1.00794",
         "0.0899",
         "-259.14"
        ],
        [
         "119",
         "Mentira",
         "H",
         "90.0",
         "1.0",
         "90.0",
         null
        ]
       ],
       "shape": {
        "columns": 6,
        "rows": 2
       }
      },
      "text/html": [
       "<div>\n",
       "<style scoped>\n",
       "    .dataframe tbody tr th:only-of-type {\n",
       "        vertical-align: middle;\n",
       "    }\n",
       "\n",
       "    .dataframe tbody tr th {\n",
       "        vertical-align: top;\n",
       "    }\n",
       "\n",
       "    .dataframe thead th {\n",
       "        text-align: right;\n",
       "    }\n",
       "</style>\n",
       "<table border=\"1\" class=\"dataframe\">\n",
       "  <thead>\n",
       "    <tr style=\"text-align: right;\">\n",
       "      <th></th>\n",
       "      <th>Name</th>\n",
       "      <th>Symbol</th>\n",
       "      <th>Atomic_Number</th>\n",
       "      <th>Atomic_Weight</th>\n",
       "      <th>Density</th>\n",
       "      <th>Melting_Point</th>\n",
       "    </tr>\n",
       "  </thead>\n",
       "  <tbody>\n",
       "    <tr>\n",
       "      <th>0</th>\n",
       "      <td>Hydrogen</td>\n",
       "      <td>H</td>\n",
       "      <td>1.0</td>\n",
       "      <td>1.00794</td>\n",
       "      <td>0.0899</td>\n",
       "      <td>-259.14</td>\n",
       "    </tr>\n",
       "    <tr>\n",
       "      <th>119</th>\n",
       "      <td>Mentira</td>\n",
       "      <td>H</td>\n",
       "      <td>90.0</td>\n",
       "      <td>1.00000</td>\n",
       "      <td>90.0000</td>\n",
       "      <td>NaN</td>\n",
       "    </tr>\n",
       "  </tbody>\n",
       "</table>\n",
       "</div>"
      ],
      "text/plain": [
       "         Name Symbol  Atomic_Number  Atomic_Weight  Density  Melting_Point\n",
       "0    Hydrogen      H            1.0        1.00794   0.0899        -259.14\n",
       "119   Mentira      H           90.0        1.00000  90.0000            NaN"
      ]
     },
     "execution_count": 419,
     "metadata": {},
     "output_type": "execute_result"
    }
   ],
   "source": [
    "# Ok, agora temos dois símbolos H\n",
    "df.query(\"Symbol == 'H'\")"
   ]
  },
  {
   "cell_type": "code",
   "execution_count": 420,
   "id": "169053a7",
   "metadata": {},
   "outputs": [
    {
     "data": {
      "application/vnd.microsoft.datawrangler.viewer.v0+json": {
       "columns": [
        {
         "name": "index",
         "rawType": "int64",
         "type": "integer"
        },
        {
         "name": "Name",
         "rawType": "object",
         "type": "string"
        },
        {
         "name": "Symbol",
         "rawType": "object",
         "type": "string"
        },
        {
         "name": "Atomic_Number",
         "rawType": "float64",
         "type": "float"
        },
        {
         "name": "Atomic_Weight",
         "rawType": "float64",
         "type": "float"
        },
        {
         "name": "Density",
         "rawType": "float64",
         "type": "float"
        },
        {
         "name": "Melting_Point",
         "rawType": "float64",
         "type": "float"
        }
       ],
       "ref": "e186eb0a-61a8-41f6-a570-20b3aec712ef",
       "rows": [
        [
         "0",
         "Hydrogen",
         "H",
         "1.0",
         "1.00794",
         "0.0899",
         "-259.14"
        ],
        [
         "119",
         "Mentira",
         "H",
         "0.0",
         "1.0",
         "0.0",
         "0.0"
        ]
       ],
       "shape": {
        "columns": 6,
        "rows": 2
       }
      },
      "text/html": [
       "<div>\n",
       "<style scoped>\n",
       "    .dataframe tbody tr th:only-of-type {\n",
       "        vertical-align: middle;\n",
       "    }\n",
       "\n",
       "    .dataframe tbody tr th {\n",
       "        vertical-align: top;\n",
       "    }\n",
       "\n",
       "    .dataframe thead th {\n",
       "        text-align: right;\n",
       "    }\n",
       "</style>\n",
       "<table border=\"1\" class=\"dataframe\">\n",
       "  <thead>\n",
       "    <tr style=\"text-align: right;\">\n",
       "      <th></th>\n",
       "      <th>Name</th>\n",
       "      <th>Symbol</th>\n",
       "      <th>Atomic_Number</th>\n",
       "      <th>Atomic_Weight</th>\n",
       "      <th>Density</th>\n",
       "      <th>Melting_Point</th>\n",
       "    </tr>\n",
       "  </thead>\n",
       "  <tbody>\n",
       "    <tr>\n",
       "      <th>0</th>\n",
       "      <td>Hydrogen</td>\n",
       "      <td>H</td>\n",
       "      <td>1.0</td>\n",
       "      <td>1.00794</td>\n",
       "      <td>0.0899</td>\n",
       "      <td>-259.14</td>\n",
       "    </tr>\n",
       "    <tr>\n",
       "      <th>119</th>\n",
       "      <td>Mentira</td>\n",
       "      <td>H</td>\n",
       "      <td>0.0</td>\n",
       "      <td>1.00000</td>\n",
       "      <td>0.0000</td>\n",
       "      <td>0.00</td>\n",
       "    </tr>\n",
       "  </tbody>\n",
       "</table>\n",
       "</div>"
      ],
      "text/plain": [
       "         Name Symbol  Atomic_Number  Atomic_Weight  Density  Melting_Point\n",
       "0    Hydrogen      H            1.0        1.00794   0.0899        -259.14\n",
       "119   Mentira      H            0.0        1.00000   0.0000           0.00"
      ]
     },
     "execution_count": 420,
     "metadata": {},
     "output_type": "execute_result"
    }
   ],
   "source": [
    "# Só para demonstrar o replace() e o fillna()\n",
    "df.loc[df[\"Symbol\"] == \"H\"] = df.loc[df[\"Symbol\"] == \"H\"].replace(90, np.nan)\n",
    "df.loc[df[\"Symbol\"] == \"H\"] = df.loc[df[\"Symbol\"] == \"H\"].fillna(0)\n",
    "\n",
    "df.query(\"Symbol == 'H'\")"
   ]
  },
  {
   "cell_type": "code",
   "execution_count": 421,
   "id": "bd20cfcd",
   "metadata": {},
   "outputs": [
    {
     "data": {
      "application/vnd.microsoft.datawrangler.viewer.v0+json": {
       "columns": [
        {
         "name": "index",
         "rawType": "int64",
         "type": "integer"
        },
        {
         "name": "Name",
         "rawType": "object",
         "type": "string"
        },
        {
         "name": "Symbol",
         "rawType": "object",
         "type": "string"
        },
        {
         "name": "Atomic_Number",
         "rawType": "float64",
         "type": "float"
        },
        {
         "name": "Atomic_Weight",
         "rawType": "float64",
         "type": "float"
        },
        {
         "name": "Density",
         "rawType": "float64",
         "type": "float"
        },
        {
         "name": "Melting_Point",
         "rawType": "float64",
         "type": "float"
        }
       ],
       "ref": "6c6a41ef-490a-4ce1-a65f-53a46584cb6c",
       "rows": [
        [
         "119",
         "Mentira",
         "H",
         "0.0",
         "1.0",
         "0.0",
         "0.0"
        ]
       ],
       "shape": {
        "columns": 6,
        "rows": 1
       }
      },
      "text/html": [
       "<div>\n",
       "<style scoped>\n",
       "    .dataframe tbody tr th:only-of-type {\n",
       "        vertical-align: middle;\n",
       "    }\n",
       "\n",
       "    .dataframe tbody tr th {\n",
       "        vertical-align: top;\n",
       "    }\n",
       "\n",
       "    .dataframe thead th {\n",
       "        text-align: right;\n",
       "    }\n",
       "</style>\n",
       "<table border=\"1\" class=\"dataframe\">\n",
       "  <thead>\n",
       "    <tr style=\"text-align: right;\">\n",
       "      <th></th>\n",
       "      <th>Name</th>\n",
       "      <th>Symbol</th>\n",
       "      <th>Atomic_Number</th>\n",
       "      <th>Atomic_Weight</th>\n",
       "      <th>Density</th>\n",
       "      <th>Melting_Point</th>\n",
       "    </tr>\n",
       "  </thead>\n",
       "  <tbody>\n",
       "    <tr>\n",
       "      <th>119</th>\n",
       "      <td>Mentira</td>\n",
       "      <td>H</td>\n",
       "      <td>0.0</td>\n",
       "      <td>1.0</td>\n",
       "      <td>0.0</td>\n",
       "      <td>0.0</td>\n",
       "    </tr>\n",
       "  </tbody>\n",
       "</table>\n",
       "</div>"
      ],
      "text/plain": [
       "        Name Symbol  Atomic_Number  Atomic_Weight  Density  Melting_Point\n",
       "119  Mentira      H            0.0            1.0      0.0            0.0"
      ]
     },
     "execution_count": 421,
     "metadata": {},
     "output_type": "execute_result"
    }
   ],
   "source": [
    "# A importância de especificar a ordem de exclusão\n",
    "# Veja que aqui a gente não está sobrescrevendo nada\n",
    "df.drop_duplicates(\n",
    "    subset='Symbol',\n",
    "    keep='last'\n",
    ").query(\"Symbol == 'H'\")"
   ]
  },
  {
   "cell_type": "code",
   "execution_count": 422,
   "id": "38869776",
   "metadata": {},
   "outputs": [
    {
     "data": {
      "application/vnd.microsoft.datawrangler.viewer.v0+json": {
       "columns": [
        {
         "name": "index",
         "rawType": "int64",
         "type": "integer"
        },
        {
         "name": "Name",
         "rawType": "object",
         "type": "string"
        },
        {
         "name": "Symbol",
         "rawType": "object",
         "type": "string"
        },
        {
         "name": "Atomic_Number",
         "rawType": "float64",
         "type": "float"
        },
        {
         "name": "Atomic_Weight",
         "rawType": "float64",
         "type": "float"
        },
        {
         "name": "Density",
         "rawType": "float64",
         "type": "float"
        },
        {
         "name": "Melting_Point",
         "rawType": "float64",
         "type": "float"
        }
       ],
       "ref": "74d9e869-0684-4d3b-9a21-5e5af1e89cbb",
       "rows": [
        [
         "0",
         "Hydrogen",
         "H",
         "1.0",
         "1.00794",
         "0.0899",
         "-259.14"
        ]
       ],
       "shape": {
        "columns": 6,
        "rows": 1
       }
      },
      "text/html": [
       "<div>\n",
       "<style scoped>\n",
       "    .dataframe tbody tr th:only-of-type {\n",
       "        vertical-align: middle;\n",
       "    }\n",
       "\n",
       "    .dataframe tbody tr th {\n",
       "        vertical-align: top;\n",
       "    }\n",
       "\n",
       "    .dataframe thead th {\n",
       "        text-align: right;\n",
       "    }\n",
       "</style>\n",
       "<table border=\"1\" class=\"dataframe\">\n",
       "  <thead>\n",
       "    <tr style=\"text-align: right;\">\n",
       "      <th></th>\n",
       "      <th>Name</th>\n",
       "      <th>Symbol</th>\n",
       "      <th>Atomic_Number</th>\n",
       "      <th>Atomic_Weight</th>\n",
       "      <th>Density</th>\n",
       "      <th>Melting_Point</th>\n",
       "    </tr>\n",
       "  </thead>\n",
       "  <tbody>\n",
       "    <tr>\n",
       "      <th>0</th>\n",
       "      <td>Hydrogen</td>\n",
       "      <td>H</td>\n",
       "      <td>1.0</td>\n",
       "      <td>1.00794</td>\n",
       "      <td>0.0899</td>\n",
       "      <td>-259.14</td>\n",
       "    </tr>\n",
       "  </tbody>\n",
       "</table>\n",
       "</div>"
      ],
      "text/plain": [
       "       Name Symbol  Atomic_Number  Atomic_Weight  Density  Melting_Point\n",
       "0  Hydrogen      H            1.0        1.00794   0.0899        -259.14"
      ]
     },
     "execution_count": 422,
     "metadata": {},
     "output_type": "execute_result"
    }
   ],
   "source": [
    "df = df.drop_duplicates(\n",
    "    subset='Symbol',\n",
    "    keep='first'\n",
    ")\n",
    "\n",
    "df.query(\"Symbol == 'H'\")"
   ]
  },
  {
   "cell_type": "markdown",
   "id": "523cc458",
   "metadata": {},
   "source": [
    "Também podemos renomear nossas colunas e converter seus tipos."
   ]
  },
  {
   "cell_type": "code",
   "execution_count": 423,
   "id": "1b309252",
   "metadata": {},
   "outputs": [
    {
     "data": {
      "application/vnd.microsoft.datawrangler.viewer.v0+json": {
       "columns": [
        {
         "name": "index",
         "rawType": "int64",
         "type": "integer"
        },
        {
         "name": "Name",
         "rawType": "object",
         "type": "string"
        },
        {
         "name": "simbolo",
         "rawType": "object",
         "type": "string"
        },
        {
         "name": "n",
         "rawType": "Int64",
         "type": "integer"
        },
        {
         "name": "Atomic_Weight",
         "rawType": "float64",
         "type": "float"
        },
        {
         "name": "Density",
         "rawType": "float64",
         "type": "float"
        },
        {
         "name": "Melting_Point",
         "rawType": "float64",
         "type": "float"
        }
       ],
       "ref": "bd7adc49-67ef-46b6-9198-cd26a9daf8ee",
       "rows": [
        [
         "0",
         "Hydrogen",
         "H",
         "1",
         "1.008",
         "0.0899",
         "-259.14"
        ],
        [
         "1",
         "Helium",
         "He",
         "2",
         "4.003",
         "0.1785",
         null
        ],
        [
         "2",
         "Lithium",
         "Li",
         "3",
         "6.941",
         "535.0",
         "180.54"
        ],
        [
         "3",
         "Beryllium",
         "Be",
         "4",
         "9.012",
         "1848.0",
         "1287.0"
        ],
        [
         "4",
         "Boron",
         "B",
         "5",
         "10.811",
         "2460.0",
         "2075.0"
        ]
       ],
       "shape": {
        "columns": 6,
        "rows": 5
       }
      },
      "text/html": [
       "<div>\n",
       "<style scoped>\n",
       "    .dataframe tbody tr th:only-of-type {\n",
       "        vertical-align: middle;\n",
       "    }\n",
       "\n",
       "    .dataframe tbody tr th {\n",
       "        vertical-align: top;\n",
       "    }\n",
       "\n",
       "    .dataframe thead th {\n",
       "        text-align: right;\n",
       "    }\n",
       "</style>\n",
       "<table border=\"1\" class=\"dataframe\">\n",
       "  <thead>\n",
       "    <tr style=\"text-align: right;\">\n",
       "      <th></th>\n",
       "      <th>Name</th>\n",
       "      <th>simbolo</th>\n",
       "      <th>n</th>\n",
       "      <th>Atomic_Weight</th>\n",
       "      <th>Density</th>\n",
       "      <th>Melting_Point</th>\n",
       "    </tr>\n",
       "  </thead>\n",
       "  <tbody>\n",
       "    <tr>\n",
       "      <th>0</th>\n",
       "      <td>Hydrogen</td>\n",
       "      <td>H</td>\n",
       "      <td>1</td>\n",
       "      <td>1.008</td>\n",
       "      <td>0.0899</td>\n",
       "      <td>-259.14</td>\n",
       "    </tr>\n",
       "    <tr>\n",
       "      <th>1</th>\n",
       "      <td>Helium</td>\n",
       "      <td>He</td>\n",
       "      <td>2</td>\n",
       "      <td>4.003</td>\n",
       "      <td>0.1785</td>\n",
       "      <td>NaN</td>\n",
       "    </tr>\n",
       "    <tr>\n",
       "      <th>2</th>\n",
       "      <td>Lithium</td>\n",
       "      <td>Li</td>\n",
       "      <td>3</td>\n",
       "      <td>6.941</td>\n",
       "      <td>535.0000</td>\n",
       "      <td>180.54</td>\n",
       "    </tr>\n",
       "    <tr>\n",
       "      <th>3</th>\n",
       "      <td>Beryllium</td>\n",
       "      <td>Be</td>\n",
       "      <td>4</td>\n",
       "      <td>9.012</td>\n",
       "      <td>1848.0000</td>\n",
       "      <td>1287.00</td>\n",
       "    </tr>\n",
       "    <tr>\n",
       "      <th>4</th>\n",
       "      <td>Boron</td>\n",
       "      <td>B</td>\n",
       "      <td>5</td>\n",
       "      <td>10.811</td>\n",
       "      <td>2460.0000</td>\n",
       "      <td>2075.00</td>\n",
       "    </tr>\n",
       "  </tbody>\n",
       "</table>\n",
       "</div>"
      ],
      "text/plain": [
       "        Name simbolo  n  Atomic_Weight    Density  Melting_Point\n",
       "0   Hydrogen       H  1          1.008     0.0899        -259.14\n",
       "1     Helium      He  2          4.003     0.1785            NaN\n",
       "2    Lithium      Li  3          6.941   535.0000         180.54\n",
       "3  Beryllium      Be  4          9.012  1848.0000        1287.00\n",
       "4      Boron       B  5         10.811  2460.0000        2075.00"
      ]
     },
     "execution_count": 423,
     "metadata": {},
     "output_type": "execute_result"
    }
   ],
   "source": [
    "# Criando uma cópia profunda\n",
    "nova_df = df.copy(deep=True)\n",
    "\n",
    "# Renomeando\n",
    "nova_df = nova_df.rename(columns={\n",
    "    'Symbol': 'simbolo',\n",
    "    'Atomic_Number': 'n'\n",
    "})\n",
    "\n",
    "# Convertendo de float para int\n",
    "nova_df['n'] = nova_df['n'].astype('Int64')\n",
    "nova_df['Atomic_Weight'] = nova_df['Atomic_Weight'].round(3)\n",
    "\n",
    "nova_df.head(5)"
   ]
  },
  {
   "cell_type": "markdown",
   "id": "9527d983",
   "metadata": {},
   "source": [
    "\\newpage \n",
    "\n",
    "## Análise de Dados"
   ]
  },
  {
   "cell_type": "markdown",
   "id": "7a943530",
   "metadata": {},
   "source": [
    "A análise mais simples que temos é baseada em ordenamento `.sort_index` ou `.sort_values`"
   ]
  },
  {
   "cell_type": "code",
   "execution_count": 424,
   "id": "3de0548c",
   "metadata": {},
   "outputs": [
    {
     "data": {
      "application/vnd.microsoft.datawrangler.viewer.v0+json": {
       "columns": [
        {
         "name": "index",
         "rawType": "int64",
         "type": "integer"
        },
        {
         "name": "Name",
         "rawType": "object",
         "type": "string"
        },
        {
         "name": "simbolo",
         "rawType": "object",
         "type": "string"
        },
        {
         "name": "n",
         "rawType": "Int64",
         "type": "integer"
        },
        {
         "name": "Atomic_Weight",
         "rawType": "float64",
         "type": "float"
        },
        {
         "name": "Density",
         "rawType": "float64",
         "type": "float"
        },
        {
         "name": "Melting_Point",
         "rawType": "float64",
         "type": "float"
        }
       ],
       "ref": "cdf3f318-1a5c-4daf-bd9c-8ce4e3fb5b25",
       "rows": [
        [
         "76",
         "Iridium",
         "Ir",
         "77",
         "192.217",
         "22650.0",
         "2466.0"
        ],
        [
         "75",
         "Osmium",
         "Os",
         "76",
         "190.23",
         "22610.0",
         "3033.0"
        ],
        [
         "77",
         "Platinum",
         "Pt",
         "78",
         "195.078",
         "21090.0",
         "1768.3"
        ],
        [
         "74",
         "Rhenium",
         "Re",
         "75",
         "186.207",
         "21020.0",
         "3186.0"
        ],
        [
         "92",
         "Neptunium",
         "Np",
         "93",
         "237.0",
         "20450.0",
         "644.0"
        ]
       ],
       "shape": {
        "columns": 6,
        "rows": 5
       }
      },
      "text/html": [
       "<div>\n",
       "<style scoped>\n",
       "    .dataframe tbody tr th:only-of-type {\n",
       "        vertical-align: middle;\n",
       "    }\n",
       "\n",
       "    .dataframe tbody tr th {\n",
       "        vertical-align: top;\n",
       "    }\n",
       "\n",
       "    .dataframe thead th {\n",
       "        text-align: right;\n",
       "    }\n",
       "</style>\n",
       "<table border=\"1\" class=\"dataframe\">\n",
       "  <thead>\n",
       "    <tr style=\"text-align: right;\">\n",
       "      <th></th>\n",
       "      <th>Name</th>\n",
       "      <th>simbolo</th>\n",
       "      <th>n</th>\n",
       "      <th>Atomic_Weight</th>\n",
       "      <th>Density</th>\n",
       "      <th>Melting_Point</th>\n",
       "    </tr>\n",
       "  </thead>\n",
       "  <tbody>\n",
       "    <tr>\n",
       "      <th>76</th>\n",
       "      <td>Iridium</td>\n",
       "      <td>Ir</td>\n",
       "      <td>77</td>\n",
       "      <td>192.217</td>\n",
       "      <td>22650.0</td>\n",
       "      <td>2466.0</td>\n",
       "    </tr>\n",
       "    <tr>\n",
       "      <th>75</th>\n",
       "      <td>Osmium</td>\n",
       "      <td>Os</td>\n",
       "      <td>76</td>\n",
       "      <td>190.230</td>\n",
       "      <td>22610.0</td>\n",
       "      <td>3033.0</td>\n",
       "    </tr>\n",
       "    <tr>\n",
       "      <th>77</th>\n",
       "      <td>Platinum</td>\n",
       "      <td>Pt</td>\n",
       "      <td>78</td>\n",
       "      <td>195.078</td>\n",
       "      <td>21090.0</td>\n",
       "      <td>1768.3</td>\n",
       "    </tr>\n",
       "    <tr>\n",
       "      <th>74</th>\n",
       "      <td>Rhenium</td>\n",
       "      <td>Re</td>\n",
       "      <td>75</td>\n",
       "      <td>186.207</td>\n",
       "      <td>21020.0</td>\n",
       "      <td>3186.0</td>\n",
       "    </tr>\n",
       "    <tr>\n",
       "      <th>92</th>\n",
       "      <td>Neptunium</td>\n",
       "      <td>Np</td>\n",
       "      <td>93</td>\n",
       "      <td>237.000</td>\n",
       "      <td>20450.0</td>\n",
       "      <td>644.0</td>\n",
       "    </tr>\n",
       "  </tbody>\n",
       "</table>\n",
       "</div>"
      ],
      "text/plain": [
       "         Name simbolo   n  Atomic_Weight  Density  Melting_Point\n",
       "76    Iridium      Ir  77        192.217  22650.0         2466.0\n",
       "75     Osmium      Os  76        190.230  22610.0         3033.0\n",
       "77   Platinum      Pt  78        195.078  21090.0         1768.3\n",
       "74    Rhenium      Re  75        186.207  21020.0         3186.0\n",
       "92  Neptunium      Np  93        237.000  20450.0          644.0"
      ]
     },
     "execution_count": 424,
     "metadata": {},
     "output_type": "execute_result"
    }
   ],
   "source": [
    "# Vamos ordenar de outra forma\n",
    "nova_df.sort_values(by='Density', ascending=False).head(5)"
   ]
  },
  {
   "cell_type": "markdown",
   "id": "9c6fc2e2",
   "metadata": {},
   "source": [
    "Uma das ferramentas mais importantes da análise de dados é o agrupamento! podemos usar o `.groupby` para isso."
   ]
  },
  {
   "cell_type": "code",
   "execution_count": 425,
   "id": "b6ca79b1",
   "metadata": {},
   "outputs": [
    {
     "data": {
      "application/vnd.microsoft.datawrangler.viewer.v0+json": {
       "columns": [
        {
         "name": "index",
         "rawType": "object",
         "type": "string"
        },
        {
         "name": "18.0",
         "rawType": "float64",
         "type": "float"
        },
        {
         "name": "17.0",
         "rawType": "float64",
         "type": "float"
        },
        {
         "name": "1.0",
         "rawType": "float64",
         "type": "float"
        },
        {
         "name": "16.0",
         "rawType": "float64",
         "type": "float"
        },
        {
         "name": "12.0",
         "rawType": "float64",
         "type": "float"
        }
       ],
       "ref": "dcad0e6e-2dad-4d38-bd7f-734c08b4af83",
       "rows": [
        [
         "Melting_Point",
         "117.54",
         "290.61",
         "298.19166666666666",
         "437.434",
         "507.0733333333333"
        ]
       ],
       "shape": {
        "columns": 5,
        "rows": 1
       }
      },
      "text/html": [
       "<div>\n",
       "<style scoped>\n",
       "    .dataframe tbody tr th:only-of-type {\n",
       "        vertical-align: middle;\n",
       "    }\n",
       "\n",
       "    .dataframe tbody tr th {\n",
       "        vertical-align: top;\n",
       "    }\n",
       "\n",
       "    .dataframe thead th {\n",
       "        text-align: right;\n",
       "    }\n",
       "</style>\n",
       "<table border=\"1\" class=\"dataframe\">\n",
       "  <thead>\n",
       "    <tr style=\"text-align: right;\">\n",
       "      <th>Group</th>\n",
       "      <th>18.0</th>\n",
       "      <th>17.0</th>\n",
       "      <th>1.0</th>\n",
       "      <th>16.0</th>\n",
       "      <th>12.0</th>\n",
       "    </tr>\n",
       "  </thead>\n",
       "  <tbody>\n",
       "    <tr>\n",
       "      <th>Melting_Point</th>\n",
       "      <td>117.54</td>\n",
       "      <td>290.61</td>\n",
       "      <td>298.191667</td>\n",
       "      <td>437.434</td>\n",
       "      <td>507.073333</td>\n",
       "    </tr>\n",
       "  </tbody>\n",
       "</table>\n",
       "</div>"
      ],
      "text/plain": [
       "Group            18.0    17.0        1.0      16.0        12.0\n",
       "Melting_Point  117.54  290.61  298.191667  437.434  507.073333"
      ]
     },
     "execution_count": 425,
     "metadata": {},
     "output_type": "execute_result"
    }
   ],
   "source": [
    "pd.DataFrame(pivot_df.groupby('Group')[\n",
    "    'Melting_Point'\n",
    "] \\\n",
    ".mean() \\\n",
    ".sort_values()).head(5).T"
   ]
  },
  {
   "cell_type": "code",
   "execution_count": 426,
   "id": "9bb7ac88",
   "metadata": {},
   "outputs": [
    {
     "data": {
      "application/vnd.microsoft.datawrangler.viewer.v0+json": {
       "columns": [
        {
         "name": "index",
         "rawType": "object",
         "type": "string"
        },
        {
         "name": "1.0",
         "rawType": "int64",
         "type": "integer"
        },
        {
         "name": "2.0",
         "rawType": "int64",
         "type": "integer"
        },
        {
         "name": "3.0",
         "rawType": "int64",
         "type": "integer"
        },
        {
         "name": "4.0",
         "rawType": "int64",
         "type": "integer"
        },
        {
         "name": "5.0",
         "rawType": "int64",
         "type": "integer"
        },
        {
         "name": "6.0",
         "rawType": "int64",
         "type": "integer"
        },
        {
         "name": "7.0",
         "rawType": "int64",
         "type": "integer"
        },
        {
         "name": "8.0",
         "rawType": "int64",
         "type": "integer"
        },
        {
         "name": "9.0",
         "rawType": "int64",
         "type": "integer"
        },
        {
         "name": "10.0",
         "rawType": "int64",
         "type": "integer"
        }
       ],
       "ref": "1edf83f3-4d66-483e-90b7-01c30682e145",
       "rows": [
        [
         "Melting_Point",
         "6",
         "6",
         "4",
         "3",
         "3",
         "3",
         "3",
         "3",
         "3",
         "3"
        ]
       ],
       "shape": {
        "columns": 10,
        "rows": 1
       }
      },
      "text/html": [
       "<div>\n",
       "<style scoped>\n",
       "    .dataframe tbody tr th:only-of-type {\n",
       "        vertical-align: middle;\n",
       "    }\n",
       "\n",
       "    .dataframe tbody tr th {\n",
       "        vertical-align: top;\n",
       "    }\n",
       "\n",
       "    .dataframe thead th {\n",
       "        text-align: right;\n",
       "    }\n",
       "</style>\n",
       "<table border=\"1\" class=\"dataframe\">\n",
       "  <thead>\n",
       "    <tr style=\"text-align: right;\">\n",
       "      <th>Group</th>\n",
       "      <th>1.0</th>\n",
       "      <th>2.0</th>\n",
       "      <th>3.0</th>\n",
       "      <th>4.0</th>\n",
       "      <th>5.0</th>\n",
       "      <th>6.0</th>\n",
       "      <th>7.0</th>\n",
       "      <th>8.0</th>\n",
       "      <th>9.0</th>\n",
       "      <th>10.0</th>\n",
       "    </tr>\n",
       "  </thead>\n",
       "  <tbody>\n",
       "    <tr>\n",
       "      <th>Melting_Point</th>\n",
       "      <td>6</td>\n",
       "      <td>6</td>\n",
       "      <td>4</td>\n",
       "      <td>3</td>\n",
       "      <td>3</td>\n",
       "      <td>3</td>\n",
       "      <td>3</td>\n",
       "      <td>3</td>\n",
       "      <td>3</td>\n",
       "      <td>3</td>\n",
       "    </tr>\n",
       "  </tbody>\n",
       "</table>\n",
       "</div>"
      ],
      "text/plain": [
       "Group          1.0   2.0   3.0   4.0   5.0   6.0   7.0   8.0   9.0   10.0\n",
       "Melting_Point     6     6     4     3     3     3     3     3     3     3"
      ]
     },
     "execution_count": 426,
     "metadata": {},
     "output_type": "execute_result"
    }
   ],
   "source": [
    "pd.DataFrame(pivot_df.groupby('Group')[\n",
    "    'Melting_Point'\n",
    "] \\\n",
    ".count() \\\n",
    ".sort_index()).head(10).T"
   ]
  },
  {
   "cell_type": "code",
   "execution_count": 427,
   "id": "790576fe",
   "metadata": {},
   "outputs": [
    {
     "data": {
      "application/vnd.microsoft.datawrangler.viewer.v0+json": {
       "columns": [
        {
         "name": "Period",
         "rawType": "int64",
         "type": "integer"
        },
        {
         "name": "1.0",
         "rawType": "object",
         "type": "string"
        },
        {
         "name": "2.0",
         "rawType": "object",
         "type": "string"
        },
        {
         "name": "3.0",
         "rawType": "object",
         "type": "string"
        },
        {
         "name": "4.0",
         "rawType": "object",
         "type": "string"
        },
        {
         "name": "5.0",
         "rawType": "object",
         "type": "string"
        },
        {
         "name": "6.0",
         "rawType": "object",
         "type": "string"
        },
        {
         "name": "7.0",
         "rawType": "object",
         "type": "string"
        },
        {
         "name": "12.0",
         "rawType": "object",
         "type": "string"
        },
        {
         "name": "13.0",
         "rawType": "object",
         "type": "string"
        },
        {
         "name": "14.0",
         "rawType": "object",
         "type": "string"
        },
        {
         "name": "15.0",
         "rawType": "object",
         "type": "string"
        },
        {
         "name": "16.0",
         "rawType": "object",
         "type": "string"
        },
        {
         "name": "17.0",
         "rawType": "object",
         "type": "string"
        },
        {
         "name": "18.0",
         "rawType": "object",
         "type": "string"
        }
       ],
       "ref": "5038c75a-c039-449b-91d9-e37f70a7477a",
       "rows": [
        [
         "1",
         "H",
         "-",
         "-",
         "-",
         "-",
         "-",
         "-",
         "-",
         "-",
         "-",
         "-",
         "-",
         "-",
         "He"
        ],
        [
         "2",
         "Li",
         "Be",
         "-",
         "-",
         "-",
         "-",
         "-",
         "-",
         "B",
         "C",
         "N",
         "O",
         "F",
         "Ne"
        ],
        [
         "3",
         "Na",
         "Mg",
         "-",
         "-",
         "-",
         "-",
         "-",
         "-",
         "Al",
         "Si",
         "P",
         "S",
         "Cl",
         "Ar"
        ],
        [
         "4",
         "K",
         "Ca",
         "Sc",
         "Ti",
         "V",
         "Cr",
         "Mn",
         "Zn",
         "Ga",
         "Ge",
         "As",
         "Se",
         "Br",
         "Kr"
        ],
        [
         "5",
         "Rb",
         "Sr",
         "Y",
         "Zr",
         "Nb",
         "Mo",
         "Tc",
         "Cd",
         "In",
         "Sn",
         "Sb",
         "Te",
         "I",
         "Xe"
        ],
        [
         "6",
         "Cs",
         "Ba",
         "Lu",
         "Hf",
         "Ta",
         "W",
         "Re",
         "Hg",
         "Tl",
         "Pb",
         "Bi",
         "Po",
         "At",
         "Rn"
        ],
        [
         "7",
         "Fr",
         "Ra",
         "Lr",
         "Rf",
         "Db",
         "Sg",
         "Bh",
         "Uub",
         "Uut",
         "Uuq",
         "Uup",
         "Uuh",
         "Uus",
         "Uuo"
        ]
       ],
       "shape": {
        "columns": 14,
        "rows": 7
       }
      },
      "text/html": [
       "<div>\n",
       "<style scoped>\n",
       "    .dataframe tbody tr th:only-of-type {\n",
       "        vertical-align: middle;\n",
       "    }\n",
       "\n",
       "    .dataframe tbody tr th {\n",
       "        vertical-align: top;\n",
       "    }\n",
       "\n",
       "    .dataframe thead th {\n",
       "        text-align: right;\n",
       "    }\n",
       "</style>\n",
       "<table border=\"1\" class=\"dataframe\">\n",
       "  <thead>\n",
       "    <tr style=\"text-align: right;\">\n",
       "      <th>Group</th>\n",
       "      <th>1.0</th>\n",
       "      <th>2.0</th>\n",
       "      <th>3.0</th>\n",
       "      <th>4.0</th>\n",
       "      <th>5.0</th>\n",
       "      <th>6.0</th>\n",
       "      <th>7.0</th>\n",
       "      <th>12.0</th>\n",
       "      <th>13.0</th>\n",
       "      <th>14.0</th>\n",
       "      <th>15.0</th>\n",
       "      <th>16.0</th>\n",
       "      <th>17.0</th>\n",
       "      <th>18.0</th>\n",
       "    </tr>\n",
       "    <tr>\n",
       "      <th>Period</th>\n",
       "      <th></th>\n",
       "      <th></th>\n",
       "      <th></th>\n",
       "      <th></th>\n",
       "      <th></th>\n",
       "      <th></th>\n",
       "      <th></th>\n",
       "      <th></th>\n",
       "      <th></th>\n",
       "      <th></th>\n",
       "      <th></th>\n",
       "      <th></th>\n",
       "      <th></th>\n",
       "      <th></th>\n",
       "    </tr>\n",
       "  </thead>\n",
       "  <tbody>\n",
       "    <tr>\n",
       "      <th>1</th>\n",
       "      <td>H</td>\n",
       "      <td>-</td>\n",
       "      <td>-</td>\n",
       "      <td>-</td>\n",
       "      <td>-</td>\n",
       "      <td>-</td>\n",
       "      <td>-</td>\n",
       "      <td>-</td>\n",
       "      <td>-</td>\n",
       "      <td>-</td>\n",
       "      <td>-</td>\n",
       "      <td>-</td>\n",
       "      <td>-</td>\n",
       "      <td>He</td>\n",
       "    </tr>\n",
       "    <tr>\n",
       "      <th>2</th>\n",
       "      <td>Li</td>\n",
       "      <td>Be</td>\n",
       "      <td>-</td>\n",
       "      <td>-</td>\n",
       "      <td>-</td>\n",
       "      <td>-</td>\n",
       "      <td>-</td>\n",
       "      <td>-</td>\n",
       "      <td>B</td>\n",
       "      <td>C</td>\n",
       "      <td>N</td>\n",
       "      <td>O</td>\n",
       "      <td>F</td>\n",
       "      <td>Ne</td>\n",
       "    </tr>\n",
       "    <tr>\n",
       "      <th>3</th>\n",
       "      <td>Na</td>\n",
       "      <td>Mg</td>\n",
       "      <td>-</td>\n",
       "      <td>-</td>\n",
       "      <td>-</td>\n",
       "      <td>-</td>\n",
       "      <td>-</td>\n",
       "      <td>-</td>\n",
       "      <td>Al</td>\n",
       "      <td>Si</td>\n",
       "      <td>P</td>\n",
       "      <td>S</td>\n",
       "      <td>Cl</td>\n",
       "      <td>Ar</td>\n",
       "    </tr>\n",
       "    <tr>\n",
       "      <th>4</th>\n",
       "      <td>K</td>\n",
       "      <td>Ca</td>\n",
       "      <td>Sc</td>\n",
       "      <td>Ti</td>\n",
       "      <td>V</td>\n",
       "      <td>Cr</td>\n",
       "      <td>Mn</td>\n",
       "      <td>Zn</td>\n",
       "      <td>Ga</td>\n",
       "      <td>Ge</td>\n",
       "      <td>As</td>\n",
       "      <td>Se</td>\n",
       "      <td>Br</td>\n",
       "      <td>Kr</td>\n",
       "    </tr>\n",
       "    <tr>\n",
       "      <th>5</th>\n",
       "      <td>Rb</td>\n",
       "      <td>Sr</td>\n",
       "      <td>Y</td>\n",
       "      <td>Zr</td>\n",
       "      <td>Nb</td>\n",
       "      <td>Mo</td>\n",
       "      <td>Tc</td>\n",
       "      <td>Cd</td>\n",
       "      <td>In</td>\n",
       "      <td>Sn</td>\n",
       "      <td>Sb</td>\n",
       "      <td>Te</td>\n",
       "      <td>I</td>\n",
       "      <td>Xe</td>\n",
       "    </tr>\n",
       "    <tr>\n",
       "      <th>6</th>\n",
       "      <td>Cs</td>\n",
       "      <td>Ba</td>\n",
       "      <td>Lu</td>\n",
       "      <td>Hf</td>\n",
       "      <td>Ta</td>\n",
       "      <td>W</td>\n",
       "      <td>Re</td>\n",
       "      <td>Hg</td>\n",
       "      <td>Tl</td>\n",
       "      <td>Pb</td>\n",
       "      <td>Bi</td>\n",
       "      <td>Po</td>\n",
       "      <td>At</td>\n",
       "      <td>Rn</td>\n",
       "    </tr>\n",
       "    <tr>\n",
       "      <th>7</th>\n",
       "      <td>Fr</td>\n",
       "      <td>Ra</td>\n",
       "      <td>Lr</td>\n",
       "      <td>Rf</td>\n",
       "      <td>Db</td>\n",
       "      <td>Sg</td>\n",
       "      <td>Bh</td>\n",
       "      <td>Uub</td>\n",
       "      <td>Uut</td>\n",
       "      <td>Uuq</td>\n",
       "      <td>Uup</td>\n",
       "      <td>Uuh</td>\n",
       "      <td>Uus</td>\n",
       "      <td>Uuo</td>\n",
       "    </tr>\n",
       "  </tbody>\n",
       "</table>\n",
       "</div>"
      ],
      "text/plain": [
       "Group  1.0  2.0  3.0  4.0  5.0  6.0  7.0  12.0 13.0 14.0 15.0 16.0 17.0 18.0\n",
       "Period                                                                      \n",
       "1         H    -    -    -    -    -    -    -    -    -    -    -    -   He\n",
       "2        Li   Be    -    -    -    -    -    -    B    C    N    O    F   Ne\n",
       "3        Na   Mg    -    -    -    -    -    -   Al   Si    P    S   Cl   Ar\n",
       "4         K   Ca   Sc   Ti    V   Cr   Mn   Zn   Ga   Ge   As   Se   Br   Kr\n",
       "5        Rb   Sr    Y   Zr   Nb   Mo   Tc   Cd   In   Sn   Sb   Te    I   Xe\n",
       "6        Cs   Ba   Lu   Hf   Ta    W   Re   Hg   Tl   Pb   Bi   Po   At   Rn\n",
       "7        Fr   Ra   Lr   Rf   Db   Sg   Bh  Uub  Uut  Uuq  Uup  Uuh  Uus  Uuo"
      ]
     },
     "execution_count": 427,
     "metadata": {},
     "output_type": "execute_result"
    }
   ],
   "source": [
    "# A função de pivoteamento é extremamente importante!\n",
    "# Aqui no pdf faremos ela somente para alguns grupos!\n",
    "pivot_df.pivot_table(\n",
    "    values='Symbol',\n",
    "    columns='Group',\n",
    "    index='Period',\n",
    "    aggfunc='first'\n",
    ").fillna('-').iloc[:, list(range(0, 7)) + list(range(-7, 0))]"
   ]
  },
  {
   "cell_type": "markdown",
   "id": "df5fe533",
   "metadata": {},
   "source": [
    "# **Visualização de Dados**"
   ]
  },
  {
   "cell_type": "code",
   "execution_count": 428,
   "id": "151009df",
   "metadata": {},
   "outputs": [],
   "source": [
    "pivot_df['Melting_Point'] = round(pivot_df['Melting_Point'] - 273.15, 2)\n",
    "pivot_df['Boiling_Point'] = round(pivot_df['Boiling_Point'] - 273.15, 2)"
   ]
  },
  {
   "cell_type": "markdown",
   "id": "5a329f39",
   "metadata": {},
   "source": [
    "## Dispersão\n",
    "\n",
    "Gráficos de dispersão sáo ótimos para visualizações de padrões, séries temporais, correlações e regressões!"
   ]
  },
  {
   "cell_type": "code",
   "execution_count": 429,
   "id": "88b71972",
   "metadata": {},
   "outputs": [
    {
     "data": {
      "image/png": "[encoded data removed]"
     },
     "metadata": {},
     "output_type": "display_data"
    }
   ],
   "source": [
    "x='Density'\n",
    "y='Melting_Point'\n",
    "\n",
    "fig = go.Figure()\n",
    "\n",
    "fig.add_trace(go.Scatter(\n",
    "    x=pivot_df.Density, y=pivot_df.Melting_Point,\n",
    "    mode='markers', showlegend=False,\n",
    "    marker=dict(\n",
    "        color=pivot_df.Group, size=10,\n",
    "    )\n",
    "))\n",
    "\n",
    "plotlymodex.main_layout(\n",
    "    fig, x=x, y=y, title=x+' x '+y\n",
    ")"
   ]
  },
  {
   "cell_type": "code",
   "execution_count": 430,
   "id": "005c60bf",
   "metadata": {},
   "outputs": [
    {
     "data": {
      "image/png": "[encoded data removed]"
     },
     "metadata": {},
     "output_type": "display_data"
    }
   ],
   "source": [
    "fig = px.scatter(\n",
    "    pivot_df.sort_values(y), x=x, y=y, color='Group', size='Period',\n",
    "    color_continuous_scale='jet'\n",
    ")\n",
    "\n",
    "plotlymodex.main_layout(\n",
    "    fig, x=x, y=y, title=x+' x '+y\n",
    ")"
   ]
  },
  {
   "cell_type": "code",
   "execution_count": 431,
   "id": "3e49ca5f",
   "metadata": {},
   "outputs": [
    {
     "data": {
      "image/png": "[encoded data removed]",
      "text/plain": [
       "<Figure size 800x600 with 2 Axes>"
      ]
     },
     "metadata": {},
     "output_type": "display_data"
    }
   ],
   "source": [
    "plt.figure(figsize=(8, 6))\n",
    "\n",
    "# Criar o scatter plot\n",
    "scatter = plt.scatter(\n",
    "    pivot_df[x],\n",
    "    pivot_df[y],\n",
    "    c=pivot_df['Group'],  # cor por grupo\n",
    "    s=100,                # tamanho dos pontos\n",
    "    cmap='jet',           # colormap opcional\n",
    "    alpha=0.8\n",
    ")\n",
    "\n",
    "# Adicionar rótulos e título\n",
    "plt.xlabel('Density')\n",
    "plt.ylabel('Melting Point')\n",
    "plt.title('Relação entre Density e Melting Point')\n",
    "\n",
    "# Adicionar barra de cores (legenda para o \"Group\")\n",
    "plt.colorbar(scatter, label='Group')\n",
    "\n",
    "plt.show()"
   ]
  },
  {
   "cell_type": "markdown",
   "id": "ff47a4d3",
   "metadata": {},
   "source": [
    "\\newpage\n",
    "\n",
    "## Barras"
   ]
  },
  {
   "cell_type": "code",
   "execution_count": 432,
   "id": "6bd7af3e",
   "metadata": {},
   "outputs": [
    {
     "data": {
      "image/png": "[encoded data removed]"
     },
     "metadata": {},
     "output_type": "display_data"
    }
   ],
   "source": [
    "x = 'Group'\n",
    "y = 'Melting_Point'\n",
    "\n",
    "barra_df = pivot_df.groupby(x)[y].mean().sort_index()\n",
    "\n",
    "fig_barra = go.Figure()\n",
    "\n",
    "fig_barra.add_trace(go.Bar(\n",
    "    x=barra_df.index, y=barra_df,\n",
    "    showlegend=False,\n",
    "    marker=dict(color=barra_df.index)\n",
    "))\n",
    "\n",
    "plotlymodex.main_layout(\n",
    "    fig_barra, x=x, y=y, title=x+' x '+y,\n",
    ")"
   ]
  },
  {
   "cell_type": "code",
   "execution_count": 433,
   "id": "3f31fa75",
   "metadata": {},
   "outputs": [
    {
     "data": {
      "image/png": "[encoded data removed]"
     },
     "metadata": {},
     "output_type": "display_data"
    }
   ],
   "source": [
    "fig_barra.add_trace(go.Scatter(\n",
    "    x=[1, 18], y=[1500, 1500],\n",
    "    showlegend=False, mode='lines',\n",
    "    line=dict(color='black', dash='dot')\n",
    "))"
   ]
  },
  {
   "cell_type": "code",
   "execution_count": 434,
   "id": "80ed0815",
   "metadata": {},
   "outputs": [
    {
     "data": {
      "image/png": "[encoded data removed]"
     },
     "metadata": {},
     "output_type": "display_data"
    }
   ],
   "source": [
    "px.bar(barra_df, y=y, title=x+' x '+y)"
   ]
  },
  {
   "cell_type": "code",
   "execution_count": 435,
   "id": "e621c8b1",
   "metadata": {},
   "outputs": [
    {
     "data": {
      "image/png": "[encoded data removed]",
      "text/plain": [
       "<Figure size 800x500 with 1 Axes>"
      ]
     },
     "metadata": {},
     "output_type": "display_data"
    }
   ],
   "source": [
    "plt.figure(figsize=(8, 5))\n",
    "plt.bar(barra_df.index, barra_df.values, color=\"#7336bacc\")\n",
    "\n",
    "plt.xlabel(x)\n",
    "plt.ylabel(y)\n",
    "plt.title(\"Gráfico de Barras (Matplotlib)\")\n",
    "plt.show()"
   ]
  },
  {
   "cell_type": "markdown",
   "id": "851749f1",
   "metadata": {},
   "source": [
    "\\newpage\n",
    "\n",
    "## Boxplot"
   ]
  },
  {
   "cell_type": "code",
   "execution_count": 436,
   "id": "fdfbd38e",
   "metadata": {},
   "outputs": [
    {
     "data": {
      "image/png": "[encoded data removed]"
     },
     "metadata": {},
     "output_type": "display_data"
    }
   ],
   "source": [
    "categorias = pivot_df.sort_values('Group')['Group'].unique()\n",
    "y = 'Boiling_Point'\n",
    "\n",
    "fig = go.Figure()\n",
    "\n",
    "for cat in categorias:\n",
    "    fig.add_trace(go.Box(\n",
    "        y=pivot_df[pivot_df['Group'] == cat][y],\n",
    "        name=cat\n",
    "    ))\n",
    "\n",
    "plotlymodex.main_layout(\n",
    "    fig, x=x, y=y, title=x+' x '+y,\n",
    "    width=1000\n",
    ")"
   ]
  },
  {
   "cell_type": "code",
   "execution_count": 437,
   "id": "4a8f4a51",
   "metadata": {},
   "outputs": [
    {
     "data": {
      "image/png": "[encoded data removed]"
     },
     "metadata": {},
     "output_type": "display_data"
    }
   ],
   "source": [
    "fig = px.box(\n",
    "    pivot_df, x='Group', y='Boiling_Point',   # eixo Y: valores numéricos\n",
    "    title='Group x Boiling_Point', width=1000\n",
    ")\n",
    "\n",
    "fig.show()"
   ]
  },
  {
   "cell_type": "code",
   "execution_count": 438,
   "id": "5ece9e4a",
   "metadata": {},
   "outputs": [
    {
     "data": {
      "image/png": "[encoded data removed]",
      "text/plain": [
       "<Figure size 1200x600 with 1 Axes>"
      ]
     },
     "metadata": {},
     "output_type": "display_data"
    }
   ],
   "source": [
    "pivot_df.boxplot(column='Boiling_Point', by='Group', grid=False, figsize=(12, 6))\n",
    "plt.title('Group x Boiling_Point')\n",
    "plt.suptitle('')  # remove título automático do pandas\n",
    "plt.xlabel('Group')\n",
    "plt.ylabel('Boiling_Point')\n",
    "plt.show()"
   ]
  },
  {
   "cell_type": "code",
   "execution_count": 439,
   "id": "2c776d0b",
   "metadata": {},
   "outputs": [
    {
     "data": {
      "image/png": "[encoded data removed]",
      "text/plain": [
       "<Figure size 1200x600 with 1 Axes>"
      ]
     },
     "metadata": {},
     "output_type": "display_data"
    }
   ],
   "source": [
    "plt.figure(figsize=(12, 6))\n",
    "sns.boxplot(data=pivot_df, x='Group', y='Boiling_Point')\n",
    "plt.title('Group x Boiling_Point')\n",
    "plt.xlabel('Group')\n",
    "plt.ylabel('Boiling_Point')\n",
    "plt.show()\n"
   ]
  },
  {
   "cell_type": "markdown",
   "id": "87df17dc",
   "metadata": {},
   "source": [
    "\\newpage\n",
    "\n",
    "## Heatmap"
   ]
  },
  {
   "cell_type": "code",
   "execution_count": 454,
   "id": "a7b7a8bd",
   "metadata": {},
   "outputs": [
    {
     "data": {
      "image/png": "[encoded data removed]"
     },
     "metadata": {},
     "output_type": "display_data"
    }
   ],
   "source": [
    "y = 'Boiling_Point'\n",
    "\n",
    "heatmap_df = pivot_df.pivot_table(\n",
    "    values=y,\n",
    "    columns='Group',\n",
    "    index='Period',\n",
    "    aggfunc='first'\n",
    ")\n",
    "\n",
    "heatmap_df = heatmap_df.round(0).fillna('-')\n",
    "\n",
    "fig = go.Figure()\n",
    "\n",
    "fig.add_trace(go.Heatmap(\n",
    "    z=heatmap_df,\n",
    "    text=heatmap_df.values,\n",
    "    texttemplate=\"%{text}\",   # <-- faz o texto aparecer\n",
    "    textfont={\"size\": 12},    # opcional: tamanho da fonte\n",
    "    colorscale=\"Plasma\"      # opcional: paleta de cores\n",
    "))\n",
    "\n",
    "plotlymodex.main_layout(\n",
    "    fig, x=x, y=y, title=x+' x '+y,\n",
    "    width=1000\n",
    ")\n",
    "\n",
    "fig.update_yaxes(autorange='reversed')"
   ]
  },
  {
   "cell_type": "code",
   "execution_count": 456,
   "id": "3bae15c6",
   "metadata": {},
   "outputs": [
    {
     "data": {
      "image/png": "[encoded data removed]"
     },
     "metadata": {},
     "output_type": "display_data"
    }
   ],
   "source": [
    "fig = px.imshow(\n",
    "    heatmap_df,\n",
    "    text_auto=True,             # mostra os valores automaticamente\n",
    "    color_continuous_scale='Plasma',\n",
    "    aspect='auto'               # evita distorções\n",
    ")\n",
    "\n",
    "fig.update_yaxes(autorange='reversed')\n",
    "plotlymodex.main_layout(\n",
    "    fig, x=x, y=y, title=x+' x '+y,\n",
    "    width=1000\n",
    ")"
   ]
  }
 ],
 "metadata": {
  "kernelspec": {
   "display_name": "env",
   "language": "python",
   "name": "python3"
  },
  "language_info": {
   "codemirror_mode": {
    "name": "ipython",
    "version": 3
   },
   "file_extension": ".py",
   "mimetype": "text/x-python",
   "name": "python",
   "nbconvert_exporter": "python",
   "pygments_lexer": "ipython3",
   "version": "3.12.6"
  }
 },
 "nbformat": 4,
 "nbformat_minor": 5
}
