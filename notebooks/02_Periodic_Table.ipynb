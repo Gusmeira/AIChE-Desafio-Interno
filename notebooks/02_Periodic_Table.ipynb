{
 "cells": [
  {
   "cell_type": "markdown",
   "id": "04f85ccf",
   "metadata": {},
   "source": [
    "---\n",
    "title: \"Manipulação da Tabela Periódica\"\n",
    "author: \"Gustavo J. V. Meira Filho\"\n",
    "format:\n",
    "    pdf:\n",
    "        documentclass: scrreprt\n",
    "        pdf-engine: xelatex\n",
    "        toc: true\n",
    "        toc-depth: 3\n",
    "        include-in-header: \n",
    "            text: |\n",
    "                \\usepackage[a4paper,margin=2.5cm]{geometry}\n",
    "        execute:\n",
    "            echo: true     \n",
    "            warning: false   \n",
    "            message: false \n",
    "    html:\n",
    "        code-fold: true\n",
    "        code-summary: \"Show Code\"\n",
    "        toc: true\n",
    "        toc-depth: 3\n",
    "execute:\n",
    "    fig-format: png       \n",
    "jupyter: AIChE-Internal-Challenges\n",
    "---"
   ]
  },
  {
   "cell_type": "markdown",
   "id": "ddd671cb",
   "metadata": {},
   "source": [
    "\\newpage\n",
    "# **Objetivo**\n",
    "\n",
    "> Introduzir Python, manipulação de dados e visualização.\n",
    "\n",
    "* <span style=\"color: #3d9be7ff\"><strong>Conceitos de programação:</strong></span> \n",
    "  * Tipos básicos (`int`, `float`, `str`, `list`, `dict`)\n",
    "  * Loops\n",
    "  * Funções simples.\n",
    "* <span style=\"color: #3d9be7ff\"><strong>Bibliotecas:</strong></span>  \n",
    "  * `pandas` (dados tabulares) \n",
    "  * `numpy` (dados matriciais) \n",
    "\n",
    "* <span style=\"color: #3d9be7ff\"><strong>Aplicações:</strong></span> \n",
    "  * Importar uma base de dados da tabela periódica (existe em CSV no Kaggle).\n",
    "  * Explorar propriedades como massa atômica, eletronegatividade, número atômico."
   ]
  },
  {
   "cell_type": "markdown",
   "id": "387860b4",
   "metadata": {},
   "source": [
    "\\newpage\n",
    "# Bibliotecas e Importações"
   ]
  },
  {
   "cell_type": "code",
   "execution_count": 1,
   "id": "389f02de",
   "metadata": {},
   "outputs": [],
   "source": [
    "# Nativas Python\n",
    "import sys\n",
    "import os\n",
    "\n",
    "# Dados Tabulares\n",
    "import pandas as pd\n",
    "import numpy as np\n",
    "\n",
    "# Visualização\n",
    "import plotly.graph_objects as go\n",
    "import plotly.express as px\n",
    "import plotly.figure_factory as ff\n",
    "import plotly.io as pio\n",
    "from graphmodex import plotlymodex\n",
    "\n",
    "import matplotlib.pyplot as plt\n",
    "import seaborn as sns"
   ]
  },
  {
   "cell_type": "markdown",
   "id": "b5ca25b9",
   "metadata": {},
   "source": [
    "\\newpage\n",
    "\n",
    "# **Pandas**\n",
    "\n",
    "## Extração\n",
    "\n",
    "Precisamos extrair a base de dados para conseguir trabalhar em cima dela! Para conseguirmos visualizar e manipular os dados, armazenamos ela como um objeto `pandas` que já possui tratamentos internos para vatorização e é a biblioteca coringa para todas as libs de visualização.\n",
    "\n",
    "* [Começando na Biblioteca](https://pandas.pydata.org/docs/getting_started/intro_tutorials/index.html)\n",
    "* [Guia do Usuário](https://pandas.pydata.org/docs/user_guide/index.html)\n",
    "* [Documentação](https://pandas.pydata.org/docs/reference/index.html)\n",
    "\n",
    "Note que a tabela periódica é um `.csv` na pasta `data`. Vamos armazenar esses dados em uma DataFrame chamada `df`"
   ]
  },
  {
   "cell_type": "code",
   "execution_count": 2,
   "id": "b9efc2b4",
   "metadata": {},
   "outputs": [
    {
     "data": {
      "application/vnd.microsoft.datawrangler.viewer.v0+json": {
       "columns": [
        {
         "name": "index",
         "rawType": "int64",
         "type": "integer"
        },
        {
         "name": "Name",
         "rawType": "object",
         "type": "string"
        },
        {
         "name": "Symbol",
         "rawType": "object",
         "type": "string"
        },
        {
         "name": "Atomic_Number",
         "rawType": "float64",
         "type": "float"
        },
        {
         "name": "Atomic_Weight",
         "rawType": "float64",
         "type": "float"
        }
       ],
       "ref": "753e3cf7-151e-4d9a-b26f-68b2194cb86a",
       "rows": [
        [
         "0",
         "Hydrogen",
         "H",
         "1.0",
         "1.00794"
        ],
        [
         "1",
         "Helium",
         "He",
         "2.0",
         "4.002602"
        ],
        [
         "2",
         "Lithium",
         "Li",
         "3.0",
         "6.941"
        ],
        [
         "3",
         "Beryllium",
         "Be",
         "4.0",
         "9.012182"
        ],
        [
         "4",
         "Boron",
         "B",
         "5.0",
         "10.811"
        ],
        [
         "5",
         "Carbon",
         "C",
         "6.0",
         "12.0107"
        ],
        [
         "6",
         "Nitrogen",
         "N",
         "7.0",
         "14.0067"
        ],
        [
         "7",
         "Oxygen",
         "O",
         "8.0",
         "15.9994"
        ],
        [
         "8",
         "Fluorine",
         "F",
         "9.0",
         "18.9984032"
        ],
        [
         "9",
         "Neon",
         "Ne",
         "10.0",
         "20.1797"
        ]
       ],
       "shape": {
        "columns": 4,
        "rows": 10
       }
      },
      "text/html": [
       "<div>\n",
       "<style scoped>\n",
       "    .dataframe tbody tr th:only-of-type {\n",
       "        vertical-align: middle;\n",
       "    }\n",
       "\n",
       "    .dataframe tbody tr th {\n",
       "        vertical-align: top;\n",
       "    }\n",
       "\n",
       "    .dataframe thead th {\n",
       "        text-align: right;\n",
       "    }\n",
       "</style>\n",
       "<table border=\"1\" class=\"dataframe\">\n",
       "  <thead>\n",
       "    <tr style=\"text-align: right;\">\n",
       "      <th></th>\n",
       "      <th>Name</th>\n",
       "      <th>Symbol</th>\n",
       "      <th>Atomic_Number</th>\n",
       "      <th>Atomic_Weight</th>\n",
       "    </tr>\n",
       "  </thead>\n",
       "  <tbody>\n",
       "    <tr>\n",
       "      <th>0</th>\n",
       "      <td>Hydrogen</td>\n",
       "      <td>H</td>\n",
       "      <td>1.0</td>\n",
       "      <td>1.007940</td>\n",
       "    </tr>\n",
       "    <tr>\n",
       "      <th>1</th>\n",
       "      <td>Helium</td>\n",
       "      <td>He</td>\n",
       "      <td>2.0</td>\n",
       "      <td>4.002602</td>\n",
       "    </tr>\n",
       "    <tr>\n",
       "      <th>2</th>\n",
       "      <td>Lithium</td>\n",
       "      <td>Li</td>\n",
       "      <td>3.0</td>\n",
       "      <td>6.941000</td>\n",
       "    </tr>\n",
       "    <tr>\n",
       "      <th>3</th>\n",
       "      <td>Beryllium</td>\n",
       "      <td>Be</td>\n",
       "      <td>4.0</td>\n",
       "      <td>9.012182</td>\n",
       "    </tr>\n",
       "    <tr>\n",
       "      <th>4</th>\n",
       "      <td>Boron</td>\n",
       "      <td>B</td>\n",
       "      <td>5.0</td>\n",
       "      <td>10.811000</td>\n",
       "    </tr>\n",
       "    <tr>\n",
       "      <th>5</th>\n",
       "      <td>Carbon</td>\n",
       "      <td>C</td>\n",
       "      <td>6.0</td>\n",
       "      <td>12.010700</td>\n",
       "    </tr>\n",
       "    <tr>\n",
       "      <th>6</th>\n",
       "      <td>Nitrogen</td>\n",
       "      <td>N</td>\n",
       "      <td>7.0</td>\n",
       "      <td>14.006700</td>\n",
       "    </tr>\n",
       "    <tr>\n",
       "      <th>7</th>\n",
       "      <td>Oxygen</td>\n",
       "      <td>O</td>\n",
       "      <td>8.0</td>\n",
       "      <td>15.999400</td>\n",
       "    </tr>\n",
       "    <tr>\n",
       "      <th>8</th>\n",
       "      <td>Fluorine</td>\n",
       "      <td>F</td>\n",
       "      <td>9.0</td>\n",
       "      <td>18.998403</td>\n",
       "    </tr>\n",
       "    <tr>\n",
       "      <th>9</th>\n",
       "      <td>Neon</td>\n",
       "      <td>Ne</td>\n",
       "      <td>10.0</td>\n",
       "      <td>20.179700</td>\n",
       "    </tr>\n",
       "  </tbody>\n",
       "</table>\n",
       "</div>"
      ],
      "text/plain": [
       "        Name Symbol  Atomic_Number  Atomic_Weight\n",
       "0   Hydrogen      H            1.0       1.007940\n",
       "1     Helium     He            2.0       4.002602\n",
       "2    Lithium     Li            3.0       6.941000\n",
       "3  Beryllium     Be            4.0       9.012182\n",
       "4      Boron      B            5.0      10.811000\n",
       "5     Carbon      C            6.0      12.010700\n",
       "6   Nitrogen      N            7.0      14.006700\n",
       "7     Oxygen      O            8.0      15.999400\n",
       "8   Fluorine      F            9.0      18.998403\n",
       "9       Neon     Ne           10.0      20.179700"
      ]
     },
     "execution_count": 2,
     "metadata": {},
     "output_type": "execute_result"
    }
   ],
   "source": [
    "df = pd.read_csv(r'..\\data\\tabela_periodica.csv')\n",
    "\n",
    "# Mostrar as 10 primeiras linhas das 4 primeiras colunas\n",
    "df[['Name', 'Symbol', 'Atomic_Number', 'Atomic_Weight']].head(10)"
   ]
  },
  {
   "cell_type": "code",
   "execution_count": 3,
   "id": "c7d0a895",
   "metadata": {},
   "outputs": [],
   "source": [
    "# Vamos usar isso no futuro!\n",
    "pivot_df = df[[\n",
    "    'Name', 'Symbol', 'Atomic_Number', 'Atomic_Weight', \n",
    "    'Density', 'Melting_Point', 'Group', 'Period', 'Boiling_Point'\n",
    "]].copy(deep=True)"
   ]
  },
  {
   "cell_type": "code",
   "execution_count": 4,
   "id": "eb1841f9",
   "metadata": {},
   "outputs": [
    {
     "name": "stdout",
     "output_type": "stream",
     "text": [
      "<class 'pandas.core.frame.DataFrame'>\n",
      "RangeIndex: 119 entries, 0 to 118\n",
      "Data columns (total 9 columns):\n",
      " #   Column         Non-Null Count  Dtype  \n",
      "---  ------         --------------  -----  \n",
      " 0   Name           119 non-null    object \n",
      " 1   Symbol         119 non-null    object \n",
      " 2   Atomic_Number  119 non-null    float64\n",
      " 3   Atomic_Weight  118 non-null    float64\n",
      " 4   Density        96 non-null     float64\n",
      " 5   Melting_Point  101 non-null    float64\n",
      " 6   Group          90 non-null     float64\n",
      " 7   Period         119 non-null    float64\n",
      " 8   Boiling_Point  95 non-null     float64\n",
      "dtypes: float64(7), object(2)\n",
      "memory usage: 8.5+ KB\n"
     ]
    }
   ],
   "source": [
    "# Informações sobre quantidade de inforação e tipo\n",
    "pivot_df.info()"
   ]
  },
  {
   "cell_type": "markdown",
   "id": "686c7c05",
   "metadata": {},
   "source": [
    "```\n",
    "# Adicionei uma nova linha vazia ao final\n",
    "df.loc[len(df)] = np.nan\n",
    "\n",
    "# Copiei os dados da linha 90 (índice 90) para a última linha\n",
    "df.iloc[-1, :] = df.iloc[90, :]\n",
    "\n",
    "# Agora estou modificando os campos desejados \n",
    "# da nova linha (índice len(df)-1)\n",
    "new_idx = df.index[-1]\n",
    "df.loc[new_idx, 'Name'] = 'Mentira'\n",
    "df.loc[new_idx, 'Symbol'] = 'H'\n",
    "df.loc[new_idx, 'Atomic_Number'] = 90\n",
    "df.loc[new_idx, 'Atomic_Weight'] = 1\n",
    "df.loc[new_idx, 'Density'] = 90\n",
    "df.loc[new_idx, 'Melting_Point'] = np.nan\n",
    "\n",
    "# Ordenando pelo número atômico...\n",
    "df = df.sort_values(by='Atomic_Number', ascending=True)\n",
    "```"
   ]
  },
  {
   "cell_type": "code",
   "execution_count": 5,
   "id": "b872b7ac",
   "metadata": {},
   "outputs": [
    {
     "data": {
      "application/vnd.microsoft.datawrangler.viewer.v0+json": {
       "columns": [
        {
         "name": "index",
         "rawType": "object",
         "type": "string"
        },
        {
         "name": "Atomic_Weight",
         "rawType": "float64",
         "type": "float"
        },
        {
         "name": "Density",
         "rawType": "float64",
         "type": "float"
        },
        {
         "name": "Melting_Point",
         "rawType": "float64",
         "type": "float"
        },
        {
         "name": "Critical_Temperature",
         "rawType": "float64",
         "type": "float"
        }
       ],
       "ref": "2e0b7349-c8fe-4b9b-a56d-70cd7bdbd349",
       "rows": [
        [
         "count",
         "118.0",
         "96.0",
         "101.0",
         "21.0"
        ],
        [
         "mean",
         "143.65769445084743",
         "7566.863775000001",
         "1296.5744554455443",
         "963.7352380952381"
        ],
        [
         "std",
         "89.10684335573109",
         "5976.321436793318",
         "883.2254539045796",
         "1000.9081022232714"
        ],
        [
         "min",
         "1.0",
         "0.0899",
         "14.01",
         "5.19"
        ],
        [
         "25%",
         "64.01175",
         "2427.5",
         "544.45",
         "150.87"
        ],
        [
         "50%",
         "140.511825",
         "7075.0",
         "1204.15",
         "416.9"
        ],
        [
         "75%",
         "225.25",
         "10332.5",
         "1811.15",
         "1766.0"
        ],
        [
         "max",
         "294.0",
         "22650.0",
         "3823.15",
         "3223.0"
        ]
       ],
       "shape": {
        "columns": 4,
        "rows": 8
       }
      },
      "text/html": [
       "<div>\n",
       "<style scoped>\n",
       "    .dataframe tbody tr th:only-of-type {\n",
       "        vertical-align: middle;\n",
       "    }\n",
       "\n",
       "    .dataframe tbody tr th {\n",
       "        vertical-align: top;\n",
       "    }\n",
       "\n",
       "    .dataframe thead th {\n",
       "        text-align: right;\n",
       "    }\n",
       "</style>\n",
       "<table border=\"1\" class=\"dataframe\">\n",
       "  <thead>\n",
       "    <tr style=\"text-align: right;\">\n",
       "      <th></th>\n",
       "      <th>Atomic_Weight</th>\n",
       "      <th>Density</th>\n",
       "      <th>Melting_Point</th>\n",
       "      <th>Critical_Temperature</th>\n",
       "    </tr>\n",
       "  </thead>\n",
       "  <tbody>\n",
       "    <tr>\n",
       "      <th>count</th>\n",
       "      <td>118.000000</td>\n",
       "      <td>96.000000</td>\n",
       "      <td>101.000000</td>\n",
       "      <td>21.000000</td>\n",
       "    </tr>\n",
       "    <tr>\n",
       "      <th>mean</th>\n",
       "      <td>143.657694</td>\n",
       "      <td>7566.863775</td>\n",
       "      <td>1296.574455</td>\n",
       "      <td>963.735238</td>\n",
       "    </tr>\n",
       "    <tr>\n",
       "      <th>std</th>\n",
       "      <td>89.106843</td>\n",
       "      <td>5976.321437</td>\n",
       "      <td>883.225454</td>\n",
       "      <td>1000.908102</td>\n",
       "    </tr>\n",
       "    <tr>\n",
       "      <th>min</th>\n",
       "      <td>1.000000</td>\n",
       "      <td>0.089900</td>\n",
       "      <td>14.010000</td>\n",
       "      <td>5.190000</td>\n",
       "    </tr>\n",
       "    <tr>\n",
       "      <th>25%</th>\n",
       "      <td>64.011750</td>\n",
       "      <td>2427.500000</td>\n",
       "      <td>544.450000</td>\n",
       "      <td>150.870000</td>\n",
       "    </tr>\n",
       "    <tr>\n",
       "      <th>50%</th>\n",
       "      <td>140.511825</td>\n",
       "      <td>7075.000000</td>\n",
       "      <td>1204.150000</td>\n",
       "      <td>416.900000</td>\n",
       "    </tr>\n",
       "    <tr>\n",
       "      <th>75%</th>\n",
       "      <td>225.250000</td>\n",
       "      <td>10332.500000</td>\n",
       "      <td>1811.150000</td>\n",
       "      <td>1766.000000</td>\n",
       "    </tr>\n",
       "    <tr>\n",
       "      <th>max</th>\n",
       "      <td>294.000000</td>\n",
       "      <td>22650.000000</td>\n",
       "      <td>3823.150000</td>\n",
       "      <td>3223.000000</td>\n",
       "    </tr>\n",
       "  </tbody>\n",
       "</table>\n",
       "</div>"
      ],
      "text/plain": [
       "       Atomic_Weight       Density  Melting_Point  Critical_Temperature\n",
       "count     118.000000     96.000000     101.000000             21.000000\n",
       "mean      143.657694   7566.863775    1296.574455            963.735238\n",
       "std        89.106843   5976.321437     883.225454           1000.908102\n",
       "min         1.000000      0.089900      14.010000              5.190000\n",
       "25%        64.011750   2427.500000     544.450000            150.870000\n",
       "50%       140.511825   7075.000000    1204.150000            416.900000\n",
       "75%       225.250000  10332.500000    1811.150000           1766.000000\n",
       "max       294.000000  22650.000000    3823.150000           3223.000000"
      ]
     },
     "execution_count": 5,
     "metadata": {},
     "output_type": "execute_result"
    }
   ],
   "source": [
    "# Principais estatísticas das colunas da tabela\n",
    "df[['Atomic_Weight', 'Density', 'Melting_Point', 'Critical_Temperature']].describe()"
   ]
  },
  {
   "cell_type": "code",
   "execution_count": 6,
   "id": "325ab25e",
   "metadata": {},
   "outputs": [
    {
     "name": "stdout",
     "output_type": "stream",
     "text": [
      "(119, 82)\n",
      "Index(['Name', 'Symbol', 'Atomic_Number', 'Atomic_Weight', 'Density',\n",
      "       'Melting_Point', 'Boiling_Point', 'Phase', 'Absolute_Melting_Point',\n",
      "       'Absolute_Boiling_Point', 'Critical_Pressure', 'Critical_Temperature',\n",
      "       'Heat_of_Fusion', 'Heat_of_Vaporization', 'Heat_of_Combustion',\n",
      "       'Specific_Heat', 'Adiabatic_Index', 'Neel_Point',\n",
      "       'Thermal_Conductivity', 'Thermal_Expansion', 'Density_Liquid',\n",
      "       'Molar_Volume', 'Brinell_Hardness', 'Mohs_Hardness', 'Vickers_Hardness',\n",
      "       'Bulk_Modulus', 'Shear_Modulus', 'Young_Modulus', 'Poisson_Ratio',\n",
      "       'Refractive_Index', 'Speed_of_Sound', 'Valence', 'Electronegativity',\n",
      "       'ElectronAffinity', 'Autoignition_Point', 'Flashpoint',\n",
      "       'DOT_Hazard_Class', 'DOT_Numbers', 'EU_Number', 'NFPA_Fire_Rating',\n",
      "       'NFPA_Health_Rating', 'NFPA_Reactivity_Rating', 'RTECS_Number',\n",
      "       'Alternate_Names', 'Block', 'Group', 'Period', 'Electron_Configuration',\n",
      "       'Color', 'Gas_phase', 'CAS_Number', 'CID_Number', 'Gmelin_Number',\n",
      "       'NSC_Number', 'Electrical_Type', 'Electrical_Conductivity',\n",
      "       'Resistivity', 'Superconducting_Point', 'Magnetic_Type', 'Curie_Point',\n",
      "       'Mass_Magnetic_Susceptibility', 'Molar_Magnetic_Susceptibility',\n",
      "       'Volume_Magnetic_Susceptibility', 'Percent_in_Universe',\n",
      "       'Percent_in_Sun', 'Percent_in_Meteorites', 'Percent_in_Earths_Crust',\n",
      "       'Percent_in_Oceans', 'Percent_in_Humans', 'Atomic_Radius',\n",
      "       'Covalent_Radius', 'Van_der_Waals_Radius', 'Space_Group_Name',\n",
      "       'Space_Group_Number', 'HalfLife', 'Lifetime', 'Decay_Mode',\n",
      "       'Quantum_Numbers', 'Neutron_Cross_Section', 'Neutron_Mass_Absorption',\n",
      "       'Graph.Period', 'Graph.Group'],\n",
      "      dtype='object') \n",
      "\n",
      "(119, 6)\n",
      "Index(['Name', 'Symbol', 'Atomic_Number', 'Atomic_Weight', 'Density',\n",
      "       'Melting_Point'],\n",
      "      dtype='object')\n"
     ]
    }
   ],
   "source": [
    "# Colunas iniciais\n",
    "print(df.shape)\n",
    "print(df.columns, '\\n')\n",
    "\n",
    "# Aqui, estamos sobrescrevendo nossa tabela\n",
    "# A partir dessa linha, só essas colunas estarão presentes!\n",
    "df = df[[\n",
    "    'Name', 'Symbol', 'Atomic_Number', 'Atomic_Weight', \n",
    "    'Density', 'Melting_Point',\n",
    "]]\n",
    "\n",
    "# Colunas finais\n",
    "print(df.shape)\n",
    "print(df.columns)"
   ]
  },
  {
   "cell_type": "markdown",
   "id": "3a068495",
   "metadata": {},
   "source": [
    "\\newpage\n",
    "\n",
    "## Manipulação de Dados\n",
    "\n",
    "Um interesse forte é saber como localizar linhas e colunas específicas, realizar filtros booleanos, lidar com valores ausentes e assim por diante! Aqui, trabalharemos tudo isso."
   ]
  },
  {
   "cell_type": "markdown",
   "id": "73f5ca03",
   "metadata": {},
   "source": [
    "### Filtros\n",
    "\n",
    "**Filtrar** valores é algo muito simples mas pode parecer estranho no começo. Existe um método próprio para essas operações no pandas chamado `.query`, mas também podemos fazer isso através de indexação."
   ]
  },
  {
   "cell_type": "code",
   "execution_count": 7,
   "id": "427bef38",
   "metadata": {},
   "outputs": [
    {
     "data": {
      "application/vnd.microsoft.datawrangler.viewer.v0+json": {
       "columns": [
        {
         "name": "index",
         "rawType": "int64",
         "type": "integer"
        },
        {
         "name": "Name",
         "rawType": "object",
         "type": "string"
        },
        {
         "name": "Symbol",
         "rawType": "object",
         "type": "string"
        },
        {
         "name": "Atomic_Number",
         "rawType": "float64",
         "type": "float"
        },
        {
         "name": "Atomic_Weight",
         "rawType": "float64",
         "type": "float"
        },
        {
         "name": "Density",
         "rawType": "float64",
         "type": "float"
        },
        {
         "name": "Melting_Point",
         "rawType": "float64",
         "type": "float"
        }
       ],
       "ref": "218e69ca-e19f-4cf5-b80e-6141056489f6",
       "rows": [
        [
         "0",
         "Hydrogen",
         "H",
         "1.0",
         "1.00794",
         "0.0899",
         "14.01"
        ],
        [
         "9",
         "Neon",
         "Ne",
         "10.0",
         "20.1797",
         "0.9",
         "24.56"
        ]
       ],
       "shape": {
        "columns": 6,
        "rows": 2
       }
      },
      "text/html": [
       "<div>\n",
       "<style scoped>\n",
       "    .dataframe tbody tr th:only-of-type {\n",
       "        vertical-align: middle;\n",
       "    }\n",
       "\n",
       "    .dataframe tbody tr th {\n",
       "        vertical-align: top;\n",
       "    }\n",
       "\n",
       "    .dataframe thead th {\n",
       "        text-align: right;\n",
       "    }\n",
       "</style>\n",
       "<table border=\"1\" class=\"dataframe\">\n",
       "  <thead>\n",
       "    <tr style=\"text-align: right;\">\n",
       "      <th></th>\n",
       "      <th>Name</th>\n",
       "      <th>Symbol</th>\n",
       "      <th>Atomic_Number</th>\n",
       "      <th>Atomic_Weight</th>\n",
       "      <th>Density</th>\n",
       "      <th>Melting_Point</th>\n",
       "    </tr>\n",
       "  </thead>\n",
       "  <tbody>\n",
       "    <tr>\n",
       "      <th>0</th>\n",
       "      <td>Hydrogen</td>\n",
       "      <td>H</td>\n",
       "      <td>1.0</td>\n",
       "      <td>1.00794</td>\n",
       "      <td>0.0899</td>\n",
       "      <td>14.01</td>\n",
       "    </tr>\n",
       "    <tr>\n",
       "      <th>9</th>\n",
       "      <td>Neon</td>\n",
       "      <td>Ne</td>\n",
       "      <td>10.0</td>\n",
       "      <td>20.17970</td>\n",
       "      <td>0.9000</td>\n",
       "      <td>24.56</td>\n",
       "    </tr>\n",
       "  </tbody>\n",
       "</table>\n",
       "</div>"
      ],
      "text/plain": [
       "       Name Symbol  Atomic_Number  Atomic_Weight  Density  Melting_Point\n",
       "0  Hydrogen      H            1.0        1.00794   0.0899          14.01\n",
       "9      Neon     Ne           10.0       20.17970   0.9000          24.56"
      ]
     },
     "execution_count": 7,
     "metadata": {},
     "output_type": "execute_result"
    }
   ],
   "source": [
    "df.query(\"Melting_Point <= 25\")"
   ]
  },
  {
   "cell_type": "markdown",
   "id": "497c5b03",
   "metadata": {},
   "source": [
    "Hummm... aparentemente a temperatura está em Kelvin e não em °C. Podemos usar um conversor de unidades como o que fizemos aula passada na função `.apply(lambda x: convert_temp(x)` para irmos de K -> °C. Mas aqui, para ser mais prático, faremos de uma forma mais simples!"
   ]
  },
  {
   "cell_type": "code",
   "execution_count": 8,
   "id": "31c29a56",
   "metadata": {},
   "outputs": [
    {
     "data": {
      "application/vnd.microsoft.datawrangler.viewer.v0+json": {
       "columns": [
        {
         "name": "index",
         "rawType": "int64",
         "type": "integer"
        },
        {
         "name": "Name",
         "rawType": "object",
         "type": "string"
        },
        {
         "name": "Symbol",
         "rawType": "object",
         "type": "string"
        },
        {
         "name": "Atomic_Number",
         "rawType": "float64",
         "type": "float"
        },
        {
         "name": "Atomic_Weight",
         "rawType": "float64",
         "type": "float"
        },
        {
         "name": "Density",
         "rawType": "float64",
         "type": "float"
        },
        {
         "name": "Melting_Point",
         "rawType": "float64",
         "type": "float"
        }
       ],
       "ref": "6c78e7e6-e3fe-4eaf-a438-6d62df25a0fb",
       "rows": [
        [
         "0",
         "Hydrogen",
         "H",
         "1.0",
         "1.00794",
         "0.0899",
         "-259.14"
        ],
        [
         "6",
         "Nitrogen",
         "N",
         "7.0",
         "14.0067",
         "1.251",
         "-210.1"
        ],
        [
         "7",
         "Oxygen",
         "O",
         "8.0",
         "15.9994",
         "1.429",
         "-218.3"
        ],
        [
         "8",
         "Fluorine",
         "F",
         "9.0",
         "18.9984032",
         "1.696",
         "-219.6"
        ],
        [
         "9",
         "Neon",
         "Ne",
         "10.0",
         "20.1797",
         "0.9",
         "-248.59"
        ],
        [
         "16",
         "Chlorine",
         "Cl",
         "17.0",
         "35.453",
         "3.214",
         "-101.5"
        ],
        [
         "17",
         "Argon",
         "Ar",
         "18.0",
         "39.948",
         "1.784",
         "-189.3"
        ],
        [
         "34",
         "Bromine",
         "Br",
         "35.0",
         "79.904",
         "3120.0",
         "-7.3"
        ],
        [
         "35",
         "Krypton",
         "Kr",
         "36.0",
         "83.798",
         "3.75",
         "-157.36"
        ],
        [
         "53",
         "Xenon",
         "Xe",
         "54.0",
         "131.293",
         "5.9",
         "-111.8"
        ],
        [
         "79",
         "Mercury",
         "Hg",
         "80.0",
         "200.59",
         "13534.0",
         "-38.83"
        ],
        [
         "85",
         "Radon",
         "Rn",
         "86.0",
         "222.0",
         "9.73",
         "-71.0"
        ]
       ],
       "shape": {
        "columns": 6,
        "rows": 12
       }
      },
      "text/html": [
       "<div>\n",
       "<style scoped>\n",
       "    .dataframe tbody tr th:only-of-type {\n",
       "        vertical-align: middle;\n",
       "    }\n",
       "\n",
       "    .dataframe tbody tr th {\n",
       "        vertical-align: top;\n",
       "    }\n",
       "\n",
       "    .dataframe thead th {\n",
       "        text-align: right;\n",
       "    }\n",
       "</style>\n",
       "<table border=\"1\" class=\"dataframe\">\n",
       "  <thead>\n",
       "    <tr style=\"text-align: right;\">\n",
       "      <th></th>\n",
       "      <th>Name</th>\n",
       "      <th>Symbol</th>\n",
       "      <th>Atomic_Number</th>\n",
       "      <th>Atomic_Weight</th>\n",
       "      <th>Density</th>\n",
       "      <th>Melting_Point</th>\n",
       "    </tr>\n",
       "  </thead>\n",
       "  <tbody>\n",
       "    <tr>\n",
       "      <th>0</th>\n",
       "      <td>Hydrogen</td>\n",
       "      <td>H</td>\n",
       "      <td>1.0</td>\n",
       "      <td>1.007940</td>\n",
       "      <td>0.0899</td>\n",
       "      <td>-259.14</td>\n",
       "    </tr>\n",
       "    <tr>\n",
       "      <th>6</th>\n",
       "      <td>Nitrogen</td>\n",
       "      <td>N</td>\n",
       "      <td>7.0</td>\n",
       "      <td>14.006700</td>\n",
       "      <td>1.2510</td>\n",
       "      <td>-210.10</td>\n",
       "    </tr>\n",
       "    <tr>\n",
       "      <th>7</th>\n",
       "      <td>Oxygen</td>\n",
       "      <td>O</td>\n",
       "      <td>8.0</td>\n",
       "      <td>15.999400</td>\n",
       "      <td>1.4290</td>\n",
       "      <td>-218.30</td>\n",
       "    </tr>\n",
       "    <tr>\n",
       "      <th>8</th>\n",
       "      <td>Fluorine</td>\n",
       "      <td>F</td>\n",
       "      <td>9.0</td>\n",
       "      <td>18.998403</td>\n",
       "      <td>1.6960</td>\n",
       "      <td>-219.60</td>\n",
       "    </tr>\n",
       "    <tr>\n",
       "      <th>9</th>\n",
       "      <td>Neon</td>\n",
       "      <td>Ne</td>\n",
       "      <td>10.0</td>\n",
       "      <td>20.179700</td>\n",
       "      <td>0.9000</td>\n",
       "      <td>-248.59</td>\n",
       "    </tr>\n",
       "    <tr>\n",
       "      <th>16</th>\n",
       "      <td>Chlorine</td>\n",
       "      <td>Cl</td>\n",
       "      <td>17.0</td>\n",
       "      <td>35.453000</td>\n",
       "      <td>3.2140</td>\n",
       "      <td>-101.50</td>\n",
       "    </tr>\n",
       "    <tr>\n",
       "      <th>17</th>\n",
       "      <td>Argon</td>\n",
       "      <td>Ar</td>\n",
       "      <td>18.0</td>\n",
       "      <td>39.948000</td>\n",
       "      <td>1.7840</td>\n",
       "      <td>-189.30</td>\n",
       "    </tr>\n",
       "    <tr>\n",
       "      <th>34</th>\n",
       "      <td>Bromine</td>\n",
       "      <td>Br</td>\n",
       "      <td>35.0</td>\n",
       "      <td>79.904000</td>\n",
       "      <td>3120.0000</td>\n",
       "      <td>-7.30</td>\n",
       "    </tr>\n",
       "    <tr>\n",
       "      <th>35</th>\n",
       "      <td>Krypton</td>\n",
       "      <td>Kr</td>\n",
       "      <td>36.0</td>\n",
       "      <td>83.798000</td>\n",
       "      <td>3.7500</td>\n",
       "      <td>-157.36</td>\n",
       "    </tr>\n",
       "    <tr>\n",
       "      <th>53</th>\n",
       "      <td>Xenon</td>\n",
       "      <td>Xe</td>\n",
       "      <td>54.0</td>\n",
       "      <td>131.293000</td>\n",
       "      <td>5.9000</td>\n",
       "      <td>-111.80</td>\n",
       "    </tr>\n",
       "    <tr>\n",
       "      <th>79</th>\n",
       "      <td>Mercury</td>\n",
       "      <td>Hg</td>\n",
       "      <td>80.0</td>\n",
       "      <td>200.590000</td>\n",
       "      <td>13534.0000</td>\n",
       "      <td>-38.83</td>\n",
       "    </tr>\n",
       "    <tr>\n",
       "      <th>85</th>\n",
       "      <td>Radon</td>\n",
       "      <td>Rn</td>\n",
       "      <td>86.0</td>\n",
       "      <td>222.000000</td>\n",
       "      <td>9.7300</td>\n",
       "      <td>-71.00</td>\n",
       "    </tr>\n",
       "  </tbody>\n",
       "</table>\n",
       "</div>"
      ],
      "text/plain": [
       "        Name Symbol  Atomic_Number  Atomic_Weight     Density  Melting_Point\n",
       "0   Hydrogen      H            1.0       1.007940      0.0899        -259.14\n",
       "6   Nitrogen      N            7.0      14.006700      1.2510        -210.10\n",
       "7     Oxygen      O            8.0      15.999400      1.4290        -218.30\n",
       "8   Fluorine      F            9.0      18.998403      1.6960        -219.60\n",
       "9       Neon     Ne           10.0      20.179700      0.9000        -248.59\n",
       "16  Chlorine     Cl           17.0      35.453000      3.2140        -101.50\n",
       "17     Argon     Ar           18.0      39.948000      1.7840        -189.30\n",
       "34   Bromine     Br           35.0      79.904000   3120.0000          -7.30\n",
       "35   Krypton     Kr           36.0      83.798000      3.7500        -157.36\n",
       "53     Xenon     Xe           54.0     131.293000      5.9000        -111.80\n",
       "79   Mercury     Hg           80.0     200.590000  13534.0000         -38.83\n",
       "85     Radon     Rn           86.0     222.000000      9.7300         -71.00"
      ]
     },
     "execution_count": 8,
     "metadata": {},
     "output_type": "execute_result"
    }
   ],
   "source": [
    "df['Melting_Point'] = round(df['Melting_Point'] - 273.15, 2)\n",
    "\n",
    "# Vamos visualizar esses átomos\n",
    "df.query(\"Melting_Point <= 25\").head(100)"
   ]
  },
  {
   "cell_type": "code",
   "execution_count": 9,
   "id": "10f02a54",
   "metadata": {},
   "outputs": [
    {
     "data": {
      "application/vnd.microsoft.datawrangler.viewer.v0+json": {
       "columns": [
        {
         "name": "index",
         "rawType": "int64",
         "type": "integer"
        },
        {
         "name": "Name",
         "rawType": "object",
         "type": "string"
        },
        {
         "name": "Symbol",
         "rawType": "object",
         "type": "string"
        },
        {
         "name": "Atomic_Number",
         "rawType": "float64",
         "type": "float"
        },
        {
         "name": "Atomic_Weight",
         "rawType": "float64",
         "type": "float"
        },
        {
         "name": "Density",
         "rawType": "float64",
         "type": "float"
        },
        {
         "name": "Melting_Point",
         "rawType": "float64",
         "type": "float"
        }
       ],
       "ref": "a1d3d600-36a0-4c84-a9c5-568e25623437",
       "rows": [
        [
         "0",
         "Hydrogen",
         "H",
         "1.0",
         "1.00794",
         "0.0899",
         "-259.14"
        ],
        [
         "5",
         "Carbon",
         "C",
         "6.0",
         "12.0107",
         "2260.0",
         "3550.0"
        ],
        [
         "6",
         "Nitrogen",
         "N",
         "7.0",
         "14.0067",
         "1.251",
         "-210.1"
        ],
        [
         "7",
         "Oxygen",
         "O",
         "8.0",
         "15.9994",
         "1.429",
         "-218.3"
        ],
        [
         "8",
         "Fluorine",
         "F",
         "9.0",
         "18.9984032",
         "1.696",
         "-219.6"
        ],
        [
         "9",
         "Neon",
         "Ne",
         "10.0",
         "20.1797",
         "0.9",
         "-248.59"
        ],
        [
         "72",
         "Tantalum",
         "Ta",
         "73.0",
         "180.9479",
         "16650.0",
         "3017.0"
        ],
        [
         "73",
         "Tungsten",
         "W",
         "74.0",
         "183.84",
         "19250.0",
         "3422.0"
        ],
        [
         "74",
         "Rhenium",
         "Re",
         "75.0",
         "186.207",
         "21020.0",
         "3186.0"
        ],
        [
         "75",
         "Osmium",
         "Os",
         "76.0",
         "190.23",
         "22610.0",
         "3033.0"
        ]
       ],
       "shape": {
        "columns": 6,
        "rows": 10
       }
      },
      "text/html": [
       "<div>\n",
       "<style scoped>\n",
       "    .dataframe tbody tr th:only-of-type {\n",
       "        vertical-align: middle;\n",
       "    }\n",
       "\n",
       "    .dataframe tbody tr th {\n",
       "        vertical-align: top;\n",
       "    }\n",
       "\n",
       "    .dataframe thead th {\n",
       "        text-align: right;\n",
       "    }\n",
       "</style>\n",
       "<table border=\"1\" class=\"dataframe\">\n",
       "  <thead>\n",
       "    <tr style=\"text-align: right;\">\n",
       "      <th></th>\n",
       "      <th>Name</th>\n",
       "      <th>Symbol</th>\n",
       "      <th>Atomic_Number</th>\n",
       "      <th>Atomic_Weight</th>\n",
       "      <th>Density</th>\n",
       "      <th>Melting_Point</th>\n",
       "    </tr>\n",
       "  </thead>\n",
       "  <tbody>\n",
       "    <tr>\n",
       "      <th>0</th>\n",
       "      <td>Hydrogen</td>\n",
       "      <td>H</td>\n",
       "      <td>1.0</td>\n",
       "      <td>1.007940</td>\n",
       "      <td>0.0899</td>\n",
       "      <td>-259.14</td>\n",
       "    </tr>\n",
       "    <tr>\n",
       "      <th>5</th>\n",
       "      <td>Carbon</td>\n",
       "      <td>C</td>\n",
       "      <td>6.0</td>\n",
       "      <td>12.010700</td>\n",
       "      <td>2260.0000</td>\n",
       "      <td>3550.00</td>\n",
       "    </tr>\n",
       "    <tr>\n",
       "      <th>6</th>\n",
       "      <td>Nitrogen</td>\n",
       "      <td>N</td>\n",
       "      <td>7.0</td>\n",
       "      <td>14.006700</td>\n",
       "      <td>1.2510</td>\n",
       "      <td>-210.10</td>\n",
       "    </tr>\n",
       "    <tr>\n",
       "      <th>7</th>\n",
       "      <td>Oxygen</td>\n",
       "      <td>O</td>\n",
       "      <td>8.0</td>\n",
       "      <td>15.999400</td>\n",
       "      <td>1.4290</td>\n",
       "      <td>-218.30</td>\n",
       "    </tr>\n",
       "    <tr>\n",
       "      <th>8</th>\n",
       "      <td>Fluorine</td>\n",
       "      <td>F</td>\n",
       "      <td>9.0</td>\n",
       "      <td>18.998403</td>\n",
       "      <td>1.6960</td>\n",
       "      <td>-219.60</td>\n",
       "    </tr>\n",
       "    <tr>\n",
       "      <th>9</th>\n",
       "      <td>Neon</td>\n",
       "      <td>Ne</td>\n",
       "      <td>10.0</td>\n",
       "      <td>20.179700</td>\n",
       "      <td>0.9000</td>\n",
       "      <td>-248.59</td>\n",
       "    </tr>\n",
       "    <tr>\n",
       "      <th>72</th>\n",
       "      <td>Tantalum</td>\n",
       "      <td>Ta</td>\n",
       "      <td>73.0</td>\n",
       "      <td>180.947900</td>\n",
       "      <td>16650.0000</td>\n",
       "      <td>3017.00</td>\n",
       "    </tr>\n",
       "    <tr>\n",
       "      <th>73</th>\n",
       "      <td>Tungsten</td>\n",
       "      <td>W</td>\n",
       "      <td>74.0</td>\n",
       "      <td>183.840000</td>\n",
       "      <td>19250.0000</td>\n",
       "      <td>3422.00</td>\n",
       "    </tr>\n",
       "    <tr>\n",
       "      <th>74</th>\n",
       "      <td>Rhenium</td>\n",
       "      <td>Re</td>\n",
       "      <td>75.0</td>\n",
       "      <td>186.207000</td>\n",
       "      <td>21020.0000</td>\n",
       "      <td>3186.00</td>\n",
       "    </tr>\n",
       "    <tr>\n",
       "      <th>75</th>\n",
       "      <td>Osmium</td>\n",
       "      <td>Os</td>\n",
       "      <td>76.0</td>\n",
       "      <td>190.230000</td>\n",
       "      <td>22610.0000</td>\n",
       "      <td>3033.00</td>\n",
       "    </tr>\n",
       "  </tbody>\n",
       "</table>\n",
       "</div>"
      ],
      "text/plain": [
       "        Name Symbol  Atomic_Number  Atomic_Weight     Density  Melting_Point\n",
       "0   Hydrogen      H            1.0       1.007940      0.0899        -259.14\n",
       "5     Carbon      C            6.0      12.010700   2260.0000        3550.00\n",
       "6   Nitrogen      N            7.0      14.006700      1.2510        -210.10\n",
       "7     Oxygen      O            8.0      15.999400      1.4290        -218.30\n",
       "8   Fluorine      F            9.0      18.998403      1.6960        -219.60\n",
       "9       Neon     Ne           10.0      20.179700      0.9000        -248.59\n",
       "72  Tantalum     Ta           73.0     180.947900  16650.0000        3017.00\n",
       "73  Tungsten      W           74.0     183.840000  19250.0000        3422.00\n",
       "74   Rhenium     Re           75.0     186.207000  21020.0000        3186.00\n",
       "75    Osmium     Os           76.0     190.230000  22610.0000        3033.00"
      ]
     },
     "execution_count": 9,
     "metadata": {},
     "output_type": "execute_result"
    }
   ],
   "source": [
    "df.query(\"Melting_Point <= -200 | Melting_Point >= 3000\").head(100)"
   ]
  },
  {
   "cell_type": "code",
   "execution_count": 10,
   "id": "e37ec497",
   "metadata": {},
   "outputs": [
    {
     "data": {
      "application/vnd.microsoft.datawrangler.viewer.v0+json": {
       "columns": [
        {
         "name": "index",
         "rawType": "int64",
         "type": "integer"
        },
        {
         "name": "Name",
         "rawType": "object",
         "type": "string"
        },
        {
         "name": "Symbol",
         "rawType": "object",
         "type": "string"
        },
        {
         "name": "Atomic_Number",
         "rawType": "float64",
         "type": "float"
        },
        {
         "name": "Atomic_Weight",
         "rawType": "float64",
         "type": "float"
        },
        {
         "name": "Density",
         "rawType": "float64",
         "type": "float"
        },
        {
         "name": "Melting_Point",
         "rawType": "float64",
         "type": "float"
        }
       ],
       "ref": "cbb4553e-e70e-4900-a776-932d636543f1",
       "rows": [
        [
         "0",
         "Hydrogen",
         "H",
         "1.0",
         "1.00794",
         "0.0899",
         "-259.14"
        ],
        [
         "5",
         "Carbon",
         "C",
         "6.0",
         "12.0107",
         "2260.0",
         "3550.0"
        ],
        [
         "6",
         "Nitrogen",
         "N",
         "7.0",
         "14.0067",
         "1.251",
         "-210.1"
        ],
        [
         "7",
         "Oxygen",
         "O",
         "8.0",
         "15.9994",
         "1.429",
         "-218.3"
        ],
        [
         "8",
         "Fluorine",
         "F",
         "9.0",
         "18.9984032",
         "1.696",
         "-219.6"
        ],
        [
         "9",
         "Neon",
         "Ne",
         "10.0",
         "20.1797",
         "0.9",
         "-248.59"
        ],
        [
         "72",
         "Tantalum",
         "Ta",
         "73.0",
         "180.9479",
         "16650.0",
         "3017.0"
        ],
        [
         "73",
         "Tungsten",
         "W",
         "74.0",
         "183.84",
         "19250.0",
         "3422.0"
        ],
        [
         "74",
         "Rhenium",
         "Re",
         "75.0",
         "186.207",
         "21020.0",
         "3186.0"
        ],
        [
         "75",
         "Osmium",
         "Os",
         "76.0",
         "190.23",
         "22610.0",
         "3033.0"
        ]
       ],
       "shape": {
        "columns": 6,
        "rows": 10
       }
      },
      "text/html": [
       "<div>\n",
       "<style scoped>\n",
       "    .dataframe tbody tr th:only-of-type {\n",
       "        vertical-align: middle;\n",
       "    }\n",
       "\n",
       "    .dataframe tbody tr th {\n",
       "        vertical-align: top;\n",
       "    }\n",
       "\n",
       "    .dataframe thead th {\n",
       "        text-align: right;\n",
       "    }\n",
       "</style>\n",
       "<table border=\"1\" class=\"dataframe\">\n",
       "  <thead>\n",
       "    <tr style=\"text-align: right;\">\n",
       "      <th></th>\n",
       "      <th>Name</th>\n",
       "      <th>Symbol</th>\n",
       "      <th>Atomic_Number</th>\n",
       "      <th>Atomic_Weight</th>\n",
       "      <th>Density</th>\n",
       "      <th>Melting_Point</th>\n",
       "    </tr>\n",
       "  </thead>\n",
       "  <tbody>\n",
       "    <tr>\n",
       "      <th>0</th>\n",
       "      <td>Hydrogen</td>\n",
       "      <td>H</td>\n",
       "      <td>1.0</td>\n",
       "      <td>1.007940</td>\n",
       "      <td>0.0899</td>\n",
       "      <td>-259.14</td>\n",
       "    </tr>\n",
       "    <tr>\n",
       "      <th>5</th>\n",
       "      <td>Carbon</td>\n",
       "      <td>C</td>\n",
       "      <td>6.0</td>\n",
       "      <td>12.010700</td>\n",
       "      <td>2260.0000</td>\n",
       "      <td>3550.00</td>\n",
       "    </tr>\n",
       "    <tr>\n",
       "      <th>6</th>\n",
       "      <td>Nitrogen</td>\n",
       "      <td>N</td>\n",
       "      <td>7.0</td>\n",
       "      <td>14.006700</td>\n",
       "      <td>1.2510</td>\n",
       "      <td>-210.10</td>\n",
       "    </tr>\n",
       "    <tr>\n",
       "      <th>7</th>\n",
       "      <td>Oxygen</td>\n",
       "      <td>O</td>\n",
       "      <td>8.0</td>\n",
       "      <td>15.999400</td>\n",
       "      <td>1.4290</td>\n",
       "      <td>-218.30</td>\n",
       "    </tr>\n",
       "    <tr>\n",
       "      <th>8</th>\n",
       "      <td>Fluorine</td>\n",
       "      <td>F</td>\n",
       "      <td>9.0</td>\n",
       "      <td>18.998403</td>\n",
       "      <td>1.6960</td>\n",
       "      <td>-219.60</td>\n",
       "    </tr>\n",
       "    <tr>\n",
       "      <th>9</th>\n",
       "      <td>Neon</td>\n",
       "      <td>Ne</td>\n",
       "      <td>10.0</td>\n",
       "      <td>20.179700</td>\n",
       "      <td>0.9000</td>\n",
       "      <td>-248.59</td>\n",
       "    </tr>\n",
       "    <tr>\n",
       "      <th>72</th>\n",
       "      <td>Tantalum</td>\n",
       "      <td>Ta</td>\n",
       "      <td>73.0</td>\n",
       "      <td>180.947900</td>\n",
       "      <td>16650.0000</td>\n",
       "      <td>3017.00</td>\n",
       "    </tr>\n",
       "    <tr>\n",
       "      <th>73</th>\n",
       "      <td>Tungsten</td>\n",
       "      <td>W</td>\n",
       "      <td>74.0</td>\n",
       "      <td>183.840000</td>\n",
       "      <td>19250.0000</td>\n",
       "      <td>3422.00</td>\n",
       "    </tr>\n",
       "    <tr>\n",
       "      <th>74</th>\n",
       "      <td>Rhenium</td>\n",
       "      <td>Re</td>\n",
       "      <td>75.0</td>\n",
       "      <td>186.207000</td>\n",
       "      <td>21020.0000</td>\n",
       "      <td>3186.00</td>\n",
       "    </tr>\n",
       "    <tr>\n",
       "      <th>75</th>\n",
       "      <td>Osmium</td>\n",
       "      <td>Os</td>\n",
       "      <td>76.0</td>\n",
       "      <td>190.230000</td>\n",
       "      <td>22610.0000</td>\n",
       "      <td>3033.00</td>\n",
       "    </tr>\n",
       "  </tbody>\n",
       "</table>\n",
       "</div>"
      ],
      "text/plain": [
       "        Name Symbol  Atomic_Number  Atomic_Weight     Density  Melting_Point\n",
       "0   Hydrogen      H            1.0       1.007940      0.0899        -259.14\n",
       "5     Carbon      C            6.0      12.010700   2260.0000        3550.00\n",
       "6   Nitrogen      N            7.0      14.006700      1.2510        -210.10\n",
       "7     Oxygen      O            8.0      15.999400      1.4290        -218.30\n",
       "8   Fluorine      F            9.0      18.998403      1.6960        -219.60\n",
       "9       Neon     Ne           10.0      20.179700      0.9000        -248.59\n",
       "72  Tantalum     Ta           73.0     180.947900  16650.0000        3017.00\n",
       "73  Tungsten      W           74.0     183.840000  19250.0000        3422.00\n",
       "74   Rhenium     Re           75.0     186.207000  21020.0000        3186.00\n",
       "75    Osmium     Os           76.0     190.230000  22610.0000        3033.00"
      ]
     },
     "execution_count": 10,
     "metadata": {},
     "output_type": "execute_result"
    }
   ],
   "source": [
    "df[\n",
    "    (df[\"Melting_Point\"] <= -200)\n",
    "    | (df[\"Melting_Point\"] >= 3000)\n",
    "].head(100)"
   ]
  },
  {
   "cell_type": "markdown",
   "id": "fe04980a",
   "metadata": {},
   "source": [
    "O exemplo abaixo mostra um filtro mais complexo e, principalmente, a importância do pré-processamento dos dados. Note que os resultados que eu obtenho ao procurar por letras minúsculas e maiúsculas é diferente! Padronizar tudo minúsculo é uma boa prática na programação. Agora vem uma pergunta, para o nome do composto aplicar um `.lower` é uma boa prática, mas isso também é válido para o símbolo?"
   ]
  },
  {
   "cell_type": "code",
   "execution_count": 11,
   "id": "1e8821fe",
   "metadata": {},
   "outputs": [
    {
     "data": {
      "application/vnd.microsoft.datawrangler.viewer.v0+json": {
       "columns": [
        {
         "name": "index",
         "rawType": "int64",
         "type": "integer"
        },
        {
         "name": "Name",
         "rawType": "object",
         "type": "string"
        },
        {
         "name": "Symbol",
         "rawType": "object",
         "type": "string"
        },
        {
         "name": "Atomic_Number",
         "rawType": "float64",
         "type": "float"
        },
        {
         "name": "Atomic_Weight",
         "rawType": "float64",
         "type": "float"
        },
        {
         "name": "Density",
         "rawType": "float64",
         "type": "float"
        },
        {
         "name": "Melting_Point",
         "rawType": "float64",
         "type": "float"
        }
       ],
       "ref": "7deb72f5-e1a3-491c-ade0-114fd59b9ae6",
       "rows": [
        [
         "0",
         "Hydrogen",
         "H",
         "1.0",
         "1.00794",
         "0.0899",
         "-259.14"
        ],
        [
         "5",
         "Carbon",
         "C",
         "6.0",
         "12.0107",
         "2260.0",
         "3550.0"
        ],
        [
         "6",
         "Nitrogen",
         "N",
         "7.0",
         "14.0067",
         "1.251",
         "-210.1"
        ],
        [
         "8",
         "Fluorine",
         "F",
         "9.0",
         "18.9984032",
         "1.696",
         "-219.6"
        ],
        [
         "9",
         "Neon",
         "Ne",
         "10.0",
         "20.1797",
         "0.9",
         "-248.59"
        ],
        [
         "74",
         "Rhenium",
         "Re",
         "75.0",
         "186.207",
         "21020.0",
         "3186.0"
        ]
       ],
       "shape": {
        "columns": 6,
        "rows": 6
       }
      },
      "text/html": [
       "<div>\n",
       "<style scoped>\n",
       "    .dataframe tbody tr th:only-of-type {\n",
       "        vertical-align: middle;\n",
       "    }\n",
       "\n",
       "    .dataframe tbody tr th {\n",
       "        vertical-align: top;\n",
       "    }\n",
       "\n",
       "    .dataframe thead th {\n",
       "        text-align: right;\n",
       "    }\n",
       "</style>\n",
       "<table border=\"1\" class=\"dataframe\">\n",
       "  <thead>\n",
       "    <tr style=\"text-align: right;\">\n",
       "      <th></th>\n",
       "      <th>Name</th>\n",
       "      <th>Symbol</th>\n",
       "      <th>Atomic_Number</th>\n",
       "      <th>Atomic_Weight</th>\n",
       "      <th>Density</th>\n",
       "      <th>Melting_Point</th>\n",
       "    </tr>\n",
       "  </thead>\n",
       "  <tbody>\n",
       "    <tr>\n",
       "      <th>0</th>\n",
       "      <td>Hydrogen</td>\n",
       "      <td>H</td>\n",
       "      <td>1.0</td>\n",
       "      <td>1.007940</td>\n",
       "      <td>0.0899</td>\n",
       "      <td>-259.14</td>\n",
       "    </tr>\n",
       "    <tr>\n",
       "      <th>5</th>\n",
       "      <td>Carbon</td>\n",
       "      <td>C</td>\n",
       "      <td>6.0</td>\n",
       "      <td>12.010700</td>\n",
       "      <td>2260.0000</td>\n",
       "      <td>3550.00</td>\n",
       "    </tr>\n",
       "    <tr>\n",
       "      <th>6</th>\n",
       "      <td>Nitrogen</td>\n",
       "      <td>N</td>\n",
       "      <td>7.0</td>\n",
       "      <td>14.006700</td>\n",
       "      <td>1.2510</td>\n",
       "      <td>-210.10</td>\n",
       "    </tr>\n",
       "    <tr>\n",
       "      <th>8</th>\n",
       "      <td>Fluorine</td>\n",
       "      <td>F</td>\n",
       "      <td>9.0</td>\n",
       "      <td>18.998403</td>\n",
       "      <td>1.6960</td>\n",
       "      <td>-219.60</td>\n",
       "    </tr>\n",
       "    <tr>\n",
       "      <th>9</th>\n",
       "      <td>Neon</td>\n",
       "      <td>Ne</td>\n",
       "      <td>10.0</td>\n",
       "      <td>20.179700</td>\n",
       "      <td>0.9000</td>\n",
       "      <td>-248.59</td>\n",
       "    </tr>\n",
       "    <tr>\n",
       "      <th>74</th>\n",
       "      <td>Rhenium</td>\n",
       "      <td>Re</td>\n",
       "      <td>75.0</td>\n",
       "      <td>186.207000</td>\n",
       "      <td>21020.0000</td>\n",
       "      <td>3186.00</td>\n",
       "    </tr>\n",
       "  </tbody>\n",
       "</table>\n",
       "</div>"
      ],
      "text/plain": [
       "        Name Symbol  Atomic_Number  Atomic_Weight     Density  Melting_Point\n",
       "0   Hydrogen      H            1.0       1.007940      0.0899        -259.14\n",
       "5     Carbon      C            6.0      12.010700   2260.0000        3550.00\n",
       "6   Nitrogen      N            7.0      14.006700      1.2510        -210.10\n",
       "8   Fluorine      F            9.0      18.998403      1.6960        -219.60\n",
       "9       Neon     Ne           10.0      20.179700      0.9000        -248.59\n",
       "74   Rhenium     Re           75.0     186.207000  21020.0000        3186.00"
      ]
     },
     "execution_count": 11,
     "metadata": {},
     "output_type": "execute_result"
    }
   ],
   "source": [
    "df[\n",
    "    (\n",
    "        (df[\"Melting_Point\"] <= -200)\n",
    "        | (df[\"Melting_Point\"] >= 3000)\n",
    "    )\n",
    "    & (df['Name'].str.contains(\"o|h\"))\n",
    "].head(100)"
   ]
  },
  {
   "cell_type": "code",
   "execution_count": 12,
   "id": "359a2228",
   "metadata": {},
   "outputs": [
    {
     "data": {
      "application/vnd.microsoft.datawrangler.viewer.v0+json": {
       "columns": [
        {
         "name": "index",
         "rawType": "int64",
         "type": "integer"
        },
        {
         "name": "Name",
         "rawType": "object",
         "type": "string"
        },
        {
         "name": "Symbol",
         "rawType": "object",
         "type": "string"
        },
        {
         "name": "Atomic_Number",
         "rawType": "float64",
         "type": "float"
        },
        {
         "name": "Atomic_Weight",
         "rawType": "float64",
         "type": "float"
        },
        {
         "name": "Density",
         "rawType": "float64",
         "type": "float"
        },
        {
         "name": "Melting_Point",
         "rawType": "float64",
         "type": "float"
        }
       ],
       "ref": "d4e78a0f-af45-4594-92df-3c7e7311814c",
       "rows": [
        [
         "0",
         "Hydrogen",
         "H",
         "1.0",
         "1.00794",
         "0.0899",
         "-259.14"
        ],
        [
         "7",
         "Oxygen",
         "O",
         "8.0",
         "15.9994",
         "1.429",
         "-218.3"
        ],
        [
         "75",
         "Osmium",
         "Os",
         "76.0",
         "190.23",
         "22610.0",
         "3033.0"
        ]
       ],
       "shape": {
        "columns": 6,
        "rows": 3
       }
      },
      "text/html": [
       "<div>\n",
       "<style scoped>\n",
       "    .dataframe tbody tr th:only-of-type {\n",
       "        vertical-align: middle;\n",
       "    }\n",
       "\n",
       "    .dataframe tbody tr th {\n",
       "        vertical-align: top;\n",
       "    }\n",
       "\n",
       "    .dataframe thead th {\n",
       "        text-align: right;\n",
       "    }\n",
       "</style>\n",
       "<table border=\"1\" class=\"dataframe\">\n",
       "  <thead>\n",
       "    <tr style=\"text-align: right;\">\n",
       "      <th></th>\n",
       "      <th>Name</th>\n",
       "      <th>Symbol</th>\n",
       "      <th>Atomic_Number</th>\n",
       "      <th>Atomic_Weight</th>\n",
       "      <th>Density</th>\n",
       "      <th>Melting_Point</th>\n",
       "    </tr>\n",
       "  </thead>\n",
       "  <tbody>\n",
       "    <tr>\n",
       "      <th>0</th>\n",
       "      <td>Hydrogen</td>\n",
       "      <td>H</td>\n",
       "      <td>1.0</td>\n",
       "      <td>1.00794</td>\n",
       "      <td>0.0899</td>\n",
       "      <td>-259.14</td>\n",
       "    </tr>\n",
       "    <tr>\n",
       "      <th>7</th>\n",
       "      <td>Oxygen</td>\n",
       "      <td>O</td>\n",
       "      <td>8.0</td>\n",
       "      <td>15.99940</td>\n",
       "      <td>1.4290</td>\n",
       "      <td>-218.30</td>\n",
       "    </tr>\n",
       "    <tr>\n",
       "      <th>75</th>\n",
       "      <td>Osmium</td>\n",
       "      <td>Os</td>\n",
       "      <td>76.0</td>\n",
       "      <td>190.23000</td>\n",
       "      <td>22610.0000</td>\n",
       "      <td>3033.00</td>\n",
       "    </tr>\n",
       "  </tbody>\n",
       "</table>\n",
       "</div>"
      ],
      "text/plain": [
       "        Name Symbol  Atomic_Number  Atomic_Weight     Density  Melting_Point\n",
       "0   Hydrogen      H            1.0        1.00794      0.0899        -259.14\n",
       "7     Oxygen      O            8.0       15.99940      1.4290        -218.30\n",
       "75    Osmium     Os           76.0      190.23000  22610.0000        3033.00"
      ]
     },
     "execution_count": 12,
     "metadata": {},
     "output_type": "execute_result"
    }
   ],
   "source": [
    "df[\n",
    "    (\n",
    "        (df[\"Melting_Point\"] <= -200)\n",
    "        | (df[\"Melting_Point\"] >= 3000)\n",
    "    )\n",
    "    & (df['Name'].str.contains(\"O|H\"))\n",
    "].head(100)"
   ]
  },
  {
   "cell_type": "markdown",
   "id": "256718c6",
   "metadata": {},
   "source": [
    "### Pré-Processamento e Localização"
   ]
  },
  {
   "cell_type": "markdown",
   "id": "b00dbf0d",
   "metadata": {},
   "source": [
    "Um filtro muito relevante é detectar a presença de valores ausentes `.isna`, além de duplicados, e tratá-los `.fillna`, `replace`, `.dropna`. `.drop_duplicates`.\n",
    "\n",
    "Isso é importante pois caso nossa intenção seja tratar um modelo de regressão, por exemplo, valores ausentes não podem existir, e valores duplicados podem tendenciar nosso modelo."
   ]
  },
  {
   "cell_type": "code",
   "execution_count": 13,
   "id": "8f76608e",
   "metadata": {},
   "outputs": [
    {
     "data": {
      "application/vnd.microsoft.datawrangler.viewer.v0+json": {
       "columns": [
        {
         "name": "index",
         "rawType": "int64",
         "type": "integer"
        },
        {
         "name": "Name",
         "rawType": "object",
         "type": "string"
        },
        {
         "name": "Symbol",
         "rawType": "object",
         "type": "string"
        },
        {
         "name": "Atomic_Number",
         "rawType": "float64",
         "type": "float"
        },
        {
         "name": "Atomic_Weight",
         "rawType": "float64",
         "type": "float"
        },
        {
         "name": "Density",
         "rawType": "float64",
         "type": "float"
        },
        {
         "name": "Melting_Point",
         "rawType": "float64",
         "type": "float"
        }
       ],
       "ref": "1dd7c995-0f0e-43a4-b787-caf0837f98bf",
       "rows": [
        [
         "84",
         "Astatine",
         "At",
         "85.0",
         "210.0",
         null,
         "302.0"
        ],
        [
         "86",
         "Francium",
         "Fr",
         "87.0",
         "223.0",
         null,
         null
        ],
        [
         "95",
         "Americium",
         "Am",
         "95.0",
         "243.0",
         null,
         "1176.0"
        ],
        [
         "99",
         "Einsteinium",
         "Es",
         "99.0",
         "252.0",
         null,
         "860.0"
        ],
        [
         "100",
         "Fermium",
         "Fm",
         "100.0",
         "257.0",
         null,
         "1527.0"
        ]
       ],
       "shape": {
        "columns": 6,
        "rows": 5
       }
      },
      "text/html": [
       "<div>\n",
       "<style scoped>\n",
       "    .dataframe tbody tr th:only-of-type {\n",
       "        vertical-align: middle;\n",
       "    }\n",
       "\n",
       "    .dataframe tbody tr th {\n",
       "        vertical-align: top;\n",
       "    }\n",
       "\n",
       "    .dataframe thead th {\n",
       "        text-align: right;\n",
       "    }\n",
       "</style>\n",
       "<table border=\"1\" class=\"dataframe\">\n",
       "  <thead>\n",
       "    <tr style=\"text-align: right;\">\n",
       "      <th></th>\n",
       "      <th>Name</th>\n",
       "      <th>Symbol</th>\n",
       "      <th>Atomic_Number</th>\n",
       "      <th>Atomic_Weight</th>\n",
       "      <th>Density</th>\n",
       "      <th>Melting_Point</th>\n",
       "    </tr>\n",
       "  </thead>\n",
       "  <tbody>\n",
       "    <tr>\n",
       "      <th>84</th>\n",
       "      <td>Astatine</td>\n",
       "      <td>At</td>\n",
       "      <td>85.0</td>\n",
       "      <td>210.0</td>\n",
       "      <td>NaN</td>\n",
       "      <td>302.0</td>\n",
       "    </tr>\n",
       "    <tr>\n",
       "      <th>86</th>\n",
       "      <td>Francium</td>\n",
       "      <td>Fr</td>\n",
       "      <td>87.0</td>\n",
       "      <td>223.0</td>\n",
       "      <td>NaN</td>\n",
       "      <td>NaN</td>\n",
       "    </tr>\n",
       "    <tr>\n",
       "      <th>95</th>\n",
       "      <td>Americium</td>\n",
       "      <td>Am</td>\n",
       "      <td>95.0</td>\n",
       "      <td>243.0</td>\n",
       "      <td>NaN</td>\n",
       "      <td>1176.0</td>\n",
       "    </tr>\n",
       "    <tr>\n",
       "      <th>99</th>\n",
       "      <td>Einsteinium</td>\n",
       "      <td>Es</td>\n",
       "      <td>99.0</td>\n",
       "      <td>252.0</td>\n",
       "      <td>NaN</td>\n",
       "      <td>860.0</td>\n",
       "    </tr>\n",
       "    <tr>\n",
       "      <th>100</th>\n",
       "      <td>Fermium</td>\n",
       "      <td>Fm</td>\n",
       "      <td>100.0</td>\n",
       "      <td>257.0</td>\n",
       "      <td>NaN</td>\n",
       "      <td>1527.0</td>\n",
       "    </tr>\n",
       "  </tbody>\n",
       "</table>\n",
       "</div>"
      ],
      "text/plain": [
       "            Name Symbol  Atomic_Number  Atomic_Weight  Density  Melting_Point\n",
       "84      Astatine     At           85.0          210.0      NaN          302.0\n",
       "86      Francium     Fr           87.0          223.0      NaN            NaN\n",
       "95     Americium     Am           95.0          243.0      NaN         1176.0\n",
       "99   Einsteinium     Es           99.0          252.0      NaN          860.0\n",
       "100      Fermium     Fm          100.0          257.0      NaN         1527.0"
      ]
     },
     "execution_count": 13,
     "metadata": {},
     "output_type": "execute_result"
    }
   ],
   "source": [
    "# Agora, é possível saber exatamente quais são os valores ausentes\n",
    "df[df['Density'].isna()].head(5)"
   ]
  },
  {
   "cell_type": "code",
   "execution_count": 14,
   "id": "e724a48e",
   "metadata": {},
   "outputs": [
    {
     "data": {
      "application/vnd.microsoft.datawrangler.viewer.v0+json": {
       "columns": [
        {
         "name": "index",
         "rawType": "int64",
         "type": "integer"
        },
        {
         "name": "Name",
         "rawType": "object",
         "type": "string"
        },
        {
         "name": "Symbol",
         "rawType": "object",
         "type": "string"
        },
        {
         "name": "Atomic_Number",
         "rawType": "float64",
         "type": "float"
        },
        {
         "name": "Atomic_Weight",
         "rawType": "float64",
         "type": "float"
        },
        {
         "name": "Density",
         "rawType": "float64",
         "type": "float"
        },
        {
         "name": "Melting_Point",
         "rawType": "float64",
         "type": "float"
        }
       ],
       "ref": "ef9046d6-7380-4bb0-b124-2bddf86cfce5",
       "rows": [
        [
         "0",
         "Hydrogen",
         "H",
         "1.0",
         "1.00794",
         "0.0899",
         "-259.14"
        ],
        [
         "1",
         "Helium",
         "He",
         "2.0",
         "4.002602",
         "0.1785",
         null
        ],
        [
         "2",
         "Lithium",
         "Li",
         "3.0",
         "6.941",
         "535.0",
         "180.54"
        ],
        [
         "3",
         "Beryllium",
         "Be",
         "4.0",
         "9.012182",
         "1848.0",
         "1287.0"
        ],
        [
         "4",
         "Boron",
         "B",
         "5.0",
         "10.811",
         "2460.0",
         "2075.0"
        ]
       ],
       "shape": {
        "columns": 6,
        "rows": 5
       }
      },
      "text/html": [
       "<div>\n",
       "<style scoped>\n",
       "    .dataframe tbody tr th:only-of-type {\n",
       "        vertical-align: middle;\n",
       "    }\n",
       "\n",
       "    .dataframe tbody tr th {\n",
       "        vertical-align: top;\n",
       "    }\n",
       "\n",
       "    .dataframe thead th {\n",
       "        text-align: right;\n",
       "    }\n",
       "</style>\n",
       "<table border=\"1\" class=\"dataframe\">\n",
       "  <thead>\n",
       "    <tr style=\"text-align: right;\">\n",
       "      <th></th>\n",
       "      <th>Name</th>\n",
       "      <th>Symbol</th>\n",
       "      <th>Atomic_Number</th>\n",
       "      <th>Atomic_Weight</th>\n",
       "      <th>Density</th>\n",
       "      <th>Melting_Point</th>\n",
       "    </tr>\n",
       "  </thead>\n",
       "  <tbody>\n",
       "    <tr>\n",
       "      <th>0</th>\n",
       "      <td>Hydrogen</td>\n",
       "      <td>H</td>\n",
       "      <td>1.0</td>\n",
       "      <td>1.007940</td>\n",
       "      <td>0.0899</td>\n",
       "      <td>-259.14</td>\n",
       "    </tr>\n",
       "    <tr>\n",
       "      <th>1</th>\n",
       "      <td>Helium</td>\n",
       "      <td>He</td>\n",
       "      <td>2.0</td>\n",
       "      <td>4.002602</td>\n",
       "      <td>0.1785</td>\n",
       "      <td>NaN</td>\n",
       "    </tr>\n",
       "    <tr>\n",
       "      <th>2</th>\n",
       "      <td>Lithium</td>\n",
       "      <td>Li</td>\n",
       "      <td>3.0</td>\n",
       "      <td>6.941000</td>\n",
       "      <td>535.0000</td>\n",
       "      <td>180.54</td>\n",
       "    </tr>\n",
       "    <tr>\n",
       "      <th>3</th>\n",
       "      <td>Beryllium</td>\n",
       "      <td>Be</td>\n",
       "      <td>4.0</td>\n",
       "      <td>9.012182</td>\n",
       "      <td>1848.0000</td>\n",
       "      <td>1287.00</td>\n",
       "    </tr>\n",
       "    <tr>\n",
       "      <th>4</th>\n",
       "      <td>Boron</td>\n",
       "      <td>B</td>\n",
       "      <td>5.0</td>\n",
       "      <td>10.811000</td>\n",
       "      <td>2460.0000</td>\n",
       "      <td>2075.00</td>\n",
       "    </tr>\n",
       "  </tbody>\n",
       "</table>\n",
       "</div>"
      ],
      "text/plain": [
       "        Name Symbol  Atomic_Number  Atomic_Weight    Density  Melting_Point\n",
       "0   Hydrogen      H            1.0       1.007940     0.0899        -259.14\n",
       "1     Helium     He            2.0       4.002602     0.1785            NaN\n",
       "2    Lithium     Li            3.0       6.941000   535.0000         180.54\n",
       "3  Beryllium     Be            4.0       9.012182  1848.0000        1287.00\n",
       "4      Boron      B            5.0      10.811000  2460.0000        2075.00"
      ]
     },
     "execution_count": 14,
     "metadata": {},
     "output_type": "execute_result"
    }
   ],
   "source": [
    "# E também os não ausentes...\n",
    "df[~df['Density'].isna()].head(5)"
   ]
  },
  {
   "cell_type": "code",
   "execution_count": 15,
   "id": "88860cb2",
   "metadata": {},
   "outputs": [
    {
     "data": {
      "application/vnd.microsoft.datawrangler.viewer.v0+json": {
       "columns": [
        {
         "name": "index",
         "rawType": "int64",
         "type": "integer"
        },
        {
         "name": "Name",
         "rawType": "object",
         "type": "string"
        },
        {
         "name": "Symbol",
         "rawType": "object",
         "type": "string"
        },
        {
         "name": "Atomic_Number",
         "rawType": "float64",
         "type": "float"
        },
        {
         "name": "Atomic_Weight",
         "rawType": "float64",
         "type": "float"
        },
        {
         "name": "Density",
         "rawType": "float64",
         "type": "float"
        },
        {
         "name": "Melting_Point",
         "rawType": "float64",
         "type": "float"
        }
       ],
       "ref": "3ceaf45b-8646-4f6f-9e4b-bb2e00057c8b",
       "rows": [
        [
         "0",
         "Hydrogen",
         "H",
         "1.0",
         "1.00794",
         "0.0899",
         "-259.14"
        ],
        [
         "90",
         "Mentira",
         "H",
         "90.0",
         "1.0",
         "90.0",
         null
        ]
       ],
       "shape": {
        "columns": 6,
        "rows": 2
       }
      },
      "text/html": [
       "<div>\n",
       "<style scoped>\n",
       "    .dataframe tbody tr th:only-of-type {\n",
       "        vertical-align: middle;\n",
       "    }\n",
       "\n",
       "    .dataframe tbody tr th {\n",
       "        vertical-align: top;\n",
       "    }\n",
       "\n",
       "    .dataframe thead th {\n",
       "        text-align: right;\n",
       "    }\n",
       "</style>\n",
       "<table border=\"1\" class=\"dataframe\">\n",
       "  <thead>\n",
       "    <tr style=\"text-align: right;\">\n",
       "      <th></th>\n",
       "      <th>Name</th>\n",
       "      <th>Symbol</th>\n",
       "      <th>Atomic_Number</th>\n",
       "      <th>Atomic_Weight</th>\n",
       "      <th>Density</th>\n",
       "      <th>Melting_Point</th>\n",
       "    </tr>\n",
       "  </thead>\n",
       "  <tbody>\n",
       "    <tr>\n",
       "      <th>0</th>\n",
       "      <td>Hydrogen</td>\n",
       "      <td>H</td>\n",
       "      <td>1.0</td>\n",
       "      <td>1.00794</td>\n",
       "      <td>0.0899</td>\n",
       "      <td>-259.14</td>\n",
       "    </tr>\n",
       "    <tr>\n",
       "      <th>90</th>\n",
       "      <td>Mentira</td>\n",
       "      <td>H</td>\n",
       "      <td>90.0</td>\n",
       "      <td>1.00000</td>\n",
       "      <td>90.0000</td>\n",
       "      <td>NaN</td>\n",
       "    </tr>\n",
       "  </tbody>\n",
       "</table>\n",
       "</div>"
      ],
      "text/plain": [
       "        Name Symbol  Atomic_Number  Atomic_Weight  Density  Melting_Point\n",
       "0   Hydrogen      H            1.0        1.00794   0.0899        -259.14\n",
       "90   Mentira      H           90.0        1.00000  90.0000            NaN"
      ]
     },
     "execution_count": 15,
     "metadata": {},
     "output_type": "execute_result"
    }
   ],
   "source": [
    "# Ok, agora temos dois símbolos H\n",
    "df.query(\"Symbol == 'H'\")"
   ]
  },
  {
   "cell_type": "code",
   "execution_count": 16,
   "id": "169053a7",
   "metadata": {},
   "outputs": [
    {
     "data": {
      "application/vnd.microsoft.datawrangler.viewer.v0+json": {
       "columns": [
        {
         "name": "index",
         "rawType": "int64",
         "type": "integer"
        },
        {
         "name": "Name",
         "rawType": "object",
         "type": "string"
        },
        {
         "name": "Symbol",
         "rawType": "object",
         "type": "string"
        },
        {
         "name": "Atomic_Number",
         "rawType": "float64",
         "type": "float"
        },
        {
         "name": "Atomic_Weight",
         "rawType": "float64",
         "type": "float"
        },
        {
         "name": "Density",
         "rawType": "float64",
         "type": "float"
        },
        {
         "name": "Melting_Point",
         "rawType": "float64",
         "type": "float"
        }
       ],
       "ref": "92398d06-a61b-4882-bc40-9feab299d8bf",
       "rows": [
        [
         "0",
         "Hydrogen",
         "H",
         "1.0",
         "1.00794",
         "0.0899",
         "-259.14"
        ],
        [
         "90",
         "Mentira",
         "H",
         "0.0",
         "1.0",
         "0.0",
         "0.0"
        ]
       ],
       "shape": {
        "columns": 6,
        "rows": 2
       }
      },
      "text/html": [
       "<div>\n",
       "<style scoped>\n",
       "    .dataframe tbody tr th:only-of-type {\n",
       "        vertical-align: middle;\n",
       "    }\n",
       "\n",
       "    .dataframe tbody tr th {\n",
       "        vertical-align: top;\n",
       "    }\n",
       "\n",
       "    .dataframe thead th {\n",
       "        text-align: right;\n",
       "    }\n",
       "</style>\n",
       "<table border=\"1\" class=\"dataframe\">\n",
       "  <thead>\n",
       "    <tr style=\"text-align: right;\">\n",
       "      <th></th>\n",
       "      <th>Name</th>\n",
       "      <th>Symbol</th>\n",
       "      <th>Atomic_Number</th>\n",
       "      <th>Atomic_Weight</th>\n",
       "      <th>Density</th>\n",
       "      <th>Melting_Point</th>\n",
       "    </tr>\n",
       "  </thead>\n",
       "  <tbody>\n",
       "    <tr>\n",
       "      <th>0</th>\n",
       "      <td>Hydrogen</td>\n",
       "      <td>H</td>\n",
       "      <td>1.0</td>\n",
       "      <td>1.00794</td>\n",
       "      <td>0.0899</td>\n",
       "      <td>-259.14</td>\n",
       "    </tr>\n",
       "    <tr>\n",
       "      <th>90</th>\n",
       "      <td>Mentira</td>\n",
       "      <td>H</td>\n",
       "      <td>0.0</td>\n",
       "      <td>1.00000</td>\n",
       "      <td>0.0000</td>\n",
       "      <td>0.00</td>\n",
       "    </tr>\n",
       "  </tbody>\n",
       "</table>\n",
       "</div>"
      ],
      "text/plain": [
       "        Name Symbol  Atomic_Number  Atomic_Weight  Density  Melting_Point\n",
       "0   Hydrogen      H            1.0        1.00794   0.0899        -259.14\n",
       "90   Mentira      H            0.0        1.00000   0.0000           0.00"
      ]
     },
     "execution_count": 16,
     "metadata": {},
     "output_type": "execute_result"
    }
   ],
   "source": [
    "# Só para demonstrar o replace() e o fillna()\n",
    "df.loc[df[\"Symbol\"] == \"H\"] = df.loc[df[\"Symbol\"] == \"H\"].replace(90, np.nan)\n",
    "df.loc[df[\"Symbol\"] == \"H\"] = df.loc[df[\"Symbol\"] == \"H\"].fillna(0)\n",
    "\n",
    "df.query(\"Symbol == 'H'\")"
   ]
  },
  {
   "cell_type": "code",
   "execution_count": 17,
   "id": "bd20cfcd",
   "metadata": {},
   "outputs": [
    {
     "data": {
      "application/vnd.microsoft.datawrangler.viewer.v0+json": {
       "columns": [
        {
         "name": "index",
         "rawType": "int64",
         "type": "integer"
        },
        {
         "name": "Name",
         "rawType": "object",
         "type": "string"
        },
        {
         "name": "Symbol",
         "rawType": "object",
         "type": "string"
        },
        {
         "name": "Atomic_Number",
         "rawType": "float64",
         "type": "float"
        },
        {
         "name": "Atomic_Weight",
         "rawType": "float64",
         "type": "float"
        },
        {
         "name": "Density",
         "rawType": "float64",
         "type": "float"
        },
        {
         "name": "Melting_Point",
         "rawType": "float64",
         "type": "float"
        }
       ],
       "ref": "78c74776-112f-4b2d-8ccd-e07238630794",
       "rows": [
        [
         "90",
         "Mentira",
         "H",
         "0.0",
         "1.0",
         "0.0",
         "0.0"
        ]
       ],
       "shape": {
        "columns": 6,
        "rows": 1
       }
      },
      "text/html": [
       "<div>\n",
       "<style scoped>\n",
       "    .dataframe tbody tr th:only-of-type {\n",
       "        vertical-align: middle;\n",
       "    }\n",
       "\n",
       "    .dataframe tbody tr th {\n",
       "        vertical-align: top;\n",
       "    }\n",
       "\n",
       "    .dataframe thead th {\n",
       "        text-align: right;\n",
       "    }\n",
       "</style>\n",
       "<table border=\"1\" class=\"dataframe\">\n",
       "  <thead>\n",
       "    <tr style=\"text-align: right;\">\n",
       "      <th></th>\n",
       "      <th>Name</th>\n",
       "      <th>Symbol</th>\n",
       "      <th>Atomic_Number</th>\n",
       "      <th>Atomic_Weight</th>\n",
       "      <th>Density</th>\n",
       "      <th>Melting_Point</th>\n",
       "    </tr>\n",
       "  </thead>\n",
       "  <tbody>\n",
       "    <tr>\n",
       "      <th>90</th>\n",
       "      <td>Mentira</td>\n",
       "      <td>H</td>\n",
       "      <td>0.0</td>\n",
       "      <td>1.0</td>\n",
       "      <td>0.0</td>\n",
       "      <td>0.0</td>\n",
       "    </tr>\n",
       "  </tbody>\n",
       "</table>\n",
       "</div>"
      ],
      "text/plain": [
       "       Name Symbol  Atomic_Number  Atomic_Weight  Density  Melting_Point\n",
       "90  Mentira      H            0.0            1.0      0.0            0.0"
      ]
     },
     "execution_count": 17,
     "metadata": {},
     "output_type": "execute_result"
    }
   ],
   "source": [
    "# A importância de especificar a ordem de exclusão\n",
    "# Veja que aqui a gente não está sobrescrevendo nada\n",
    "df.drop_duplicates(\n",
    "    subset='Symbol',\n",
    "    keep='last'\n",
    ").query(\"Symbol == 'H'\")"
   ]
  },
  {
   "cell_type": "code",
   "execution_count": 18,
   "id": "38869776",
   "metadata": {},
   "outputs": [
    {
     "data": {
      "application/vnd.microsoft.datawrangler.viewer.v0+json": {
       "columns": [
        {
         "name": "index",
         "rawType": "int64",
         "type": "integer"
        },
        {
         "name": "Name",
         "rawType": "object",
         "type": "string"
        },
        {
         "name": "Symbol",
         "rawType": "object",
         "type": "string"
        },
        {
         "name": "Atomic_Number",
         "rawType": "float64",
         "type": "float"
        },
        {
         "name": "Atomic_Weight",
         "rawType": "float64",
         "type": "float"
        },
        {
         "name": "Density",
         "rawType": "float64",
         "type": "float"
        },
        {
         "name": "Melting_Point",
         "rawType": "float64",
         "type": "float"
        }
       ],
       "ref": "66526a27-a46e-4d1c-81d4-d3f7926de27e",
       "rows": [
        [
         "0",
         "Hydrogen",
         "H",
         "1.0",
         "1.00794",
         "0.0899",
         "-259.14"
        ]
       ],
       "shape": {
        "columns": 6,
        "rows": 1
       }
      },
      "text/html": [
       "<div>\n",
       "<style scoped>\n",
       "    .dataframe tbody tr th:only-of-type {\n",
       "        vertical-align: middle;\n",
       "    }\n",
       "\n",
       "    .dataframe tbody tr th {\n",
       "        vertical-align: top;\n",
       "    }\n",
       "\n",
       "    .dataframe thead th {\n",
       "        text-align: right;\n",
       "    }\n",
       "</style>\n",
       "<table border=\"1\" class=\"dataframe\">\n",
       "  <thead>\n",
       "    <tr style=\"text-align: right;\">\n",
       "      <th></th>\n",
       "      <th>Name</th>\n",
       "      <th>Symbol</th>\n",
       "      <th>Atomic_Number</th>\n",
       "      <th>Atomic_Weight</th>\n",
       "      <th>Density</th>\n",
       "      <th>Melting_Point</th>\n",
       "    </tr>\n",
       "  </thead>\n",
       "  <tbody>\n",
       "    <tr>\n",
       "      <th>0</th>\n",
       "      <td>Hydrogen</td>\n",
       "      <td>H</td>\n",
       "      <td>1.0</td>\n",
       "      <td>1.00794</td>\n",
       "      <td>0.0899</td>\n",
       "      <td>-259.14</td>\n",
       "    </tr>\n",
       "  </tbody>\n",
       "</table>\n",
       "</div>"
      ],
      "text/plain": [
       "       Name Symbol  Atomic_Number  Atomic_Weight  Density  Melting_Point\n",
       "0  Hydrogen      H            1.0        1.00794   0.0899        -259.14"
      ]
     },
     "execution_count": 18,
     "metadata": {},
     "output_type": "execute_result"
    }
   ],
   "source": [
    "df = df.drop_duplicates(\n",
    "    subset='Symbol',\n",
    "    keep='first'\n",
    ")\n",
    "\n",
    "df.query(\"Symbol == 'H'\")"
   ]
  },
  {
   "cell_type": "markdown",
   "id": "523cc458",
   "metadata": {},
   "source": [
    "Também podemos renomear nossas colunas e converter seus tipos."
   ]
  },
  {
   "cell_type": "code",
   "execution_count": 19,
   "id": "1b309252",
   "metadata": {},
   "outputs": [
    {
     "data": {
      "application/vnd.microsoft.datawrangler.viewer.v0+json": {
       "columns": [
        {
         "name": "index",
         "rawType": "int64",
         "type": "integer"
        },
        {
         "name": "Name",
         "rawType": "object",
         "type": "string"
        },
        {
         "name": "simbolo",
         "rawType": "object",
         "type": "string"
        },
        {
         "name": "n",
         "rawType": "Int64",
         "type": "integer"
        },
        {
         "name": "Atomic_Weight",
         "rawType": "float64",
         "type": "float"
        },
        {
         "name": "Density",
         "rawType": "float64",
         "type": "float"
        },
        {
         "name": "Melting_Point",
         "rawType": "float64",
         "type": "float"
        }
       ],
       "ref": "1f91751d-7ebc-4a95-a9be-7073cb82921a",
       "rows": [
        [
         "0",
         "Hydrogen",
         "H",
         "1",
         "1.008",
         "0.0899",
         "-259.14"
        ],
        [
         "1",
         "Helium",
         "He",
         "2",
         "4.003",
         "0.1785",
         null
        ],
        [
         "2",
         "Lithium",
         "Li",
         "3",
         "6.941",
         "535.0",
         "180.54"
        ],
        [
         "3",
         "Beryllium",
         "Be",
         "4",
         "9.012",
         "1848.0",
         "1287.0"
        ],
        [
         "4",
         "Boron",
         "B",
         "5",
         "10.811",
         "2460.0",
         "2075.0"
        ]
       ],
       "shape": {
        "columns": 6,
        "rows": 5
       }
      },
      "text/html": [
       "<div>\n",
       "<style scoped>\n",
       "    .dataframe tbody tr th:only-of-type {\n",
       "        vertical-align: middle;\n",
       "    }\n",
       "\n",
       "    .dataframe tbody tr th {\n",
       "        vertical-align: top;\n",
       "    }\n",
       "\n",
       "    .dataframe thead th {\n",
       "        text-align: right;\n",
       "    }\n",
       "</style>\n",
       "<table border=\"1\" class=\"dataframe\">\n",
       "  <thead>\n",
       "    <tr style=\"text-align: right;\">\n",
       "      <th></th>\n",
       "      <th>Name</th>\n",
       "      <th>simbolo</th>\n",
       "      <th>n</th>\n",
       "      <th>Atomic_Weight</th>\n",
       "      <th>Density</th>\n",
       "      <th>Melting_Point</th>\n",
       "    </tr>\n",
       "  </thead>\n",
       "  <tbody>\n",
       "    <tr>\n",
       "      <th>0</th>\n",
       "      <td>Hydrogen</td>\n",
       "      <td>H</td>\n",
       "      <td>1</td>\n",
       "      <td>1.008</td>\n",
       "      <td>0.0899</td>\n",
       "      <td>-259.14</td>\n",
       "    </tr>\n",
       "    <tr>\n",
       "      <th>1</th>\n",
       "      <td>Helium</td>\n",
       "      <td>He</td>\n",
       "      <td>2</td>\n",
       "      <td>4.003</td>\n",
       "      <td>0.1785</td>\n",
       "      <td>NaN</td>\n",
       "    </tr>\n",
       "    <tr>\n",
       "      <th>2</th>\n",
       "      <td>Lithium</td>\n",
       "      <td>Li</td>\n",
       "      <td>3</td>\n",
       "      <td>6.941</td>\n",
       "      <td>535.0000</td>\n",
       "      <td>180.54</td>\n",
       "    </tr>\n",
       "    <tr>\n",
       "      <th>3</th>\n",
       "      <td>Beryllium</td>\n",
       "      <td>Be</td>\n",
       "      <td>4</td>\n",
       "      <td>9.012</td>\n",
       "      <td>1848.0000</td>\n",
       "      <td>1287.00</td>\n",
       "    </tr>\n",
       "    <tr>\n",
       "      <th>4</th>\n",
       "      <td>Boron</td>\n",
       "      <td>B</td>\n",
       "      <td>5</td>\n",
       "      <td>10.811</td>\n",
       "      <td>2460.0000</td>\n",
       "      <td>2075.00</td>\n",
       "    </tr>\n",
       "  </tbody>\n",
       "</table>\n",
       "</div>"
      ],
      "text/plain": [
       "        Name simbolo  n  Atomic_Weight    Density  Melting_Point\n",
       "0   Hydrogen       H  1          1.008     0.0899        -259.14\n",
       "1     Helium      He  2          4.003     0.1785            NaN\n",
       "2    Lithium      Li  3          6.941   535.0000         180.54\n",
       "3  Beryllium      Be  4          9.012  1848.0000        1287.00\n",
       "4      Boron       B  5         10.811  2460.0000        2075.00"
      ]
     },
     "execution_count": 19,
     "metadata": {},
     "output_type": "execute_result"
    }
   ],
   "source": [
    "# Criando uma cópia profunda\n",
    "nova_df = df.copy(deep=True)\n",
    "\n",
    "# Renomeando\n",
    "nova_df = nova_df.rename(columns={\n",
    "    'Symbol': 'simbolo',\n",
    "    'Atomic_Number': 'n'\n",
    "})\n",
    "\n",
    "# Convertendo de float para int\n",
    "nova_df['n'] = nova_df['n'].astype('Int64')\n",
    "nova_df['Atomic_Weight'] = nova_df['Atomic_Weight'].round(3)\n",
    "\n",
    "nova_df.head(5)"
   ]
  },
  {
   "cell_type": "markdown",
   "id": "9527d983",
   "metadata": {},
   "source": [
    "\\newpage \n",
    "\n",
    "## Análise de Dados"
   ]
  },
  {
   "cell_type": "markdown",
   "id": "7a943530",
   "metadata": {},
   "source": [
    "A análise mais simples que temos é baseada em ordenamento `.sort_index` ou `.sort_values`"
   ]
  },
  {
   "cell_type": "code",
   "execution_count": 20,
   "id": "3de0548c",
   "metadata": {},
   "outputs": [
    {
     "data": {
      "application/vnd.microsoft.datawrangler.viewer.v0+json": {
       "columns": [
        {
         "name": "index",
         "rawType": "int64",
         "type": "integer"
        },
        {
         "name": "Name",
         "rawType": "object",
         "type": "string"
        },
        {
         "name": "simbolo",
         "rawType": "object",
         "type": "string"
        },
        {
         "name": "n",
         "rawType": "Int64",
         "type": "integer"
        },
        {
         "name": "Atomic_Weight",
         "rawType": "float64",
         "type": "float"
        },
        {
         "name": "Density",
         "rawType": "float64",
         "type": "float"
        },
        {
         "name": "Melting_Point",
         "rawType": "float64",
         "type": "float"
        }
       ],
       "ref": "ded74a66-a539-4361-bd0f-936b2c9c7c5a",
       "rows": [
        [
         "76",
         "Iridium",
         "Ir",
         "77",
         "192.217",
         "22650.0",
         "2466.0"
        ],
        [
         "75",
         "Osmium",
         "Os",
         "76",
         "190.23",
         "22610.0",
         "3033.0"
        ],
        [
         "77",
         "Platinum",
         "Pt",
         "78",
         "195.078",
         "21090.0",
         "1768.3"
        ],
        [
         "74",
         "Rhenium",
         "Re",
         "75",
         "186.207",
         "21020.0",
         "3186.0"
        ],
        [
         "93",
         "Neptunium",
         "Np",
         "93",
         "237.0",
         "20450.0",
         "644.0"
        ]
       ],
       "shape": {
        "columns": 6,
        "rows": 5
       }
      },
      "text/html": [
       "<div>\n",
       "<style scoped>\n",
       "    .dataframe tbody tr th:only-of-type {\n",
       "        vertical-align: middle;\n",
       "    }\n",
       "\n",
       "    .dataframe tbody tr th {\n",
       "        vertical-align: top;\n",
       "    }\n",
       "\n",
       "    .dataframe thead th {\n",
       "        text-align: right;\n",
       "    }\n",
       "</style>\n",
       "<table border=\"1\" class=\"dataframe\">\n",
       "  <thead>\n",
       "    <tr style=\"text-align: right;\">\n",
       "      <th></th>\n",
       "      <th>Name</th>\n",
       "      <th>simbolo</th>\n",
       "      <th>n</th>\n",
       "      <th>Atomic_Weight</th>\n",
       "      <th>Density</th>\n",
       "      <th>Melting_Point</th>\n",
       "    </tr>\n",
       "  </thead>\n",
       "  <tbody>\n",
       "    <tr>\n",
       "      <th>76</th>\n",
       "      <td>Iridium</td>\n",
       "      <td>Ir</td>\n",
       "      <td>77</td>\n",
       "      <td>192.217</td>\n",
       "      <td>22650.0</td>\n",
       "      <td>2466.0</td>\n",
       "    </tr>\n",
       "    <tr>\n",
       "      <th>75</th>\n",
       "      <td>Osmium</td>\n",
       "      <td>Os</td>\n",
       "      <td>76</td>\n",
       "      <td>190.230</td>\n",
       "      <td>22610.0</td>\n",
       "      <td>3033.0</td>\n",
       "    </tr>\n",
       "    <tr>\n",
       "      <th>77</th>\n",
       "      <td>Platinum</td>\n",
       "      <td>Pt</td>\n",
       "      <td>78</td>\n",
       "      <td>195.078</td>\n",
       "      <td>21090.0</td>\n",
       "      <td>1768.3</td>\n",
       "    </tr>\n",
       "    <tr>\n",
       "      <th>74</th>\n",
       "      <td>Rhenium</td>\n",
       "      <td>Re</td>\n",
       "      <td>75</td>\n",
       "      <td>186.207</td>\n",
       "      <td>21020.0</td>\n",
       "      <td>3186.0</td>\n",
       "    </tr>\n",
       "    <tr>\n",
       "      <th>93</th>\n",
       "      <td>Neptunium</td>\n",
       "      <td>Np</td>\n",
       "      <td>93</td>\n",
       "      <td>237.000</td>\n",
       "      <td>20450.0</td>\n",
       "      <td>644.0</td>\n",
       "    </tr>\n",
       "  </tbody>\n",
       "</table>\n",
       "</div>"
      ],
      "text/plain": [
       "         Name simbolo   n  Atomic_Weight  Density  Melting_Point\n",
       "76    Iridium      Ir  77        192.217  22650.0         2466.0\n",
       "75     Osmium      Os  76        190.230  22610.0         3033.0\n",
       "77   Platinum      Pt  78        195.078  21090.0         1768.3\n",
       "74    Rhenium      Re  75        186.207  21020.0         3186.0\n",
       "93  Neptunium      Np  93        237.000  20450.0          644.0"
      ]
     },
     "execution_count": 20,
     "metadata": {},
     "output_type": "execute_result"
    }
   ],
   "source": [
    "# Vamos ordenar de outra forma\n",
    "nova_df.sort_values(by='Density', ascending=False).head(5)"
   ]
  },
  {
   "cell_type": "markdown",
   "id": "9c6fc2e2",
   "metadata": {},
   "source": [
    "Uma das ferramentas mais importantes da análise de dados é o agrupamento! podemos usar o `.groupby` para isso."
   ]
  },
  {
   "cell_type": "code",
   "execution_count": 21,
   "id": "b6ca79b1",
   "metadata": {},
   "outputs": [
    {
     "data": {
      "application/vnd.microsoft.datawrangler.viewer.v0+json": {
       "columns": [
        {
         "name": "index",
         "rawType": "object",
         "type": "string"
        },
        {
         "name": "18.0",
         "rawType": "float64",
         "type": "float"
        },
        {
         "name": "17.0",
         "rawType": "float64",
         "type": "float"
        },
        {
         "name": "1.0",
         "rawType": "float64",
         "type": "float"
        },
        {
         "name": "16.0",
         "rawType": "float64",
         "type": "float"
        },
        {
         "name": "12.0",
         "rawType": "float64",
         "type": "float"
        }
       ],
       "ref": "0998ad2c-7422-4039-be71-66a1e38f73b6",
       "rows": [
        [
         "Melting_Point",
         "117.54",
         "290.61",
         "298.19166666666666",
         "437.434",
         "507.0733333333333"
        ]
       ],
       "shape": {
        "columns": 5,
        "rows": 1
       }
      },
      "text/html": [
       "<div>\n",
       "<style scoped>\n",
       "    .dataframe tbody tr th:only-of-type {\n",
       "        vertical-align: middle;\n",
       "    }\n",
       "\n",
       "    .dataframe tbody tr th {\n",
       "        vertical-align: top;\n",
       "    }\n",
       "\n",
       "    .dataframe thead th {\n",
       "        text-align: right;\n",
       "    }\n",
       "</style>\n",
       "<table border=\"1\" class=\"dataframe\">\n",
       "  <thead>\n",
       "    <tr style=\"text-align: right;\">\n",
       "      <th>Group</th>\n",
       "      <th>18.0</th>\n",
       "      <th>17.0</th>\n",
       "      <th>1.0</th>\n",
       "      <th>16.0</th>\n",
       "      <th>12.0</th>\n",
       "    </tr>\n",
       "  </thead>\n",
       "  <tbody>\n",
       "    <tr>\n",
       "      <th>Melting_Point</th>\n",
       "      <td>117.54</td>\n",
       "      <td>290.61</td>\n",
       "      <td>298.191667</td>\n",
       "      <td>437.434</td>\n",
       "      <td>507.073333</td>\n",
       "    </tr>\n",
       "  </tbody>\n",
       "</table>\n",
       "</div>"
      ],
      "text/plain": [
       "Group            18.0    17.0        1.0      16.0        12.0\n",
       "Melting_Point  117.54  290.61  298.191667  437.434  507.073333"
      ]
     },
     "execution_count": 21,
     "metadata": {},
     "output_type": "execute_result"
    }
   ],
   "source": [
    "pd.DataFrame(pivot_df.groupby('Group')[\n",
    "    'Melting_Point'\n",
    "] \\\n",
    ".mean() \\\n",
    ".sort_values()).head(5).T"
   ]
  },
  {
   "cell_type": "code",
   "execution_count": 22,
   "id": "9bb7ac88",
   "metadata": {},
   "outputs": [
    {
     "data": {
      "application/vnd.microsoft.datawrangler.viewer.v0+json": {
       "columns": [
        {
         "name": "index",
         "rawType": "object",
         "type": "string"
        },
        {
         "name": "1.0",
         "rawType": "int64",
         "type": "integer"
        },
        {
         "name": "2.0",
         "rawType": "int64",
         "type": "integer"
        },
        {
         "name": "3.0",
         "rawType": "int64",
         "type": "integer"
        },
        {
         "name": "4.0",
         "rawType": "int64",
         "type": "integer"
        },
        {
         "name": "5.0",
         "rawType": "int64",
         "type": "integer"
        },
        {
         "name": "6.0",
         "rawType": "int64",
         "type": "integer"
        },
        {
         "name": "7.0",
         "rawType": "int64",
         "type": "integer"
        },
        {
         "name": "8.0",
         "rawType": "int64",
         "type": "integer"
        },
        {
         "name": "9.0",
         "rawType": "int64",
         "type": "integer"
        },
        {
         "name": "10.0",
         "rawType": "int64",
         "type": "integer"
        }
       ],
       "ref": "86374312-f752-483c-a913-ec7013721ed7",
       "rows": [
        [
         "Melting_Point",
         "6",
         "6",
         "4",
         "3",
         "3",
         "3",
         "3",
         "3",
         "3",
         "3"
        ]
       ],
       "shape": {
        "columns": 10,
        "rows": 1
       }
      },
      "text/html": [
       "<div>\n",
       "<style scoped>\n",
       "    .dataframe tbody tr th:only-of-type {\n",
       "        vertical-align: middle;\n",
       "    }\n",
       "\n",
       "    .dataframe tbody tr th {\n",
       "        vertical-align: top;\n",
       "    }\n",
       "\n",
       "    .dataframe thead th {\n",
       "        text-align: right;\n",
       "    }\n",
       "</style>\n",
       "<table border=\"1\" class=\"dataframe\">\n",
       "  <thead>\n",
       "    <tr style=\"text-align: right;\">\n",
       "      <th>Group</th>\n",
       "      <th>1.0</th>\n",
       "      <th>2.0</th>\n",
       "      <th>3.0</th>\n",
       "      <th>4.0</th>\n",
       "      <th>5.0</th>\n",
       "      <th>6.0</th>\n",
       "      <th>7.0</th>\n",
       "      <th>8.0</th>\n",
       "      <th>9.0</th>\n",
       "      <th>10.0</th>\n",
       "    </tr>\n",
       "  </thead>\n",
       "  <tbody>\n",
       "    <tr>\n",
       "      <th>Melting_Point</th>\n",
       "      <td>6</td>\n",
       "      <td>6</td>\n",
       "      <td>4</td>\n",
       "      <td>3</td>\n",
       "      <td>3</td>\n",
       "      <td>3</td>\n",
       "      <td>3</td>\n",
       "      <td>3</td>\n",
       "      <td>3</td>\n",
       "      <td>3</td>\n",
       "    </tr>\n",
       "  </tbody>\n",
       "</table>\n",
       "</div>"
      ],
      "text/plain": [
       "Group          1.0   2.0   3.0   4.0   5.0   6.0   7.0   8.0   9.0   10.0\n",
       "Melting_Point     6     6     4     3     3     3     3     3     3     3"
      ]
     },
     "execution_count": 22,
     "metadata": {},
     "output_type": "execute_result"
    }
   ],
   "source": [
    "pd.DataFrame(pivot_df.groupby('Group')[\n",
    "    'Melting_Point'\n",
    "] \\\n",
    ".count() \\\n",
    ".sort_index()).head(10).T"
   ]
  },
  {
   "cell_type": "code",
   "execution_count": 23,
   "id": "790576fe",
   "metadata": {},
   "outputs": [
    {
     "data": {
      "application/vnd.microsoft.datawrangler.viewer.v0+json": {
       "columns": [
        {
         "name": "Period",
         "rawType": "float64",
         "type": "float"
        },
        {
         "name": "1.0",
         "rawType": "object",
         "type": "string"
        },
        {
         "name": "2.0",
         "rawType": "object",
         "type": "string"
        },
        {
         "name": "3.0",
         "rawType": "object",
         "type": "string"
        },
        {
         "name": "4.0",
         "rawType": "object",
         "type": "string"
        },
        {
         "name": "5.0",
         "rawType": "object",
         "type": "string"
        },
        {
         "name": "6.0",
         "rawType": "object",
         "type": "string"
        },
        {
         "name": "7.0",
         "rawType": "object",
         "type": "string"
        },
        {
         "name": "12.0",
         "rawType": "object",
         "type": "string"
        },
        {
         "name": "13.0",
         "rawType": "object",
         "type": "string"
        },
        {
         "name": "14.0",
         "rawType": "object",
         "type": "string"
        },
        {
         "name": "15.0",
         "rawType": "object",
         "type": "string"
        },
        {
         "name": "16.0",
         "rawType": "object",
         "type": "string"
        },
        {
         "name": "17.0",
         "rawType": "object",
         "type": "string"
        },
        {
         "name": "18.0",
         "rawType": "object",
         "type": "string"
        }
       ],
       "ref": "cd48d4ac-38cd-4b94-ac66-fe98965a6ccf",
       "rows": [
        [
         "1.0",
         "H",
         "-",
         "-",
         "-",
         "-",
         "-",
         "-",
         "-",
         "-",
         "-",
         "-",
         "-",
         "-",
         "He"
        ],
        [
         "2.0",
         "Li",
         "Be",
         "-",
         "-",
         "-",
         "-",
         "-",
         "-",
         "B",
         "C",
         "N",
         "O",
         "F",
         "Ne"
        ],
        [
         "3.0",
         "Na",
         "Mg",
         "-",
         "-",
         "-",
         "-",
         "-",
         "-",
         "Al",
         "Si",
         "P",
         "S",
         "Cl",
         "Ar"
        ],
        [
         "4.0",
         "K",
         "Ca",
         "Sc",
         "Ti",
         "V",
         "Cr",
         "Mn",
         "Zn",
         "Ga",
         "Ge",
         "As",
         "Se",
         "Br",
         "Kr"
        ],
        [
         "5.0",
         "Rb",
         "Sr",
         "Y",
         "Zr",
         "Nb",
         "Mo",
         "Tc",
         "Cd",
         "In",
         "Sn",
         "Sb",
         "Te",
         "I",
         "Xe"
        ],
        [
         "6.0",
         "Cs",
         "Ba",
         "Lu",
         "Hf",
         "Ta",
         "W",
         "Re",
         "Hg",
         "Tl",
         "Pb",
         "Bi",
         "Po",
         "At",
         "Rn"
        ],
        [
         "7.0",
         "Fr",
         "Ra",
         "Lr",
         "Rf",
         "Db",
         "Sg",
         "Bh",
         "Uub",
         "Uut",
         "Uuq",
         "Uup",
         "Uuh",
         "Uus",
         "Uuo"
        ]
       ],
       "shape": {
        "columns": 14,
        "rows": 7
       }
      },
      "text/html": [
       "<div>\n",
       "<style scoped>\n",
       "    .dataframe tbody tr th:only-of-type {\n",
       "        vertical-align: middle;\n",
       "    }\n",
       "\n",
       "    .dataframe tbody tr th {\n",
       "        vertical-align: top;\n",
       "    }\n",
       "\n",
       "    .dataframe thead th {\n",
       "        text-align: right;\n",
       "    }\n",
       "</style>\n",
       "<table border=\"1\" class=\"dataframe\">\n",
       "  <thead>\n",
       "    <tr style=\"text-align: right;\">\n",
       "      <th>Group</th>\n",
       "      <th>1.0</th>\n",
       "      <th>2.0</th>\n",
       "      <th>3.0</th>\n",
       "      <th>4.0</th>\n",
       "      <th>5.0</th>\n",
       "      <th>6.0</th>\n",
       "      <th>7.0</th>\n",
       "      <th>12.0</th>\n",
       "      <th>13.0</th>\n",
       "      <th>14.0</th>\n",
       "      <th>15.0</th>\n",
       "      <th>16.0</th>\n",
       "      <th>17.0</th>\n",
       "      <th>18.0</th>\n",
       "    </tr>\n",
       "    <tr>\n",
       "      <th>Period</th>\n",
       "      <th></th>\n",
       "      <th></th>\n",
       "      <th></th>\n",
       "      <th></th>\n",
       "      <th></th>\n",
       "      <th></th>\n",
       "      <th></th>\n",
       "      <th></th>\n",
       "      <th></th>\n",
       "      <th></th>\n",
       "      <th></th>\n",
       "      <th></th>\n",
       "      <th></th>\n",
       "      <th></th>\n",
       "    </tr>\n",
       "  </thead>\n",
       "  <tbody>\n",
       "    <tr>\n",
       "      <th>1.0</th>\n",
       "      <td>H</td>\n",
       "      <td>-</td>\n",
       "      <td>-</td>\n",
       "      <td>-</td>\n",
       "      <td>-</td>\n",
       "      <td>-</td>\n",
       "      <td>-</td>\n",
       "      <td>-</td>\n",
       "      <td>-</td>\n",
       "      <td>-</td>\n",
       "      <td>-</td>\n",
       "      <td>-</td>\n",
       "      <td>-</td>\n",
       "      <td>He</td>\n",
       "    </tr>\n",
       "    <tr>\n",
       "      <th>2.0</th>\n",
       "      <td>Li</td>\n",
       "      <td>Be</td>\n",
       "      <td>-</td>\n",
       "      <td>-</td>\n",
       "      <td>-</td>\n",
       "      <td>-</td>\n",
       "      <td>-</td>\n",
       "      <td>-</td>\n",
       "      <td>B</td>\n",
       "      <td>C</td>\n",
       "      <td>N</td>\n",
       "      <td>O</td>\n",
       "      <td>F</td>\n",
       "      <td>Ne</td>\n",
       "    </tr>\n",
       "    <tr>\n",
       "      <th>3.0</th>\n",
       "      <td>Na</td>\n",
       "      <td>Mg</td>\n",
       "      <td>-</td>\n",
       "      <td>-</td>\n",
       "      <td>-</td>\n",
       "      <td>-</td>\n",
       "      <td>-</td>\n",
       "      <td>-</td>\n",
       "      <td>Al</td>\n",
       "      <td>Si</td>\n",
       "      <td>P</td>\n",
       "      <td>S</td>\n",
       "      <td>Cl</td>\n",
       "      <td>Ar</td>\n",
       "    </tr>\n",
       "    <tr>\n",
       "      <th>4.0</th>\n",
       "      <td>K</td>\n",
       "      <td>Ca</td>\n",
       "      <td>Sc</td>\n",
       "      <td>Ti</td>\n",
       "      <td>V</td>\n",
       "      <td>Cr</td>\n",
       "      <td>Mn</td>\n",
       "      <td>Zn</td>\n",
       "      <td>Ga</td>\n",
       "      <td>Ge</td>\n",
       "      <td>As</td>\n",
       "      <td>Se</td>\n",
       "      <td>Br</td>\n",
       "      <td>Kr</td>\n",
       "    </tr>\n",
       "    <tr>\n",
       "      <th>5.0</th>\n",
       "      <td>Rb</td>\n",
       "      <td>Sr</td>\n",
       "      <td>Y</td>\n",
       "      <td>Zr</td>\n",
       "      <td>Nb</td>\n",
       "      <td>Mo</td>\n",
       "      <td>Tc</td>\n",
       "      <td>Cd</td>\n",
       "      <td>In</td>\n",
       "      <td>Sn</td>\n",
       "      <td>Sb</td>\n",
       "      <td>Te</td>\n",
       "      <td>I</td>\n",
       "      <td>Xe</td>\n",
       "    </tr>\n",
       "    <tr>\n",
       "      <th>6.0</th>\n",
       "      <td>Cs</td>\n",
       "      <td>Ba</td>\n",
       "      <td>Lu</td>\n",
       "      <td>Hf</td>\n",
       "      <td>Ta</td>\n",
       "      <td>W</td>\n",
       "      <td>Re</td>\n",
       "      <td>Hg</td>\n",
       "      <td>Tl</td>\n",
       "      <td>Pb</td>\n",
       "      <td>Bi</td>\n",
       "      <td>Po</td>\n",
       "      <td>At</td>\n",
       "      <td>Rn</td>\n",
       "    </tr>\n",
       "    <tr>\n",
       "      <th>7.0</th>\n",
       "      <td>Fr</td>\n",
       "      <td>Ra</td>\n",
       "      <td>Lr</td>\n",
       "      <td>Rf</td>\n",
       "      <td>Db</td>\n",
       "      <td>Sg</td>\n",
       "      <td>Bh</td>\n",
       "      <td>Uub</td>\n",
       "      <td>Uut</td>\n",
       "      <td>Uuq</td>\n",
       "      <td>Uup</td>\n",
       "      <td>Uuh</td>\n",
       "      <td>Uus</td>\n",
       "      <td>Uuo</td>\n",
       "    </tr>\n",
       "  </tbody>\n",
       "</table>\n",
       "</div>"
      ],
      "text/plain": [
       "Group  1.0  2.0  3.0  4.0  5.0  6.0  7.0  12.0 13.0 14.0 15.0 16.0 17.0 18.0\n",
       "Period                                                                      \n",
       "1.0       H    -    -    -    -    -    -    -    -    -    -    -    -   He\n",
       "2.0      Li   Be    -    -    -    -    -    -    B    C    N    O    F   Ne\n",
       "3.0      Na   Mg    -    -    -    -    -    -   Al   Si    P    S   Cl   Ar\n",
       "4.0       K   Ca   Sc   Ti    V   Cr   Mn   Zn   Ga   Ge   As   Se   Br   Kr\n",
       "5.0      Rb   Sr    Y   Zr   Nb   Mo   Tc   Cd   In   Sn   Sb   Te    I   Xe\n",
       "6.0      Cs   Ba   Lu   Hf   Ta    W   Re   Hg   Tl   Pb   Bi   Po   At   Rn\n",
       "7.0      Fr   Ra   Lr   Rf   Db   Sg   Bh  Uub  Uut  Uuq  Uup  Uuh  Uus  Uuo"
      ]
     },
     "execution_count": 23,
     "metadata": {},
     "output_type": "execute_result"
    }
   ],
   "source": [
    "# A função de pivoteamento é extremamente importante!\n",
    "# Aqui no pdf faremos ela somente para alguns grupos!\n",
    "pivot_df.pivot_table(\n",
    "    values='Symbol',\n",
    "    columns='Group',\n",
    "    index='Period',\n",
    "    aggfunc='first'\n",
    ").fillna('-').iloc[:, list(range(0, 7)) + list(range(-7, 0))]"
   ]
  },
  {
   "cell_type": "code",
   "execution_count": 24,
   "id": "151009df",
   "metadata": {},
   "outputs": [],
   "source": [
    "pivot_df['Melting_Point'] = round(pivot_df['Melting_Point'] - 273.15, 2)\n",
    "pivot_df['Boiling_Point'] = round(pivot_df['Boiling_Point'] - 273.15, 2)"
   ]
  },
  {
   "cell_type": "markdown",
   "id": "ee9165dd",
   "metadata": {},
   "source": [
    "\\newpage\n",
    "\n",
    "### Visualizações Rápidas"
   ]
  },
  {
   "cell_type": "code",
   "execution_count": 25,
   "id": "fa333a52",
   "metadata": {},
   "outputs": [
    {
     "data": {
      "image/png": "[encoded data removed]",
      "text/plain": [
       "<Figure size 640x480 with 1 Axes>"
      ]
     },
     "metadata": {},
     "output_type": "display_data"
    }
   ],
   "source": [
    "df['Melting_Point'].hist();"
   ]
  },
  {
   "cell_type": "code",
   "execution_count": 26,
   "id": "882e9f03",
   "metadata": {},
   "outputs": [
    {
     "data": {
      "image/png": "[encoded data removed]",
      "text/plain": [
       "<Figure size 640x480 with 1 Axes>"
      ]
     },
     "metadata": {},
     "output_type": "display_data"
    }
   ],
   "source": [
    "df['Melting_Point'].plot();"
   ]
  },
  {
   "cell_type": "markdown",
   "id": "6bf73b91",
   "metadata": {},
   "source": [
    "\\newpage\n",
    "\n",
    "### Merging"
   ]
  },
  {
   "cell_type": "code",
   "execution_count": 27,
   "id": "0eb6a582",
   "metadata": {},
   "outputs": [],
   "source": [
    "bioquimicos = pd.DataFrame({\n",
    "    'Symbol': ['H', 'C', 'N', 'O', 'P', 'S', 'Na', 'K', 'Ca', \n",
    "               'Mg', 'Fe', 'Cl', 'Zn', 'Cu', 'Mn', 'Mo', 'I', 'Se'],\n",
    "    'Categoria': [\n",
    "        'Macronutriente', 'Macronutriente', 'Macronutriente', 'Macronutriente', \n",
    "        'Macronutriente', 'Macronutriente', 'Macronutriente', 'Macronutriente', \n",
    "        'Macronutriente', 'Macronutriente', 'Micronutriente', 'Macronutriente', \n",
    "        'Micronutriente', 'Micronutriente', 'Micronutriente', 'Micronutriente', \n",
    "        'Micronutriente', 'Micronutriente'\n",
    "    ],\n",
    "    'Função_Biológica': [\n",
    "        'Presente na água e nas biomoléculas',  # H\n",
    "        'Base estrutural das moléculas orgânicas',  # C\n",
    "        'Componente de proteínas e ácidos nucleicos',  # N\n",
    "        'Essencial para respiração e oxidação',  # O\n",
    "        'Presente em ATP e ácidos nucleicos',  # P\n",
    "        'Componente de aminoácidos e proteínas',  # S\n",
    "        'Equilíbrio osmótico e potencial de ação',  # Na\n",
    "        'Regulação celular e enzimática',  # K\n",
    "        'Estrutura óssea e sinalização celular',  # Ca\n",
    "        'Cofator enzimático e estabilização de ATP',  # Mg\n",
    "        'Transporte de oxigênio e reações redox',  # Fe\n",
    "        'Equilíbrio osmótico e digestão',  # Cl\n",
    "        'Ativação enzimática',  # Zn\n",
    "        'Transporte de elétrons e enzimas oxidases',  # Cu\n",
    "        'Fotossíntese e metabolismo energético',  # Mn\n",
    "        'Cofator enzimático na fixação de N',  # Mo\n",
    "        'Síntese de hormônios tireoidianos',  # I\n",
    "        'Antioxidante e defesa celular'  # Se\n",
    "    ]\n",
    "})\n",
    "\n",
    "# bioquimicos.to_csv(r'..\\data\\bioquimicos.csv', index=False)"
   ]
  },
  {
   "cell_type": "code",
   "execution_count": 28,
   "id": "e41d9fd8",
   "metadata": {},
   "outputs": [
    {
     "data": {
      "application/vnd.microsoft.datawrangler.viewer.v0+json": {
       "columns": [
        {
         "name": "index",
         "rawType": "int64",
         "type": "integer"
        },
        {
         "name": "Symbol",
         "rawType": "object",
         "type": "string"
        },
        {
         "name": "Categoria",
         "rawType": "object",
         "type": "string"
        },
        {
         "name": "Função_Biológica",
         "rawType": "object",
         "type": "string"
        }
       ],
       "ref": "b66f66ee-1fa0-41aa-b80f-7af0329eb3a9",
       "rows": [
        [
         "0",
         "H",
         "Macronutriente",
         "Presente na água e nas biomoléculas"
        ],
        [
         "1",
         "C",
         "Macronutriente",
         "Base estrutural das moléculas orgânicas"
        ],
        [
         "2",
         "N",
         "Macronutriente",
         "Componente de proteínas e ácidos nucleicos"
        ],
        [
         "3",
         "O",
         "Macronutriente",
         "Essencial para respiração e oxidação"
        ],
        [
         "4",
         "P",
         "Macronutriente",
         "Presente em ATP e ácidos nucleicos"
        ],
        [
         "5",
         "S",
         "Macronutriente",
         "Componente de aminoácidos e proteínas"
        ],
        [
         "6",
         "Na",
         "Macronutriente",
         "Equilíbrio osmótico e potencial de ação"
        ],
        [
         "7",
         "K",
         "Macronutriente",
         "Regulação celular e enzimática"
        ],
        [
         "8",
         "Ca",
         "Macronutriente",
         "Estrutura óssea e sinalização celular"
        ],
        [
         "9",
         "Mg",
         "Macronutriente",
         "Cofator enzimático e estabilização de ATP"
        ],
        [
         "10",
         "Fe",
         "Micronutriente",
         "Transporte de oxigênio e reações redox"
        ],
        [
         "11",
         "Cl",
         "Macronutriente",
         "Equilíbrio osmótico e digestão"
        ],
        [
         "12",
         "Zn",
         "Micronutriente",
         "Ativação enzimática"
        ],
        [
         "13",
         "Cu",
         "Micronutriente",
         "Transporte de elétrons e enzimas oxidases"
        ],
        [
         "14",
         "Mn",
         "Micronutriente",
         "Fotossíntese e metabolismo energético"
        ],
        [
         "15",
         "Mo",
         "Micronutriente",
         "Cofator enzimático na fixação de N"
        ],
        [
         "16",
         "I",
         "Micronutriente",
         "Síntese de hormônios tireoidianos"
        ],
        [
         "17",
         "Se",
         "Micronutriente",
         "Antioxidante e defesa celular"
        ]
       ],
       "shape": {
        "columns": 3,
        "rows": 18
       }
      },
      "text/html": [
       "<div>\n",
       "<style scoped>\n",
       "    .dataframe tbody tr th:only-of-type {\n",
       "        vertical-align: middle;\n",
       "    }\n",
       "\n",
       "    .dataframe tbody tr th {\n",
       "        vertical-align: top;\n",
       "    }\n",
       "\n",
       "    .dataframe thead th {\n",
       "        text-align: right;\n",
       "    }\n",
       "</style>\n",
       "<table border=\"1\" class=\"dataframe\">\n",
       "  <thead>\n",
       "    <tr style=\"text-align: right;\">\n",
       "      <th></th>\n",
       "      <th>Symbol</th>\n",
       "      <th>Categoria</th>\n",
       "      <th>Função_Biológica</th>\n",
       "    </tr>\n",
       "  </thead>\n",
       "  <tbody>\n",
       "    <tr>\n",
       "      <th>0</th>\n",
       "      <td>H</td>\n",
       "      <td>Macronutriente</td>\n",
       "      <td>Presente na água e nas biomoléculas</td>\n",
       "    </tr>\n",
       "    <tr>\n",
       "      <th>1</th>\n",
       "      <td>C</td>\n",
       "      <td>Macronutriente</td>\n",
       "      <td>Base estrutural das moléculas orgânicas</td>\n",
       "    </tr>\n",
       "    <tr>\n",
       "      <th>2</th>\n",
       "      <td>N</td>\n",
       "      <td>Macronutriente</td>\n",
       "      <td>Componente de proteínas e ácidos nucleicos</td>\n",
       "    </tr>\n",
       "    <tr>\n",
       "      <th>3</th>\n",
       "      <td>O</td>\n",
       "      <td>Macronutriente</td>\n",
       "      <td>Essencial para respiração e oxidação</td>\n",
       "    </tr>\n",
       "    <tr>\n",
       "      <th>4</th>\n",
       "      <td>P</td>\n",
       "      <td>Macronutriente</td>\n",
       "      <td>Presente em ATP e ácidos nucleicos</td>\n",
       "    </tr>\n",
       "    <tr>\n",
       "      <th>5</th>\n",
       "      <td>S</td>\n",
       "      <td>Macronutriente</td>\n",
       "      <td>Componente de aminoácidos e proteínas</td>\n",
       "    </tr>\n",
       "    <tr>\n",
       "      <th>6</th>\n",
       "      <td>Na</td>\n",
       "      <td>Macronutriente</td>\n",
       "      <td>Equilíbrio osmótico e potencial de ação</td>\n",
       "    </tr>\n",
       "    <tr>\n",
       "      <th>7</th>\n",
       "      <td>K</td>\n",
       "      <td>Macronutriente</td>\n",
       "      <td>Regulação celular e enzimática</td>\n",
       "    </tr>\n",
       "    <tr>\n",
       "      <th>8</th>\n",
       "      <td>Ca</td>\n",
       "      <td>Macronutriente</td>\n",
       "      <td>Estrutura óssea e sinalização celular</td>\n",
       "    </tr>\n",
       "    <tr>\n",
       "      <th>9</th>\n",
       "      <td>Mg</td>\n",
       "      <td>Macronutriente</td>\n",
       "      <td>Cofator enzimático e estabilização de ATP</td>\n",
       "    </tr>\n",
       "    <tr>\n",
       "      <th>10</th>\n",
       "      <td>Fe</td>\n",
       "      <td>Micronutriente</td>\n",
       "      <td>Transporte de oxigênio e reações redox</td>\n",
       "    </tr>\n",
       "    <tr>\n",
       "      <th>11</th>\n",
       "      <td>Cl</td>\n",
       "      <td>Macronutriente</td>\n",
       "      <td>Equilíbrio osmótico e digestão</td>\n",
       "    </tr>\n",
       "    <tr>\n",
       "      <th>12</th>\n",
       "      <td>Zn</td>\n",
       "      <td>Micronutriente</td>\n",
       "      <td>Ativação enzimática</td>\n",
       "    </tr>\n",
       "    <tr>\n",
       "      <th>13</th>\n",
       "      <td>Cu</td>\n",
       "      <td>Micronutriente</td>\n",
       "      <td>Transporte de elétrons e enzimas oxidases</td>\n",
       "    </tr>\n",
       "    <tr>\n",
       "      <th>14</th>\n",
       "      <td>Mn</td>\n",
       "      <td>Micronutriente</td>\n",
       "      <td>Fotossíntese e metabolismo energético</td>\n",
       "    </tr>\n",
       "    <tr>\n",
       "      <th>15</th>\n",
       "      <td>Mo</td>\n",
       "      <td>Micronutriente</td>\n",
       "      <td>Cofator enzimático na fixação de N</td>\n",
       "    </tr>\n",
       "    <tr>\n",
       "      <th>16</th>\n",
       "      <td>I</td>\n",
       "      <td>Micronutriente</td>\n",
       "      <td>Síntese de hormônios tireoidianos</td>\n",
       "    </tr>\n",
       "    <tr>\n",
       "      <th>17</th>\n",
       "      <td>Se</td>\n",
       "      <td>Micronutriente</td>\n",
       "      <td>Antioxidante e defesa celular</td>\n",
       "    </tr>\n",
       "  </tbody>\n",
       "</table>\n",
       "</div>"
      ],
      "text/plain": [
       "   Symbol       Categoria                            Função_Biológica\n",
       "0       H  Macronutriente         Presente na água e nas biomoléculas\n",
       "1       C  Macronutriente     Base estrutural das moléculas orgânicas\n",
       "2       N  Macronutriente  Componente de proteínas e ácidos nucleicos\n",
       "3       O  Macronutriente        Essencial para respiração e oxidação\n",
       "4       P  Macronutriente          Presente em ATP e ácidos nucleicos\n",
       "5       S  Macronutriente       Componente de aminoácidos e proteínas\n",
       "6      Na  Macronutriente     Equilíbrio osmótico e potencial de ação\n",
       "7       K  Macronutriente              Regulação celular e enzimática\n",
       "8      Ca  Macronutriente       Estrutura óssea e sinalização celular\n",
       "9      Mg  Macronutriente   Cofator enzimático e estabilização de ATP\n",
       "10     Fe  Micronutriente      Transporte de oxigênio e reações redox\n",
       "11     Cl  Macronutriente              Equilíbrio osmótico e digestão\n",
       "12     Zn  Micronutriente                         Ativação enzimática\n",
       "13     Cu  Micronutriente   Transporte de elétrons e enzimas oxidases\n",
       "14     Mn  Micronutriente       Fotossíntese e metabolismo energético\n",
       "15     Mo  Micronutriente          Cofator enzimático na fixação de N\n",
       "16      I  Micronutriente           Síntese de hormônios tireoidianos\n",
       "17     Se  Micronutriente               Antioxidante e defesa celular"
      ]
     },
     "execution_count": 28,
     "metadata": {},
     "output_type": "execute_result"
    }
   ],
   "source": [
    "bioquimicos"
   ]
  },
  {
   "cell_type": "code",
   "execution_count": 29,
   "id": "65cb30ef",
   "metadata": {},
   "outputs": [
    {
     "data": {
      "application/vnd.microsoft.datawrangler.viewer.v0+json": {
       "columns": [
        {
         "name": "index",
         "rawType": "int64",
         "type": "integer"
        },
        {
         "name": "Name",
         "rawType": "object",
         "type": "string"
        },
        {
         "name": "Symbol",
         "rawType": "object",
         "type": "string"
        },
        {
         "name": "Density",
         "rawType": "float64",
         "type": "float"
        },
        {
         "name": "Função_Biológica",
         "rawType": "object",
         "type": "unknown"
        }
       ],
       "ref": "d1918f87-6256-498d-bfe1-39eddde3818f",
       "rows": [
        [
         "0",
         "Hydrogen",
         "H",
         "0.0899",
         "Presente na água e nas biomoléculas"
        ],
        [
         "1",
         "Helium",
         "He",
         "0.1785",
         null
        ],
        [
         "2",
         "Lithium",
         "Li",
         "535.0",
         null
        ],
        [
         "3",
         "Beryllium",
         "Be",
         "1848.0",
         null
        ],
        [
         "4",
         "Boron",
         "B",
         "2460.0",
         null
        ],
        [
         "5",
         "Carbon",
         "C",
         "2260.0",
         "Base estrutural das moléculas orgânicas"
        ],
        [
         "6",
         "Nitrogen",
         "N",
         "1.251",
         "Componente de proteínas e ácidos nucleicos"
        ],
        [
         "7",
         "Oxygen",
         "O",
         "1.429",
         "Essencial para respiração e oxidação"
        ],
        [
         "8",
         "Fluorine",
         "F",
         "1.696",
         null
        ],
        [
         "9",
         "Neon",
         "Ne",
         "0.9",
         null
        ]
       ],
       "shape": {
        "columns": 4,
        "rows": 10
       }
      },
      "text/html": [
       "<div>\n",
       "<style scoped>\n",
       "    .dataframe tbody tr th:only-of-type {\n",
       "        vertical-align: middle;\n",
       "    }\n",
       "\n",
       "    .dataframe tbody tr th {\n",
       "        vertical-align: top;\n",
       "    }\n",
       "\n",
       "    .dataframe thead th {\n",
       "        text-align: right;\n",
       "    }\n",
       "</style>\n",
       "<table border=\"1\" class=\"dataframe\">\n",
       "  <thead>\n",
       "    <tr style=\"text-align: right;\">\n",
       "      <th></th>\n",
       "      <th>Name</th>\n",
       "      <th>Symbol</th>\n",
       "      <th>Density</th>\n",
       "      <th>Função_Biológica</th>\n",
       "    </tr>\n",
       "  </thead>\n",
       "  <tbody>\n",
       "    <tr>\n",
       "      <th>0</th>\n",
       "      <td>Hydrogen</td>\n",
       "      <td>H</td>\n",
       "      <td>0.0899</td>\n",
       "      <td>Presente na água e nas biomoléculas</td>\n",
       "    </tr>\n",
       "    <tr>\n",
       "      <th>1</th>\n",
       "      <td>Helium</td>\n",
       "      <td>He</td>\n",
       "      <td>0.1785</td>\n",
       "      <td>NaN</td>\n",
       "    </tr>\n",
       "    <tr>\n",
       "      <th>2</th>\n",
       "      <td>Lithium</td>\n",
       "      <td>Li</td>\n",
       "      <td>535.0000</td>\n",
       "      <td>NaN</td>\n",
       "    </tr>\n",
       "    <tr>\n",
       "      <th>3</th>\n",
       "      <td>Beryllium</td>\n",
       "      <td>Be</td>\n",
       "      <td>1848.0000</td>\n",
       "      <td>NaN</td>\n",
       "    </tr>\n",
       "    <tr>\n",
       "      <th>4</th>\n",
       "      <td>Boron</td>\n",
       "      <td>B</td>\n",
       "      <td>2460.0000</td>\n",
       "      <td>NaN</td>\n",
       "    </tr>\n",
       "    <tr>\n",
       "      <th>5</th>\n",
       "      <td>Carbon</td>\n",
       "      <td>C</td>\n",
       "      <td>2260.0000</td>\n",
       "      <td>Base estrutural das moléculas orgânicas</td>\n",
       "    </tr>\n",
       "    <tr>\n",
       "      <th>6</th>\n",
       "      <td>Nitrogen</td>\n",
       "      <td>N</td>\n",
       "      <td>1.2510</td>\n",
       "      <td>Componente de proteínas e ácidos nucleicos</td>\n",
       "    </tr>\n",
       "    <tr>\n",
       "      <th>7</th>\n",
       "      <td>Oxygen</td>\n",
       "      <td>O</td>\n",
       "      <td>1.4290</td>\n",
       "      <td>Essencial para respiração e oxidação</td>\n",
       "    </tr>\n",
       "    <tr>\n",
       "      <th>8</th>\n",
       "      <td>Fluorine</td>\n",
       "      <td>F</td>\n",
       "      <td>1.6960</td>\n",
       "      <td>NaN</td>\n",
       "    </tr>\n",
       "    <tr>\n",
       "      <th>9</th>\n",
       "      <td>Neon</td>\n",
       "      <td>Ne</td>\n",
       "      <td>0.9000</td>\n",
       "      <td>NaN</td>\n",
       "    </tr>\n",
       "  </tbody>\n",
       "</table>\n",
       "</div>"
      ],
      "text/plain": [
       "        Name Symbol    Density                            Função_Biológica\n",
       "0   Hydrogen      H     0.0899         Presente na água e nas biomoléculas\n",
       "1     Helium     He     0.1785                                         NaN\n",
       "2    Lithium     Li   535.0000                                         NaN\n",
       "3  Beryllium     Be  1848.0000                                         NaN\n",
       "4      Boron      B  2460.0000                                         NaN\n",
       "5     Carbon      C  2260.0000     Base estrutural das moléculas orgânicas\n",
       "6   Nitrogen      N     1.2510  Componente de proteínas e ácidos nucleicos\n",
       "7     Oxygen      O     1.4290        Essencial para respiração e oxidação\n",
       "8   Fluorine      F     1.6960                                         NaN\n",
       "9       Neon     Ne     0.9000                                         NaN"
      ]
     },
     "execution_count": 29,
     "metadata": {},
     "output_type": "execute_result"
    }
   ],
   "source": [
    "df = pd.merge(\n",
    "    df,\n",
    "    bioquimicos,\n",
    "    on='Symbol',\n",
    "    how='left'\n",
    ")\n",
    "\n",
    "df[['Name', 'Symbol', 'Density', 'Função_Biológica']].head(10)"
   ]
  },
  {
   "cell_type": "code",
   "execution_count": 30,
   "id": "7798b9ff",
   "metadata": {},
   "outputs": [
    {
     "name": "stdout",
     "output_type": "stream",
     "text": [
      "Percentual de Elementos Bioquímicos = 15.25%\n"
     ]
    }
   ],
   "source": [
    "pct_bioq = 100* len(df.query('Função_Biológica.notna()')) / len(df)\n",
    "\n",
    "print(f'''Percentual de Elementos Bioquímicos = {pct_bioq:.2f}%''')"
   ]
  },
  {
   "cell_type": "markdown",
   "id": "1075a843",
   "metadata": {},
   "source": [
    "### Exportação"
   ]
  },
  {
   "cell_type": "code",
   "execution_count": 31,
   "id": "fe061da8",
   "metadata": {},
   "outputs": [],
   "source": [
    "df.to_csv(r'..\\data\\tabela_periodica_bioquimica.csv', index=False)"
   ]
  },
  {
   "cell_type": "markdown",
   "id": "df722780",
   "metadata": {},
   "source": [
    "\\newpage\n",
    "\n",
    "### Estatísticas Básicas"
   ]
  },
  {
   "cell_type": "code",
   "execution_count": 32,
   "id": "8f3c9d0c",
   "metadata": {},
   "outputs": [
    {
     "data": {
      "application/vnd.microsoft.datawrangler.viewer.v0+json": {
       "columns": [
        {
         "name": "index",
         "rawType": "object",
         "type": "string"
        },
        {
         "name": "Density",
         "rawType": "float64",
         "type": "float"
        },
        {
         "name": "Melting_Point",
         "rawType": "float64",
         "type": "float"
        },
        {
         "name": "Atomic_Weight",
         "rawType": "float64",
         "type": "float"
        }
       ],
       "ref": "63c09021-1d7e-4485-a8f9-771edcaa3479",
       "rows": [
        [
         "Density",
         "1.0",
         "0.5618770400703724",
         "0.7287954231689263"
        ],
        [
         "Melting_Point",
         "0.5618770400703724",
         "1.0",
         "0.1738191626225679"
        ],
        [
         "Atomic_Weight",
         "0.7287954231689263",
         "0.1738191626225679",
         "1.0"
        ]
       ],
       "shape": {
        "columns": 3,
        "rows": 3
       }
      },
      "text/html": [
       "<div>\n",
       "<style scoped>\n",
       "    .dataframe tbody tr th:only-of-type {\n",
       "        vertical-align: middle;\n",
       "    }\n",
       "\n",
       "    .dataframe tbody tr th {\n",
       "        vertical-align: top;\n",
       "    }\n",
       "\n",
       "    .dataframe thead th {\n",
       "        text-align: right;\n",
       "    }\n",
       "</style>\n",
       "<table border=\"1\" class=\"dataframe\">\n",
       "  <thead>\n",
       "    <tr style=\"text-align: right;\">\n",
       "      <th></th>\n",
       "      <th>Density</th>\n",
       "      <th>Melting_Point</th>\n",
       "      <th>Atomic_Weight</th>\n",
       "    </tr>\n",
       "  </thead>\n",
       "  <tbody>\n",
       "    <tr>\n",
       "      <th>Density</th>\n",
       "      <td>1.000000</td>\n",
       "      <td>0.561877</td>\n",
       "      <td>0.728795</td>\n",
       "    </tr>\n",
       "    <tr>\n",
       "      <th>Melting_Point</th>\n",
       "      <td>0.561877</td>\n",
       "      <td>1.000000</td>\n",
       "      <td>0.173819</td>\n",
       "    </tr>\n",
       "    <tr>\n",
       "      <th>Atomic_Weight</th>\n",
       "      <td>0.728795</td>\n",
       "      <td>0.173819</td>\n",
       "      <td>1.000000</td>\n",
       "    </tr>\n",
       "  </tbody>\n",
       "</table>\n",
       "</div>"
      ],
      "text/plain": [
       "                Density  Melting_Point  Atomic_Weight\n",
       "Density        1.000000       0.561877       0.728795\n",
       "Melting_Point  0.561877       1.000000       0.173819\n",
       "Atomic_Weight  0.728795       0.173819       1.000000"
      ]
     },
     "execution_count": 32,
     "metadata": {},
     "output_type": "execute_result"
    }
   ],
   "source": [
    "df[['Density', 'Melting_Point', 'Atomic_Weight']].corr()"
   ]
  },
  {
   "cell_type": "code",
   "execution_count": 56,
   "id": "9dfc2b88",
   "metadata": {},
   "outputs": [
    {
     "data": {
      "application/vnd.microsoft.datawrangler.viewer.v0+json": {
       "columns": [
        {
         "name": "index",
         "rawType": "int64",
         "type": "integer"
        },
        {
         "name": "Density",
         "rawType": "float64",
         "type": "float"
        },
        {
         "name": "Melting_Point",
         "rawType": "float64",
         "type": "float"
        },
        {
         "name": "Atomic_Weight",
         "rawType": "float64",
         "type": "float"
        }
       ],
       "ref": "ae2304ac-e163-4d03-820a-7e9076abdea7",
       "rows": [
        [
         "20",
         "2985.0",
         "1541.0",
         "44.95591"
        ],
        [
         "58",
         "6640.0",
         "931.0",
         "140.90765"
        ],
        [
         "11",
         "1738.0",
         "650.0",
         "24.305"
        ],
        [
         "86",
         null,
         null,
         "223.0"
        ],
        [
         "50",
         "6697.0",
         "630.63",
         "121.76"
        ]
       ],
       "shape": {
        "columns": 3,
        "rows": 5
       }
      },
      "text/html": [
       "<div>\n",
       "<style scoped>\n",
       "    .dataframe tbody tr th:only-of-type {\n",
       "        vertical-align: middle;\n",
       "    }\n",
       "\n",
       "    .dataframe tbody tr th {\n",
       "        vertical-align: top;\n",
       "    }\n",
       "\n",
       "    .dataframe thead th {\n",
       "        text-align: right;\n",
       "    }\n",
       "</style>\n",
       "<table border=\"1\" class=\"dataframe\">\n",
       "  <thead>\n",
       "    <tr style=\"text-align: right;\">\n",
       "      <th></th>\n",
       "      <th>Density</th>\n",
       "      <th>Melting_Point</th>\n",
       "      <th>Atomic_Weight</th>\n",
       "    </tr>\n",
       "  </thead>\n",
       "  <tbody>\n",
       "    <tr>\n",
       "      <th>20</th>\n",
       "      <td>2985.0</td>\n",
       "      <td>1541.00</td>\n",
       "      <td>44.95591</td>\n",
       "    </tr>\n",
       "    <tr>\n",
       "      <th>58</th>\n",
       "      <td>6640.0</td>\n",
       "      <td>931.00</td>\n",
       "      <td>140.90765</td>\n",
       "    </tr>\n",
       "    <tr>\n",
       "      <th>11</th>\n",
       "      <td>1738.0</td>\n",
       "      <td>650.00</td>\n",
       "      <td>24.30500</td>\n",
       "    </tr>\n",
       "    <tr>\n",
       "      <th>86</th>\n",
       "      <td>NaN</td>\n",
       "      <td>NaN</td>\n",
       "      <td>223.00000</td>\n",
       "    </tr>\n",
       "    <tr>\n",
       "      <th>50</th>\n",
       "      <td>6697.0</td>\n",
       "      <td>630.63</td>\n",
       "      <td>121.76000</td>\n",
       "    </tr>\n",
       "  </tbody>\n",
       "</table>\n",
       "</div>"
      ],
      "text/plain": [
       "    Density  Melting_Point  Atomic_Weight\n",
       "20   2985.0        1541.00       44.95591\n",
       "58   6640.0         931.00      140.90765\n",
       "11   1738.0         650.00       24.30500\n",
       "86      NaN            NaN      223.00000\n",
       "50   6697.0         630.63      121.76000"
      ]
     },
     "execution_count": 56,
     "metadata": {},
     "output_type": "execute_result"
    }
   ],
   "source": [
    "df[['Density', 'Melting_Point', 'Atomic_Weight']].sample(n=5)"
   ]
  },
  {
   "cell_type": "code",
   "execution_count": 57,
   "id": "1dd82714",
   "metadata": {},
   "outputs": [
    {
     "data": {
      "application/vnd.microsoft.datawrangler.viewer.v0+json": {
       "columns": [
        {
         "name": "index",
         "rawType": "int64",
         "type": "integer"
        },
        {
         "name": "Density",
         "rawType": "float64",
         "type": "float"
        },
        {
         "name": "Melting_Point",
         "rawType": "float64",
         "type": "float"
        },
        {
         "name": "Atomic_Weight",
         "rawType": "float64",
         "type": "float"
        }
       ],
       "ref": "ee3afe00-718c-4250-9252-f7459b9d5504",
       "rows": [
        [
         "18",
         "856.0",
         "63.38",
         "39.0983"
        ],
        [
         "108",
         null,
         null,
         "268.0"
        ]
       ],
       "shape": {
        "columns": 3,
        "rows": 2
       }
      },
      "text/html": [
       "<div>\n",
       "<style scoped>\n",
       "    .dataframe tbody tr th:only-of-type {\n",
       "        vertical-align: middle;\n",
       "    }\n",
       "\n",
       "    .dataframe tbody tr th {\n",
       "        vertical-align: top;\n",
       "    }\n",
       "\n",
       "    .dataframe thead th {\n",
       "        text-align: right;\n",
       "    }\n",
       "</style>\n",
       "<table border=\"1\" class=\"dataframe\">\n",
       "  <thead>\n",
       "    <tr style=\"text-align: right;\">\n",
       "      <th></th>\n",
       "      <th>Density</th>\n",
       "      <th>Melting_Point</th>\n",
       "      <th>Atomic_Weight</th>\n",
       "    </tr>\n",
       "  </thead>\n",
       "  <tbody>\n",
       "    <tr>\n",
       "      <th>18</th>\n",
       "      <td>856.0</td>\n",
       "      <td>63.38</td>\n",
       "      <td>39.0983</td>\n",
       "    </tr>\n",
       "    <tr>\n",
       "      <th>108</th>\n",
       "      <td>NaN</td>\n",
       "      <td>NaN</td>\n",
       "      <td>268.0000</td>\n",
       "    </tr>\n",
       "  </tbody>\n",
       "</table>\n",
       "</div>"
      ],
      "text/plain": [
       "     Density  Melting_Point  Atomic_Weight\n",
       "18     856.0          63.38        39.0983\n",
       "108      NaN            NaN       268.0000"
      ]
     },
     "execution_count": 57,
     "metadata": {},
     "output_type": "execute_result"
    }
   ],
   "source": [
    "df[['Density', 'Melting_Point', 'Atomic_Weight']].sample(frac=0.02)"
   ]
  },
  {
   "cell_type": "code",
   "execution_count": 49,
   "id": "7cd45de4",
   "metadata": {},
   "outputs": [
    {
     "data": {
      "application/vnd.microsoft.datawrangler.viewer.v0+json": {
       "columns": [
        {
         "name": "index",
         "rawType": "object",
         "type": "string"
        },
        {
         "name": "Density",
         "rawType": "float64",
         "type": "float"
        },
        {
         "name": "Melting_Point",
         "rawType": "float64",
         "type": "float"
        },
        {
         "name": "Atomic_Weight",
         "rawType": "float64",
         "type": "float"
        }
       ],
       "ref": "b11fc14c-f5c4-4e4d-8ac4-bca12ee3faae",
       "rows": [
        [
         "Density",
         "35495401.62009226",
         "3030046.509800254",
         "317603.83334491134"
        ],
        [
         "Melting_Point",
         "3030046.509800254",
         "780087.2024249504",
         "11923.5794396583"
        ],
        [
         "Atomic_Weight",
         "317603.83334491134",
         "11923.5794396583",
         "7831.537030361011"
        ]
       ],
       "shape": {
        "columns": 3,
        "rows": 3
       }
      },
      "text/html": [
       "<div>\n",
       "<style scoped>\n",
       "    .dataframe tbody tr th:only-of-type {\n",
       "        vertical-align: middle;\n",
       "    }\n",
       "\n",
       "    .dataframe tbody tr th {\n",
       "        vertical-align: top;\n",
       "    }\n",
       "\n",
       "    .dataframe thead th {\n",
       "        text-align: right;\n",
       "    }\n",
       "</style>\n",
       "<table border=\"1\" class=\"dataframe\">\n",
       "  <thead>\n",
       "    <tr style=\"text-align: right;\">\n",
       "      <th></th>\n",
       "      <th>Density</th>\n",
       "      <th>Melting_Point</th>\n",
       "      <th>Atomic_Weight</th>\n",
       "    </tr>\n",
       "  </thead>\n",
       "  <tbody>\n",
       "    <tr>\n",
       "      <th>Density</th>\n",
       "      <td>3.549540e+07</td>\n",
       "      <td>3.030047e+06</td>\n",
       "      <td>317603.833345</td>\n",
       "    </tr>\n",
       "    <tr>\n",
       "      <th>Melting_Point</th>\n",
       "      <td>3.030047e+06</td>\n",
       "      <td>7.800872e+05</td>\n",
       "      <td>11923.579440</td>\n",
       "    </tr>\n",
       "    <tr>\n",
       "      <th>Atomic_Weight</th>\n",
       "      <td>3.176038e+05</td>\n",
       "      <td>1.192358e+04</td>\n",
       "      <td>7831.537030</td>\n",
       "    </tr>\n",
       "  </tbody>\n",
       "</table>\n",
       "</div>"
      ],
      "text/plain": [
       "                    Density  Melting_Point  Atomic_Weight\n",
       "Density        3.549540e+07   3.030047e+06  317603.833345\n",
       "Melting_Point  3.030047e+06   7.800872e+05   11923.579440\n",
       "Atomic_Weight  3.176038e+05   1.192358e+04    7831.537030"
      ]
     },
     "execution_count": 49,
     "metadata": {},
     "output_type": "execute_result"
    }
   ],
   "source": [
    "df[['Density', 'Melting_Point', 'Atomic_Weight']].cov()"
   ]
  },
  {
   "cell_type": "code",
   "execution_count": 46,
   "id": "6275a0ac",
   "metadata": {},
   "outputs": [
    {
     "data": {
      "application/vnd.microsoft.datawrangler.viewer.v0+json": {
       "columns": [
        {
         "name": "Categoria",
         "rawType": "object",
         "type": "unknown"
        },
        {
         "name": "count",
         "rawType": "int64",
         "type": "integer"
        }
       ],
       "ref": "98abc509-6b46-416e-9551-8fb343c154e6",
       "rows": [
        [
         null,
         "100"
        ],
        [
         "Macronutriente",
         "11"
        ],
        [
         "Micronutriente",
         "7"
        ]
       ],
       "shape": {
        "columns": 1,
        "rows": 3
       }
      },
      "text/plain": [
       "Categoria\n",
       "NaN               100\n",
       "Macronutriente     11\n",
       "Micronutriente      7\n",
       "Name: count, dtype: int64"
      ]
     },
     "execution_count": 46,
     "metadata": {},
     "output_type": "execute_result"
    }
   ],
   "source": [
    "df.Categoria.value_counts(dropna=False)"
   ]
  },
  {
   "cell_type": "code",
   "execution_count": 33,
   "id": "a330407b",
   "metadata": {},
   "outputs": [
    {
     "data": {
      "text/plain": [
       "<Axes: >"
      ]
     },
     "execution_count": 33,
     "metadata": {},
     "output_type": "execute_result"
    },
    {
     "data": {
      "image/png": "[encoded data removed]",
      "text/plain": [
       "<Figure size 640x480 with 2 Axes>"
      ]
     },
     "metadata": {},
     "output_type": "display_data"
    }
   ],
   "source": [
    "sns.heatmap(df[['Density', 'Melting_Point', 'Atomic_Weight']].corr(), annot=True)"
   ]
  },
  {
   "cell_type": "markdown",
   "id": "a1df80ab",
   "metadata": {},
   "source": [
    "Adicional: preparando os dados para trabalhar com a biblioteca numpy!"
   ]
  },
  {
   "cell_type": "code",
   "execution_count": 63,
   "id": "638fe62c",
   "metadata": {},
   "outputs": [
    {
     "data": {
      "text/plain": [
       "array([['Helium', 'He', 2.0, 4.002602, 0.1785, nan, nan, nan],\n",
       "       ['Lithium', 'Li', 3.0, 6.941, 535.0, 180.54, nan, nan],\n",
       "       ['Beryllium', 'Be', 4.0, 9.012182, 1848.0, 1287.0, nan, nan],\n",
       "       ['Boron', 'B', 5.0, 10.811, 2460.0, 2075.0, nan, nan]],\n",
       "      dtype=object)"
      ]
     },
     "execution_count": 63,
     "metadata": {},
     "output_type": "execute_result"
    }
   ],
   "source": [
    "df.values[1:5]"
   ]
  },
  {
   "cell_type": "code",
   "execution_count": 62,
   "id": "94cb6d00",
   "metadata": {},
   "outputs": [
    {
     "data": {
      "text/plain": [
       "[['Helium', 'He', 2.0, 4.002602, 0.1785, nan, nan, nan],\n",
       " ['Lithium', 'Li', 3.0, 6.941, 535.0, 180.54, nan, nan],\n",
       " ['Beryllium', 'Be', 4.0, 9.012182, 1848.0, 1287.0, nan, nan],\n",
       " ['Boron', 'B', 5.0, 10.811, 2460.0, 2075.0, nan, nan]]"
      ]
     },
     "execution_count": 62,
     "metadata": {},
     "output_type": "execute_result"
    }
   ],
   "source": [
    "df.values[1:5].tolist()"
   ]
  }
 ],
 "metadata": {
  "kernelspec": {
   "display_name": "env",
   "language": "python",
   "name": "python3"
  },
  "language_info": {
   "codemirror_mode": {
    "name": "ipython",
    "version": 3
   },
   "file_extension": ".py",
   "mimetype": "text/x-python",
   "name": "python",
   "nbconvert_exporter": "python",
   "pygments_lexer": "ipython3",
   "version": "3.12.6"
  }
 },
 "nbformat": 4,
 "nbformat_minor": 5
}
