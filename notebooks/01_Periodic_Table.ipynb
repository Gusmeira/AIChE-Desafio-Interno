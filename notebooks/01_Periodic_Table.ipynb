{
 "cells": [
  {
   "cell_type": "markdown",
   "id": "04f85ccf",
   "metadata": {},
   "source": [
    "---\n",
    "title: \"Periodic Table of Elements\"\n",
    "author: \"Gustavo J. V. Meira Filho\"\n",
    "format:\n",
    "    html:\n",
    "        code-fold: true\n",
    "        code-summary: \"Show Code\"\n",
    "        toc: true\n",
    "        toc-depth: 3\n",
    "    pdf:\n",
    "        documentclass: scrreprt\n",
    "        pdf-engine: xelatex\n",
    "        toc: true\n",
    "        toc-depth: 3\n",
    "        include-in-header: \n",
    "            text: |\n",
    "                \\usepackage[a4paper,margin=2.5cm]{geometry}\n",
    "        execute:\n",
    "            echo: true     \n",
    "            warning: false   \n",
    "            message: false \n",
    "execute:\n",
    "    fig-format: png       \n",
    "jupyter: AIChE-Internal-Challenges\n",
    "---"
   ]
  },
  {
   "cell_type": "markdown",
   "id": "ddd671cb",
   "metadata": {},
   "source": [
    "\\newpage\n",
    "# **Objetivo**\n",
    "\n",
    "> Introduzir Python, manipulação de dados e visualização.\n",
    "\n",
    "* <span style=\"color: #3d9be7ff\"><strong>Conceitos de programação:</strong></span> \n",
    "  * Tipos básicos (`int`, `float`, `str`, `list`, `dict`)\n",
    "  * Loops\n",
    "  * Funções simples.\n",
    "* <span style=\"color: #3d9be7ff\"><strong>Bibliotecas:</strong></span>  \n",
    "  * `pandas` (dados tabulares) \n",
    "  * `plotly` (visualização gráfica - pode substituir pelo `matplotlib`).\n",
    "* <span style=\"color: #3d9be7ff\"><strong>Aplicações:</strong></span> \n",
    "\n",
    "  * Importar uma base de dados da tabela periódica (existe em CSV no Kaggle).\n",
    "  * Explorar propriedades como massa atômica, eletronegatividade, número atômico.\n",
    "  * Criar gráficos (ex.: massa atômica vs número atômico; cores por família)."
   ]
  },
  {
   "cell_type": "code",
   "execution_count": 5,
   "id": "389f02de",
   "metadata": {},
   "outputs": [],
   "source": [
    "# Nativas Python\n",
    "import sys\n",
    "import os\n",
    "\n",
    "# Dados Tabulares\n",
    "import pandas as pd\n",
    "\n",
    "# Visualização\n",
    "import plotly.graph_objects as go\n",
    "import plotly.express as px\n",
    "import plotly.io as pio\n",
    "from graphmodex import plotlymodex"
   ]
  },
  {
   "cell_type": "code",
   "execution_count": 3,
   "id": "e553ea0b",
   "metadata": {},
   "outputs": [],
   "source": [
    "# Imagem png ou interativa (notebook)\n",
    "pio.renderers.default = 'notebook'"
   ]
  },
  {
   "cell_type": "markdown",
   "id": "b5ca25b9",
   "metadata": {},
   "source": [
    "\\newpage\n",
    "\n",
    "# Extração\n",
    "\n",
    "Precisamos extrair a base de dados para conseguir trabalhar em cima dela! Para conseguirmos visualizar e manipular os dados, armazenamos ela como um objeto `pandas` que já possui tratamentos internos para vatorização e é a biblioteca coringa para todas as libs de visualização.\n",
    "\n",
    "* [Começando na Biblioteca](https://pandas.pydata.org/docs/getting_started/intro_tutorials/index.html)\n",
    "* [Guia do Usuário](https://pandas.pydata.org/docs/user_guide/index.html)\n",
    "* [Documentação](https://pandas.pydata.org/docs/reference/index.html)\n",
    "\n",
    "Note que a tabela periódica é um `.csv` na pasta `data`. Vamos armazenar esses dados em uma DataFrame chamada `df`"
   ]
  },
  {
   "cell_type": "code",
   "execution_count": null,
   "id": "b9efc2b4",
   "metadata": {},
   "outputs": [
    {
     "data": {
      "application/vnd.microsoft.datawrangler.viewer.v0+json": {
       "columns": [
        {
         "name": "index",
         "rawType": "int64",
         "type": "integer"
        },
        {
         "name": "Name",
         "rawType": "object",
         "type": "string"
        },
        {
         "name": "Symbol",
         "rawType": "object",
         "type": "string"
        },
        {
         "name": "Atomic_Number",
         "rawType": "int64",
         "type": "integer"
        },
        {
         "name": "Atomic_Weight",
         "rawType": "float64",
         "type": "float"
        }
       ],
       "ref": "d464cd08-0822-459b-b801-158cc1193570",
       "rows": [
        [
         "0",
         "Hydrogen",
         "H",
         "1",
         "1.00794"
        ],
        [
         "1",
         "Helium",
         "He",
         "2",
         "4.002602"
        ],
        [
         "2",
         "Lithium",
         "Li",
         "3",
         "6.941"
        ],
        [
         "3",
         "Beryllium",
         "Be",
         "4",
         "9.012182"
        ],
        [
         "4",
         "Boron",
         "B",
         "5",
         "10.811"
        ],
        [
         "5",
         "Carbon",
         "C",
         "6",
         "12.0107"
        ],
        [
         "6",
         "Nitrogen",
         "N",
         "7",
         "14.0067"
        ],
        [
         "7",
         "Oxygen",
         "O",
         "8",
         "15.9994"
        ],
        [
         "8",
         "Fluorine",
         "F",
         "9",
         "18.9984032"
        ],
        [
         "9",
         "Neon",
         "Ne",
         "10",
         "20.1797"
        ]
       ],
       "shape": {
        "columns": 4,
        "rows": 10
       }
      },
      "text/html": [
       "<div>\n",
       "<style scoped>\n",
       "    .dataframe tbody tr th:only-of-type {\n",
       "        vertical-align: middle;\n",
       "    }\n",
       "\n",
       "    .dataframe tbody tr th {\n",
       "        vertical-align: top;\n",
       "    }\n",
       "\n",
       "    .dataframe thead th {\n",
       "        text-align: right;\n",
       "    }\n",
       "</style>\n",
       "<table border=\"1\" class=\"dataframe\">\n",
       "  <thead>\n",
       "    <tr style=\"text-align: right;\">\n",
       "      <th></th>\n",
       "      <th>Name</th>\n",
       "      <th>Symbol</th>\n",
       "      <th>Atomic_Number</th>\n",
       "      <th>Atomic_Weight</th>\n",
       "    </tr>\n",
       "  </thead>\n",
       "  <tbody>\n",
       "    <tr>\n",
       "      <th>0</th>\n",
       "      <td>Hydrogen</td>\n",
       "      <td>H</td>\n",
       "      <td>1</td>\n",
       "      <td>1.007940</td>\n",
       "    </tr>\n",
       "    <tr>\n",
       "      <th>1</th>\n",
       "      <td>Helium</td>\n",
       "      <td>He</td>\n",
       "      <td>2</td>\n",
       "      <td>4.002602</td>\n",
       "    </tr>\n",
       "    <tr>\n",
       "      <th>2</th>\n",
       "      <td>Lithium</td>\n",
       "      <td>Li</td>\n",
       "      <td>3</td>\n",
       "      <td>6.941000</td>\n",
       "    </tr>\n",
       "    <tr>\n",
       "      <th>3</th>\n",
       "      <td>Beryllium</td>\n",
       "      <td>Be</td>\n",
       "      <td>4</td>\n",
       "      <td>9.012182</td>\n",
       "    </tr>\n",
       "    <tr>\n",
       "      <th>4</th>\n",
       "      <td>Boron</td>\n",
       "      <td>B</td>\n",
       "      <td>5</td>\n",
       "      <td>10.811000</td>\n",
       "    </tr>\n",
       "    <tr>\n",
       "      <th>5</th>\n",
       "      <td>Carbon</td>\n",
       "      <td>C</td>\n",
       "      <td>6</td>\n",
       "      <td>12.010700</td>\n",
       "    </tr>\n",
       "    <tr>\n",
       "      <th>6</th>\n",
       "      <td>Nitrogen</td>\n",
       "      <td>N</td>\n",
       "      <td>7</td>\n",
       "      <td>14.006700</td>\n",
       "    </tr>\n",
       "    <tr>\n",
       "      <th>7</th>\n",
       "      <td>Oxygen</td>\n",
       "      <td>O</td>\n",
       "      <td>8</td>\n",
       "      <td>15.999400</td>\n",
       "    </tr>\n",
       "    <tr>\n",
       "      <th>8</th>\n",
       "      <td>Fluorine</td>\n",
       "      <td>F</td>\n",
       "      <td>9</td>\n",
       "      <td>18.998403</td>\n",
       "    </tr>\n",
       "    <tr>\n",
       "      <th>9</th>\n",
       "      <td>Neon</td>\n",
       "      <td>Ne</td>\n",
       "      <td>10</td>\n",
       "      <td>20.179700</td>\n",
       "    </tr>\n",
       "  </tbody>\n",
       "</table>\n",
       "</div>"
      ],
      "text/plain": [
       "        Name Symbol  Atomic_Number  Atomic_Weight\n",
       "0   Hydrogen      H              1       1.007940\n",
       "1     Helium     He              2       4.002602\n",
       "2    Lithium     Li              3       6.941000\n",
       "3  Beryllium     Be              4       9.012182\n",
       "4      Boron      B              5      10.811000\n",
       "5     Carbon      C              6      12.010700\n",
       "6   Nitrogen      N              7      14.006700\n",
       "7     Oxygen      O              8      15.999400\n",
       "8   Fluorine      F              9      18.998403\n",
       "9       Neon     Ne             10      20.179700"
      ]
     },
     "execution_count": 12,
     "metadata": {},
     "output_type": "execute_result"
    }
   ],
   "source": [
    "df = pd.read_csv(r'..\\data\\elementdatavalues.csv')\n",
    "\n",
    "# Mostrar as 10 primeiras linhas das 4 primeiras colunas\n",
    "df[['Name', 'Symbol', 'Atomic_Number', 'Atomic_Weight']].head(10)"
   ]
  },
  {
   "cell_type": "code",
   "execution_count": 18,
   "id": "eb1841f9",
   "metadata": {},
   "outputs": [
    {
     "name": "stdout",
     "output_type": "stream",
     "text": [
      "<class 'pandas.core.frame.DataFrame'>\n",
      "RangeIndex: 118 entries, 0 to 117\n",
      "Data columns (total 7 columns):\n",
      " #   Column                Non-Null Count  Dtype  \n",
      "---  ------                --------------  -----  \n",
      " 0   Name                  118 non-null    object \n",
      " 1   Symbol                118 non-null    object \n",
      " 2   Atomic_Number         118 non-null    int64  \n",
      " 3   Atomic_Weight         117 non-null    float64\n",
      " 4   Density               95 non-null     float64\n",
      " 5   Melting_Point         101 non-null    float64\n",
      " 6   Critical_Temperature  21 non-null     float64\n",
      "dtypes: float64(4), int64(1), object(2)\n",
      "memory usage: 6.6+ KB\n"
     ]
    }
   ],
   "source": [
    "# Informações sobre quantidade de inforação e tipo\n",
    "df[[\n",
    "    'Name', 'Symbol', 'Atomic_Number', 'Atomic_Weight', \n",
    "    'Density', 'Melting_Point', 'Critical_Temperature'\n",
    "]].info()"
   ]
  },
  {
   "cell_type": "code",
   "execution_count": 20,
   "id": "b872b7ac",
   "metadata": {},
   "outputs": [
    {
     "data": {
      "application/vnd.microsoft.datawrangler.viewer.v0+json": {
       "columns": [
        {
         "name": "index",
         "rawType": "object",
         "type": "string"
        },
        {
         "name": "Atomic_Weight",
         "rawType": "float64",
         "type": "float"
        },
        {
         "name": "Density",
         "rawType": "float64",
         "type": "float"
        },
        {
         "name": "Melting_Point",
         "rawType": "float64",
         "type": "float"
        },
        {
         "name": "Critical_Temperature",
         "rawType": "float64",
         "type": "float"
        }
       ],
       "ref": "4697a80c-4bff-4c9a-a8b9-3123bd91c3c4",
       "rows": [
        [
         "count",
         "117.0",
         "95.0",
         "101.0",
         "21.0"
        ],
        [
         "mean",
         "144.8769909846154",
         "7645.567604210527",
         "1296.5744554455446",
         "963.7352380952381"
        ],
        [
         "std",
         "88.49597183127041",
         "5957.801743939813",
         "883.2254539045796",
         "1000.9081022232714"
        ],
        [
         "min",
         "1.00794",
         "0.0899",
         "14.01",
         "5.19"
        ],
        [
         "25%",
         "65.409",
         "2545.0",
         "544.45",
         "150.87"
        ],
        [
         "50%",
         "140.90765",
         "7140.0",
         "1204.15",
         "416.9"
        ],
        [
         "75%",
         "226.0",
         "10385.0",
         "1811.15",
         "1766.0"
        ],
        [
         "max",
         "294.0",
         "22650.0",
         "3823.15",
         "3223.0"
        ]
       ],
       "shape": {
        "columns": 4,
        "rows": 8
       }
      },
      "text/html": [
       "<div>\n",
       "<style scoped>\n",
       "    .dataframe tbody tr th:only-of-type {\n",
       "        vertical-align: middle;\n",
       "    }\n",
       "\n",
       "    .dataframe tbody tr th {\n",
       "        vertical-align: top;\n",
       "    }\n",
       "\n",
       "    .dataframe thead th {\n",
       "        text-align: right;\n",
       "    }\n",
       "</style>\n",
       "<table border=\"1\" class=\"dataframe\">\n",
       "  <thead>\n",
       "    <tr style=\"text-align: right;\">\n",
       "      <th></th>\n",
       "      <th>Atomic_Weight</th>\n",
       "      <th>Density</th>\n",
       "      <th>Melting_Point</th>\n",
       "      <th>Critical_Temperature</th>\n",
       "    </tr>\n",
       "  </thead>\n",
       "  <tbody>\n",
       "    <tr>\n",
       "      <th>count</th>\n",
       "      <td>117.000000</td>\n",
       "      <td>95.000000</td>\n",
       "      <td>101.000000</td>\n",
       "      <td>21.000000</td>\n",
       "    </tr>\n",
       "    <tr>\n",
       "      <th>mean</th>\n",
       "      <td>144.876991</td>\n",
       "      <td>7645.567604</td>\n",
       "      <td>1296.574455</td>\n",
       "      <td>963.735238</td>\n",
       "    </tr>\n",
       "    <tr>\n",
       "      <th>std</th>\n",
       "      <td>88.495972</td>\n",
       "      <td>5957.801744</td>\n",
       "      <td>883.225454</td>\n",
       "      <td>1000.908102</td>\n",
       "    </tr>\n",
       "    <tr>\n",
       "      <th>min</th>\n",
       "      <td>1.007940</td>\n",
       "      <td>0.089900</td>\n",
       "      <td>14.010000</td>\n",
       "      <td>5.190000</td>\n",
       "    </tr>\n",
       "    <tr>\n",
       "      <th>25%</th>\n",
       "      <td>65.409000</td>\n",
       "      <td>2545.000000</td>\n",
       "      <td>544.450000</td>\n",
       "      <td>150.870000</td>\n",
       "    </tr>\n",
       "    <tr>\n",
       "      <th>50%</th>\n",
       "      <td>140.907650</td>\n",
       "      <td>7140.000000</td>\n",
       "      <td>1204.150000</td>\n",
       "      <td>416.900000</td>\n",
       "    </tr>\n",
       "    <tr>\n",
       "      <th>75%</th>\n",
       "      <td>226.000000</td>\n",
       "      <td>10385.000000</td>\n",
       "      <td>1811.150000</td>\n",
       "      <td>1766.000000</td>\n",
       "    </tr>\n",
       "    <tr>\n",
       "      <th>max</th>\n",
       "      <td>294.000000</td>\n",
       "      <td>22650.000000</td>\n",
       "      <td>3823.150000</td>\n",
       "      <td>3223.000000</td>\n",
       "    </tr>\n",
       "  </tbody>\n",
       "</table>\n",
       "</div>"
      ],
      "text/plain": [
       "       Atomic_Weight       Density  Melting_Point  Critical_Temperature\n",
       "count     117.000000     95.000000     101.000000             21.000000\n",
       "mean      144.876991   7645.567604    1296.574455            963.735238\n",
       "std        88.495972   5957.801744     883.225454           1000.908102\n",
       "min         1.007940      0.089900      14.010000              5.190000\n",
       "25%        65.409000   2545.000000     544.450000            150.870000\n",
       "50%       140.907650   7140.000000    1204.150000            416.900000\n",
       "75%       226.000000  10385.000000    1811.150000           1766.000000\n",
       "max       294.000000  22650.000000    3823.150000           3223.000000"
      ]
     },
     "execution_count": 20,
     "metadata": {},
     "output_type": "execute_result"
    }
   ],
   "source": [
    "# Principais estatísticas das colunas da tabela\n",
    "df[['Atomic_Weight', 'Density', 'Melting_Point', 'Critical_Temperature']].describe()"
   ]
  }
 ],
 "metadata": {
  "kernelspec": {
   "display_name": "env",
   "language": "python",
   "name": "python3"
  },
  "language_info": {
   "codemirror_mode": {
    "name": "ipython",
    "version": 3
   },
   "file_extension": ".py",
   "mimetype": "text/x-python",
   "name": "python",
   "nbconvert_exporter": "python",
   "pygments_lexer": "ipython3",
   "version": "3.12.6"
  }
 },
 "nbformat": 4,
 "nbformat_minor": 5
}
