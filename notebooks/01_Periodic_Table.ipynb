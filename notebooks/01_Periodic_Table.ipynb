{
 "cells": [
  {
   "cell_type": "markdown",
   "id": "04f85ccf",
   "metadata": {},
   "source": [
    "---\n",
    "title: \"Periodic Table of Elements\"\n",
    "author: \"Gustavo J. V. Meira Filho\"\n",
    "format:\n",
    "    html:\n",
    "        code-fold: true\n",
    "        code-summary: \"Show Code\"\n",
    "        toc: true\n",
    "        toc-depth: 3\n",
    "    pdf:\n",
    "        documentclass: scrreprt\n",
    "        pdf-engine: xelatex\n",
    "        toc: true\n",
    "        toc-depth: 3\n",
    "        include-in-header: \n",
    "            text: |\n",
    "                \\usepackage[a4paper,margin=2.5cm]{geometry}\n",
    "        execute:\n",
    "            echo: true     \n",
    "            warning: false   \n",
    "            message: false \n",
    "execute:\n",
    "    fig-format: png       \n",
    "jupyter: AIChE-Internal-Challenges\n",
    "---"
   ]
  },
  {
   "cell_type": "markdown",
   "id": "ddd671cb",
   "metadata": {},
   "source": [
    "\\newpage\n",
    "# **Objetivo**\n",
    "\n",
    "> Introduzir Python, manipulação de dados e visualização.\n",
    "\n",
    "* <span style=\"color: #3d9be7ff\"><strong>Conceitos de programação:</strong></span> \n",
    "  * Tipos básicos (`int`, `float`, `str`, `list`, `dict`)\n",
    "  * Loops\n",
    "  * Funções simples.\n",
    "* <span style=\"color: #3d9be7ff\"><strong>Bibliotecas:</strong></span>  \n",
    "  * `pandas` (dados tabulares) \n",
    "  * `plotly` (visualização gráfica - pode substituir pelo `matplotlib`).\n",
    "* <span style=\"color: #3d9be7ff\"><strong>Aplicações:</strong></span> \n",
    "\n",
    "  * Importar uma base de dados da tabela periódica (existe em CSV no Kaggle).\n",
    "  * Explorar propriedades como massa atômica, eletronegatividade, número atômico.\n",
    "  * Criar gráficos (ex.: massa atômica vs número atômico; cores por família)."
   ]
  },
  {
   "cell_type": "markdown",
   "id": "b5ca25b9",
   "metadata": {},
   "source": []
  }
 ],
 "metadata": {
  "kernelspec": {
   "display_name": "env",
   "language": "python",
   "name": "python3"
  },
  "language_info": {
   "name": "python",
   "version": "3.12.6"
  }
 },
 "nbformat": 4,
 "nbformat_minor": 5
}
