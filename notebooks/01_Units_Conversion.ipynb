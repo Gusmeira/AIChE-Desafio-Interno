{
 "cells": [
  {
   "cell_type": "markdown",
   "id": "72ac29fe",
   "metadata": {},
   "source": [
    "---\n",
    "title: \"Conversão de Unidades\"\n",
    "author: \"Gustavo J. V. Meira Filho\"\n",
    "format:\n",
    "    pdf:\n",
    "        documentclass: scrreprt\n",
    "        pdf-engine: xelatex\n",
    "        toc: true\n",
    "        toc-depth: 3\n",
    "        include-in-header: \n",
    "            text: |\n",
    "                \\usepackage[a4paper,margin=2.5cm]{geometry}\n",
    "        execute:\n",
    "            echo: true     \n",
    "            warning: false   \n",
    "            message: false \n",
    "    html:\n",
    "        code-fold: true\n",
    "        code-summary: \"Show Code\"\n",
    "        toc: true\n",
    "        toc-depth: 3\n",
    "execute:\n",
    "    fig-format: png       \n",
    "jupyter: AIChE-Internal-Challenges\n",
    "---"
   ]
  },
  {
   "cell_type": "markdown",
   "id": "9faf0fa3",
   "metadata": {},
   "source": [
    "\\newpage\n",
    "# **Objetivo**\n",
    "\n",
    "> Introduzir a linguagem do python, funções, modularização e boas práticas.\n",
    "\n",
    "* <span style=\"color: #3d9be7ff\"><strong>Conceitos de programação:</strong></span> \n",
    "  * Definição de funções\n",
    "  * Parâmetros\n",
    "  * Retorno\n",
    "  * Modularidade.\n",
    "* <span style=\"color: #3d9be7ff\"><strong>Bibliotecas:</strong></span>  \n",
    "  * Nenhuma além do básico.\n",
    "  * podemos usar o `pint`\n",
    "    * [Começando na Biblioteca](https://pint.readthedocs.io/en/stable/getting/index.html)\n",
    "    * [Guia do Usuário](https://pint.readthedocs.io/en/stable/user/defining-quantities.html)\n",
    "    * [Documentação](https://pint.readthedocs.io/en/stable/api/base.html)\n",
    "* <span style=\"color: #3d9be7ff\"><strong>Aplicações:</strong></span> \n",
    "\n",
    "  * Criar funções para converter unidades comuns:\n",
    "    * Pressão: atm ↔ Pa ↔ mmHg\n",
    "    * Temperatura: K ↔ °C ↔ °F\n",
    "    * Energia: J ↔ cal ↔ eV\n",
    "  * Mostrar como organizar um mini \"conversor\" e aplicar em cálculos químicos simples (ex.: $\\text{PV = nRT}$, convertendo pressão e temperatura em diferentes unidades).\n",
    "  * Criar gráficos (ex.: massa atômica vs número atômico; cores por família)."
   ]
  },
  {
   "cell_type": "markdown",
   "id": "84ef906a",
   "metadata": {},
   "source": [
    "\\newpage\n",
    "\n",
    "# **Por Que o Python?**\n",
    "\n",
    "* **O que é Python?**\n",
    "  * Linguagem de programação de alto nível, criada em 1991 por Guido van Rossum.\n",
    "  * Fácil de aprender, legível, muito usada em ciência de dados, engenharia, inteligência artificial, automação etc.\n",
    "\n",
    "* **Por que Python em engenharia química?**\n",
    "\n",
    "  * Automação de cálculos repetitivos.\n",
    "  * Análise e visualização de dados experimentais.\n",
    "  * Modelagem e simulação de processos.\n",
    "  * Integração com bibliotecas científicas (NumPy, SciPy, Pandas, Matplotlib).\n",
    "  * Evita depender apenas de Excel/Matlab.\n",
    "  * Permite realizar entregas complexas e contas que não podem ser feitas sem programação.\n",
    "\n",
    "* **Como funciona em termos gerais:**\n",
    "\n",
    "  * Código → interpretado (não precisa compilar).\n",
    "  * Rodar em terminal, notebooks (Jupyter), ou IDEs (VS Code, Spyder, PyCharm).\n",
    "  * Grande comunidade e suporte."
   ]
  },
  {
   "cell_type": "markdown",
   "id": "53401479",
   "metadata": {},
   "source": [
    "\\newpage\n",
    "\n",
    "# **Introdução**"
   ]
  },
  {
   "cell_type": "code",
   "execution_count": 3,
   "id": "e7dae552",
   "metadata": {},
   "outputs": [
    {
     "name": "stdout",
     "output_type": "stream",
     "text": [
      "Hello World!\n"
     ]
    }
   ],
   "source": [
    "print('Hello World!')"
   ]
  },
  {
   "cell_type": "markdown",
   "id": "e91fed17",
   "metadata": {},
   "source": [
    "## Operadores Matemáticos Básicos\n",
    "\n",
    "Esses operadores são a base do cálculo em programação! Todos podem serimplementados na sua lógica para resolver problemas de engenharia ou de lógica.\n",
    "Aqui introduzimos dois tipos importantes de variável em python:\n",
    "\n",
    "* **Variáveis Numéricas**: Usadas para armazenar números, sejam inteiros ou decimais. Exemplos:\n",
    "  * `x = 10` (inteiro)\n",
    "  * `y = 3.14` (decimal)\n",
    "* **Variáveis Booleanas**: Representam valores de verdade, podendo ser `True` (verdadeiro) ou `False` (falso). São essenciais para controle de fluxo e tomadas de decisão em programas. Exemplos:\n",
    "\n",
    "  * `verdade = True`\n",
    "  * `falso = False`\n",
    "\n",
    "* **Valor Ausente**: O `None` é usado para representar a ausência de valor ou um valor nulo. Ele é frequentemente utilizado para inicializar variáveis ou indicar que uma função não retorna nenhum valor significativo."
   ]
  },
  {
   "cell_type": "code",
   "execution_count": 34,
   "id": "cd731371",
   "metadata": {},
   "outputs": [
    {
     "name": "stdout",
     "output_type": "stream",
     "text": [
      "a = 2, b = 4\n",
      "\n",
      "2 + 4 = 6\n",
      "2 * 4 = 8\n",
      "2 - 4 = -2\n",
      "\n",
      "2 / 4 = 0.5\n",
      "4 / 2 = 2.0\n",
      "4 // 2 = 2\n",
      "\n",
      "2 ** 4 = 16\n",
      "2 ** (1/4) = 1.1892\n",
      "\n",
      "2 % 4 = 2\n",
      "4 % 2 = 0\n",
      "\n",
      "math.sqrt(2) = 1.4142\n",
      "math.log(2) = 0.6931\n",
      "math.log10(2) = 0.3010\n",
      "math.factorial(4) = 24\n",
      "math.sin(2) = 0.9093\n",
      "math.fabs(-2) = 2.0000\n"
     ]
    }
   ],
   "source": [
    "a = 2\n",
    "b = 4\n",
    "print(f'a = {a}, b = {b}')\n",
    "\n",
    "print()\n",
    "# Adição\n",
    "print(f'{a} + {b} = {a + b}')\n",
    "# Multiplicação\n",
    "print(f'{a} * {b} = {a * b}')\n",
    "# Subtração\n",
    "print(f'{a} - {b} = {a - b}')\n",
    "\n",
    "print()\n",
    "# Divisão\n",
    "print(f'{a} / {b} = {a / b}')\n",
    "# Divisão float\n",
    "print(f'{b} / {a} = {b / a}')\n",
    "# Divisão inteira\n",
    "print(f'{b} // {a} = {b // a}')\n",
    "\n",
    "print()\n",
    "# Exponenciação\n",
    "print(f'{a} ** {b} = {a ** b}')\n",
    "# Raiz quadrada\n",
    "print(f'{a} ** (1/{b}) = {a ** (1/b):.4f}') \n",
    "\n",
    "print()\n",
    "# Módulo\n",
    "print(f'{a} % {b} = {a % b}')\n",
    "print(f'{b} % {a} = {b % a}')\n",
    "\n",
    "print()\n",
    "import math\n",
    "# Raiz quadrada usando a biblioteca math\n",
    "print(f'math.sqrt({a}) = {math.sqrt(a):.4f}')\n",
    "# Logaritmo natural\n",
    "print(f'math.log({a}) = {math.log(a):.4f}')\n",
    "# Logaritmo base 10\n",
    "print(f'math.log10({a}) = {math.log10(a):.4f}')\n",
    "# Fatorial\n",
    "print(f'math.factorial({b}) = {math.factorial(b)}')\n",
    "# Seno\n",
    "print(f'math.sin({a}) = {math.sin(a):.4f}')\n",
    "# Absoluto\n",
    "print(f'math.fabs(-{a}) = {math.fabs(-a):.4f}')"
   ]
  },
  {
   "cell_type": "code",
   "execution_count": 47,
   "id": "6368608a",
   "metadata": {},
   "outputs": [
    {
     "name": "stdout",
     "output_type": "stream",
     "text": [
      "verdade = True, falso = False\n",
      "vazio = None\n",
      "\n",
      "2 > 4 = False\n",
      "2 < 4 = True\n",
      "2 >= 4 = False\n",
      "2 <= 4 = True\n",
      "2 == 4 = False\n",
      "2 != 4 = True\n",
      "\n",
      "not True = False\n",
      "True and False = False\n",
      "True or False = False\n",
      "True ^ False = True\n"
     ]
    }
   ],
   "source": [
    "verdade = True\n",
    "falso = False\n",
    "vazio = None\n",
    "print(f'verdade = {verdade}, falso = {falso}')\n",
    "print(f'vazio = {vazio}')\n",
    "\n",
    "# Operadores Lógicos\n",
    "print()\n",
    "print(f'{a} > {b} = {a > b}')   # Maior que\n",
    "print(f'{a} < {b} = {a < b}')   # Menor que\n",
    "print(f'{a} >= {b} = {a >= b}') # Maior ou igual a\n",
    "print(f'{a} <= {b} = {a <= b}') # Menor ou igual a\n",
    "print(f'{a} == {b} = {a == b}') # Igual a\n",
    "print(f'{a} != {b} = {a != b}') # Diferente de\n",
    "print()\n",
    "print(f'not {verdade} = {not verdade}')               # Negação\n",
    "print(f'{verdade} and {falso} = {verdade and falso}') # E lógico\n",
    "print(f'{verdade} or {falso} = {verdade or falso}')   # Ou lógico\n",
    "print(f'{verdade} ^ {falso} = {verdade ^ falso}')     # Ou exclusivo (XOR)"
   ]
  },
  {
   "cell_type": "markdown",
   "id": "f885e08a",
   "metadata": {},
   "source": [
    "\\newpage\n",
    "\n",
    "## Condicionais\n",
    "\n",
    "Condicionais permitem que o programa tome decisões com base em condições específicas. As principais estruturas condicionais em Python são:\n",
    "\n",
    "* `if`: Executa um bloco de código se uma condição for verdadeira.\n",
    "* `elif`: Permite verificar múltiplas condições, executando o bloco correspondente à primeira condição verdadeira.\n",
    "* `else`: Executa um bloco de código se todas as condições anteriores forem falsas.\n",
    "\n",
    "Podemos aninhar as condicionais!!"
   ]
  },
  {
   "cell_type": "code",
   "execution_count": 59,
   "id": "bb25ee6e",
   "metadata": {},
   "outputs": [
    {
     "name": "stdout",
     "output_type": "stream",
     "text": [
      "Conversão = 75.0%\n",
      "Reação abaixo da condição mínima de projeto, porém aceitável.\n"
     ]
    }
   ],
   "source": [
    "# Simulação simples de uma reação química\n",
    "Ca0 = 2.0 # mol/L\n",
    "Ca  = 0.5 # mol/L\n",
    "\n",
    "X = (Ca0 - Ca) / Ca0\n",
    "print(f'Conversão = {X:.1%}')\n",
    "\n",
    "condicao_minima_de_projeto = 0.85\n",
    "if X >= condicao_minima_de_projeto:\n",
    "    print(\"Reação dentro da condição mínima de projeto.\")\n",
    "elif (X < condicao_minima_de_projeto) and (X >= 0.7):\n",
    "    print(\"Reação abaixo da condição mínima de projeto, porém aceitável.\")\n",
    "else:\n",
    "    print(\"Reação abaixo da condição mínima de projeto.\")"
   ]
  },
  {
   "cell_type": "code",
   "execution_count": 61,
   "id": "f7036487",
   "metadata": {},
   "outputs": [
    {
     "name": "stdout",
     "output_type": "stream",
     "text": [
      "O maior valor entre 10, 20 e 30 é 30.\n"
     ]
    }
   ],
   "source": [
    "a = 10\n",
    "b = 20\n",
    "c = 30\n",
    "\n",
    "if a > b:\n",
    "    if a > c:\n",
    "        maior = a\n",
    "    else:\n",
    "        maior = c\n",
    "else:\n",
    "    if b > c:\n",
    "        maior = b\n",
    "    else:\n",
    "        maior = c\n",
    "\n",
    "print(f'O maior valor entre {a}, {b} e {c} é {maior}.')"
   ]
  },
  {
   "cell_type": "markdown",
   "id": "1bdbf5dd",
   "metadata": {},
   "source": [
    "\\newpage\n",
    "\n",
    "## Strings\n",
    "\n",
    "Strings são sequências de caracteres usadas para representar texto. Elas são imutáveis e suportam várias operações, como concatenação, fatiamento e formatação."
   ]
  },
  {
   "cell_type": "code",
   "execution_count": 117,
   "id": "0a6706a0",
   "metadata": {},
   "outputs": [
    {
     "name": "stdout",
     "output_type": "stream",
     "text": [
      "String original: AIChE\n"
     ]
    }
   ],
   "source": [
    "string = \"AIChE\"\n",
    "print(f'String original: {string}')"
   ]
  },
  {
   "cell_type": "markdown",
   "id": "6cb605f6",
   "metadata": {},
   "source": [
    "Métodos específicos de strings!"
   ]
  },
  {
   "cell_type": "code",
   "execution_count": 118,
   "id": "7e410642",
   "metadata": {},
   "outputs": [
    {
     "name": "stdout",
     "output_type": "stream",
     "text": [
      "String em maiúsculas: AICHE\n",
      "String em minúsculas: aiche\n"
     ]
    }
   ],
   "source": [
    "print(f'String em maiúsculas: {string.upper()}')\n",
    "print(f'String em minúsculas: {string.lower()}')"
   ]
  },
  {
   "cell_type": "markdown",
   "id": "53e41a77",
   "metadata": {},
   "source": [
    "Fatiamento de strings: Podemos acessar partes específicas de uma string usando índices e fatias."
   ]
  },
  {
   "cell_type": "code",
   "execution_count": 119,
   "id": "c10626b0",
   "metadata": {},
   "outputs": [
    {
     "name": "stdout",
     "output_type": "stream",
     "text": [
      "Primeira letra: A\n",
      "Última letra: E\n",
      "Fatia da string (1 a 3): ICh\n",
      "String invertida: EhCIA\n"
     ]
    }
   ],
   "source": [
    "print(f'Primeira letra: {string[0]}')\n",
    "print(f'Última letra: {string[-1]}')\n",
    "print(f'Fatia da string (1 a 3): {string[1:4]}')\n",
    "print(f'String invertida: {string[::-1]}')"
   ]
  },
  {
   "cell_type": "markdown",
   "id": "ba45a897",
   "metadata": {},
   "source": [
    "Operações matemáticas em strings não são possíveis diretamente, mas são úteis para outros tipos de operações."
   ]
  },
  {
   "cell_type": "code",
   "execution_count": 120,
   "id": "cc168465",
   "metadata": {},
   "outputs": [
    {
     "name": "stdout",
     "output_type": "stream",
     "text": [
      "Concatenando com \" - Python\": AIChE - Python\n",
      "\n",
      "String repetida 3 vezes: AIChE AIChE AIChE \n",
      "\n",
      "Comprimento da string: 5\n"
     ]
    }
   ],
   "source": [
    "print(f'Concatenando com \" - Python\": {string + \" - Python\"}')\n",
    "print()\n",
    "print(f'String repetida 3 vezes: {(string+' ') * 3}')\n",
    "print()\n",
    "print(f'Comprimento da string: {len(string)}')"
   ]
  },
  {
   "cell_type": "code",
   "execution_count": 186,
   "id": "61302916",
   "metadata": {},
   "outputs": [
    {
     "name": "stdout",
     "output_type": "stream",
     "text": [
      "Índice da letra C: 2\n",
      "\n",
      "\"abc\" in \"abcdef\": True\n",
      "\"xyz\" in \"abcdef\": False\n"
     ]
    }
   ],
   "source": [
    "alfabeto = \"ABCDEFGHIJKLMNOPQRSTUVWXYZ\"\n",
    "print(f'Índice da letra C: {alfabeto.index(\"C\")}')\n",
    "\n",
    "print()\n",
    "print(f'\"abc\" in \"abcdef\": {\"abc\" in \"abcdef\"}')\n",
    "print(f'\"xyz\" in \"abcdef\": {\"xyz\" in \"abcdef\"}')"
   ]
  },
  {
   "cell_type": "markdown",
   "id": "76476b3e",
   "metadata": {},
   "source": [
    "\\newpage\n",
    "\n",
    "## Listas\n",
    "\n",
    "As listas são coleções ordenadas e mutáveis de itens. Elas permitem armazenar múltiplos valores em uma única variável, facilitando a manipulação e o acesso aos dados."
   ]
  },
  {
   "cell_type": "code",
   "execution_count": 112,
   "id": "1d1fb6f3",
   "metadata": {},
   "outputs": [
    {
     "name": "stdout",
     "output_type": "stream",
     "text": [
      "Elementos da lista: [1, 2, 3, 4, 5]\n",
      "Lista com tipos mistos: [1, 'dois', 3.0, True, None]\n"
     ]
    }
   ],
   "source": [
    "lista = [1, 2, 3, 4, 5]\n",
    "print(f\"Elementos da lista: {lista}\")\n",
    "\n",
    "lista_tipos_mistos = [1, \"dois\", 3.0, True, None]\n",
    "print(f\"Lista com tipos mistos: {lista_tipos_mistos}\")"
   ]
  },
  {
   "cell_type": "markdown",
   "id": "e4e45359",
   "metadata": {},
   "source": [
    "Fatiamento de listas: Podemos acessar partes específicas de uma lista usando índices e fatias."
   ]
  },
  {
   "cell_type": "code",
   "execution_count": 113,
   "id": "5e8cf06c",
   "metadata": {},
   "outputs": [
    {
     "name": "stdout",
     "output_type": "stream",
     "text": [
      "Primeiro elemento: 1\n",
      "Último elemento: 5\n",
      "Fatia da lista (1 a 3): [2, 3, 4]\n",
      "Lista invertida: [5, 4, 3, 2, 1]\n",
      "Comprimento da lista: 5\n",
      "Percorrendo a lista com passo 2: [1, 3, 5]\n"
     ]
    }
   ],
   "source": [
    "print(f'Primeiro elemento: {lista[0]}')\n",
    "print(f'Último elemento: {lista[-1]}')\n",
    "print(f'Fatia da lista (1 a 3): {lista[1:4]}')\n",
    "print(f'Lista invertida: {lista[::-1]}')\n",
    "print(f'Comprimento da lista: {len(lista)}')\n",
    "print(f'Percorrendo a lista com passo 2: {lista[::2]}')"
   ]
  },
  {
   "cell_type": "markdown",
   "id": "a26b1eba",
   "metadata": {},
   "source": [
    "Métodos de listas!"
   ]
  },
  {
   "cell_type": "code",
   "execution_count": 114,
   "id": "90a286a9",
   "metadata": {},
   "outputs": [
    {
     "name": "stdout",
     "output_type": "stream",
     "text": [
      "Lista após adicionar 6: [1, 2, 3, 4, 5, 6]\n",
      "Lista após remover 3: [1, 2, 4, 5, 6]\n",
      "Lista após remover o último elemento: [1, 2, 4, 5]\n",
      "Elemento removido: 6\n",
      "Lista ordenada em ordem decrescente: [5, 4, 2, 1]\n",
      "Lista após limpar todos os elementos: []\n"
     ]
    }
   ],
   "source": [
    "lista.append(6)\n",
    "print(f'Lista após adicionar 6: {lista}')\n",
    "lista.remove(3)\n",
    "print(f'Lista após remover 3: {lista}')\n",
    "popped = lista.pop()\n",
    "print(f'Lista após remover o último elemento: {lista}')\n",
    "print(f'Elemento removido: {popped}')\n",
    "lista.sort(reverse=True)\n",
    "print(f'Lista ordenada em ordem decrescente: {lista}')\n",
    "lista.clear()\n",
    "print(f'Lista após limpar todos os elementos: {lista}')"
   ]
  },
  {
   "cell_type": "markdown",
   "id": "f6e50556",
   "metadata": {},
   "source": [
    "Podemos criar listas aninhadas, formando matrizes ou tabelas."
   ]
  },
  {
   "cell_type": "code",
   "execution_count": 250,
   "id": "1ad69012",
   "metadata": {},
   "outputs": [
    {
     "name": "stdout",
     "output_type": "stream",
     "text": [
      "\n",
      "Matriz:\n",
      "[[1, 2, 3], [4, 5, 6], [7, 8, 9]]\n",
      "Elemento na posição [1][2]: 6\n",
      "Elemento na posição [0][1]: 2\n"
     ]
    }
   ],
   "source": [
    "import pprint\n",
    "print()\n",
    "matriz = [\n",
    "    [1, 2, 3], \n",
    "    [4, 5, 6], \n",
    "    [7, 8, 9]\n",
    "]\n",
    "print(f'Matriz:')\n",
    "pprint.pprint(matriz)\n",
    "print(f'Elemento na posição [1][2]: {matriz[1][2]}')\n",
    "print(f'Elemento na posição [0][1]: {matriz[0][1]}')"
   ]
  },
  {
   "cell_type": "markdown",
   "id": "b83a04b5",
   "metadata": {},
   "source": [
    "O `range` é uma forma eficiente de gerar sequências de números inteiros, muito útil em loops e iterações."
   ]
  },
  {
   "cell_type": "code",
   "execution_count": 116,
   "id": "900b6d40",
   "metadata": {},
   "outputs": [
    {
     "name": "stdout",
     "output_type": "stream",
     "text": [
      "range(5) = [0, 1, 2, 3, 4]\n"
     ]
    }
   ],
   "source": [
    "print(f'range(5) = {list(range(5))}')"
   ]
  },
  {
   "cell_type": "markdown",
   "id": "bffb93e6",
   "metadata": {},
   "source": [
    "List comprehension é uma maneira concisa e eficiente de criar listas em Python, permitindo gerar novas listas a partir de iteráveis existentes usando uma sintaxe compacta."
   ]
  },
  {
   "cell_type": "code",
   "execution_count": 127,
   "id": "667f9575",
   "metadata": {},
   "outputs": [
    {
     "name": "stdout",
     "output_type": "stream",
     "text": [
      "Lista criada com list comprehension: [0, 1, 2, 3, 4, 5, 6, 7, 8, 9]\n",
      "\n",
      "Exponenciais de base 2: [1, 2, 4, 8, 16, 32, 64, 128, 256, 512]\n",
      "\n",
      "Números pares de 0 a 19: [0, 2, 4, 6, 8]\n"
     ]
    }
   ],
   "source": [
    "lista = [i for i in range(10)]\n",
    "print(f'Lista criada com list comprehension: {lista}')\n",
    "\n",
    "print()\n",
    "# exponencial\n",
    "exponencial = [2**i for i in range(10)]\n",
    "print(f'Exponenciais de base 2: {exponencial}')\n",
    "\n",
    "print()\n",
    "# List comprehension com condição\n",
    "pares = [i for i in range(10) if i % 2 == 0]\n",
    "print(f'Números pares de 0 a 19: {pares}')"
   ]
  },
  {
   "cell_type": "markdown",
   "id": "93fa9742",
   "metadata": {},
   "source": [
    "\\newpage\n",
    "\n",
    "## Loops\n",
    "\n",
    "Loops são estruturas que permitem repetir um bloco de código várias vezes, facilitando a automação de tarefas repetitivas. Os principais tipos de loops em Python são:\n",
    "\n",
    "* `for`: Usado para iterar sobre uma sequência (como listas, tuplas ou strings) ou qualquer objeto iterável;\n",
    "* `while`: Executa um bloco de código enquanto uma condição for verdadeira.\n",
    "\n",
    "Podemos usar `break` e `continue` para controlar o fluxo dentro dos loops. Além disso, podemos usar loops aninhados para iterar sobre estruturas de dados mais complexas."
   ]
  },
  {
   "cell_type": "code",
   "execution_count": 108,
   "id": "c24d55e0",
   "metadata": {},
   "outputs": [
    {
     "name": "stdout",
     "output_type": "stream",
     "text": [
      "Elementos da lista: [1, 2, 3, 4, 5]\n",
      "Elemento: 1\n",
      "Elemento: 2\n",
      "Elemento: 3\n",
      "Elemento: 4\n",
      "Elemento: 5\n"
     ]
    }
   ],
   "source": [
    "lista = [1, 2, 3, 4, 5]\n",
    "print(f\"Elementos da lista: {lista}\")\n",
    "\n",
    "for elemento in lista:\n",
    "    print(f'Elemento: {elemento}')"
   ]
  },
  {
   "cell_type": "code",
   "execution_count": 109,
   "id": "0d394e29",
   "metadata": {},
   "outputs": [
    {
     "name": "stdout",
     "output_type": "stream",
     "text": [
      "Elemento na posição 0: 1\n",
      "Elemento na posição 1: 2\n",
      "Elemento na posição 2: 3\n",
      "Elemento na posição 3: 4\n",
      "Elemento na posição 4: 5\n"
     ]
    }
   ],
   "source": [
    "i = 0\n",
    "while i < len(lista):\n",
    "    print(f'Elemento na posição {i}: {lista[i]}')\n",
    "    i += 1"
   ]
  },
  {
   "cell_type": "code",
   "execution_count": 110,
   "id": "aba0e7ec",
   "metadata": {},
   "outputs": [
    {
     "name": "stdout",
     "output_type": "stream",
     "text": [
      "Elemento na posição 0: 1\n",
      "Elemento na posição 1: 2\n",
      "Elemento na posição 2: 3\n"
     ]
    }
   ],
   "source": [
    "i = 0\n",
    "while i < len(lista):\n",
    "    print(f'Elemento na posição {i}: {lista[i]}')\n",
    "    if lista[i] == 3:\n",
    "        break\n",
    "    i += 1"
   ]
  },
  {
   "cell_type": "code",
   "execution_count": 111,
   "id": "1b995478",
   "metadata": {},
   "outputs": [
    {
     "name": "stdout",
     "output_type": "stream",
     "text": [
      "Elemento na posição 0: 1\n",
      "Elemento na posição 1: 2\n",
      "Elemento na posição 3: 4\n",
      "Elemento na posição 4: 5\n"
     ]
    }
   ],
   "source": [
    "i = 0\n",
    "for elemento in lista:\n",
    "    if elemento == 3:\n",
    "        i += 1\n",
    "        continue\n",
    "    print(f'Elemento na posição {i}: {elemento}')\n",
    "    i += 1"
   ]
  },
  {
   "cell_type": "markdown",
   "id": "d9972960",
   "metadata": {},
   "source": [
    "## Tuplas\n",
    "\n",
    "As tuplas são semelhantes às listas, mas são imutáveis. Elas são usadas para armazenar coleções de itens que não devem ser alterados após a criação."
   ]
  },
  {
   "cell_type": "code",
   "execution_count": 141,
   "id": "5a58a637",
   "metadata": {},
   "outputs": [
    {
     "name": "stdout",
     "output_type": "stream",
     "text": [
      "Tupla: (1, 2, 3, 4, 5)\n",
      "\n",
      "Primeiro elemento da tupla: 1\n",
      "Último elemento da tupla: 5\n"
     ]
    }
   ],
   "source": [
    "tupla = (1, 2, 3, 4, 5)\n",
    "print(f'Tupla: {tupla}')\n",
    "\n",
    "print()\n",
    "print(f'Primeiro elemento da tupla: {tupla[0]}')\n",
    "print(f'Último elemento da tupla: {tupla[-1]}')"
   ]
  },
  {
   "cell_type": "markdown",
   "id": "34672dab",
   "metadata": {},
   "source": [
    "Tuplas são imutáveis, então não podemos adicionar ou remover elementos\n",
    "\n",
    "* `tupla[0] = 10` Isso geraria um erro\n",
    "* `tupla.append(6)`  Isso também geraria um erro\n",
    "\n",
    "Já no caso das listas, podemos modificar seus elementos livremente\n",
    "* `lista[0] = 10`  Isso é válido"
   ]
  },
  {
   "cell_type": "code",
   "execution_count": 144,
   "id": "04c8cd88",
   "metadata": {},
   "outputs": [
    {
     "name": "stdout",
     "output_type": "stream",
     "text": [
      "Lista 1: [1, 2, 3, 'x']\n",
      "Lista 2: [1, 2, 3, 'x']\n",
      "\n",
      "Lista 1 após modificar Lista 3: [1, 2, 3]\n",
      "Lista 3 (cópia independente): [1, 2, 3, 'x']\n"
     ]
    }
   ],
   "source": [
    "# Também é importante saber que listas apontam para o mesmo local na memória\n",
    "lista1 = [1, 2, 3]\n",
    "lista2 = lista1\n",
    "lista2.append('x')\n",
    "print(f'Lista 1: {lista1}')\n",
    "print(f'Lista 2: {lista2}')\n",
    "\n",
    "print()\n",
    "# Para criar uma cópia independente, usamos o método copy()\n",
    "lista1 = [1, 2, 3]\n",
    "lista3 = lista1.copy()\n",
    "lista3.append('x')\n",
    "print(f'Lista 1 após modificar Lista 3: {lista1}')\n",
    "print(f'Lista 3 (cópia independente): {lista3}')"
   ]
  },
  {
   "cell_type": "code",
   "execution_count": 145,
   "id": "e0d4d10b",
   "metadata": {},
   "outputs": [
    {
     "name": "stdout",
     "output_type": "stream",
     "text": [
      "Tupla 1: (1, 2, 3)\n",
      "Tupla 2 (cópia de Tupla 1): (1, 2, 3)\n"
     ]
    }
   ],
   "source": [
    "tupla1 = (1, 2, 3)\n",
    "print(f'Tupla 1: {tupla1}')\n",
    "\n",
    "# Tuplas também podem ser atribuídas a novas variáveis, mas continuam imutáveis\n",
    "tupla2 = tupla1\n",
    "print(f'Tupla 2 (cópia de Tupla 1): {tupla2}')"
   ]
  },
  {
   "cell_type": "markdown",
   "id": "e0c8a9d7",
   "metadata": {},
   "source": [
    "\\newpage\n",
    "\n",
    "## Dicionários \n",
    "\n",
    "Dicionários são coleções não ordenadas de pares chave-valor. Eles permitem armazenar e acessar dados de forma eficiente usando chaves únicas."
   ]
  },
  {
   "cell_type": "code",
   "execution_count": 147,
   "id": "6b3edc56",
   "metadata": {},
   "outputs": [
    {
     "name": "stdout",
     "output_type": "stream",
     "text": [
      "Dicionário original: {'a': 1, 'b': 2, 'c': 3}\n",
      "\n",
      "Dicionário após adicionar chave \"d\": {'a': 1, 'b': 2, 'c': 3, 'd': 4}\n"
     ]
    }
   ],
   "source": [
    "dicionario = {'a': 1, 'b': 2, 'c': 3}\n",
    "print(f'Dicionário original: {dicionario}')\n",
    "\n",
    "print()\n",
    "dicionario['d'] = 4\n",
    "print(f'Dicionário após adicionar chave \"d\": {dicionario}')"
   ]
  },
  {
   "cell_type": "code",
   "execution_count": 151,
   "id": "91c3e1c2",
   "metadata": {},
   "outputs": [
    {
     "name": "stdout",
     "output_type": "stream",
     "text": [
      ".keys(): ['a', 'b', 'c', 'd']\n",
      ".values(): [1, 2, 3, 4]\n",
      "\n",
      "Chave: a, Valor: 1\n",
      "Chave: b, Valor: 2\n",
      "Chave: c, Valor: 3\n",
      "Chave: d, Valor: 4\n"
     ]
    }
   ],
   "source": [
    "print(f'.keys(): {list(dicionario.keys())}')\n",
    "print(f'.values(): {list(dicionario.values())}')\n",
    "\n",
    "print()\n",
    "for chave, valor in dicionario.items():\n",
    "    print(f'Chave: {chave}, Valor: {valor}')"
   ]
  },
  {
   "cell_type": "markdown",
   "id": "50b713aa",
   "metadata": {},
   "source": [
    "\\newpage\n",
    "\n",
    "# **Funções**\n",
    "\n",
    "Funções são blocos de código reutilizáveis que realizam tarefas específicas. Elas ajudam a organizar o código, melhorar a legibilidade e facilitar a manutenção.\n",
    "\n",
    "* Definição de funções com `def`\n",
    "* Parâmetros e argumentos"
   ]
  },
  {
   "cell_type": "code",
   "execution_count": 165,
   "id": "153f5825",
   "metadata": {},
   "outputs": [
    {
     "name": "stdout",
     "output_type": "stream",
     "text": [
      "Resultado da soma: 15\n",
      "a, b: (5, 10)\n"
     ]
    }
   ],
   "source": [
    "a, b = 5, 10\n",
    "c = None\n",
    "\n",
    "def soma(a, b):\n",
    "    \"\"\"Retorna a soma de dois números.\"\"\"\n",
    "    return a + b\n",
    "\n",
    "resultado = soma(5, 10)\n",
    "print(f'Resultado da soma: {resultado}')\n",
    "print(f'a, b: {a, b}')"
   ]
  },
  {
   "cell_type": "code",
   "execution_count": 166,
   "id": "bbc3b231",
   "metadata": {},
   "outputs": [
    {
     "name": "stdout",
     "output_type": "stream",
     "text": [
      "Soma dentro da função: 15\n",
      "Resultado da função sem_retorno: None\n",
      "c = None\n"
     ]
    }
   ],
   "source": [
    "c = None\n",
    "\n",
    "def sem_retorno(a, b):\n",
    "    \"\"\"Função que não retorna nada, apenas imprime a soma.\"\"\"\n",
    "    print(f'Soma dentro da função: {a + b}')\n",
    "\n",
    "resultado = sem_retorno(5, 10)\n",
    "print(f'Resultado da função sem_retorno: {resultado}')\n",
    "print(f'c = {c}')"
   ]
  },
  {
   "cell_type": "code",
   "execution_count": 170,
   "id": "56958fe6",
   "metadata": {},
   "outputs": [
    {
     "name": "stdout",
     "output_type": "stream",
     "text": [
      "Resultado da função return_dict: {'x': 3, 'y': 7, 'soma': 10}\n"
     ]
    }
   ],
   "source": [
    "def return_dict(x, y):\n",
    "    \"\"\"Retorna um dicionário com os valores e sua soma.\"\"\"\n",
    "    return {'x': x, 'y': y, 'soma': x + y}\n",
    "\n",
    "result = return_dict(3, 7)\n",
    "print(f'Resultado da função return_dict: {result}')"
   ]
  },
  {
   "cell_type": "markdown",
   "id": "72d22c25",
   "metadata": {},
   "source": [
    "\\newpage\n",
    "\n",
    "# **Conversor de Unidades**"
   ]
  },
  {
   "cell_type": "markdown",
   "id": "66c0ee30",
   "metadata": {},
   "source": [
    "Podemos criar funções para converter unidades comuns:\n",
    "$$\\text{atm} ↔ \\text{Pa} ↔ \\text{mmHg}$$\n",
    "$$\\text{K} ↔ \\text{°C} ↔ \\text{°F}$$\n",
    "$$\\text{L} ↔ \\text{m}^3 ↔ \\text{mL}$$\n",
    "$$\\text{J} ↔ \\text{cal} ↔ \\text{eV}$$"
   ]
  },
  {
   "cell_type": "markdown",
   "id": "bc8dad60",
   "metadata": {},
   "source": [
    "## Dicionários de Conversões"
   ]
  },
  {
   "cell_type": "code",
   "execution_count": 228,
   "id": "458bf760",
   "metadata": {},
   "outputs": [
    {
     "name": "stdout",
     "output_type": "stream",
     "text": [
      "Temperaturas: {'C': 25, 'F': 77.0, 'K': 298.15}\n"
     ]
    }
   ],
   "source": [
    "def temperatura(T_celcius):\n",
    "    \"\"\"Converte temperatura de Celsius para Fahrenheit e Kelvin.\"\"\"\n",
    "    F = round((T_celcius * 9/5) + 32, 2)\n",
    "    K = round(T_celcius + 273.15, 2)\n",
    "    return {'C': T_celcius, 'F': F, 'K': K}\n",
    "\n",
    "T = temperatura(25)\n",
    "print(f'Temperaturas: {T}')"
   ]
  },
  {
   "cell_type": "code",
   "execution_count": 180,
   "id": "21afe054",
   "metadata": {},
   "outputs": [
    {
     "name": "stdout",
     "output_type": "stream",
     "text": [
      "Pressões: {'atm': 1, 'Pa': 101325, 'bar': 1.01325, 'mmHg': 760}\n"
     ]
    }
   ],
   "source": [
    "def pressao(P_atm):\n",
    "    \"\"\"Converte pressão de atm para Pa e bar.\"\"\"\n",
    "    Pa = P_atm * 101325\n",
    "    bar = P_atm * 1.01325\n",
    "    mmHg = P_atm * 760\n",
    "    return {'atm': P_atm, 'Pa': Pa, 'bar': bar, 'mmHg': mmHg}\n",
    "\n",
    "p = pressao(1)\n",
    "print(f'Pressões: {p}')"
   ]
  },
  {
   "cell_type": "code",
   "execution_count": 182,
   "id": "e3741947",
   "metadata": {},
   "outputs": [
    {
     "name": "stdout",
     "output_type": "stream",
     "text": [
      "Volume: {'L': 1, 'm3': 0.001, 'mL': 1000}\n"
     ]
    }
   ],
   "source": [
    "def volume(V_litros):\n",
    "    \"\"\"Converte volume de litros para metros cúbicos e mililitros.\"\"\"\n",
    "    m3 = V_litros / 1000\n",
    "    ml = V_litros * 1000\n",
    "    return {'L': V_litros, 'm3': m3, 'mL': ml}\n",
    "\n",
    "V = volume(1)\n",
    "print(f'Volume: {V}')"
   ]
  },
  {
   "cell_type": "markdown",
   "id": "d788cc5b",
   "metadata": {},
   "source": [
    "## Constante dos Gases Ideais"
   ]
  },
  {
   "cell_type": "markdown",
   "id": "22b0f656",
   "metadata": {},
   "source": [
    "Podemos construir um seletor de unidades de $R$ (constante dos gases ideais) para facilitar nossos cálculos."
   ]
  },
  {
   "cell_type": "code",
   "execution_count": 229,
   "id": "a8224cd8",
   "metadata": {},
   "outputs": [
    {
     "name": "stdout",
     "output_type": "stream",
     "text": [
      "Constante dos gases R (J/(mol·K)): 8.314\n"
     ]
    }
   ],
   "source": [
    "def unidade_R(T, V, P):\n",
    "    if T == 'K' and V == 'm3' and P == 'Pa':\n",
    "        R = 8.314  # J/(mol·K)\n",
    "    elif T == 'C' and V == 'L' and P == 'atm':\n",
    "        R = 0.08206  # L·atm/(mol·K)\n",
    "    else:\n",
    "        R = None\n",
    "        print(\"Unidades não reconhecidas para calcular R.\")\n",
    "    return R\n",
    "\n",
    "R1 = unidade_R('K', 'm3', 'Pa')\n",
    "print(f'Constante dos gases R (J/(mol·K)): {R1}')"
   ]
  },
  {
   "cell_type": "markdown",
   "id": "6eabfb7a",
   "metadata": {},
   "source": [
    "Usando para calcular o número de mols em diferentes unidades de pressão e temperatura.\n",
    "$$\\text{pV}=\\text{nRT}$$\n",
    "$$\\therefore \\> \\text{n}=\\dfrac{\\text{pV}}{\\text{RT}}$$"
   ]
  },
  {
   "cell_type": "code",
   "execution_count": 230,
   "id": "aacef040",
   "metadata": {},
   "outputs": [
    {
     "name": "stdout",
     "output_type": "stream",
     "text": [
      "Número de mols n (usando R em J/(mol·K)): 0.9994 mols\n"
     ]
    }
   ],
   "source": [
    "# p = 101325 Pa\n",
    "# V = 0.0224 m3\n",
    "# T = 273.15 K\n",
    "n = (101325 * 0.0224) / (R1 * 273.15)\n",
    "print(f'Número de mols n (usando R em J/(mol·K)): {n:.4} mols')"
   ]
  },
  {
   "cell_type": "code",
   "execution_count": 251,
   "id": "fae13547",
   "metadata": {},
   "outputs": [
    {
     "name": "stdout",
     "output_type": "stream",
     "text": [
      "Número de mols n (usando R em J/(mol·K)): 0.9994 mols\n"
     ]
    }
   ],
   "source": [
    "# Convertendo para unidades mais comuns\n",
    "# p = 1 atm\n",
    "# V = 22.4 L\n",
    "# T = 0 °C\n",
    "n = (\n",
    "    pressao(1)['Pa'] * volume(22.4)['m3']\n",
    ") / (\n",
    "    unidade_R('K', 'm3', 'Pa') * temperatura(0)['K']\n",
    ") # n = (101325 * 0.0224) / (R1 * 273.15)\n",
    "print(f'Número de mols n (usando R em J/(mol·K)): {n:.4} mols')"
   ]
  },
  {
   "cell_type": "code",
   "execution_count": 232,
   "id": "cab70191",
   "metadata": {},
   "outputs": [
    {
     "name": "stdout",
     "output_type": "stream",
     "text": [
      "Número de mols n (usando R em J/(mol·K)): 0.9993 mols\n"
     ]
    }
   ],
   "source": [
    "# Usando R em L·atm/(mol·K)\n",
    "# p = 1 atm\n",
    "# V = 22.4 L\n",
    "# T = 0 °C -> note que tem que estar em K mesmo assim!\n",
    "n = (1 * 22.4) / (unidade_R('C', 'L', 'atm') * temperatura(0)['K'])\n",
    "print(f'Número de mols n (usando R em J/(mol·K)): {n:.4} mols')"
   ]
  },
  {
   "cell_type": "markdown",
   "id": "d178ddf9",
   "metadata": {},
   "source": [
    "\\newpage\n",
    "\n",
    "## Operações em Mesma Base de Unidades"
   ]
  },
  {
   "cell_type": "code",
   "execution_count": 257,
   "id": "ffbe9d8b",
   "metadata": {},
   "outputs": [
    {
     "name": "stdout",
     "output_type": "stream",
     "text": [
      "10°C + 80°F - 300 K = 9.82 °C\n",
      "10°C + 80°F - 300 K = 49.67 °F\n",
      "10°C + 80°F - 300 K = 282.97 K\n",
      "\n",
      "Resposta = {'C': 9.82, 'F': 49.68, 'K': 282.97}\n"
     ]
    }
   ],
   "source": [
    "def conv_temp(T, unidade):\n",
    "    \"\"\"Converte temperatura para a unidade desejada.\"\"\"\n",
    "    if 'C' in unidade:\n",
    "        return temperatura(T)\n",
    "    elif 'F' in unidade:\n",
    "        T_c = (T - 32) * 5/9\n",
    "        return temperatura(T_c)\n",
    "    elif 'K' in unidade:\n",
    "        T_c = T - 273.15\n",
    "        return temperatura(T_c)\n",
    "    else:\n",
    "        print(\"Unidade de temperatura não reconhecida.\")\n",
    "        return None\n",
    "\n",
    "print(f'''10°C + 80°F - 300 K = {\n",
    "    conv_temp(10, \"C\")[\"C\"] + \n",
    "    conv_temp(80, \"F\")[\"C\"] - \n",
    "    conv_temp(300, \"K\")[\"C\"]:.2f} °C''')\n",
    "print(f'''10°C + 80°F - 300 K = {\n",
    "    conv_temp(10, \"C\")[\"F\"] + \n",
    "    conv_temp(80, \"F\")[\"F\"] - \n",
    "    conv_temp(300, \"K\")[\"F\"]:.2f} °F''')\n",
    "print(f'''10°C + 80°F - 300 K = {\n",
    "    conv_temp(10, \"C\")[\"K\"] + \n",
    "    conv_temp(80, \"F\")[\"K\"] - \n",
    "    conv_temp(300, \"K\")[\"K\"]:.2f} K''')\n",
    "\n",
    "print()\n",
    "print(f'Resposta = {temperatura(9.82)}')"
   ]
  },
  {
   "cell_type": "markdown",
   "id": "0cd3b909",
   "metadata": {},
   "source": [
    "\\newpage\n",
    "\n",
    "## Usando Bibliotecas"
   ]
  },
  {
   "cell_type": "markdown",
   "id": "325e7fd7",
   "metadata": {},
   "source": [
    "Podemos usar bibliotecas como `pint` para facilitar a conversão de unidades e garantir consistência nos cálculos."
   ]
  },
  {
   "cell_type": "code",
   "execution_count": 237,
   "id": "d765e5a0",
   "metadata": {},
   "outputs": [],
   "source": [
    "from pint import UnitRegistry\n",
    "\n",
    "ureg = UnitRegistry()"
   ]
  },
  {
   "cell_type": "code",
   "execution_count": 244,
   "id": "500500c1",
   "metadata": {},
   "outputs": [
    {
     "name": "stdout",
     "output_type": "stream",
     "text": [
      "Distância em metros: 100 meter\n",
      "\n",
      "Magnitude = 100\n",
      "Distancia = meter\n",
      "Dimensão = [length]\n"
     ]
    }
   ],
   "source": [
    "distancia = 100 * ureg.meter\n",
    "print(f'Distância em metros: {distancia}')\n",
    "\n",
    "print()\n",
    "print(f'Magnitude = {distancia.magnitude}')\n",
    "print(f'Distancia = {distancia.units}')\n",
    "print(f'Dimensão = {distancia.dimensionality}')"
   ]
  },
  {
   "cell_type": "code",
   "execution_count": 241,
   "id": "242f2dc2",
   "metadata": {},
   "outputs": [
    {
     "name": "stdout",
     "output_type": "stream",
     "text": [
      "magnitude = 100\n",
      "unidade = meter\n"
     ]
    }
   ],
   "source": [
    "print(f'magnitude = {distancia.magnitude}')\n",
    "print(f'unidade = {distancia.units}')"
   ]
  },
  {
   "cell_type": "code",
   "execution_count": 248,
   "id": "af935804",
   "metadata": {},
   "outputs": [
    {
     "name": "stdout",
     "output_type": "stream",
     "text": [
      "Distância (km): 0.1 kilometer\n"
     ]
    }
   ],
   "source": [
    "distancia_km = distancia.to(ureg.kilometer)\n",
    "print(f'Distância (km): {distancia_km}')"
   ]
  }
 ],
 "metadata": {
  "kernelspec": {
   "display_name": "env",
   "language": "python",
   "name": "python3"
  },
  "language_info": {
   "codemirror_mode": {
    "name": "ipython",
    "version": 3
   },
   "file_extension": ".py",
   "mimetype": "text/x-python",
   "name": "python",
   "nbconvert_exporter": "python",
   "pygments_lexer": "ipython3",
   "version": "3.12.6"
  }
 },
 "nbformat": 4,
 "nbformat_minor": 5
}
