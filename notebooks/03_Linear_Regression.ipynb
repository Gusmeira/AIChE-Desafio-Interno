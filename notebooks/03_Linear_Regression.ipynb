{
 "cells": [
  {
   "cell_type": "markdown",
   "id": "ca09a267",
   "metadata": {},
   "source": [
    "---\n",
    "title: \"Linear Regression\"\n",
    "author: \"Gustavo J. V. Meira Filho\"\n",
    "format:\n",
    "    html:\n",
    "        code-fold: true\n",
    "        code-summary: \"Show Code\"\n",
    "        toc: true\n",
    "        toc-depth: 3\n",
    "    pdf:\n",
    "        documentclass: scrreprt\n",
    "        pdf-engine: xelatex\n",
    "        toc: true\n",
    "        toc-depth: 3\n",
    "        include-in-header: \n",
    "            text: |\n",
    "                \\usepackage[a4paper,margin=2.5cm]{geometry}\n",
    "        execute:\n",
    "            echo: true     \n",
    "            warning: false   \n",
    "            message: false \n",
    "execute:\n",
    "    fig-format: png       \n",
    "jupyter: AIChE-Internal-Challenges\n",
    "---"
   ]
  },
  {
   "cell_type": "markdown",
   "id": "5047df66",
   "metadata": {},
   "source": [
    "\\newpage\n",
    "# **Objetivo**\n",
    "\n",
    "> Introduzir à ciência de dados e processos de otimização por álgebra linear.\n",
    "\n",
    "* <span style=\"color: #3d9be7ff\"><strong>Conceitos de programação:</strong></span> \n",
    "  * Arrays\n",
    "  * Ajustes de Curva\n",
    "  * Otimização\n",
    "  * Redes neurais\n",
    "* <span style=\"color: #3d9be7ff\"><strong>Bibliotecas:</strong></span>  \n",
    "  * `numpy`\n",
    "  * `plotly`\n",
    "* <span style=\"color: #3d9be7ff\"><strong>Aplicações:</strong></span> \n",
    "\n",
    "  * Ajustar uma reta em dados experimentais (ex.: Lei de Beer-Lambert: Absorbância vs Concentração).\n",
    "  * Mostrar coeficientes da regressão (slope/intercept) e interpretar fisicamente.\n",
    "  * $\\text{R}^2$ e o quanto programação ajuda em análise de laboratório."
   ]
  }
 ],
 "metadata": {
  "language_info": {
   "name": "python"
  }
 },
 "nbformat": 4,
 "nbformat_minor": 5
}
