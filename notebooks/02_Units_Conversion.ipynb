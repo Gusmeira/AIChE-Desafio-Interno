{
 "cells": [
  {
   "cell_type": "markdown",
   "id": "72ac29fe",
   "metadata": {},
   "source": [
    "---\n",
    "title: \"Units Conversion\"\n",
    "author: \"Gustavo J. V. Meira Filho\"\n",
    "format:\n",
    "    html:\n",
    "        code-fold: true\n",
    "        code-summary: \"Show Code\"\n",
    "        toc: true\n",
    "        toc-depth: 3\n",
    "    pdf:\n",
    "        documentclass: scrreprt\n",
    "        pdf-engine: xelatex\n",
    "        toc: true\n",
    "        toc-depth: 3\n",
    "        include-in-header: \n",
    "            text: |\n",
    "                \\usepackage[a4paper,margin=2.5cm]{geometry}\n",
    "        execute:\n",
    "            echo: true     \n",
    "            warning: false   \n",
    "            message: false \n",
    "execute:\n",
    "    fig-format: png       \n",
    "jupyter: AIChE-Internal-Challenges\n",
    "---"
   ]
  },
  {
   "cell_type": "markdown",
   "id": "9faf0fa3",
   "metadata": {},
   "source": [
    "\\newpage\n",
    "# **Objetivo**\n",
    "\n",
    "> Introduzir funções, modularização e boas práticas.\n",
    "\n",
    "* <span style=\"color: #3d9be7ff\"><strong>Conceitos de programação:</strong></span> \n",
    "  * Definição de funções\n",
    "  * Parâmetros\n",
    "  * Retorno\n",
    "  * Modularidade.\n",
    "* <span style=\"color: #3d9be7ff\"><strong>Bibliotecas:</strong></span>  \n",
    "  * Nenhuma além do básico.\n",
    "* <span style=\"color: #3d9be7ff\"><strong>Aplicações:</strong></span> \n",
    "\n",
    "  * Criar funções para converter unidades comuns:\n",
    "    * Pressão: atm ↔ Pa ↔ mmHg\n",
    "    * Temperatura: K ↔ °C ↔ °F\n",
    "    * Energia: J ↔ cal ↔ eV\n",
    "  * Mostrar como organizar um mini \"conversor\" e aplicar em cálculos químicos simples (ex.: $\\text{PV = nRT}$, convertendo pressão e temperatura em diferentes unidades).\n",
    "  * Criar gráficos (ex.: massa atômica vs número atômico; cores por família)."
   ]
  }
 ],
 "metadata": {
  "kernelspec": {
   "display_name": "env",
   "language": "python",
   "name": "python3"
  },
  "language_info": {
   "name": "python",
   "version": "3.12.6"
  }
 },
 "nbformat": 4,
 "nbformat_minor": 5
}
