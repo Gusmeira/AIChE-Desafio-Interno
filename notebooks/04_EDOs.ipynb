{
 "cells": [
  {
   "cell_type": "markdown",
   "id": "09aa9140",
   "metadata": {},
   "source": [
    "---\n",
    "title: \"Equations and ODEs\"\n",
    "author: \"Gustavo J. V. Meira Filho\"\n",
    "format:\n",
    "    html:\n",
    "        code-fold: true\n",
    "        code-summary: \"Show Code\"\n",
    "        toc: true\n",
    "        toc-depth: 3\n",
    "    pdf:\n",
    "        documentclass: scrreprt\n",
    "        pdf-engine: xelatex\n",
    "        toc: true\n",
    "        toc-depth: 3\n",
    "        include-in-header: \n",
    "            text: |\n",
    "                \\usepackage[a4paper,margin=2.5cm]{geometry}\n",
    "        execute:\n",
    "            echo: true     \n",
    "            warning: false   \n",
    "            message: false \n",
    "execute:\n",
    "    fig-format: png       \n",
    "jupyter: AIChE-Internal-Challenges\n",
    "---"
   ]
  },
  {
   "cell_type": "markdown",
   "id": "3f345be8",
   "metadata": {},
   "source": [
    "\\newpage\n",
    "# **Objetivo**\n",
    "\n",
    "> Introduzir resolução de problemas matemáticos com Python.\n",
    "\n",
    "* <span style=\"color: #3d9be7ff\"><strong>Conceitos de programação:</strong></span> \n",
    "  * Funções matemáticas\n",
    "  * Métodos numéricos\n",
    "  * Solvers.\n",
    "* <span style=\"color: #3d9be7ff\"><strong>Bibliotecas:</strong></span>  \n",
    "  * `scipy`\n",
    "  * `plotly`\n",
    "* <span style=\"color: #3d9be7ff\"><strong>Aplicações:</strong></span> \n",
    "\n",
    "  * Achar raízes (ex.: equilíbrio químico simples, cálculo de conversão em reatores).\n",
    "  * Simular cinética de reação (ex.: $\\frac{\\text{dC}}{\\text{dt}} = -\\text{kC}$).\n",
    "  * Plotar a evolução temporal das concentrações."
   ]
  }
 ],
 "metadata": {
  "language_info": {
   "name": "python"
  }
 },
 "nbformat": 4,
 "nbformat_minor": 5
}
