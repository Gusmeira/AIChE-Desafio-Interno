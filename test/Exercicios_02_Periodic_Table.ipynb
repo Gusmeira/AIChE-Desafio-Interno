{
 "cells": [
  {
   "cell_type": "markdown",
   "id": "72ac29fe",
   "metadata": {},
   "source": [
    "---\n",
    "title: \"Manipulação de Dados - Exercícios\"\n",
    "author: \"Gustavo J. V. Meira Filho\"\n",
    "format:\n",
    "    pdf:\n",
    "        documentclass: scrreprt\n",
    "        pdf-engine: xelatex\n",
    "        toc: true\n",
    "        toc-depth: 3\n",
    "        include-in-header: \n",
    "            text: |\n",
    "                \\usepackage[a4paper,margin=2.5cm]{geometry}\n",
    "        execute:\n",
    "            echo: true     \n",
    "            warning: false   \n",
    "            message: false \n",
    "execute:\n",
    "    fig-format: png       \n",
    "jupyter: AIChE-Internal-Challenges\n",
    "---"
   ]
  },
  {
   "cell_type": "code",
   "execution_count": 108,
   "id": "37e2a518",
   "metadata": {},
   "outputs": [],
   "source": [
    "# Nativas Python\n",
    "import sys\n",
    "import os\n",
    "\n",
    "# Dados Tabulares\n",
    "import pandas as pd\n",
    "import numpy as np\n",
    "\n",
    "# Visualização\n",
    "import plotly.graph_objects as go\n",
    "import plotly.express as px\n",
    "import plotly.figure_factory as ff\n",
    "import plotly.io as pio\n",
    "from graphmodex import plotlymodex\n",
    "\n",
    "import matplotlib.pyplot as plt\n",
    "import seaborn as sns"
   ]
  },
  {
   "cell_type": "code",
   "execution_count": null,
   "id": "6929c933",
   "metadata": {},
   "outputs": [],
   "source": [
    "equipamentos = pd.DataFrame({\n",
    "    'tipo': [\n",
    "        # Reatores\n",
    "        'Batela', 'Contínuo', 'PFR', 'CSTR', \n",
    "        'Batela Alimentado', 'Contínuo de Leito Fixo', \n",
    "        'Contínuo de Leito Fluidizado', 'Semi-Batela',\n",
    "        \n",
    "        # Separação\n",
    "        'Destilador de Prato', 'Coluna de Absorção', 'Filtro Prensa',\n",
    "        'Filtro Rotativo a Vácuo', 'Secador Spray Dryer',\n",
    "        \n",
    "        # Transporte e bombeamento\n",
    "        'Bomba Centrífuga', 'Compressor de Ar', \n",
    "        'Trocador de Calor de Placas',\n",
    "        'Trocador de Calor Casco e Tubo', 'Válvula de Controle', \n",
    "        'Misturador de Hélice',\n",
    "        'Torre de Resfriamento', 'Tanque de Armazenamento', \n",
    "        'Torre de Extração Líquido-Líquido'\n",
    "    ],\n",
    "    \n",
    "    'volume': [\n",
    "        500, 1200, 800, 950, np.nan, 1500, 2000, 700,  # reatores\n",
    "        np.nan, 850, np.nan, np.nan, 1200,             # separação\n",
    "        150, np.nan, 300, 500, np.nan, 400, 2000, 5000, 900  \n",
    "        # transporte e utilidades\n",
    "    ],\n",
    "    \n",
    "    'conversao': [\n",
    "        85, 92, 88, 80, 90, 95, 97, np.nan,   # reatores\n",
    "        np.nan, np.nan, np.nan, np.nan, np.nan,   # separação\n",
    "        np.nan, np.nan, np.nan, np.nan, np.nan, \n",
    "        np.nan, np.nan, np.nan, np.nan   # transporte\n",
    "    ],\n",
    "    \n",
    "    'temperatura': [\n",
    "        60, 70, 75, 65, 68, 80, 78, 70,        # reatores\n",
    "        120, 45, 25, 35, 180,                  # separação\n",
    "        25, 40, 90, 150, 25, 60, 35, 30, 40    # transporte\n",
    "    ],\n",
    "    \n",
    "    'custo_usd_1000': [\n",
    "        50, 80, 120, 100, 90, 150, 180, 70,     # reatores\n",
    "        250, 200, 60, 90, 300,                  # separação\n",
    "        30, 70, 120, 200, 20, 50, 180, 220, 250 # transporte\n",
    "    ],\n",
    "    \n",
    "    'op': [\n",
    "        'reacao', 'reacao', 'reacao', 'reacao', 'reacao',\n",
    "        'reacao', 'reacao', 'reacao',\n",
    "        'separacao', 'separacao', 'separacao', 'separacao', 'separacao',\n",
    "        'transporte', 'transporte', 'troca termica', 'troca termica',\n",
    "        'controle', 'mistura', 'utilidades', 'armazenamento', 'separacao'\n",
    "    ]\n",
    "})\n",
    "equipamentos.to_csv(r'../data/equipamentos.csv', index=False)\n",
    "\n",
    "catalisadores = pd.DataFrame({\n",
    "    'tipo': ['PFR', 'CSTR', 'Contínuo de Leito Fixo', \n",
    "             'Contínuo de Leito Fluidizado',],\n",
    "    'catalisador': ['Ni/Al2O3', 'Pt/SiO2', 'Zeólita Y', 'Fe-Cr',],\n",
    "    'aplicacao': ['Hidrogenação', 'Oxidação', 'Craqueamento', \n",
    "                  'Reforma a vapor'],\n",
    "    'custo_usd_1000_por_L': [\n",
    "        0.35,   # Ni/Al2O3 – catalisador de hidrogenação (barato)\n",
    "        1.20,   # Pt/SiO2 – nobre, alto custo\n",
    "        0.80,   # Zeólita Y – usado em craqueamento catalítico\n",
    "        0.50,   # Fe-Cr – moderado, comum em reformadores\n",
    "    ]\n",
    "})\n",
    "catalisadores.to_csv(r'../data/catalisadores.csv', index=False)"
   ]
  },
  {
   "cell_type": "markdown",
   "id": "5576355d",
   "metadata": {},
   "source": [
    "\\newpage\n",
    "\n",
    "# **Exercício 1: Explorando Dados de Reatores**\n",
    "\n",
    "Você recebeu uma base de dados chamada `reatores.csv`, contendo informações sobre diferentes tipos de reatores utilizados em processos químicos. Essa base possui as seguintes colunas:\n",
    "\n",
    "| Coluna          | Descrição                                    |\n",
    "| --------------- | -------------------------------------------- |\n",
    "| tipo        | Tipo de reator (Batela, Contínuo, PFR, etc.) |\n",
    "| volume      | Volume operacional do reator (em L)          |\n",
    "| conversao   | Conversão média do reagente (em %)           |\n",
    "| temperatura | Temperatura média de operação (°C)           |\n",
    "\n",
    "Utilize o pandas para analisar os dados.\n",
    "\n",
    "---\n",
    "\n",
    "1. Leitura dos dados:\n",
    "   Importe a biblioteca `pandas` e leia o arquivo `reatores.csv` em um DataFrame chamado `reatores`.\n",
    "\n",
    "2. Exploração inicial:\n",
    "\n",
    "   * Quantas linhas e colunas há na base?\n",
    "   * Alguma coluna possui valores ausentes?\n",
    "   * Qual a média do volume dos reatores?\n",
    "\n",
    "3. Filtragem de dados:\n",
    "   Encontre os seguintes reatores:\n",
    "\n",
    "   * Reatores com temperatura abaixo de 70°C e volume acima de 400 L."
   ]
  },
  {
   "cell_type": "code",
   "execution_count": 131,
   "id": "899e3fe7",
   "metadata": {},
   "outputs": [],
   "source": [
    "equipamentos = pd.read_csv(r'../data/equipamentos.csv')\n",
    "catalisadores = pd.read_csv(r'../data/catalisadores.csv')\n",
    "reatores = equipamentos[equipamentos['op'] == 'reacao'].copy()"
   ]
  },
  {
   "cell_type": "code",
   "execution_count": 132,
   "id": "b2ab6e0a",
   "metadata": {},
   "outputs": [
    {
     "data": {
      "application/vnd.microsoft.datawrangler.viewer.v0+json": {
       "columns": [
        {
         "name": "index",
         "rawType": "int64",
         "type": "integer"
        },
        {
         "name": "tipo",
         "rawType": "object",
         "type": "string"
        },
        {
         "name": "volume",
         "rawType": "float64",
         "type": "float"
        },
        {
         "name": "conversao",
         "rawType": "float64",
         "type": "float"
        },
        {
         "name": "temperatura",
         "rawType": "int64",
         "type": "integer"
        },
        {
         "name": "custo_usd_1000",
         "rawType": "int64",
         "type": "integer"
        },
        {
         "name": "op",
         "rawType": "object",
         "type": "string"
        }
       ],
       "ref": "4156b01f-096c-43fc-b659-d6586e66ccc4",
       "rows": [
        [
         "0",
         "Batela",
         "500.0",
         "85.0",
         "60",
         "50",
         "reacao"
        ],
        [
         "3",
         "CSTR",
         "950.0",
         "80.0",
         "65",
         "100",
         "reacao"
        ]
       ],
       "shape": {
        "columns": 6,
        "rows": 2
       }
      },
      "text/html": [
       "<div>\n",
       "<style scoped>\n",
       "    .dataframe tbody tr th:only-of-type {\n",
       "        vertical-align: middle;\n",
       "    }\n",
       "\n",
       "    .dataframe tbody tr th {\n",
       "        vertical-align: top;\n",
       "    }\n",
       "\n",
       "    .dataframe thead th {\n",
       "        text-align: right;\n",
       "    }\n",
       "</style>\n",
       "<table border=\"1\" class=\"dataframe\">\n",
       "  <thead>\n",
       "    <tr style=\"text-align: right;\">\n",
       "      <th></th>\n",
       "      <th>tipo</th>\n",
       "      <th>volume</th>\n",
       "      <th>conversao</th>\n",
       "      <th>temperatura</th>\n",
       "      <th>custo_usd_1000</th>\n",
       "      <th>op</th>\n",
       "    </tr>\n",
       "  </thead>\n",
       "  <tbody>\n",
       "    <tr>\n",
       "      <th>0</th>\n",
       "      <td>Batela</td>\n",
       "      <td>500.0</td>\n",
       "      <td>85.0</td>\n",
       "      <td>60</td>\n",
       "      <td>50</td>\n",
       "      <td>reacao</td>\n",
       "    </tr>\n",
       "    <tr>\n",
       "      <th>3</th>\n",
       "      <td>CSTR</td>\n",
       "      <td>950.0</td>\n",
       "      <td>80.0</td>\n",
       "      <td>65</td>\n",
       "      <td>100</td>\n",
       "      <td>reacao</td>\n",
       "    </tr>\n",
       "  </tbody>\n",
       "</table>\n",
       "</div>"
      ],
      "text/plain": [
       "     tipo  volume  conversao  temperatura  custo_usd_1000      op\n",
       "0  Batela   500.0       85.0           60              50  reacao\n",
       "3    CSTR   950.0       80.0           65             100  reacao"
      ]
     },
     "execution_count": 132,
     "metadata": {},
     "output_type": "execute_result"
    }
   ],
   "source": [
    "reatores.query('temperatura < 70 and volume > 400')"
   ]
  },
  {
   "cell_type": "code",
   "execution_count": 133,
   "id": "58aa4603",
   "metadata": {},
   "outputs": [
    {
     "data": {
      "application/vnd.microsoft.datawrangler.viewer.v0+json": {
       "columns": [
        {
         "name": "index",
         "rawType": "int64",
         "type": "integer"
        },
        {
         "name": "tipo",
         "rawType": "object",
         "type": "string"
        },
        {
         "name": "volume",
         "rawType": "float64",
         "type": "float"
        },
        {
         "name": "conversao",
         "rawType": "float64",
         "type": "float"
        },
        {
         "name": "temperatura",
         "rawType": "int64",
         "type": "integer"
        },
        {
         "name": "custo_usd_1000",
         "rawType": "int64",
         "type": "integer"
        },
        {
         "name": "op",
         "rawType": "object",
         "type": "string"
        }
       ],
       "ref": "667d5a56-f6fd-4914-846f-2b024624c1eb",
       "rows": [
        [
         "0",
         "Batela",
         "500.0",
         "85.0",
         "60",
         "50",
         "reacao"
        ],
        [
         "3",
         "CSTR",
         "950.0",
         "80.0",
         "65",
         "100",
         "reacao"
        ]
       ],
       "shape": {
        "columns": 6,
        "rows": 2
       }
      },
      "text/html": [
       "<div>\n",
       "<style scoped>\n",
       "    .dataframe tbody tr th:only-of-type {\n",
       "        vertical-align: middle;\n",
       "    }\n",
       "\n",
       "    .dataframe tbody tr th {\n",
       "        vertical-align: top;\n",
       "    }\n",
       "\n",
       "    .dataframe thead th {\n",
       "        text-align: right;\n",
       "    }\n",
       "</style>\n",
       "<table border=\"1\" class=\"dataframe\">\n",
       "  <thead>\n",
       "    <tr style=\"text-align: right;\">\n",
       "      <th></th>\n",
       "      <th>tipo</th>\n",
       "      <th>volume</th>\n",
       "      <th>conversao</th>\n",
       "      <th>temperatura</th>\n",
       "      <th>custo_usd_1000</th>\n",
       "      <th>op</th>\n",
       "    </tr>\n",
       "  </thead>\n",
       "  <tbody>\n",
       "    <tr>\n",
       "      <th>0</th>\n",
       "      <td>Batela</td>\n",
       "      <td>500.0</td>\n",
       "      <td>85.0</td>\n",
       "      <td>60</td>\n",
       "      <td>50</td>\n",
       "      <td>reacao</td>\n",
       "    </tr>\n",
       "    <tr>\n",
       "      <th>3</th>\n",
       "      <td>CSTR</td>\n",
       "      <td>950.0</td>\n",
       "      <td>80.0</td>\n",
       "      <td>65</td>\n",
       "      <td>100</td>\n",
       "      <td>reacao</td>\n",
       "    </tr>\n",
       "  </tbody>\n",
       "</table>\n",
       "</div>"
      ],
      "text/plain": [
       "     tipo  volume  conversao  temperatura  custo_usd_1000      op\n",
       "0  Batela   500.0       85.0           60              50  reacao\n",
       "3    CSTR   950.0       80.0           65             100  reacao"
      ]
     },
     "execution_count": 133,
     "metadata": {},
     "output_type": "execute_result"
    }
   ],
   "source": [
    "reatores[\n",
    "    (reatores['temperatura'] < 70) \n",
    "    & (reatores['volume'] > 400)\n",
    "]"
   ]
  },
  {
   "cell_type": "markdown",
   "id": "641e758b",
   "metadata": {},
   "source": [
    "\\newpage\n",
    "# <span style=\"color:#e34a4a\">**Exercício 2: Único Reator Possível**\n",
    "\n",
    "A empresa AIChE está tentando selecionar um reator específico para um novo processo químico. Infelizmente não há muitas opções disponíveis, e eles precisam encontrar o reator que atenda a todos os seguintes critérios:\n",
    "- Volume abaixo 1400 L (não temos um espaço muito grande para colocar ele);\n",
    "- Conversão maior que 90% (precisamos do lucro maximizado);\n",
    "- Temperatura de operação igual ou abaixo de 70 °C (o material não aguenta mais do que isso).\n",
    "\n",
    "Qual reator devemos selecionar?"
   ]
  },
  {
   "cell_type": "code",
   "execution_count": 134,
   "id": "088712f0",
   "metadata": {},
   "outputs": [
    {
     "data": {
      "application/vnd.microsoft.datawrangler.viewer.v0+json": {
       "columns": [
        {
         "name": "index",
         "rawType": "int64",
         "type": "integer"
        },
        {
         "name": "tipo",
         "rawType": "object",
         "type": "string"
        },
        {
         "name": "volume",
         "rawType": "float64",
         "type": "float"
        },
        {
         "name": "conversao",
         "rawType": "float64",
         "type": "float"
        },
        {
         "name": "temperatura",
         "rawType": "int64",
         "type": "integer"
        },
        {
         "name": "custo_usd_1000",
         "rawType": "int64",
         "type": "integer"
        },
        {
         "name": "op",
         "rawType": "object",
         "type": "string"
        }
       ],
       "ref": "843c6186-56f8-4292-b477-816f108fb68d",
       "rows": [
        [
         "1",
         "Contínuo",
         "1200.0",
         "92.0",
         "70",
         "80",
         "reacao"
        ]
       ],
       "shape": {
        "columns": 6,
        "rows": 1
       }
      },
      "text/html": [
       "<div>\n",
       "<style scoped>\n",
       "    .dataframe tbody tr th:only-of-type {\n",
       "        vertical-align: middle;\n",
       "    }\n",
       "\n",
       "    .dataframe tbody tr th {\n",
       "        vertical-align: top;\n",
       "    }\n",
       "\n",
       "    .dataframe thead th {\n",
       "        text-align: right;\n",
       "    }\n",
       "</style>\n",
       "<table border=\"1\" class=\"dataframe\">\n",
       "  <thead>\n",
       "    <tr style=\"text-align: right;\">\n",
       "      <th></th>\n",
       "      <th>tipo</th>\n",
       "      <th>volume</th>\n",
       "      <th>conversao</th>\n",
       "      <th>temperatura</th>\n",
       "      <th>custo_usd_1000</th>\n",
       "      <th>op</th>\n",
       "    </tr>\n",
       "  </thead>\n",
       "  <tbody>\n",
       "    <tr>\n",
       "      <th>1</th>\n",
       "      <td>Contínuo</td>\n",
       "      <td>1200.0</td>\n",
       "      <td>92.0</td>\n",
       "      <td>70</td>\n",
       "      <td>80</td>\n",
       "      <td>reacao</td>\n",
       "    </tr>\n",
       "  </tbody>\n",
       "</table>\n",
       "</div>"
      ],
      "text/plain": [
       "       tipo  volume  conversao  temperatura  custo_usd_1000      op\n",
       "1  Contínuo  1200.0       92.0           70              80  reacao"
      ]
     },
     "execution_count": 134,
     "metadata": {},
     "output_type": "execute_result"
    }
   ],
   "source": [
    "reatores[\n",
    "    (\n",
    "        (reatores['temperatura'] <= 70) \n",
    "        & (reatores['volume'] < 1400)\n",
    "    )\n",
    "    & (reatores['conversao'] > 90)\n",
    "]"
   ]
  },
  {
   "cell_type": "markdown",
   "id": "96e318d8",
   "metadata": {},
   "source": [
    "\\newpage\n",
    "\n",
    "# **Exercício 3: Feature Engineering**\n",
    "\n",
    "Algumas informações pré-processadas possuem mais valor do que variáveis cruas! Crie uma nova coluna chamada `rendimento`, que é definida como o produto da conversão (em decimal) pela temperatura de operação (°C):\n",
    "\n",
    "$$\\text{Rendimento} = \\dfrac{100* \\text{Conversão }(\\%)}{\\text{Temperatura }(°\\text{C})}$$\n",
    "\n",
    "Exclua do seu `df` qualquer reator que não possua um valor de rendimento atribuído.  "
   ]
  },
  {
   "cell_type": "code",
   "execution_count": 135,
   "id": "bc7c897f",
   "metadata": {},
   "outputs": [],
   "source": [
    "reatores['rendimento'] = (reatores['conversao'] / 100) * reatores['temperatura'] "
   ]
  },
  {
   "cell_type": "code",
   "execution_count": 136,
   "id": "62f957fc",
   "metadata": {},
   "outputs": [
    {
     "data": {
      "application/vnd.microsoft.datawrangler.viewer.v0+json": {
       "columns": [
        {
         "name": "index",
         "rawType": "int64",
         "type": "integer"
        },
        {
         "name": "tipo",
         "rawType": "object",
         "type": "string"
        },
        {
         "name": "conversao",
         "rawType": "float64",
         "type": "float"
        },
        {
         "name": "temperatura",
         "rawType": "int64",
         "type": "integer"
        },
        {
         "name": "rendimento",
         "rawType": "float64",
         "type": "float"
        }
       ],
       "ref": "4dbf9dbf-fb4b-4dac-9eb2-1f23c6b84445",
       "rows": [
        [
         "0",
         "Batela",
         "85.0",
         "60",
         "51.0"
        ],
        [
         "1",
         "Contínuo",
         "92.0",
         "70",
         "64.4"
        ],
        [
         "2",
         "PFR",
         "88.0",
         "75",
         "66.0"
        ],
        [
         "3",
         "CSTR",
         "80.0",
         "65",
         "52.0"
        ],
        [
         "4",
         "Batela Alimentado",
         "90.0",
         "68",
         "61.2"
        ],
        [
         "5",
         "Contínuo de Leito Fixo",
         "95.0",
         "80",
         "76.0"
        ],
        [
         "6",
         "Contínuo de Leito Fluidizado",
         "97.0",
         "78",
         "75.66"
        ]
       ],
       "shape": {
        "columns": 4,
        "rows": 7
       }
      },
      "text/html": [
       "<div>\n",
       "<style scoped>\n",
       "    .dataframe tbody tr th:only-of-type {\n",
       "        vertical-align: middle;\n",
       "    }\n",
       "\n",
       "    .dataframe tbody tr th {\n",
       "        vertical-align: top;\n",
       "    }\n",
       "\n",
       "    .dataframe thead th {\n",
       "        text-align: right;\n",
       "    }\n",
       "</style>\n",
       "<table border=\"1\" class=\"dataframe\">\n",
       "  <thead>\n",
       "    <tr style=\"text-align: right;\">\n",
       "      <th></th>\n",
       "      <th>tipo</th>\n",
       "      <th>conversao</th>\n",
       "      <th>temperatura</th>\n",
       "      <th>rendimento</th>\n",
       "    </tr>\n",
       "  </thead>\n",
       "  <tbody>\n",
       "    <tr>\n",
       "      <th>0</th>\n",
       "      <td>Batela</td>\n",
       "      <td>85.0</td>\n",
       "      <td>60</td>\n",
       "      <td>51.00</td>\n",
       "    </tr>\n",
       "    <tr>\n",
       "      <th>1</th>\n",
       "      <td>Contínuo</td>\n",
       "      <td>92.0</td>\n",
       "      <td>70</td>\n",
       "      <td>64.40</td>\n",
       "    </tr>\n",
       "    <tr>\n",
       "      <th>2</th>\n",
       "      <td>PFR</td>\n",
       "      <td>88.0</td>\n",
       "      <td>75</td>\n",
       "      <td>66.00</td>\n",
       "    </tr>\n",
       "    <tr>\n",
       "      <th>3</th>\n",
       "      <td>CSTR</td>\n",
       "      <td>80.0</td>\n",
       "      <td>65</td>\n",
       "      <td>52.00</td>\n",
       "    </tr>\n",
       "    <tr>\n",
       "      <th>4</th>\n",
       "      <td>Batela Alimentado</td>\n",
       "      <td>90.0</td>\n",
       "      <td>68</td>\n",
       "      <td>61.20</td>\n",
       "    </tr>\n",
       "    <tr>\n",
       "      <th>5</th>\n",
       "      <td>Contínuo de Leito Fixo</td>\n",
       "      <td>95.0</td>\n",
       "      <td>80</td>\n",
       "      <td>76.00</td>\n",
       "    </tr>\n",
       "    <tr>\n",
       "      <th>6</th>\n",
       "      <td>Contínuo de Leito Fluidizado</td>\n",
       "      <td>97.0</td>\n",
       "      <td>78</td>\n",
       "      <td>75.66</td>\n",
       "    </tr>\n",
       "  </tbody>\n",
       "</table>\n",
       "</div>"
      ],
      "text/plain": [
       "                           tipo  conversao  temperatura  rendimento\n",
       "0                        Batela       85.0           60       51.00\n",
       "1                      Contínuo       92.0           70       64.40\n",
       "2                           PFR       88.0           75       66.00\n",
       "3                          CSTR       80.0           65       52.00\n",
       "4             Batela Alimentado       90.0           68       61.20\n",
       "5        Contínuo de Leito Fixo       95.0           80       76.00\n",
       "6  Contínuo de Leito Fluidizado       97.0           78       75.66"
      ]
     },
     "execution_count": 136,
     "metadata": {},
     "output_type": "execute_result"
    }
   ],
   "source": [
    "reatores = reatores.dropna(subset=['rendimento'])\n",
    "reatores[['tipo', 'conversao', 'temperatura', 'rendimento']]"
   ]
  },
  {
   "cell_type": "markdown",
   "id": "7e88e44f",
   "metadata": {},
   "source": [
    "\\newpage\n",
    "\n",
    "# **Exercício 4: Melhor Custo Benefício**\n",
    "\n",
    "Olhando só para a conversão e para o custo, qual reator apresenta o melhor custo-benefício?"
   ]
  },
  {
   "cell_type": "code",
   "execution_count": 145,
   "id": "f1f23d8e",
   "metadata": {},
   "outputs": [
    {
     "data": {
      "application/vnd.microsoft.datawrangler.viewer.v0+json": {
       "columns": [
        {
         "name": "index",
         "rawType": "int64",
         "type": "integer"
        },
        {
         "name": "tipo",
         "rawType": "object",
         "type": "string"
        },
        {
         "name": "conversao",
         "rawType": "float64",
         "type": "float"
        },
        {
         "name": "custo_usd_1000",
         "rawType": "int64",
         "type": "integer"
        }
       ],
       "ref": "9f3d3f1f-d603-432d-987a-09372c6b8685",
       "rows": [
        [
         "6",
         "Contínuo de Leito Fluidizado",
         "97.0",
         "180"
        ],
        [
         "5",
         "Contínuo de Leito Fixo",
         "95.0",
         "150"
        ],
        [
         "1",
         "Contínuo",
         "92.0",
         "80"
        ],
        [
         "4",
         "Batela Alimentado",
         "90.0",
         "90"
        ],
        [
         "2",
         "PFR",
         "88.0",
         "120"
        ],
        [
         "0",
         "Batela",
         "85.0",
         "50"
        ],
        [
         "3",
         "CSTR",
         "80.0",
         "100"
        ]
       ],
       "shape": {
        "columns": 3,
        "rows": 7
       }
      },
      "text/html": [
       "<div>\n",
       "<style scoped>\n",
       "    .dataframe tbody tr th:only-of-type {\n",
       "        vertical-align: middle;\n",
       "    }\n",
       "\n",
       "    .dataframe tbody tr th {\n",
       "        vertical-align: top;\n",
       "    }\n",
       "\n",
       "    .dataframe thead th {\n",
       "        text-align: right;\n",
       "    }\n",
       "</style>\n",
       "<table border=\"1\" class=\"dataframe\">\n",
       "  <thead>\n",
       "    <tr style=\"text-align: right;\">\n",
       "      <th></th>\n",
       "      <th>tipo</th>\n",
       "      <th>conversao</th>\n",
       "      <th>custo_usd_1000</th>\n",
       "    </tr>\n",
       "  </thead>\n",
       "  <tbody>\n",
       "    <tr>\n",
       "      <th>6</th>\n",
       "      <td>Contínuo de Leito Fluidizado</td>\n",
       "      <td>97.0</td>\n",
       "      <td>180</td>\n",
       "    </tr>\n",
       "    <tr>\n",
       "      <th>5</th>\n",
       "      <td>Contínuo de Leito Fixo</td>\n",
       "      <td>95.0</td>\n",
       "      <td>150</td>\n",
       "    </tr>\n",
       "    <tr>\n",
       "      <th>1</th>\n",
       "      <td>Contínuo</td>\n",
       "      <td>92.0</td>\n",
       "      <td>80</td>\n",
       "    </tr>\n",
       "    <tr>\n",
       "      <th>4</th>\n",
       "      <td>Batela Alimentado</td>\n",
       "      <td>90.0</td>\n",
       "      <td>90</td>\n",
       "    </tr>\n",
       "    <tr>\n",
       "      <th>2</th>\n",
       "      <td>PFR</td>\n",
       "      <td>88.0</td>\n",
       "      <td>120</td>\n",
       "    </tr>\n",
       "    <tr>\n",
       "      <th>0</th>\n",
       "      <td>Batela</td>\n",
       "      <td>85.0</td>\n",
       "      <td>50</td>\n",
       "    </tr>\n",
       "    <tr>\n",
       "      <th>3</th>\n",
       "      <td>CSTR</td>\n",
       "      <td>80.0</td>\n",
       "      <td>100</td>\n",
       "    </tr>\n",
       "  </tbody>\n",
       "</table>\n",
       "</div>"
      ],
      "text/plain": [
       "                           tipo  conversao  custo_usd_1000\n",
       "6  Contínuo de Leito Fluidizado       97.0             180\n",
       "5        Contínuo de Leito Fixo       95.0             150\n",
       "1                      Contínuo       92.0              80\n",
       "4             Batela Alimentado       90.0              90\n",
       "2                           PFR       88.0             120\n",
       "0                        Batela       85.0              50\n",
       "3                          CSTR       80.0             100"
      ]
     },
     "execution_count": 145,
     "metadata": {},
     "output_type": "execute_result"
    }
   ],
   "source": [
    "reatores.sort_values(\n",
    "    by=['conversao', 'custo_usd_1000'], \n",
    "    ascending=[False, True]\n",
    ")[\n",
    "    ['tipo', 'conversao', 'custo_usd_1000']\n",
    "]"
   ]
  },
  {
   "cell_type": "code",
   "execution_count": 146,
   "id": "8f954af3",
   "metadata": {},
   "outputs": [
    {
     "data": {
      "application/vnd.microsoft.datawrangler.viewer.v0+json": {
       "columns": [
        {
         "name": "index",
         "rawType": "int64",
         "type": "integer"
        },
        {
         "name": "tipo",
         "rawType": "object",
         "type": "string"
        },
        {
         "name": "conversao",
         "rawType": "float64",
         "type": "float"
        },
        {
         "name": "custo_usd_1000",
         "rawType": "int64",
         "type": "integer"
        }
       ],
       "ref": "b74a8a7f-f9cd-4a1e-b29f-f162625b9864",
       "rows": [
        [
         "0",
         "Batela",
         "85.0",
         "50"
        ],
        [
         "1",
         "Contínuo",
         "92.0",
         "80"
        ],
        [
         "4",
         "Batela Alimentado",
         "90.0",
         "90"
        ],
        [
         "3",
         "CSTR",
         "80.0",
         "100"
        ],
        [
         "2",
         "PFR",
         "88.0",
         "120"
        ],
        [
         "5",
         "Contínuo de Leito Fixo",
         "95.0",
         "150"
        ],
        [
         "6",
         "Contínuo de Leito Fluidizado",
         "97.0",
         "180"
        ]
       ],
       "shape": {
        "columns": 3,
        "rows": 7
       }
      },
      "text/html": [
       "<div>\n",
       "<style scoped>\n",
       "    .dataframe tbody tr th:only-of-type {\n",
       "        vertical-align: middle;\n",
       "    }\n",
       "\n",
       "    .dataframe tbody tr th {\n",
       "        vertical-align: top;\n",
       "    }\n",
       "\n",
       "    .dataframe thead th {\n",
       "        text-align: right;\n",
       "    }\n",
       "</style>\n",
       "<table border=\"1\" class=\"dataframe\">\n",
       "  <thead>\n",
       "    <tr style=\"text-align: right;\">\n",
       "      <th></th>\n",
       "      <th>tipo</th>\n",
       "      <th>conversao</th>\n",
       "      <th>custo_usd_1000</th>\n",
       "    </tr>\n",
       "  </thead>\n",
       "  <tbody>\n",
       "    <tr>\n",
       "      <th>0</th>\n",
       "      <td>Batela</td>\n",
       "      <td>85.0</td>\n",
       "      <td>50</td>\n",
       "    </tr>\n",
       "    <tr>\n",
       "      <th>1</th>\n",
       "      <td>Contínuo</td>\n",
       "      <td>92.0</td>\n",
       "      <td>80</td>\n",
       "    </tr>\n",
       "    <tr>\n",
       "      <th>4</th>\n",
       "      <td>Batela Alimentado</td>\n",
       "      <td>90.0</td>\n",
       "      <td>90</td>\n",
       "    </tr>\n",
       "    <tr>\n",
       "      <th>3</th>\n",
       "      <td>CSTR</td>\n",
       "      <td>80.0</td>\n",
       "      <td>100</td>\n",
       "    </tr>\n",
       "    <tr>\n",
       "      <th>2</th>\n",
       "      <td>PFR</td>\n",
       "      <td>88.0</td>\n",
       "      <td>120</td>\n",
       "    </tr>\n",
       "    <tr>\n",
       "      <th>5</th>\n",
       "      <td>Contínuo de Leito Fixo</td>\n",
       "      <td>95.0</td>\n",
       "      <td>150</td>\n",
       "    </tr>\n",
       "    <tr>\n",
       "      <th>6</th>\n",
       "      <td>Contínuo de Leito Fluidizado</td>\n",
       "      <td>97.0</td>\n",
       "      <td>180</td>\n",
       "    </tr>\n",
       "  </tbody>\n",
       "</table>\n",
       "</div>"
      ],
      "text/plain": [
       "                           tipo  conversao  custo_usd_1000\n",
       "0                        Batela       85.0              50\n",
       "1                      Contínuo       92.0              80\n",
       "4             Batela Alimentado       90.0              90\n",
       "3                          CSTR       80.0             100\n",
       "2                           PFR       88.0             120\n",
       "5        Contínuo de Leito Fixo       95.0             150\n",
       "6  Contínuo de Leito Fluidizado       97.0             180"
      ]
     },
     "execution_count": 146,
     "metadata": {},
     "output_type": "execute_result"
    }
   ],
   "source": [
    "reatores.sort_values(\n",
    "    by=['custo_usd_1000', 'conversao'], \n",
    "    ascending=[True, False]\n",
    ")[\n",
    "    ['tipo', 'conversao', 'custo_usd_1000']\n",
    "]"
   ]
  },
  {
   "cell_type": "markdown",
   "id": "38dee789",
   "metadata": {},
   "source": [
    "\\newpage\n",
    "\n",
    "# **Exercício 5: Agregação**\n",
    "\n",
    "Quantas opções de cada equipamento nós temos para avaliar e considerar durante a construção de uma planta industrial? Utilize o DataFrame `equipamentos` para responder essa pergunta. Lembre-se que a coluna `op` indica a operação do equipamento (Reação, Separação, Transporte, etc).\n",
    "\n",
    "Também veja qual é o custo médio (em milhares de USD) para cada tipo de equipamento.\n",
    "\n",
    "Se precisarmos de **um equipamento de cada tipo**, qual seria o custo total estimado?"
   ]
  },
  {
   "cell_type": "code",
   "execution_count": 139,
   "id": "c5ad8ad4",
   "metadata": {},
   "outputs": [
    {
     "data": {
      "application/vnd.microsoft.datawrangler.viewer.v0+json": {
       "columns": [
        {
         "name": "op",
         "rawType": "object",
         "type": "string"
        },
        {
         "name": "op",
         "rawType": "int64",
         "type": "integer"
        },
        {
         "name": "custo_usd_1000",
         "rawType": "float64",
         "type": "float"
        }
       ],
       "ref": "a11e21b7-49ee-4ad0-9e16-a99c5ddc2f60",
       "rows": [
        [
         "armazenamento",
         "1",
         "220.0"
        ],
        [
         "controle",
         "1",
         "20.0"
        ],
        [
         "mistura",
         "1",
         "50.0"
        ],
        [
         "reacao",
         "8",
         "105.0"
        ],
        [
         "separacao",
         "6",
         "191.66666666666666"
        ],
        [
         "transporte",
         "2",
         "50.0"
        ],
        [
         "troca termica",
         "2",
         "160.0"
        ],
        [
         "utilidades",
         "1",
         "180.0"
        ]
       ],
       "shape": {
        "columns": 2,
        "rows": 8
       }
      },
      "text/html": [
       "<div>\n",
       "<style scoped>\n",
       "    .dataframe tbody tr th:only-of-type {\n",
       "        vertical-align: middle;\n",
       "    }\n",
       "\n",
       "    .dataframe tbody tr th {\n",
       "        vertical-align: top;\n",
       "    }\n",
       "\n",
       "    .dataframe thead th {\n",
       "        text-align: right;\n",
       "    }\n",
       "</style>\n",
       "<table border=\"1\" class=\"dataframe\">\n",
       "  <thead>\n",
       "    <tr style=\"text-align: right;\">\n",
       "      <th></th>\n",
       "      <th>op</th>\n",
       "      <th>custo_usd_1000</th>\n",
       "    </tr>\n",
       "    <tr>\n",
       "      <th>op</th>\n",
       "      <th></th>\n",
       "      <th></th>\n",
       "    </tr>\n",
       "  </thead>\n",
       "  <tbody>\n",
       "    <tr>\n",
       "      <th>armazenamento</th>\n",
       "      <td>1</td>\n",
       "      <td>220.000000</td>\n",
       "    </tr>\n",
       "    <tr>\n",
       "      <th>controle</th>\n",
       "      <td>1</td>\n",
       "      <td>20.000000</td>\n",
       "    </tr>\n",
       "    <tr>\n",
       "      <th>mistura</th>\n",
       "      <td>1</td>\n",
       "      <td>50.000000</td>\n",
       "    </tr>\n",
       "    <tr>\n",
       "      <th>reacao</th>\n",
       "      <td>8</td>\n",
       "      <td>105.000000</td>\n",
       "    </tr>\n",
       "    <tr>\n",
       "      <th>separacao</th>\n",
       "      <td>6</td>\n",
       "      <td>191.666667</td>\n",
       "    </tr>\n",
       "    <tr>\n",
       "      <th>transporte</th>\n",
       "      <td>2</td>\n",
       "      <td>50.000000</td>\n",
       "    </tr>\n",
       "    <tr>\n",
       "      <th>troca termica</th>\n",
       "      <td>2</td>\n",
       "      <td>160.000000</td>\n",
       "    </tr>\n",
       "    <tr>\n",
       "      <th>utilidades</th>\n",
       "      <td>1</td>\n",
       "      <td>180.000000</td>\n",
       "    </tr>\n",
       "  </tbody>\n",
       "</table>\n",
       "</div>"
      ],
      "text/plain": [
       "               op  custo_usd_1000\n",
       "op                               \n",
       "armazenamento   1      220.000000\n",
       "controle        1       20.000000\n",
       "mistura         1       50.000000\n",
       "reacao          8      105.000000\n",
       "separacao       6      191.666667\n",
       "transporte      2       50.000000\n",
       "troca termica   2      160.000000\n",
       "utilidades      1      180.000000"
      ]
     },
     "execution_count": 139,
     "metadata": {},
     "output_type": "execute_result"
    }
   ],
   "source": [
    "info_media_equipamentos = equipamentos.groupby('op').agg(\n",
    "    {'op':'count', 'custo_usd_1000':'mean'}\n",
    ")\n",
    "info_media_equipamentos"
   ]
  },
  {
   "cell_type": "code",
   "execution_count": 140,
   "id": "6bfdb842",
   "metadata": {},
   "outputs": [
    {
     "name": "stdout",
     "output_type": "stream",
     "text": [
      "quantidade de equipamentos = 8\n",
      "custo total estimado = U$ 976666.67\n"
     ]
    }
   ],
   "source": [
    "print(f'quantidade de equipamentos = {len(info_media_equipamentos)}')\n",
    "print(f'custo total estimado = U$ {\n",
    "    1000* info_media_equipamentos[\"custo_usd_1000\"].sum():.2f\n",
    "}')"
   ]
  },
  {
   "cell_type": "markdown",
   "id": "0ca7d2ba",
   "metadata": {},
   "source": [
    "# <span style=\"color:#e34a4a\">**Exercício 6: Merging**\n",
    "\n",
    "A empresa AIChE está planejando construir uma nova planta industrial e precisa combinar informações de diferentes fontes de dados. Você recebeu dois DataFrames: `reatores` e `catalisadores`. O DataFrame `reatores` contém informações sobre diferentes tipos de reatores, enquanto o DataFrame `catalisadores` possui dados sobre catalisadores utilizados em processos químicos. Ambos os DataFrames possuem uma coluna em comum chamada `tipo`, que indica o tipo de reator ou catalisador.\n",
    "\n",
    "Una as duas bases de dados e trabalhe somente com os reatores que possuem catalisadores associados. Crie uma coluna que indique o custo total do reator mais o catalisador (em milhares de USD), considerando o volume do reator. depois, encontre o reator + catalisador com o menor custo total!"
   ]
  },
  {
   "cell_type": "code",
   "execution_count": 148,
   "id": "0ded07bb",
   "metadata": {},
   "outputs": [
    {
     "data": {
      "application/vnd.microsoft.datawrangler.viewer.v0+json": {
       "columns": [
        {
         "name": "index",
         "rawType": "int64",
         "type": "integer"
        },
        {
         "name": "conversao",
         "rawType": "float64",
         "type": "float"
        },
        {
         "name": "custo_usd_1000",
         "rawType": "int64",
         "type": "integer"
        },
        {
         "name": "catalisador",
         "rawType": "object",
         "type": "string"
        },
        {
         "name": "aplicacao",
         "rawType": "object",
         "type": "string"
        },
        {
         "name": "custo_usd_1000_por_L",
         "rawType": "float64",
         "type": "float"
        }
       ],
       "ref": "3bcba751-d5c9-4a85-917e-577d75f5ec2e",
       "rows": [
        [
         "0",
         "88.0",
         "120",
         "Ni/Al2O3",
         "Hidrogenação",
         "0.35"
        ],
        [
         "1",
         "80.0",
         "100",
         "Pt/SiO2",
         "Oxidação",
         "1.2"
        ],
        [
         "2",
         "95.0",
         "150",
         "Zeólita Y",
         "Craqueamento",
         "0.8"
        ],
        [
         "3",
         "97.0",
         "180",
         "Fe-Cr",
         "Reforma a vapor",
         "0.5"
        ]
       ],
       "shape": {
        "columns": 5,
        "rows": 4
       }
      },
      "text/html": [
       "<div>\n",
       "<style scoped>\n",
       "    .dataframe tbody tr th:only-of-type {\n",
       "        vertical-align: middle;\n",
       "    }\n",
       "\n",
       "    .dataframe tbody tr th {\n",
       "        vertical-align: top;\n",
       "    }\n",
       "\n",
       "    .dataframe thead th {\n",
       "        text-align: right;\n",
       "    }\n",
       "</style>\n",
       "<table border=\"1\" class=\"dataframe\">\n",
       "  <thead>\n",
       "    <tr style=\"text-align: right;\">\n",
       "      <th></th>\n",
       "      <th>conversao</th>\n",
       "      <th>custo_usd_1000</th>\n",
       "      <th>catalisador</th>\n",
       "      <th>aplicacao</th>\n",
       "      <th>custo_usd_1000_por_L</th>\n",
       "    </tr>\n",
       "  </thead>\n",
       "  <tbody>\n",
       "    <tr>\n",
       "      <th>0</th>\n",
       "      <td>88.0</td>\n",
       "      <td>120</td>\n",
       "      <td>Ni/Al2O3</td>\n",
       "      <td>Hidrogenação</td>\n",
       "      <td>0.35</td>\n",
       "    </tr>\n",
       "    <tr>\n",
       "      <th>1</th>\n",
       "      <td>80.0</td>\n",
       "      <td>100</td>\n",
       "      <td>Pt/SiO2</td>\n",
       "      <td>Oxidação</td>\n",
       "      <td>1.20</td>\n",
       "    </tr>\n",
       "    <tr>\n",
       "      <th>2</th>\n",
       "      <td>95.0</td>\n",
       "      <td>150</td>\n",
       "      <td>Zeólita Y</td>\n",
       "      <td>Craqueamento</td>\n",
       "      <td>0.80</td>\n",
       "    </tr>\n",
       "    <tr>\n",
       "      <th>3</th>\n",
       "      <td>97.0</td>\n",
       "      <td>180</td>\n",
       "      <td>Fe-Cr</td>\n",
       "      <td>Reforma a vapor</td>\n",
       "      <td>0.50</td>\n",
       "    </tr>\n",
       "  </tbody>\n",
       "</table>\n",
       "</div>"
      ],
      "text/plain": [
       "   conversao  custo_usd_1000 catalisador        aplicacao  \\\n",
       "0       88.0             120    Ni/Al2O3     Hidrogenação   \n",
       "1       80.0             100     Pt/SiO2         Oxidação   \n",
       "2       95.0             150   Zeólita Y     Craqueamento   \n",
       "3       97.0             180       Fe-Cr  Reforma a vapor   \n",
       "\n",
       "   custo_usd_1000_por_L  \n",
       "0                  0.35  \n",
       "1                  1.20  \n",
       "2                  0.80  \n",
       "3                  0.50  "
      ]
     },
     "execution_count": 148,
     "metadata": {},
     "output_type": "execute_result"
    }
   ],
   "source": [
    "reatores_catalisadores = pd.merge(\n",
    "    reatores, catalisadores, on='tipo', how='inner'\n",
    ")\n",
    "reatores_catalisadores[[\n",
    "    'conversao', 'custo_usd_1000', \n",
    "    'catalisador', 'aplicacao', 'custo_usd_1000_por_L'\n",
    "]]"
   ]
  },
  {
   "cell_type": "code",
   "execution_count": 150,
   "id": "0ceb0fd4",
   "metadata": {},
   "outputs": [
    {
     "data": {
      "application/vnd.microsoft.datawrangler.viewer.v0+json": {
       "columns": [
        {
         "name": "index",
         "rawType": "int64",
         "type": "integer"
        },
        {
         "name": "tipo",
         "rawType": "object",
         "type": "string"
        },
        {
         "name": "catalisador",
         "rawType": "object",
         "type": "string"
        },
        {
         "name": "custo_total_usd_1000",
         "rawType": "float64",
         "type": "float"
        },
        {
         "name": "conversao",
         "rawType": "float64",
         "type": "float"
        }
       ],
       "ref": "43722415-0245-497c-a116-5dc1f8184433",
       "rows": [
        [
         "0",
         "PFR",
         "Ni/Al2O3",
         "400.0",
         "88.0"
        ],
        [
         "3",
         "Contínuo de Leito Fluidizado",
         "Fe-Cr",
         "1180.0",
         "97.0"
        ],
        [
         "1",
         "CSTR",
         "Pt/SiO2",
         "1240.0",
         "80.0"
        ],
        [
         "2",
         "Contínuo de Leito Fixo",
         "Zeólita Y",
         "1350.0",
         "95.0"
        ]
       ],
       "shape": {
        "columns": 4,
        "rows": 4
       }
      },
      "text/html": [
       "<div>\n",
       "<style scoped>\n",
       "    .dataframe tbody tr th:only-of-type {\n",
       "        vertical-align: middle;\n",
       "    }\n",
       "\n",
       "    .dataframe tbody tr th {\n",
       "        vertical-align: top;\n",
       "    }\n",
       "\n",
       "    .dataframe thead th {\n",
       "        text-align: right;\n",
       "    }\n",
       "</style>\n",
       "<table border=\"1\" class=\"dataframe\">\n",
       "  <thead>\n",
       "    <tr style=\"text-align: right;\">\n",
       "      <th></th>\n",
       "      <th>tipo</th>\n",
       "      <th>catalisador</th>\n",
       "      <th>custo_total_usd_1000</th>\n",
       "      <th>conversao</th>\n",
       "    </tr>\n",
       "  </thead>\n",
       "  <tbody>\n",
       "    <tr>\n",
       "      <th>0</th>\n",
       "      <td>PFR</td>\n",
       "      <td>Ni/Al2O3</td>\n",
       "      <td>400.0</td>\n",
       "      <td>88.0</td>\n",
       "    </tr>\n",
       "    <tr>\n",
       "      <th>3</th>\n",
       "      <td>Contínuo de Leito Fluidizado</td>\n",
       "      <td>Fe-Cr</td>\n",
       "      <td>1180.0</td>\n",
       "      <td>97.0</td>\n",
       "    </tr>\n",
       "    <tr>\n",
       "      <th>1</th>\n",
       "      <td>CSTR</td>\n",
       "      <td>Pt/SiO2</td>\n",
       "      <td>1240.0</td>\n",
       "      <td>80.0</td>\n",
       "    </tr>\n",
       "    <tr>\n",
       "      <th>2</th>\n",
       "      <td>Contínuo de Leito Fixo</td>\n",
       "      <td>Zeólita Y</td>\n",
       "      <td>1350.0</td>\n",
       "      <td>95.0</td>\n",
       "    </tr>\n",
       "  </tbody>\n",
       "</table>\n",
       "</div>"
      ],
      "text/plain": [
       "                           tipo catalisador  custo_total_usd_1000  conversao\n",
       "0                           PFR    Ni/Al2O3                 400.0       88.0\n",
       "3  Contínuo de Leito Fluidizado       Fe-Cr                1180.0       97.0\n",
       "1                          CSTR     Pt/SiO2                1240.0       80.0\n",
       "2        Contínuo de Leito Fixo   Zeólita Y                1350.0       95.0"
      ]
     },
     "execution_count": 150,
     "metadata": {},
     "output_type": "execute_result"
    }
   ],
   "source": [
    "reatores_catalisadores['custo_total_usd_1000'] = (\n",
    "    reatores_catalisadores['custo_usd_1000'] +\n",
    "    reatores_catalisadores['custo_usd_1000_por_L'] * \n",
    "    reatores_catalisadores['volume']\n",
    ")\n",
    "reatores_catalisadores[[\n",
    "    'tipo', 'catalisador', 'custo_total_usd_1000', 'conversao', \n",
    "    'custo_usd_1000', 'custo_usd_1000_por_L', 'volume'\n",
    "]].sort_values(by='custo_total_usd_1000')[[\n",
    "    'tipo', 'catalisador', 'custo_total_usd_1000', 'conversao', \n",
    "]]"
   ]
  },
  {
   "cell_type": "markdown",
   "id": "14fe451d",
   "metadata": {},
   "source": [
    "# **Exercício 7: COrrelacionando as Variáveis dos Equipamentos**\n",
    "\n",
    "Utilize a biblioteca `seaborn` para criar um heatmap que mostre a correlação entre as variáveis numéricas do DataFrame `reatores` e `equipamentos` (não reatores). Quais variáveis parecem estar mais correlacionadas entre si?"
   ]
  },
  {
   "cell_type": "code",
   "execution_count": 143,
   "id": "b0129b10",
   "metadata": {},
   "outputs": [
    {
     "data": {
      "image/png": "[encoded data removed]",
      "text/plain": [
       "<Figure size 640x480 with 2 Axes>"
      ]
     },
     "metadata": {},
     "output_type": "display_data"
    }
   ],
   "source": [
    "sns.heatmap(reatores[\n",
    "    ['custo_usd_1000', 'temperatura', 'volume', 'conversao']\n",
    "].corr(), annot=True);"
   ]
  },
  {
   "cell_type": "code",
   "execution_count": 144,
   "id": "422ff03d",
   "metadata": {},
   "outputs": [
    {
     "data": {
      "image/png": "[encoded data removed]",
      "text/plain": [
       "<Figure size 640x480 with 2 Axes>"
      ]
     },
     "metadata": {},
     "output_type": "display_data"
    }
   ],
   "source": [
    "sns.heatmap(equipamentos.query(\"op != 'reacao'\")[\n",
    "    ['custo_usd_1000', 'temperatura', 'volume']\n",
    "].corr(), annot=True);"
   ]
  }
 ],
 "metadata": {
  "kernelspec": {
   "display_name": "env",
   "language": "python",
   "name": "python3"
  },
  "language_info": {
   "codemirror_mode": {
    "name": "ipython",
    "version": 3
   },
   "file_extension": ".py",
   "mimetype": "text/x-python",
   "name": "python",
   "nbconvert_exporter": "python",
   "pygments_lexer": "ipython3",
   "version": "3.12.6"
  }
 },
 "nbformat": 4,
 "nbformat_minor": 5
}
