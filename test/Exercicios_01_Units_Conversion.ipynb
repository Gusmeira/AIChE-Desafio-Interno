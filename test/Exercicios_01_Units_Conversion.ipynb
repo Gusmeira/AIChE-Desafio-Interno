{
 "cells": [
  {
   "cell_type": "markdown",
   "id": "72ac29fe",
   "metadata": {},
   "source": [
    "---\n",
    "title: \"Conversão de Unidades - Exercícios\"\n",
    "author: \"Gustavo J. V. Meira Filho\"\n",
    "format:\n",
    "    pdf:\n",
    "        documentclass: scrreprt\n",
    "        pdf-engine: xelatex\n",
    "        toc: true\n",
    "        toc-depth: 3\n",
    "        include-in-header: \n",
    "            text: |\n",
    "                \\usepackage[a4paper,margin=2.5cm]{geometry}\n",
    "        execute:\n",
    "            echo: true     \n",
    "            warning: false   \n",
    "            message: false \n",
    "execute:\n",
    "    fig-format: png       \n",
    "jupyter: AIChE-Internal-Challenges\n",
    "---"
   ]
  },
  {
   "cell_type": "markdown",
   "id": "43b12ec3",
   "metadata": {},
   "source": [
    "\\newpage\n",
    "# **Exercício 1: pH de um tampão**\n",
    "\n",
    "A equação de Henderson–Hasselbalch relaciona o pH de uma solução tampão com o pKa do ácido e a razão entre base conjugada e ácido:\n",
    "\n",
    "$$\n",
    "pH = pKa + \\log_{10}\\left(\\frac{[base]}{[ácido]}\\right)\n",
    "$$\n",
    "\n",
    "Sabendo que:\n",
    "\n",
    "* pKa = 4.76\n",
    "* [base] = 0.1 mol/L\n",
    "* [ácido] = 0.01 mol/L\n",
    "\n",
    "Calcule o pH do tampão.\n",
    "\n",
    "Opcional: não use nenhuma operação de multiplicação ou divisão!"
   ]
  },
  {
   "cell_type": "code",
   "execution_count": 42,
   "id": "60c35884",
   "metadata": {},
   "outputs": [
    {
     "name": "stdout",
     "output_type": "stream",
     "text": [
      "O pH do tampão é 5.76\n"
     ]
    }
   ],
   "source": [
    "import math\n",
    "\n",
    "pKa = 4.76\n",
    "base = 0.1\n",
    "acido = 0.01\n",
    "\n",
    "pH = pKa + math.log10(base / acido)\n",
    "\n",
    "print(f\"O pH do tampão é {pH:.2f}\")"
   ]
  },
  {
   "cell_type": "code",
   "execution_count": 43,
   "id": "ba69800a",
   "metadata": {},
   "outputs": [
    {
     "name": "stdout",
     "output_type": "stream",
     "text": [
      "O pH do tampão é 5.76\n"
     ]
    }
   ],
   "source": [
    "pH = pKa + math.log10(base) - math.log10(acido)\n",
    "\n",
    "print(f\"O pH do tampão é {pH:.2f}\")"
   ]
  },
  {
   "cell_type": "markdown",
   "id": "827f596b",
   "metadata": {},
   "source": [
    "\\newpage\n",
    "# <span style=\"color:#e34a4a\">**Exercício 2: Constante de equilíbrio pela energia livre**\n",
    "\n",
    "A relação entre a variação da energia livre padrão (ΔG°) e a constante de equilíbrio (K) é dada por:\n",
    "\n",
    "$$\n",
    "K = e^{-\\frac{ΔG°}{RT}}\n",
    "$$\n",
    "\n",
    "Sabendo que:\n",
    "\n",
    "* ΔG° = **–5000 J/mol**\n",
    "* R = **8.314 J/(mol·K)**\n",
    "* T = **298 K**\n",
    "\n",
    "Calcule a **constante de equilíbrio K**."
   ]
  },
  {
   "cell_type": "code",
   "execution_count": 44,
   "id": "656c3afb",
   "metadata": {},
   "outputs": [
    {
     "name": "stdout",
     "output_type": "stream",
     "text": [
      "A constante de equilíbrio é K = 7.524\n"
     ]
    }
   ],
   "source": [
    "import math\n",
    "\n",
    "# Dados\n",
    "dG = -5000  # J/mol\n",
    "R = 8.314   # J/(mol·K)\n",
    "T = 298     # K\n",
    "\n",
    "# Equação de equilíbrio\n",
    "K = math.exp(-dG / (R * T))\n",
    "\n",
    "print(f\"A constante de equilíbrio é K = {K:.3f}\")"
   ]
  },
  {
   "cell_type": "markdown",
   "id": "20b98f91",
   "metadata": {},
   "source": [
    "\\newpage\n",
    "# **Exercício 3: Verificando a conversão da reação**\n",
    "\n",
    "A **conversão $X$** em uma reação é dada por:\n",
    "\n",
    "$$\n",
    "X = \\frac{C_{A0} - C_A}{C_{A0}}\n",
    "$$\n",
    "\n",
    "onde:\n",
    "\n",
    "* $C_{A0}$ é a concentração inicial do reagente $mol/L$\n",
    "* $C_A$ é a concentração final $mol/L$\n",
    "\n",
    "O processo é considerado:\n",
    "\n",
    "* **Excelente** se $X ≥ 0.9$\n",
    "* **Aceitável** se $0.7 ≤ X < 0.9$\n",
    "* **Ruim** se $X < 0.7$"
   ]
  },
  {
   "cell_type": "code",
   "execution_count": 45,
   "id": "a9bfd4bf",
   "metadata": {},
   "outputs": [
    {
     "name": "stdout",
     "output_type": "stream",
     "text": [
      "Conversão = 85.0% → Reação aceitável.\n"
     ]
    }
   ],
   "source": [
    "Ca0 = 2.0  # mol/L\n",
    "Ca = 0.3   # mol/L\n",
    "\n",
    "X = (Ca0 - Ca) / Ca0\n",
    "\n",
    "if X >= 0.9:\n",
    "    print(f\"Conversão = {X:.1%} → Reação excelente!\")\n",
    "elif X >= 0.7:\n",
    "    print(f\"Conversão = {X:.1%} → Reação aceitável.\")\n",
    "else:\n",
    "    print(f\"Conversão = {X:.1%} → Reação ruim.\")"
   ]
  },
  {
   "cell_type": "markdown",
   "id": "1762e774",
   "metadata": {},
   "source": [
    "\\newpage\n",
    "# <span style=\"color:#e34a4a\">**Exercício 4: Faixa segura de temperatura de operação**\n",
    "\n",
    "Um reator deve operar entre **350 K e 600 K**.\n",
    "Crie um programa que leia a temperatura `T` e indique:\n",
    "\n",
    "* “Temperatura segura” se estiver dentro da faixa;\n",
    "* “Temperatura muito baixa” se menor que 350 K;\n",
    "* “Temperatura muito alta” se maior que 600 K."
   ]
  },
  {
   "cell_type": "code",
   "execution_count": 50,
   "id": "b45d1c6c",
   "metadata": {},
   "outputs": [
    {
     "name": "stdout",
     "output_type": "stream",
     "text": [
      "Temperatura segura ✅\n"
     ]
    }
   ],
   "source": [
    "T = 420  # K\n",
    "\n",
    "if T < 350:\n",
    "    print(\"Temperatura muito baixa!\")\n",
    "elif T > 600:\n",
    "    print(\"Temperatura muito alta!\")\n",
    "else:\n",
    "    print(\"Temperatura segura ✅\")"
   ]
  },
  {
   "cell_type": "markdown",
   "id": "4bdf7aee",
   "metadata": {},
   "source": [
    "\\newpage\n",
    "# **Exercício 5: Conversão de uma lista de temperaturas**\n",
    "\n",
    "Você tem uma lista de temperaturas em **°C** e quer convertê-las para **K** usando a relação:\n",
    "\n",
    "$$\n",
    "T_K = T_C + 273.15\n",
    "$$\n",
    "\n",
    "Escreva um programa que percorra a lista e imprima todas as temperaturas em Kelvin."
   ]
  },
  {
   "cell_type": "code",
   "execution_count": 51,
   "id": "7764dc59",
   "metadata": {},
   "outputs": [
    {
     "name": "stdout",
     "output_type": "stream",
     "text": [
      "25 °C = 298.15 K\n",
      "50 °C = 323.15 K\n",
      "75 °C = 348.15 K\n",
      "100 °C = 373.15 K\n"
     ]
    }
   ],
   "source": [
    "temps_c = [25, 50, 75, 100]\n",
    "\n",
    "for T in temps_c:\n",
    "    T_k = T + 273.15\n",
    "    print(f\"{T} °C = {T_k:.2f} K\")"
   ]
  },
  {
   "cell_type": "markdown",
   "id": "869a6f8f",
   "metadata": {},
   "source": [
    "\\newpage\n",
    "# <span style=\"color:#e34a4a\">**Exercício 6: Verificação de pressão com while loop**\n",
    "\n",
    "Um sistema começa a operar a **100 kPa**, e a pressão aumenta **20 kPa por ciclo**.\n",
    "Escreva um programa que use um **`while` loop** para imprimir a pressão a cada ciclo até atingir **200 kPa**."
   ]
  },
  {
   "cell_type": "code",
   "execution_count": 49,
   "id": "609a18d9",
   "metadata": {},
   "outputs": [
    {
     "name": "stdout",
     "output_type": "stream",
     "text": [
      "Pressão atual: 100 kPa\n",
      "Pressão atual: 120 kPa\n",
      "Pressão atual: 140 kPa\n",
      "Pressão atual: 160 kPa\n",
      "Pressão atual: 180 kPa\n",
      "Pressão atual: 200 kPa\n"
     ]
    }
   ],
   "source": [
    "P = 100  # kPa\n",
    "while P <= 200:\n",
    "    print(f\"Pressão atual: {P} kPa\")\n",
    "    P += 20  # aumenta 20 kPa a cada iteração"
   ]
  },
  {
   "cell_type": "markdown",
   "id": "09520f6c",
   "metadata": {},
   "source": [
    "\\newpage\n",
    "# **Exercício 7: Tabela de massas molares**\n",
    "\n",
    "Crie um **dicionário** com as massas molares $g/mol$ de algumas substâncias e use-o para calcular a **massa de uma amostra**.\n",
    "\n",
    "Sabendo que:\n",
    "$$\n",
    "m = n \\times M\n",
    "$$\n",
    "\n",
    "onde\n",
    "\n",
    "* $ n $ = número de mols\n",
    "* $ M $ = massa molar $g/mol$"
   ]
  },
  {
   "cell_type": "code",
   "execution_count": 52,
   "id": "79f502f7",
   "metadata": {},
   "outputs": [
    {
     "name": "stdout",
     "output_type": "stream",
     "text": [
      "Massa de 0.5 mol de CO2 = 22.00 g\n"
     ]
    }
   ],
   "source": [
    "molar_mass = {\n",
    "    \"H2\": 2.016,\n",
    "    \"O2\": 32.00,\n",
    "    \"CO2\": 44.01,\n",
    "    \"CH4\": 16.04\n",
    "}\n",
    "\n",
    "n = 0.5  # mols de CO2\n",
    "m = n * molar_mass[\"CO2\"]\n",
    "\n",
    "print(f\"Massa de {n} mol de CO2 = {m:.2f} g\")"
   ]
  },
  {
   "cell_type": "markdown",
   "id": "ac2d29ae",
   "metadata": {},
   "source": [
    "\\newpage\n",
    "# <span style=\"color:#e34a4a\">**Exercício 8: Conversor simples de unidades com dicionário**\n",
    "\n",
    "Monte um dicionário com **fatores de conversão de pressão** e use-o para converter **1 atm** para outras unidades.\n",
    "\n",
    "$$\n",
    "1\\ \\text{atm} = 101325\\ \\text{Pa} = 1.01325\\ \\text{bar} = 760\\ \\text{mmHg}\n",
    "$$"
   ]
  },
  {
   "cell_type": "code",
   "execution_count": 53,
   "id": "cbcd9abf",
   "metadata": {},
   "outputs": [
    {
     "name": "stdout",
     "output_type": "stream",
     "text": [
      "1 atm = 101325 Pa\n",
      "1 atm = 1.01325 bar\n",
      "1 atm = 760 mmHg\n"
     ]
    }
   ],
   "source": [
    "pressao = {\n",
    "    \"Pa\": 101325,\n",
    "    \"bar\": 1.01325,\n",
    "    \"mmHg\": 760\n",
    "}\n",
    "\n",
    "valor_atm = 1  # atm\n",
    "for unidade, fator in pressao.items():\n",
    "    print(f\"{valor_atm} atm = {valor_atm * fator} {unidade}\")"
   ]
  },
  {
   "cell_type": "markdown",
   "id": "e3ec5003",
   "metadata": {},
   "source": [
    "\\newpage\n",
    "# **Exercício 9: Função para calcular a taxa de reação (lei de velocidade)**\n",
    "\n",
    "A **lei de velocidade** para uma reação genérica\n",
    "$$\n",
    "A \\rightarrow produtos\n",
    "$$\n",
    "pode ser escrita como:\n",
    "\n",
    "$$\n",
    "r = k \\cdot [A]^n\n",
    "$$\n",
    "\n",
    "onde:\n",
    "\n",
    "* $r$ é a **taxa de reação** $mol·L⁻¹·s⁻¹$,\n",
    "* $k$ é a **constante de velocidade**,\n",
    "* $[A]$ é a **concentração do reagente**,\n",
    "* $n$ é a **ordem da reação**.\n",
    "\n",
    "> “E se dobrarmos [A]? A taxa dobra também? Ou quadruplica?”"
   ]
  },
  {
   "cell_type": "code",
   "execution_count": 64,
   "id": "58e6b355",
   "metadata": {},
   "outputs": [
    {
     "name": "stdout",
     "output_type": "stream",
     "text": [
      "Reação de 1ª ordem: r = 0.0100 mol/L·s\n",
      "Reação de 2ª ordem: r = 0.0013 mol/L·s\n"
     ]
    }
   ],
   "source": [
    "def taxa_reacao(k, A, n):\n",
    "    \"\"\"\n",
    "    Calcula a taxa de reação pela lei de velocidade r = k * [A]^n.\n",
    "    Retorna o valor de r.\n",
    "    \"\"\"\n",
    "    r = k * (A ** n)\n",
    "    return r\n",
    "\n",
    "# Exemplo de uso:\n",
    "r1 = taxa_reacao(0.02, 0.5, 1)   # 1ª ordem\n",
    "r2 = taxa_reacao(0.005, 0.5, 2)  # 2ª ordem\n",
    "\n",
    "print(f\"Reação de 1ª ordem: r = {r1:.4f} mol/L·s\")\n",
    "print(f\"Reação de 2ª ordem: r = {r2:.4f} mol/L·s\")"
   ]
  },
  {
   "cell_type": "markdown",
   "id": "36469a2e",
   "metadata": {},
   "source": [
    "Agora dobrando a concentração de A:"
   ]
  },
  {
   "cell_type": "code",
   "execution_count": 65,
   "id": "4c8fa44b",
   "metadata": {},
   "outputs": [
    {
     "name": "stdout",
     "output_type": "stream",
     "text": [
      "Reação de 1ª ordem: r = 0.0200 mol/L·s\n",
      "Reação de 2ª ordem: r = 0.0050 mol/L·s\n"
     ]
    }
   ],
   "source": [
    "# Dobrando a quantidade de [A] <3\n",
    "r1_duplicado = taxa_reacao(0.02, 0.5*2, 1)   # 1ª ordem\n",
    "r2_duplicado = taxa_reacao(0.005, 0.5*2, 2)  # 2ª ordem\n",
    "\n",
    "print(f\"Reação de 1ª ordem: r = {r1_duplicado:.4f} mol/L·s\")\n",
    "print(f\"Reação de 2ª ordem: r = {r2_duplicado:.4f} mol/L·s\")"
   ]
  },
  {
   "cell_type": "markdown",
   "id": "3ea5ea05",
   "metadata": {},
   "source": [
    "Avaliando as proporções..."
   ]
  },
  {
   "cell_type": "code",
   "execution_count": 75,
   "id": "c8c848cf",
   "metadata": {},
   "outputs": [
    {
     "name": "stdout",
     "output_type": "stream",
     "text": [
      "A taxa para r1 fica 2.0 vezes maior\n",
      "A taxa para r2 fica 4.0 vezes maior\n"
     ]
    }
   ],
   "source": [
    "print(f\"A taxa para r1 fica {(r1_duplicado / r1)} vezes maior\")\n",
    "print(f\"A taxa para r2 fica {(r2_duplicado / r2)} vezes maior\")"
   ]
  },
  {
   "cell_type": "markdown",
   "id": "424b99bb",
   "metadata": {},
   "source": [
    "Aqui a gente nota a diferença entre primeira e segunda ordem de uma reação!"
   ]
  },
  {
   "cell_type": "markdown",
   "id": "72dc25ef",
   "metadata": {},
   "source": [
    "\\newpage\n",
    "# <span style=\"color:#e34a4a\">**Exercício 10: Cálculo da constante de velocidade pela Equação de Arrhenius**\n",
    "\n",
    "A **Equação de Arrhenius** relaciona a constante de velocidade (k) com a temperatura (T):\n",
    "\n",
    "$$\n",
    "k = A \\cdot e^{-\\frac{E_a}{R \\cdot T}}\n",
    "$$\n",
    "\n",
    "onde:\n",
    "\n",
    "* $A$ = fator pré-exponencial $s⁻¹$\n",
    "* $E_a$ = energia de ativação $J/mol$\n",
    "* $R$ = constante dos gases $8.314 J/mol·K$\n",
    "* $T$ = temperatura $K$\n",
    "\n",
    "> “E se aumentarmos a temperatura para 400 K?\n",
    "> O que acontece com `k`? Por que isso acelera a reação?”"
   ]
  },
  {
   "cell_type": "code",
   "execution_count": 77,
   "id": "94d9ea7d",
   "metadata": {},
   "outputs": [
    {
     "name": "stdout",
     "output_type": "stream",
     "text": [
      "Constante de velocidade k = 7.6849e-05 s^-1\n"
     ]
    }
   ],
   "source": [
    "import math\n",
    "\n",
    "def arrhenius(A, Ea, T):\n",
    "    \"\"\"\n",
    "    Calcula a constante de velocidade (k) pela equação de Arrhenius.\n",
    "    Retorna k em s^-1.\n",
    "    \"\"\"\n",
    "    R = 8.314  # J/mol·K\n",
    "    k = A * math.exp(-Ea / (R * T))\n",
    "    return k\n",
    "\n",
    "# Exemplo de uso:\n",
    "A = 1.2e7      # s^-1\n",
    "Ea = 75000     # J/mol\n",
    "T = 350        # K\n",
    "\n",
    "k = arrhenius(A, Ea, T)\n",
    "print(f\"Constante de velocidade k = {k:.4e} s^-1\")"
   ]
  },
  {
   "cell_type": "code",
   "execution_count": 78,
   "id": "18063cf7",
   "metadata": {},
   "outputs": [
    {
     "name": "stdout",
     "output_type": "stream",
     "text": [
      "Constante de velocidade k = 1.9268e-03 s^-1\n"
     ]
    }
   ],
   "source": [
    "k = arrhenius(A, Ea, T=400)\n",
    "print(f\"Constante de velocidade k = {k:.4e} s^-1\")"
   ]
  },
  {
   "cell_type": "markdown",
   "id": "2689cb2e",
   "metadata": {},
   "source": [
    "Ou seja, um aumento de 50 K faz k crescer cerca de 25×, o que ilustra lindamente o efeito da temperatura sobre a velocidade das reações 🔥\n"
   ]
  },
  {
   "cell_type": "markdown",
   "id": "40700467",
   "metadata": {},
   "source": [
    "\\newpage\n",
    "# **Exercício 11: Conversão automática de temperatura**\n",
    "\n",
    "Crie uma **função** que receba o valor e a unidade de temperatura (`\"C\"`, `\"K\"`, `\"F\"`)\n",
    "e retorne um **dicionário** com as três equivalentes."
   ]
  },
  {
   "cell_type": "code",
   "execution_count": 81,
   "id": "99b32bd5",
   "metadata": {},
   "outputs": [
    {
     "name": "stdout",
     "output_type": "stream",
     "text": [
      "{'C': 26.85, 'K': 300, 'F': 80.33}\n"
     ]
    }
   ],
   "source": [
    "def converte_temp(T, unidade):\n",
    "    if unidade == \"C\":\n",
    "        C = T\n",
    "        K = T + 273.15\n",
    "        F = T * 9/5 + 32\n",
    "    elif unidade == \"K\":\n",
    "        C = T - 273.15\n",
    "        K = T\n",
    "        F = C * 9/5 + 32\n",
    "    elif unidade == \"F\":\n",
    "        C = (T - 32) * 5/9\n",
    "        K = C + 273.15\n",
    "        F = T\n",
    "    else:\n",
    "        return \"Unidade inválida!\"\n",
    "    return {\"C\": round(C,2), \"K\": round(K,2), \"F\": round(F,2)}\n",
    "\n",
    "print(converte_temp(300, \"K\"))"
   ]
  },
  {
   "cell_type": "markdown",
   "id": "a4611778",
   "metadata": {},
   "source": [
    "\\newpage\n",
    "# <span style=\"color:#e34a4a\">**Exercício 12: Cálculo do Coeficiente Global de Transferência de Calor (U)**\n",
    "\n",
    "*(com conversão automática de unidades)*\n",
    "\n",
    "Em engenharia térmica, uma forma empírica americana de estimar o **coeficiente global de transferência de calor** ( U ) é:\n",
    "\n",
    "$$\n",
    "U = \\frac{C \\cdot Q^{0.8}}{A^{0.2}}\n",
    "$$\n",
    "\n",
    "onde:\n",
    "\n",
    "* $U$ = coeficiente global ( **BTU/h·ft²·°F** )\n",
    "* $Q$ = taxa de calor transferido ( **BTU/h** )\n",
    "* $A$ = área de troca térmica ( **ft²** )\n",
    "* $C$ = constante empírica do sistema americano ( **C = 0.023** para água–água** )\n",
    "\n",
    "**Tarefa:**\n",
    "\n",
    "1. O usuário fornece **Q em kW**, **A em m²**, e quer o resultado de **U em W/m²·K**.\n",
    "2. O programa deve:\n",
    "\n",
    "   * Converter **Q e A** para unidades do **sistema americano**,\n",
    "   * Calcular **U (em BTU/h·ft²·°F)**,\n",
    "   * Converter o resultado final de volta para **W/m²·K**.\n",
    "\n",
    "**Variações possíveis para deixar mais rica a discussão:**\n",
    "\n",
    "1. **Adicionar parâmetro de fluido:**\n",
    "   Diferentes valores de ( C ):\n",
    "\n",
    "   * Água–água → 0.023\n",
    "   * Óleo–água → 0.017\n",
    "   * Ar–água → 0.012\n",
    "\n",
    "2. **Usar entrada de dados real:**\n",
    "\n",
    "   ```python\n",
    "   tipo = input(\"Fluido (agua, oleo, ar): \").lower()\n",
    "   if tipo == \"agua\":\n",
    "       C = 0.023\n",
    "   elif tipo == \"oleo\":\n",
    "       C = 0.017\n",
    "   else:\n",
    "       C = 0.012\n",
    "   ```\n",
    "\n",
    "3. Caso queiram adiantar as próximas aulas: **Fazer gráfico U vs Q** para mostrar comportamento exponencial."
   ]
  },
  {
   "cell_type": "code",
   "execution_count": null,
   "id": "5491a9e7",
   "metadata": {},
   "outputs": [
    {
     "name": "stdout",
     "output_type": "stream",
     "text": [
      "Coeficiente global U = 1370.98 W/m²·K\n"
     ]
    }
   ],
   "source": [
    "# Conversões base\n",
    "KW_TO_BTU_H = 3412.14       # 1 kW = 3412.14 BTU/h\n",
    "M2_TO_FT2 = 10.7639         # 1 m² = 10.7639 ft²\n",
    "BTU_HFT2F_TO_W_M2K = 5.678  # 1 BTU/h·ft²·°F = 5.678 W/m²·K\n",
    "\n",
    "def calc_U(Q_kW, A_m2, C=0.023):\n",
    "    \"\"\"\n",
    "    Calcula o coeficiente global U usando fórmula empírica americana.\n",
    "    Converte internamente as unidades e retorna em W/m²·K.\n",
    "    \"\"\"\n",
    "    # 1. Converter para sistema americano\n",
    "    Q_btu_h = Q_kW * KW_TO_BTU_H\n",
    "    A_ft2 = A_m2 * M2_TO_FT2\n",
    "\n",
    "    # 2. Calcular U em BTU/h·ft²·°F\n",
    "    U_btu = (C * (Q_btu_h ** 0.8)) / (A_ft2 ** 0.2)\n",
    "\n",
    "    # 3. Converter de volta para W/m²·K\n",
    "    U_w = U_btu * BTU_HFT2F_TO_W_M2K\n",
    "    return U_w\n",
    "\n",
    "# Exemplo de uso:\n",
    "U = calc_U(Q_kW=150, A_m2=50)\n",
    "print(f\"Coeficiente global U = {U:.2f} W/m²·K\")"
   ]
  },
  {
   "cell_type": "markdown",
   "id": "c25fd240",
   "metadata": {},
   "source": [
    "Há um motivo físico e numérico de por que essas conversões são necessárias.\n",
    "\n",
    "Essa equação empírica não funcionaria diretamente em unidades SI (comuns)! Ela **só é válida no sistema americano**, porque o valor da constante ( C ) foi ajustado empiricamente **para aquelas unidades**.\n",
    "\n",
    "| O que você faz                       | O que acontece                               |\n",
    "| ------------------------------------ | -------------------------------------------- |\n",
    "| Usa unidades americanas + C original | Funciona, valores coerentes                  |\n",
    "| Usa unidades SI com o mesmo C        | Dá resultado fisicamente incorreto           |\n",
    "| Usa SI e recalibra C                 | Funciona, mas você precisa medir novos dados |\n",
    "\n",
    "Esse foi um problema no PIBIC do Gugu Meira... então fica aqui minha contribuição de sabedoria rs."
   ]
  }
 ],
 "metadata": {
  "kernelspec": {
   "display_name": "env",
   "language": "python",
   "name": "python3"
  },
  "language_info": {
   "codemirror_mode": {
    "name": "ipython",
    "version": 3
   },
   "file_extension": ".py",
   "mimetype": "text/x-python",
   "name": "python",
   "nbconvert_exporter": "python",
   "pygments_lexer": "ipython3",
   "version": "3.12.6"
  }
 },
 "nbformat": 4,
 "nbformat_minor": 5
}
